{
  "nbformat": 4,
  "nbformat_minor": 0,
  "metadata": {
    "colab": {
      "name": "Histo_line_countplot.ipynb",
      "provenance": [],
      "collapsed_sections": [],
      "authorship_tag": "ABX9TyMr/6TGYAz6D2hycZz6x4HJ",
      "include_colab_link": true
    },
    "kernelspec": {
      "name": "python3",
      "display_name": "Python 3"
    },
    "language_info": {
      "name": "python"
    }
  },
  "cells": [
    {
      "cell_type": "markdown",
      "metadata": {
        "id": "view-in-github",
        "colab_type": "text"
      },
      "source": [
        "<a href=\"https://colab.research.google.com/github/pranali-kirolkar/MSCPROJECT/blob/main/Histo_line_countplot.ipynb\" target=\"_parent\"><img src=\"https://colab.research.google.com/assets/colab-badge.svg\" alt=\"Open In Colab\"/></a>"
      ]
    },
    {
      "cell_type": "code",
      "metadata": {
        "id": "m1JMS9IV-M_X"
      },
      "source": [
        "#importing_Libraries\n",
        "import numpy as np\n",
        "import pandas as pd\n",
        "import matplotlib.pyplot as plt\n",
        "import plotly.express as px\n",
        "import seaborn as sns\n",
        "from pandas import Series,DataFrame\n"
      ],
      "execution_count": 1,
      "outputs": []
    },
    {
      "cell_type": "code",
      "metadata": {
        "colab": {
          "base_uri": "https://localhost:8080/",
          "height": 710
        },
        "id": "xCnWWI3NBddd",
        "outputId": "5b5e016b-d0ae-4090-a42f-6b4083303892"
      },
      "source": [
        "#Sales of Summer clothes Dataset\n",
        "Dataset = pd.read_csv('//content/Sales Summer Clothes..csv') \n",
        "Dataset"
      ],
      "execution_count": 3,
      "outputs": [
        {
          "output_type": "execute_result",
          "data": {
            "text/html": [
              "<div>\n",
              "<style scoped>\n",
              "    .dataframe tbody tr th:only-of-type {\n",
              "        vertical-align: middle;\n",
              "    }\n",
              "\n",
              "    .dataframe tbody tr th {\n",
              "        vertical-align: top;\n",
              "    }\n",
              "\n",
              "    .dataframe thead th {\n",
              "        text-align: right;\n",
              "    }\n",
              "</style>\n",
              "<table border=\"1\" class=\"dataframe\">\n",
              "  <thead>\n",
              "    <tr style=\"text-align: right;\">\n",
              "      <th></th>\n",
              "      <th>Timestamp</th>\n",
              "      <th>Name</th>\n",
              "      <th>Age</th>\n",
              "      <th>Buy_Clothes</th>\n",
              "      <th>Type_Clothes</th>\n",
              "      <th>Brand_Clothes</th>\n",
              "      <th>Price</th>\n",
              "      <th>time_prefer</th>\n",
              "      <th>prefer_purchasing</th>\n",
              "      <th>compare_prices</th>\n",
              "      <th>worst_experience</th>\n",
              "      <th>Rating</th>\n",
              "    </tr>\n",
              "  </thead>\n",
              "  <tbody>\n",
              "    <tr>\n",
              "      <th>0</th>\n",
              "      <td>04-08-21 19:06</td>\n",
              "      <td>Bhairavi</td>\n",
              "      <td>18-25</td>\n",
              "      <td>Occasionally</td>\n",
              "      <td>Jeans,Women Dress,Ladies Tops</td>\n",
              "      <td>NIKE,Adidas</td>\n",
              "      <td>500-700</td>\n",
              "      <td>During the sales</td>\n",
              "      <td>Online</td>\n",
              "      <td>YES</td>\n",
              "      <td>No</td>\n",
              "      <td>4 STAR</td>\n",
              "    </tr>\n",
              "    <tr>\n",
              "      <th>1</th>\n",
              "      <td>04-08-21 19:11</td>\n",
              "      <td>Girish</td>\n",
              "      <td>18-25</td>\n",
              "      <td>Occasionally</td>\n",
              "      <td>T-shirt,Jeans</td>\n",
              "      <td>NIKE,Adidas,H&amp;M</td>\n",
              "      <td>700-1000</td>\n",
              "      <td>During the sales</td>\n",
              "      <td>Online</td>\n",
              "      <td>YES</td>\n",
              "      <td>Yes</td>\n",
              "      <td>3 STAR</td>\n",
              "    </tr>\n",
              "    <tr>\n",
              "      <th>2</th>\n",
              "      <td>04-08-21 19:17</td>\n",
              "      <td>Mayuri katkar</td>\n",
              "      <td>18-25</td>\n",
              "      <td>Occasionally</td>\n",
              "      <td>T-shirt,Jeans,Women Dress,Casual Dress,Ladies ...</td>\n",
              "      <td>NIKE,Adidas,H&amp;M,ZARA</td>\n",
              "      <td>200-500</td>\n",
              "      <td>During the sales</td>\n",
              "      <td>By them in Store</td>\n",
              "      <td>YES</td>\n",
              "      <td>Yes</td>\n",
              "      <td>3 STAR</td>\n",
              "    </tr>\n",
              "    <tr>\n",
              "      <th>3</th>\n",
              "      <td>04-08-21 19:17</td>\n",
              "      <td>Harshali</td>\n",
              "      <td>18-25</td>\n",
              "      <td>Occasionally</td>\n",
              "      <td>Women Dress</td>\n",
              "      <td>NIKE</td>\n",
              "      <td>500-700</td>\n",
              "      <td>During the sales</td>\n",
              "      <td>By them in Store</td>\n",
              "      <td>YES</td>\n",
              "      <td>Yes</td>\n",
              "      <td>4 STAR</td>\n",
              "    </tr>\n",
              "    <tr>\n",
              "      <th>4</th>\n",
              "      <td>04-08-21 19:20</td>\n",
              "      <td>Sadamast Nikita Shivaji</td>\n",
              "      <td>18-25</td>\n",
              "      <td>Occasionally</td>\n",
              "      <td>Women Dress</td>\n",
              "      <td>Meesho</td>\n",
              "      <td>500-700</td>\n",
              "      <td>Without the sales (Off Season)</td>\n",
              "      <td>Online</td>\n",
              "      <td>YES</td>\n",
              "      <td>No</td>\n",
              "      <td>5 STAR</td>\n",
              "    </tr>\n",
              "    <tr>\n",
              "      <th>...</th>\n",
              "      <td>...</td>\n",
              "      <td>...</td>\n",
              "      <td>...</td>\n",
              "      <td>...</td>\n",
              "      <td>...</td>\n",
              "      <td>...</td>\n",
              "      <td>...</td>\n",
              "      <td>...</td>\n",
              "      <td>...</td>\n",
              "      <td>...</td>\n",
              "      <td>...</td>\n",
              "      <td>...</td>\n",
              "    </tr>\n",
              "    <tr>\n",
              "      <th>197</th>\n",
              "      <td>4/27/2021 11:00:23</td>\n",
              "      <td>Rekha</td>\n",
              "      <td>18-25</td>\n",
              "      <td>Occasionally</td>\n",
              "      <td>Casual Dress</td>\n",
              "      <td>H&amp;M</td>\n",
              "      <td>500-700</td>\n",
              "      <td>During the sales</td>\n",
              "      <td>By them in Store</td>\n",
              "      <td>YES</td>\n",
              "      <td>No</td>\n",
              "      <td>5 STAR</td>\n",
              "    </tr>\n",
              "    <tr>\n",
              "      <th>198</th>\n",
              "      <td>4/27/2021 11:00:47</td>\n",
              "      <td>Vaishali kokre</td>\n",
              "      <td>18-25</td>\n",
              "      <td>Regularly</td>\n",
              "      <td>Women Dress,Casual Dress,Ladies Tops</td>\n",
              "      <td>Adidas,H&amp;M</td>\n",
              "      <td>1000-above</td>\n",
              "      <td>During the sales</td>\n",
              "      <td>By them in Store</td>\n",
              "      <td>YES</td>\n",
              "      <td>No</td>\n",
              "      <td>5 STAR</td>\n",
              "    </tr>\n",
              "    <tr>\n",
              "      <th>199</th>\n",
              "      <td>4/27/2021 11:01:10</td>\n",
              "      <td>Neeta</td>\n",
              "      <td>18-25</td>\n",
              "      <td>Regularly</td>\n",
              "      <td>T-shirt,Jeans,Ladies Tops</td>\n",
              "      <td>Adidas</td>\n",
              "      <td>700-1000</td>\n",
              "      <td>During the sales</td>\n",
              "      <td>By them in Store</td>\n",
              "      <td>YES</td>\n",
              "      <td>No</td>\n",
              "      <td>5 STAR</td>\n",
              "    </tr>\n",
              "    <tr>\n",
              "      <th>200</th>\n",
              "      <td>4/27/2021 11:01:37</td>\n",
              "      <td>Sushant</td>\n",
              "      <td>18-25</td>\n",
              "      <td>Occasionally</td>\n",
              "      <td>T-shirt,Jeans</td>\n",
              "      <td>Adidas</td>\n",
              "      <td>700-1000</td>\n",
              "      <td>Without the sales (Off Season)</td>\n",
              "      <td>By them in Store</td>\n",
              "      <td>NO</td>\n",
              "      <td>No</td>\n",
              "      <td>4 STAR</td>\n",
              "    </tr>\n",
              "    <tr>\n",
              "      <th>201</th>\n",
              "      <td>4/27/2021 11:03:00</td>\n",
              "      <td>Suchita</td>\n",
              "      <td>35-50</td>\n",
              "      <td>Occasionally</td>\n",
              "      <td>Women Dress,Casual Dress</td>\n",
              "      <td>H&amp;M,ZARA</td>\n",
              "      <td>700-1000</td>\n",
              "      <td>During the sales</td>\n",
              "      <td>By them in Store</td>\n",
              "      <td>YES</td>\n",
              "      <td>Yes</td>\n",
              "      <td>1 STAR</td>\n",
              "    </tr>\n",
              "  </tbody>\n",
              "</table>\n",
              "<p>202 rows × 12 columns</p>\n",
              "</div>"
            ],
            "text/plain": [
              "              Timestamp                     Name  ... worst_experience Rating \n",
              "0        04-08-21 19:06                 Bhairavi  ...               No  4 STAR\n",
              "1        04-08-21 19:11                   Girish  ...              Yes  3 STAR\n",
              "2        04-08-21 19:17            Mayuri katkar  ...              Yes  3 STAR\n",
              "3        04-08-21 19:17                 Harshali  ...              Yes  4 STAR\n",
              "4        04-08-21 19:20  Sadamast Nikita Shivaji  ...               No  5 STAR\n",
              "..                  ...                      ...  ...              ...     ...\n",
              "197  4/27/2021 11:00:23                   Rekha   ...               No  5 STAR\n",
              "198  4/27/2021 11:00:47           Vaishali kokre  ...               No  5 STAR\n",
              "199  4/27/2021 11:01:10                   Neeta   ...               No  5 STAR\n",
              "200  4/27/2021 11:01:37                 Sushant   ...               No  4 STAR\n",
              "201  4/27/2021 11:03:00                  Suchita  ...              Yes  1 STAR\n",
              "\n",
              "[202 rows x 12 columns]"
            ]
          },
          "metadata": {
            "tags": []
          },
          "execution_count": 3
        }
      ]
    },
    {
      "cell_type": "code",
      "metadata": {
        "id": "73ejh2aEKfCU"
      },
      "source": [
        "#DropAnElement\n",
        "Dataset.drop('Timestamp',axis=1,inplace=True)"
      ],
      "execution_count": 4,
      "outputs": []
    },
    {
      "cell_type": "code",
      "metadata": {
        "colab": {
          "base_uri": "https://localhost:8080/"
        },
        "id": "0SfvNTI5KwAe",
        "outputId": "b1502464-f4c2-48b4-b2dd-1ef8aff880de"
      },
      "source": [
        "Dataset.info()"
      ],
      "execution_count": 5,
      "outputs": [
        {
          "output_type": "stream",
          "text": [
            "<class 'pandas.core.frame.DataFrame'>\n",
            "RangeIndex: 202 entries, 0 to 201\n",
            "Data columns (total 11 columns):\n",
            " #   Column              Non-Null Count  Dtype \n",
            "---  ------              --------------  ----- \n",
            " 0   Name                202 non-null    object\n",
            " 1   Age                 202 non-null    object\n",
            " 2   Buy_Clothes         202 non-null    object\n",
            " 3   Type_Clothes        202 non-null    object\n",
            " 4   Brand_Clothes       202 non-null    object\n",
            " 5   Price               202 non-null    object\n",
            " 6   time_prefer         202 non-null    object\n",
            " 7   prefer_purchasing   202 non-null    object\n",
            " 8   compare_prices      202 non-null    object\n",
            " 9   worst_experience    202 non-null    object\n",
            " 10  Rating              202 non-null    object\n",
            "dtypes: object(11)\n",
            "memory usage: 17.5+ KB\n"
          ],
          "name": "stdout"
        }
      ]
    },
    {
      "cell_type": "code",
      "metadata": {
        "colab": {
          "base_uri": "https://localhost:8080/"
        },
        "id": "PK3WZk_NNZTB",
        "outputId": "7585b413-394d-4566-d86b-14f81d3b0806"
      },
      "source": [
        "#Datatype\n",
        "Dataset.dtypes"
      ],
      "execution_count": 6,
      "outputs": [
        {
          "output_type": "execute_result",
          "data": {
            "text/plain": [
              "Name                  object\n",
              "Age                   object\n",
              "Buy_Clothes           object\n",
              "Type_Clothes          object\n",
              "Brand_Clothes         object\n",
              "Price                 object\n",
              "time_prefer           object\n",
              "prefer_purchasing     object\n",
              "compare_prices        object\n",
              "worst_experience      object\n",
              "Rating                object\n",
              "dtype: object"
            ]
          },
          "metadata": {
            "tags": []
          },
          "execution_count": 6
        }
      ]
    },
    {
      "cell_type": "code",
      "metadata": {
        "colab": {
          "base_uri": "https://localhost:8080/",
          "height": 351
        },
        "id": "FACpfE1jEq66",
        "outputId": "a876c5c1-8ed7-4f19-b291-f644e6750308"
      },
      "source": [
        "#specifyfirstvalues\n",
        "Dataset.head()"
      ],
      "execution_count": 7,
      "outputs": [
        {
          "output_type": "execute_result",
          "data": {
            "text/html": [
              "<div>\n",
              "<style scoped>\n",
              "    .dataframe tbody tr th:only-of-type {\n",
              "        vertical-align: middle;\n",
              "    }\n",
              "\n",
              "    .dataframe tbody tr th {\n",
              "        vertical-align: top;\n",
              "    }\n",
              "\n",
              "    .dataframe thead th {\n",
              "        text-align: right;\n",
              "    }\n",
              "</style>\n",
              "<table border=\"1\" class=\"dataframe\">\n",
              "  <thead>\n",
              "    <tr style=\"text-align: right;\">\n",
              "      <th></th>\n",
              "      <th>Name</th>\n",
              "      <th>Age</th>\n",
              "      <th>Buy_Clothes</th>\n",
              "      <th>Type_Clothes</th>\n",
              "      <th>Brand_Clothes</th>\n",
              "      <th>Price</th>\n",
              "      <th>time_prefer</th>\n",
              "      <th>prefer_purchasing</th>\n",
              "      <th>compare_prices</th>\n",
              "      <th>worst_experience</th>\n",
              "      <th>Rating</th>\n",
              "    </tr>\n",
              "  </thead>\n",
              "  <tbody>\n",
              "    <tr>\n",
              "      <th>0</th>\n",
              "      <td>Bhairavi</td>\n",
              "      <td>18-25</td>\n",
              "      <td>Occasionally</td>\n",
              "      <td>Jeans,Women Dress,Ladies Tops</td>\n",
              "      <td>NIKE,Adidas</td>\n",
              "      <td>500-700</td>\n",
              "      <td>During the sales</td>\n",
              "      <td>Online</td>\n",
              "      <td>YES</td>\n",
              "      <td>No</td>\n",
              "      <td>4 STAR</td>\n",
              "    </tr>\n",
              "    <tr>\n",
              "      <th>1</th>\n",
              "      <td>Girish</td>\n",
              "      <td>18-25</td>\n",
              "      <td>Occasionally</td>\n",
              "      <td>T-shirt,Jeans</td>\n",
              "      <td>NIKE,Adidas,H&amp;M</td>\n",
              "      <td>700-1000</td>\n",
              "      <td>During the sales</td>\n",
              "      <td>Online</td>\n",
              "      <td>YES</td>\n",
              "      <td>Yes</td>\n",
              "      <td>3 STAR</td>\n",
              "    </tr>\n",
              "    <tr>\n",
              "      <th>2</th>\n",
              "      <td>Mayuri katkar</td>\n",
              "      <td>18-25</td>\n",
              "      <td>Occasionally</td>\n",
              "      <td>T-shirt,Jeans,Women Dress,Casual Dress,Ladies ...</td>\n",
              "      <td>NIKE,Adidas,H&amp;M,ZARA</td>\n",
              "      <td>200-500</td>\n",
              "      <td>During the sales</td>\n",
              "      <td>By them in Store</td>\n",
              "      <td>YES</td>\n",
              "      <td>Yes</td>\n",
              "      <td>3 STAR</td>\n",
              "    </tr>\n",
              "    <tr>\n",
              "      <th>3</th>\n",
              "      <td>Harshali</td>\n",
              "      <td>18-25</td>\n",
              "      <td>Occasionally</td>\n",
              "      <td>Women Dress</td>\n",
              "      <td>NIKE</td>\n",
              "      <td>500-700</td>\n",
              "      <td>During the sales</td>\n",
              "      <td>By them in Store</td>\n",
              "      <td>YES</td>\n",
              "      <td>Yes</td>\n",
              "      <td>4 STAR</td>\n",
              "    </tr>\n",
              "    <tr>\n",
              "      <th>4</th>\n",
              "      <td>Sadamast Nikita Shivaji</td>\n",
              "      <td>18-25</td>\n",
              "      <td>Occasionally</td>\n",
              "      <td>Women Dress</td>\n",
              "      <td>Meesho</td>\n",
              "      <td>500-700</td>\n",
              "      <td>Without the sales (Off Season)</td>\n",
              "      <td>Online</td>\n",
              "      <td>YES</td>\n",
              "      <td>No</td>\n",
              "      <td>5 STAR</td>\n",
              "    </tr>\n",
              "  </tbody>\n",
              "</table>\n",
              "</div>"
            ],
            "text/plain": [
              "                      Name    Age  ... worst_experience Rating \n",
              "0                 Bhairavi  18-25  ...               No  4 STAR\n",
              "1                   Girish  18-25  ...              Yes  3 STAR\n",
              "2            Mayuri katkar  18-25  ...              Yes  3 STAR\n",
              "3                 Harshali  18-25  ...              Yes  4 STAR\n",
              "4  Sadamast Nikita Shivaji  18-25  ...               No  5 STAR\n",
              "\n",
              "[5 rows x 11 columns]"
            ]
          },
          "metadata": {
            "tags": []
          },
          "execution_count": 7
        }
      ]
    },
    {
      "cell_type": "code",
      "metadata": {
        "colab": {
          "base_uri": "https://localhost:8080/",
          "height": 384
        },
        "id": "DNhWXDwpEvtB",
        "outputId": "d01f8b75-f566-4ae7-fb1b-73ac2ffc832d"
      },
      "source": [
        "#specifylastvalues\n",
        "Dataset.tail()"
      ],
      "execution_count": 8,
      "outputs": [
        {
          "output_type": "execute_result",
          "data": {
            "text/html": [
              "<div>\n",
              "<style scoped>\n",
              "    .dataframe tbody tr th:only-of-type {\n",
              "        vertical-align: middle;\n",
              "    }\n",
              "\n",
              "    .dataframe tbody tr th {\n",
              "        vertical-align: top;\n",
              "    }\n",
              "\n",
              "    .dataframe thead th {\n",
              "        text-align: right;\n",
              "    }\n",
              "</style>\n",
              "<table border=\"1\" class=\"dataframe\">\n",
              "  <thead>\n",
              "    <tr style=\"text-align: right;\">\n",
              "      <th></th>\n",
              "      <th>Name</th>\n",
              "      <th>Age</th>\n",
              "      <th>Buy_Clothes</th>\n",
              "      <th>Type_Clothes</th>\n",
              "      <th>Brand_Clothes</th>\n",
              "      <th>Price</th>\n",
              "      <th>time_prefer</th>\n",
              "      <th>prefer_purchasing</th>\n",
              "      <th>compare_prices</th>\n",
              "      <th>worst_experience</th>\n",
              "      <th>Rating</th>\n",
              "    </tr>\n",
              "  </thead>\n",
              "  <tbody>\n",
              "    <tr>\n",
              "      <th>197</th>\n",
              "      <td>Rekha</td>\n",
              "      <td>18-25</td>\n",
              "      <td>Occasionally</td>\n",
              "      <td>Casual Dress</td>\n",
              "      <td>H&amp;M</td>\n",
              "      <td>500-700</td>\n",
              "      <td>During the sales</td>\n",
              "      <td>By them in Store</td>\n",
              "      <td>YES</td>\n",
              "      <td>No</td>\n",
              "      <td>5 STAR</td>\n",
              "    </tr>\n",
              "    <tr>\n",
              "      <th>198</th>\n",
              "      <td>Vaishali kokre</td>\n",
              "      <td>18-25</td>\n",
              "      <td>Regularly</td>\n",
              "      <td>Women Dress,Casual Dress,Ladies Tops</td>\n",
              "      <td>Adidas,H&amp;M</td>\n",
              "      <td>1000-above</td>\n",
              "      <td>During the sales</td>\n",
              "      <td>By them in Store</td>\n",
              "      <td>YES</td>\n",
              "      <td>No</td>\n",
              "      <td>5 STAR</td>\n",
              "    </tr>\n",
              "    <tr>\n",
              "      <th>199</th>\n",
              "      <td>Neeta</td>\n",
              "      <td>18-25</td>\n",
              "      <td>Regularly</td>\n",
              "      <td>T-shirt,Jeans,Ladies Tops</td>\n",
              "      <td>Adidas</td>\n",
              "      <td>700-1000</td>\n",
              "      <td>During the sales</td>\n",
              "      <td>By them in Store</td>\n",
              "      <td>YES</td>\n",
              "      <td>No</td>\n",
              "      <td>5 STAR</td>\n",
              "    </tr>\n",
              "    <tr>\n",
              "      <th>200</th>\n",
              "      <td>Sushant</td>\n",
              "      <td>18-25</td>\n",
              "      <td>Occasionally</td>\n",
              "      <td>T-shirt,Jeans</td>\n",
              "      <td>Adidas</td>\n",
              "      <td>700-1000</td>\n",
              "      <td>Without the sales (Off Season)</td>\n",
              "      <td>By them in Store</td>\n",
              "      <td>NO</td>\n",
              "      <td>No</td>\n",
              "      <td>4 STAR</td>\n",
              "    </tr>\n",
              "    <tr>\n",
              "      <th>201</th>\n",
              "      <td>Suchita</td>\n",
              "      <td>35-50</td>\n",
              "      <td>Occasionally</td>\n",
              "      <td>Women Dress,Casual Dress</td>\n",
              "      <td>H&amp;M,ZARA</td>\n",
              "      <td>700-1000</td>\n",
              "      <td>During the sales</td>\n",
              "      <td>By them in Store</td>\n",
              "      <td>YES</td>\n",
              "      <td>Yes</td>\n",
              "      <td>1 STAR</td>\n",
              "    </tr>\n",
              "  </tbody>\n",
              "</table>\n",
              "</div>"
            ],
            "text/plain": [
              "               Name    Age  ... worst_experience Rating \n",
              "197          Rekha   18-25  ...               No  5 STAR\n",
              "198  Vaishali kokre  18-25  ...               No  5 STAR\n",
              "199          Neeta   18-25  ...               No  5 STAR\n",
              "200        Sushant   18-25  ...               No  4 STAR\n",
              "201         Suchita  35-50  ...              Yes  1 STAR\n",
              "\n",
              "[5 rows x 11 columns]"
            ]
          },
          "metadata": {
            "tags": []
          },
          "execution_count": 8
        }
      ]
    },
    {
      "cell_type": "code",
      "metadata": {
        "colab": {
          "base_uri": "https://localhost:8080/"
        },
        "id": "8iKU4tVbFEX1",
        "outputId": "78e6ba67-5945-4def-bf9b-ea9f2ff3ffdc"
      },
      "source": [
        "#showingcolumns\n",
        "Dataset.columns"
      ],
      "execution_count": 9,
      "outputs": [
        {
          "output_type": "execute_result",
          "data": {
            "text/plain": [
              "Index(['Name', 'Age', 'Buy_Clothes', 'Type_Clothes', 'Brand_Clothes', 'Price',\n",
              "       'time_prefer ', 'prefer_purchasing ', 'compare_prices ',\n",
              "       'worst_experience', 'Rating '],\n",
              "      dtype='object')"
            ]
          },
          "metadata": {
            "tags": []
          },
          "execution_count": 9
        }
      ]
    },
    {
      "cell_type": "code",
      "metadata": {
        "colab": {
          "base_uri": "https://localhost:8080/"
        },
        "id": "i-FWqAHXK4n7",
        "outputId": "230a5623-03fa-4add-dab5-00aff81a897d"
      },
      "source": [
        "Dataset.shape"
      ],
      "execution_count": 10,
      "outputs": [
        {
          "output_type": "execute_result",
          "data": {
            "text/plain": [
              "(202, 11)"
            ]
          },
          "metadata": {
            "tags": []
          },
          "execution_count": 10
        }
      ]
    },
    {
      "cell_type": "code",
      "metadata": {
        "id": "7qdMvSQQLFAX"
      },
      "source": [
        "Dataset.columns=['Name','Age','buy clothes','Type of clothes ','Brand of clothes','Price of clothes','Rating','time_prefer ',' prefer purchasing ','compare prices ', 'any worst experience']"
      ],
      "execution_count": 11,
      "outputs": []
    },
    {
      "cell_type": "code",
      "metadata": {
        "colab": {
          "base_uri": "https://localhost:8080/"
        },
        "id": "KTiNEhpBFLj5",
        "outputId": "a22733fa-e4fc-4bdc-d51a-7e5eff073304"
      },
      "source": [
        "Dataset.info()"
      ],
      "execution_count": 12,
      "outputs": [
        {
          "output_type": "stream",
          "text": [
            "<class 'pandas.core.frame.DataFrame'>\n",
            "RangeIndex: 202 entries, 0 to 201\n",
            "Data columns (total 11 columns):\n",
            " #   Column                Non-Null Count  Dtype \n",
            "---  ------                --------------  ----- \n",
            " 0   Name                  202 non-null    object\n",
            " 1   Age                   202 non-null    object\n",
            " 2   buy clothes           202 non-null    object\n",
            " 3   Type of clothes       202 non-null    object\n",
            " 4   Brand of clothes      202 non-null    object\n",
            " 5   Price of clothes      202 non-null    object\n",
            " 6   Rating                202 non-null    object\n",
            " 7   time_prefer           202 non-null    object\n",
            " 8    prefer purchasing    202 non-null    object\n",
            " 9   compare prices        202 non-null    object\n",
            " 10  any worst experience  202 non-null    object\n",
            "dtypes: object(11)\n",
            "memory usage: 17.5+ KB\n"
          ],
          "name": "stdout"
        }
      ]
    },
    {
      "cell_type": "code",
      "metadata": {
        "colab": {
          "base_uri": "https://localhost:8080/",
          "height": 423
        },
        "id": "aNvqQR4-GHKo",
        "outputId": "b9958e1d-7cfd-45dd-b6ef-ee46306b1e6c"
      },
      "source": [
        "#anynullvalue\n",
        "Dataset.isnull()"
      ],
      "execution_count": 13,
      "outputs": [
        {
          "output_type": "execute_result",
          "data": {
            "text/html": [
              "<div>\n",
              "<style scoped>\n",
              "    .dataframe tbody tr th:only-of-type {\n",
              "        vertical-align: middle;\n",
              "    }\n",
              "\n",
              "    .dataframe tbody tr th {\n",
              "        vertical-align: top;\n",
              "    }\n",
              "\n",
              "    .dataframe thead th {\n",
              "        text-align: right;\n",
              "    }\n",
              "</style>\n",
              "<table border=\"1\" class=\"dataframe\">\n",
              "  <thead>\n",
              "    <tr style=\"text-align: right;\">\n",
              "      <th></th>\n",
              "      <th>Name</th>\n",
              "      <th>Age</th>\n",
              "      <th>buy clothes</th>\n",
              "      <th>Type of clothes</th>\n",
              "      <th>Brand of clothes</th>\n",
              "      <th>Price of clothes</th>\n",
              "      <th>Rating</th>\n",
              "      <th>time_prefer</th>\n",
              "      <th>prefer purchasing</th>\n",
              "      <th>compare prices</th>\n",
              "      <th>any worst experience</th>\n",
              "    </tr>\n",
              "  </thead>\n",
              "  <tbody>\n",
              "    <tr>\n",
              "      <th>0</th>\n",
              "      <td>False</td>\n",
              "      <td>False</td>\n",
              "      <td>False</td>\n",
              "      <td>False</td>\n",
              "      <td>False</td>\n",
              "      <td>False</td>\n",
              "      <td>False</td>\n",
              "      <td>False</td>\n",
              "      <td>False</td>\n",
              "      <td>False</td>\n",
              "      <td>False</td>\n",
              "    </tr>\n",
              "    <tr>\n",
              "      <th>1</th>\n",
              "      <td>False</td>\n",
              "      <td>False</td>\n",
              "      <td>False</td>\n",
              "      <td>False</td>\n",
              "      <td>False</td>\n",
              "      <td>False</td>\n",
              "      <td>False</td>\n",
              "      <td>False</td>\n",
              "      <td>False</td>\n",
              "      <td>False</td>\n",
              "      <td>False</td>\n",
              "    </tr>\n",
              "    <tr>\n",
              "      <th>2</th>\n",
              "      <td>False</td>\n",
              "      <td>False</td>\n",
              "      <td>False</td>\n",
              "      <td>False</td>\n",
              "      <td>False</td>\n",
              "      <td>False</td>\n",
              "      <td>False</td>\n",
              "      <td>False</td>\n",
              "      <td>False</td>\n",
              "      <td>False</td>\n",
              "      <td>False</td>\n",
              "    </tr>\n",
              "    <tr>\n",
              "      <th>3</th>\n",
              "      <td>False</td>\n",
              "      <td>False</td>\n",
              "      <td>False</td>\n",
              "      <td>False</td>\n",
              "      <td>False</td>\n",
              "      <td>False</td>\n",
              "      <td>False</td>\n",
              "      <td>False</td>\n",
              "      <td>False</td>\n",
              "      <td>False</td>\n",
              "      <td>False</td>\n",
              "    </tr>\n",
              "    <tr>\n",
              "      <th>4</th>\n",
              "      <td>False</td>\n",
              "      <td>False</td>\n",
              "      <td>False</td>\n",
              "      <td>False</td>\n",
              "      <td>False</td>\n",
              "      <td>False</td>\n",
              "      <td>False</td>\n",
              "      <td>False</td>\n",
              "      <td>False</td>\n",
              "      <td>False</td>\n",
              "      <td>False</td>\n",
              "    </tr>\n",
              "    <tr>\n",
              "      <th>...</th>\n",
              "      <td>...</td>\n",
              "      <td>...</td>\n",
              "      <td>...</td>\n",
              "      <td>...</td>\n",
              "      <td>...</td>\n",
              "      <td>...</td>\n",
              "      <td>...</td>\n",
              "      <td>...</td>\n",
              "      <td>...</td>\n",
              "      <td>...</td>\n",
              "      <td>...</td>\n",
              "    </tr>\n",
              "    <tr>\n",
              "      <th>197</th>\n",
              "      <td>False</td>\n",
              "      <td>False</td>\n",
              "      <td>False</td>\n",
              "      <td>False</td>\n",
              "      <td>False</td>\n",
              "      <td>False</td>\n",
              "      <td>False</td>\n",
              "      <td>False</td>\n",
              "      <td>False</td>\n",
              "      <td>False</td>\n",
              "      <td>False</td>\n",
              "    </tr>\n",
              "    <tr>\n",
              "      <th>198</th>\n",
              "      <td>False</td>\n",
              "      <td>False</td>\n",
              "      <td>False</td>\n",
              "      <td>False</td>\n",
              "      <td>False</td>\n",
              "      <td>False</td>\n",
              "      <td>False</td>\n",
              "      <td>False</td>\n",
              "      <td>False</td>\n",
              "      <td>False</td>\n",
              "      <td>False</td>\n",
              "    </tr>\n",
              "    <tr>\n",
              "      <th>199</th>\n",
              "      <td>False</td>\n",
              "      <td>False</td>\n",
              "      <td>False</td>\n",
              "      <td>False</td>\n",
              "      <td>False</td>\n",
              "      <td>False</td>\n",
              "      <td>False</td>\n",
              "      <td>False</td>\n",
              "      <td>False</td>\n",
              "      <td>False</td>\n",
              "      <td>False</td>\n",
              "    </tr>\n",
              "    <tr>\n",
              "      <th>200</th>\n",
              "      <td>False</td>\n",
              "      <td>False</td>\n",
              "      <td>False</td>\n",
              "      <td>False</td>\n",
              "      <td>False</td>\n",
              "      <td>False</td>\n",
              "      <td>False</td>\n",
              "      <td>False</td>\n",
              "      <td>False</td>\n",
              "      <td>False</td>\n",
              "      <td>False</td>\n",
              "    </tr>\n",
              "    <tr>\n",
              "      <th>201</th>\n",
              "      <td>False</td>\n",
              "      <td>False</td>\n",
              "      <td>False</td>\n",
              "      <td>False</td>\n",
              "      <td>False</td>\n",
              "      <td>False</td>\n",
              "      <td>False</td>\n",
              "      <td>False</td>\n",
              "      <td>False</td>\n",
              "      <td>False</td>\n",
              "      <td>False</td>\n",
              "    </tr>\n",
              "  </tbody>\n",
              "</table>\n",
              "<p>202 rows × 11 columns</p>\n",
              "</div>"
            ],
            "text/plain": [
              "      Name    Age  ...  compare prices   any worst experience\n",
              "0    False  False  ...            False                 False\n",
              "1    False  False  ...            False                 False\n",
              "2    False  False  ...            False                 False\n",
              "3    False  False  ...            False                 False\n",
              "4    False  False  ...            False                 False\n",
              "..     ...    ...  ...              ...                   ...\n",
              "197  False  False  ...            False                 False\n",
              "198  False  False  ...            False                 False\n",
              "199  False  False  ...            False                 False\n",
              "200  False  False  ...            False                 False\n",
              "201  False  False  ...            False                 False\n",
              "\n",
              "[202 rows x 11 columns]"
            ]
          },
          "metadata": {
            "tags": []
          },
          "execution_count": 13
        }
      ]
    },
    {
      "cell_type": "code",
      "metadata": {
        "colab": {
          "base_uri": "https://localhost:8080/"
        },
        "id": "MPYz1lS2HTX6",
        "outputId": "243c02b2-d37a-4a7a-ffc7-28dbbada5126"
      },
      "source": [
        "Dataset.isnull().sum()"
      ],
      "execution_count": 14,
      "outputs": [
        {
          "output_type": "execute_result",
          "data": {
            "text/plain": [
              "Name                    0\n",
              "Age                     0\n",
              "buy clothes             0\n",
              "Type of clothes         0\n",
              "Brand of clothes        0\n",
              "Price of clothes        0\n",
              "Rating                  0\n",
              "time_prefer             0\n",
              " prefer purchasing      0\n",
              "compare prices          0\n",
              "any worst experience    0\n",
              "dtype: int64"
            ]
          },
          "metadata": {
            "tags": []
          },
          "execution_count": 14
        }
      ]
    },
    {
      "cell_type": "code",
      "metadata": {
        "colab": {
          "base_uri": "https://localhost:8080/",
          "height": 201
        },
        "id": "Fl25qpS1IQcU",
        "outputId": "b39516e8-03ea-440a-a73f-4565dfff31a8"
      },
      "source": [
        "Dataset.describe()"
      ],
      "execution_count": 15,
      "outputs": [
        {
          "output_type": "execute_result",
          "data": {
            "text/html": [
              "<div>\n",
              "<style scoped>\n",
              "    .dataframe tbody tr th:only-of-type {\n",
              "        vertical-align: middle;\n",
              "    }\n",
              "\n",
              "    .dataframe tbody tr th {\n",
              "        vertical-align: top;\n",
              "    }\n",
              "\n",
              "    .dataframe thead th {\n",
              "        text-align: right;\n",
              "    }\n",
              "</style>\n",
              "<table border=\"1\" class=\"dataframe\">\n",
              "  <thead>\n",
              "    <tr style=\"text-align: right;\">\n",
              "      <th></th>\n",
              "      <th>Name</th>\n",
              "      <th>Age</th>\n",
              "      <th>buy clothes</th>\n",
              "      <th>Type of clothes</th>\n",
              "      <th>Brand of clothes</th>\n",
              "      <th>Price of clothes</th>\n",
              "      <th>Rating</th>\n",
              "      <th>time_prefer</th>\n",
              "      <th>prefer purchasing</th>\n",
              "      <th>compare prices</th>\n",
              "      <th>any worst experience</th>\n",
              "    </tr>\n",
              "  </thead>\n",
              "  <tbody>\n",
              "    <tr>\n",
              "      <th>count</th>\n",
              "      <td>202</td>\n",
              "      <td>202</td>\n",
              "      <td>202</td>\n",
              "      <td>202</td>\n",
              "      <td>202</td>\n",
              "      <td>202</td>\n",
              "      <td>202</td>\n",
              "      <td>202</td>\n",
              "      <td>202</td>\n",
              "      <td>202</td>\n",
              "      <td>202</td>\n",
              "    </tr>\n",
              "    <tr>\n",
              "      <th>unique</th>\n",
              "      <td>196</td>\n",
              "      <td>4</td>\n",
              "      <td>2</td>\n",
              "      <td>29</td>\n",
              "      <td>45</td>\n",
              "      <td>4</td>\n",
              "      <td>2</td>\n",
              "      <td>2</td>\n",
              "      <td>2</td>\n",
              "      <td>2</td>\n",
              "      <td>5</td>\n",
              "    </tr>\n",
              "    <tr>\n",
              "      <th>top</th>\n",
              "      <td>Bhairavi</td>\n",
              "      <td>18-25</td>\n",
              "      <td>Regularly</td>\n",
              "      <td>T-shirt,Jeans</td>\n",
              "      <td>NIKE,Adidas</td>\n",
              "      <td>1000-above</td>\n",
              "      <td>During the sales</td>\n",
              "      <td>By them in Store</td>\n",
              "      <td>YES</td>\n",
              "      <td>No</td>\n",
              "      <td>5 STAR</td>\n",
              "    </tr>\n",
              "    <tr>\n",
              "      <th>freq</th>\n",
              "      <td>2</td>\n",
              "      <td>162</td>\n",
              "      <td>118</td>\n",
              "      <td>77</td>\n",
              "      <td>33</td>\n",
              "      <td>87</td>\n",
              "      <td>154</td>\n",
              "      <td>107</td>\n",
              "      <td>184</td>\n",
              "      <td>133</td>\n",
              "      <td>140</td>\n",
              "    </tr>\n",
              "  </tbody>\n",
              "</table>\n",
              "</div>"
            ],
            "text/plain": [
              "            Name    Age  ... compare prices  any worst experience\n",
              "count        202    202  ...             202                  202\n",
              "unique       196      4  ...               2                    5\n",
              "top     Bhairavi  18-25  ...              No               5 STAR\n",
              "freq           2    162  ...             133                  140\n",
              "\n",
              "[4 rows x 11 columns]"
            ]
          },
          "metadata": {
            "tags": []
          },
          "execution_count": 15
        }
      ]
    },
    {
      "cell_type": "code",
      "metadata": {
        "colab": {
          "base_uri": "https://localhost:8080/",
          "height": 201
        },
        "id": "RDJgcr3TIdRf",
        "outputId": "1b15dc4e-de0f-4f44-aef1-691e53915495"
      },
      "source": [
        "round(Dataset.describe())"
      ],
      "execution_count": 16,
      "outputs": [
        {
          "output_type": "execute_result",
          "data": {
            "text/html": [
              "<div>\n",
              "<style scoped>\n",
              "    .dataframe tbody tr th:only-of-type {\n",
              "        vertical-align: middle;\n",
              "    }\n",
              "\n",
              "    .dataframe tbody tr th {\n",
              "        vertical-align: top;\n",
              "    }\n",
              "\n",
              "    .dataframe thead th {\n",
              "        text-align: right;\n",
              "    }\n",
              "</style>\n",
              "<table border=\"1\" class=\"dataframe\">\n",
              "  <thead>\n",
              "    <tr style=\"text-align: right;\">\n",
              "      <th></th>\n",
              "      <th>Name</th>\n",
              "      <th>Age</th>\n",
              "      <th>buy clothes</th>\n",
              "      <th>Type of clothes</th>\n",
              "      <th>Brand of clothes</th>\n",
              "      <th>Price of clothes</th>\n",
              "      <th>Rating</th>\n",
              "      <th>time_prefer</th>\n",
              "      <th>prefer purchasing</th>\n",
              "      <th>compare prices</th>\n",
              "      <th>any worst experience</th>\n",
              "    </tr>\n",
              "  </thead>\n",
              "  <tbody>\n",
              "    <tr>\n",
              "      <th>count</th>\n",
              "      <td>202</td>\n",
              "      <td>202</td>\n",
              "      <td>202</td>\n",
              "      <td>202</td>\n",
              "      <td>202</td>\n",
              "      <td>202</td>\n",
              "      <td>202</td>\n",
              "      <td>202</td>\n",
              "      <td>202</td>\n",
              "      <td>202</td>\n",
              "      <td>202</td>\n",
              "    </tr>\n",
              "    <tr>\n",
              "      <th>unique</th>\n",
              "      <td>196</td>\n",
              "      <td>4</td>\n",
              "      <td>2</td>\n",
              "      <td>29</td>\n",
              "      <td>45</td>\n",
              "      <td>4</td>\n",
              "      <td>2</td>\n",
              "      <td>2</td>\n",
              "      <td>2</td>\n",
              "      <td>2</td>\n",
              "      <td>5</td>\n",
              "    </tr>\n",
              "    <tr>\n",
              "      <th>top</th>\n",
              "      <td>Bhairavi</td>\n",
              "      <td>18-25</td>\n",
              "      <td>Regularly</td>\n",
              "      <td>T-shirt,Jeans</td>\n",
              "      <td>NIKE,Adidas</td>\n",
              "      <td>1000-above</td>\n",
              "      <td>During the sales</td>\n",
              "      <td>By them in Store</td>\n",
              "      <td>YES</td>\n",
              "      <td>No</td>\n",
              "      <td>5 STAR</td>\n",
              "    </tr>\n",
              "    <tr>\n",
              "      <th>freq</th>\n",
              "      <td>2</td>\n",
              "      <td>162</td>\n",
              "      <td>118</td>\n",
              "      <td>77</td>\n",
              "      <td>33</td>\n",
              "      <td>87</td>\n",
              "      <td>154</td>\n",
              "      <td>107</td>\n",
              "      <td>184</td>\n",
              "      <td>133</td>\n",
              "      <td>140</td>\n",
              "    </tr>\n",
              "  </tbody>\n",
              "</table>\n",
              "</div>"
            ],
            "text/plain": [
              "            Name    Age  ... compare prices  any worst experience\n",
              "count        202    202  ...             202                  202\n",
              "unique       196      4  ...               2                    5\n",
              "top     Bhairavi  18-25  ...              No               5 STAR\n",
              "freq           2    162  ...             133                  140\n",
              "\n",
              "[4 rows x 11 columns]"
            ]
          },
          "metadata": {
            "tags": []
          },
          "execution_count": 16
        }
      ]
    },
    {
      "cell_type": "code",
      "metadata": {
        "id": "-lEaV35W0f4j"
      },
      "source": [
        "#Histogram and Countplots\n",
        "def histograms_and_countplots(column, data, columns_to_exclude):\n",
        "    if column not in columns_to_exclude:\n",
        "        if data[column].dtype not in ['int64', 'float64']:\n",
        "            f, axes = plt.subplots(1,1,figsize=(15,5))\n",
        "            sns.countplot(x=column, data = data)\n",
        "            plt.xticks(rotation=90)\n",
        "            plt.suptitle(column,fontsize=20)\n",
        "            plt.show()\n",
        "        else:\n",
        "            g = sns.FacetGrid(data, margin_titles=True, aspect=4, height=3)\n",
        "            g.map(plt.hist,column,bins=100)\n",
        "            plt.show()\n",
        "        plt.show()"
      ],
      "execution_count": 17,
      "outputs": []
    },
    {
      "cell_type": "code",
      "metadata": {
        "colab": {
          "base_uri": "https://localhost:8080/",
          "height": 1000
        },
        "id": "m2LQXLjC0mPI",
        "outputId": "c128618b-7539-4c7a-cd30-c91b6ee45fd7"
      },
      "source": [
        "columns_to_exclude = ['Name', 'Timestamp', 'buy clothes', 'time_prefer ', ' prefer purchasing ', 'compare prices ', \n",
        "                'any worst experience' ]\n",
        "\n",
        "\n",
        "for column in Dataset.columns:\n",
        "    histograms_and_countplots(column, Dataset, columns_to_exclude)"
      ],
      "execution_count": 18,
      "outputs": [
        {
          "output_type": "display_data",
          "data": {
            "image/png": "[encoded data removed]",
            "text/plain": [
              "<Figure size 1080x360 with 1 Axes>"
            ]
          },
          "metadata": {
            "tags": [],
            "needs_background": "light"
          }
        },
        {
          "output_type": "display_data",
          "data": {
            "image/png": "[encoded data removed]",
            "text/plain": [
              "<Figure size 1080x360 with 1 Axes>"
            ]
          },
          "metadata": {
            "tags": [],
            "needs_background": "light"
          }
        },
        {
          "output_type": "display_data",
          "data": {
            "image/png": "[encoded data removed]",
            "text/plain": [
              "<Figure size 1080x360 with 1 Axes>"
            ]
          },
          "metadata": {
            "tags": [],
            "needs_background": "light"
          }
        },
        {
          "output_type": "display_data",
          "data": {
            "image/png": "[encoded data removed]",
            "text/plain": [
              "<Figure size 1080x360 with 1 Axes>"
            ]
          },
          "metadata": {
            "tags": [],
            "needs_background": "light"
          }
        },
        {
          "output_type": "display_data",
          "data": {
            "image/png": "[encoded data removed]",
            "text/plain": [
              "<Figure size 1080x360 with 1 Axes>"
            ]
          },
          "metadata": {
            "tags": [],
            "needs_background": "light"
          }
        }
      ]
    },
    {
      "cell_type": "code",
      "metadata": {
        "colab": {
          "base_uri": "https://localhost:8080/"
        },
        "id": "NNlmqa4m9nA4",
        "outputId": "12e81cae-8945-4964-b03d-551bf9e0b3f3"
      },
      "source": [
        "Dataset['Brand of clothes'].head()"
      ],
      "execution_count": null,
      "outputs": [
        {
          "output_type": "execute_result",
          "data": {
            "text/plain": [
              "0               NIKE, Adidas\n",
              "1          NIKE, Adidas, H&M\n",
              "2    NIKE, Adidas, H&M, ZARA\n",
              "3                       NIKE\n",
              "4                     Meesho\n",
              "Name: Brand of clothes, dtype: object"
            ]
          },
          "metadata": {
            "tags": []
          },
          "execution_count": 20
        }
      ]
    },
    {
      "cell_type": "code",
      "metadata": {
        "colab": {
          "base_uri": "https://localhost:8080/"
        },
        "id": "FNbtt3sNMMUD",
        "outputId": "4d99b8f3-444d-40fd-cbcc-d80de4dffaa0"
      },
      "source": [
        "Dataset['Type of clothes '].head()"
      ],
      "execution_count": 19,
      "outputs": [
        {
          "output_type": "execute_result",
          "data": {
            "text/plain": [
              "0                        Jeans,Women Dress,Ladies Tops\n",
              "1                                        T-shirt,Jeans\n",
              "2    T-shirt,Jeans,Women Dress,Casual Dress,Ladies ...\n",
              "3                                          Women Dress\n",
              "4                                          Women Dress\n",
              "Name: Type of clothes , dtype: object"
            ]
          },
          "metadata": {
            "tags": []
          },
          "execution_count": 19
        }
      ]
    },
    {
      "cell_type": "code",
      "metadata": {
        "colab": {
          "base_uri": "https://localhost:8080/",
          "height": 542
        },
        "id": "Jq-vUSeKF0aT",
        "outputId": "21faa2ab-2a0a-4416-cd24-dc0c4c49c317"
      },
      "source": [
        "px.histogram(Dataset, x='Age', color='Price of clothes', nbins=10)"
      ],
      "execution_count": 20,
      "outputs": [
        {
          "output_type": "display_data",
          "data": {
            "text/html": [
              "<html>\n",
              "<head><meta charset=\"utf-8\" /></head>\n",
              "<body>\n",
              "    <div>\n",
              "            <script src=\"https://cdnjs.cloudflare.com/ajax/libs/mathjax/2.7.5/MathJax.js?config=TeX-AMS-MML_SVG\"></script><script type=\"text/javascript\">if (window.MathJax) {MathJax.Hub.Config({SVG: {font: \"STIX-Web\"}});}</script>\n",
              "                <script type=\"text/javascript\">window.PlotlyConfig = {MathJaxConfig: 'local'};</script>\n",
              "        <script src=\"https://cdn.plot.ly/plotly-latest.min.js\"></script>    \n",
              "            <div id=\"9895e013-570a-4fba-8cb0-b4a334067070\" class=\"plotly-graph-div\" style=\"height:525px; width:100%;\"></div>\n",
              "            <script type=\"text/javascript\">\n",
              "                \n",
              "                    window.PLOTLYENV=window.PLOTLYENV || {};\n",
              "                    \n",
              "                if (document.getElementById(\"9895e013-570a-4fba-8cb0-b4a334067070\")) {\n",
              "                    Plotly.newPlot(\n",
              "                        '9895e013-570a-4fba-8cb0-b4a334067070',\n",
              "                        [{\"alignmentgroup\": \"True\", \"bingroup\": \"x\", \"hoverlabel\": {\"namelength\": 0}, \"hovertemplate\": \"Price of clothes=500-700<br>Age=%{x}<br>count=%{y}\", \"legendgroup\": \"Price of clothes=500-700\", \"marker\": {\"color\": \"#636efa\"}, \"name\": \"Price of clothes=500-700\", \"nbinsx\": 10, \"offsetgroup\": \"Price of clothes=500-700\", \"orientation\": \"v\", \"showlegend\": true, \"type\": \"histogram\", \"x\": [\"18-25\", \"18-25\", \"18-25\", \"18-25\", \"18-25\", \"18-25\", \"18-25\", \"18-25\", \"18-25\", \"35-50\", \"18-25\", \"25-35\", \"25-35\", \"25-35\", \"25-35\", \"25-35\", \"18-25\", \"25-35\", \"50 - above\", \"25-35\", \"18-25\", \"18-25\", \"18-25\", \"18-25\", \"18-25\", \"18-25\", \"18-25\", \"18-25\", \"18-25\"], \"xaxis\": \"x\", \"yaxis\": \"y\"}, {\"alignmentgroup\": \"True\", \"bingroup\": \"x\", \"hoverlabel\": {\"namelength\": 0}, \"hovertemplate\": \"Price of clothes=700-1000<br>Age=%{x}<br>count=%{y}\", \"legendgroup\": \"Price of clothes=700-1000\", \"marker\": {\"color\": \"#EF553B\"}, \"name\": \"Price of clothes=700-1000\", \"nbinsx\": 10, \"offsetgroup\": \"Price of clothes=700-1000\", \"orientation\": \"v\", \"showlegend\": true, \"type\": \"histogram\", \"x\": [\"18-25\", \"25-35\", \"18-25\", \"18-25\", \"18-25\", \"18-25\", \"18-25\", \"18-25\", \"35-50\", \"18-25\", \"18-25\", \"18-25\", \"18-25\", \"18-25\", \"18-25\", \"18-25\", \"18-25\", \"18-25\", \"18-25\", \"18-25\", \"18-25\", \"18-25\", \"18-25\", \"18-25\", \"18-25\", \"18-25\", \"18-25\", \"18-25\", \"18-25\", \"18-25\", \"18-25\", \"18-25\", \"18-25\", \"35-50\", \"35-50\", \"35-50\", \"25-35\", \"18-25\", \"25-35\", \"18-25\", \"18-25\", \"18-25\", \"18-25\", \"18-25\", \"18-25\", \"18-25\", \"18-25\", \"18-25\", \"25-35\", \"18-25\", \"18-25\", \"18-25\", \"18-25\", \"18-25\", \"18-25\", \"18-25\", \"18-25\", \"18-25\", \"25-35\", \"18-25\", \"18-25\", \"18-25\", \"18-25\", \"18-25\", \"18-25\", \"18-25\", \"18-25\", \"18-25\", \"18-25\", \"18-25\", \"18-25\", \"18-25\", \"18-25\", \"25-35\", \"18-25\", \"25-35\", \"18-25\", \"25-35\", \"18-25\", \"18-25\", \"35-50\"], \"xaxis\": \"x\", \"yaxis\": \"y\"}, {\"alignmentgroup\": \"True\", \"bingroup\": \"x\", \"hoverlabel\": {\"namelength\": 0}, \"hovertemplate\": \"Price of clothes=200-500<br>Age=%{x}<br>count=%{y}\", \"legendgroup\": \"Price of clothes=200-500\", \"marker\": {\"color\": \"#00cc96\"}, \"name\": \"Price of clothes=200-500\", \"nbinsx\": 10, \"offsetgroup\": \"Price of clothes=200-500\", \"orientation\": \"v\", \"showlegend\": true, \"type\": \"histogram\", \"x\": [\"18-25\", \"18-25\", \"18-25\", \"18-25\", \"18-25\"], \"xaxis\": \"x\", \"yaxis\": \"y\"}, {\"alignmentgroup\": \"True\", \"bingroup\": \"x\", \"hoverlabel\": {\"namelength\": 0}, \"hovertemplate\": \"Price of clothes=1000-above<br>Age=%{x}<br>count=%{y}\", \"legendgroup\": \"Price of clothes=1000-above\", \"marker\": {\"color\": \"#ab63fa\"}, \"name\": \"Price of clothes=1000-above\", \"nbinsx\": 10, \"offsetgroup\": \"Price of clothes=1000-above\", \"orientation\": \"v\", \"showlegend\": true, \"type\": \"histogram\", \"x\": [\"18-25\", \"18-25\", \"18-25\", \"18-25\", \"18-25\", \"18-25\", \"18-25\", \"18-25\", \"18-25\", \"18-25\", \"18-25\", \"18-25\", \"35-50\", \"35-50\", \"25-35\", \"25-35\", \"25-35\", \"18-25\", \"18-25\", \"18-25\", \"18-25\", \"18-25\", \"18-25\", \"18-25\", \"18-25\", \"18-25\", \"18-25\", \"18-25\", \"25-35\", \"18-25\", \"18-25\", \"18-25\", \"25-35\", \"18-25\", \"18-25\", \"25-35\", \"18-25\", \"25-35\", \"18-25\", \"25-35\", \"18-25\", \"18-25\", \"18-25\", \"18-25\", \"18-25\", \"18-25\", \"18-25\", \"25-35\", \"18-25\", \"18-25\", \"18-25\", \"18-25\", \"25-35\", \"18-25\", \"25-35\", \"18-25\", \"18-25\", \"18-25\", \"18-25\", \"18-25\", \"18-25\", \"18-25\", \"18-25\", \"18-25\", \"18-25\", \"18-25\", \"18-25\", \"18-25\", \"18-25\", \"18-25\", \"18-25\", \"35-50\", \"35-50\", \"18-25\", \"18-25\", \"18-25\", \"18-25\", \"18-25\", \"18-25\", \"18-25\", \"18-25\", \"18-25\", \"18-25\", \"25-35\", \"35-50\", \"35-50\", \"18-25\"], \"xaxis\": \"x\", \"yaxis\": \"y\"}],\n",
              "                        {\"barmode\": \"relative\", \"legend\": {\"tracegroupgap\": 0}, \"margin\": {\"t\": 60}, \"template\": {\"data\": {\"bar\": [{\"error_x\": {\"color\": \"#2a3f5f\"}, \"error_y\": {\"color\": \"#2a3f5f\"}, \"marker\": {\"line\": {\"color\": \"#E5ECF6\", \"width\": 0.5}}, \"type\": \"bar\"}], \"barpolar\": [{\"marker\": {\"line\": {\"color\": \"#E5ECF6\", \"width\": 0.5}}, \"type\": \"barpolar\"}], \"carpet\": [{\"aaxis\": {\"endlinecolor\": \"#2a3f5f\", \"gridcolor\": \"white\", \"linecolor\": \"white\", \"minorgridcolor\": \"white\", \"startlinecolor\": \"#2a3f5f\"}, \"baxis\": {\"endlinecolor\": \"#2a3f5f\", \"gridcolor\": \"white\", \"linecolor\": \"white\", \"minorgridcolor\": \"white\", \"startlinecolor\": \"#2a3f5f\"}, \"type\": \"carpet\"}], \"choropleth\": [{\"colorbar\": {\"outlinewidth\": 0, \"ticks\": \"\"}, \"type\": \"choropleth\"}], \"contour\": [{\"colorbar\": {\"outlinewidth\": 0, \"ticks\": \"\"}, \"colorscale\": [[0.0, \"#0d0887\"], [0.1111111111111111, \"#46039f\"], [0.2222222222222222, \"#7201a8\"], [0.3333333333333333, \"#9c179e\"], [0.4444444444444444, \"#bd3786\"], [0.5555555555555556, \"#d8576b\"], [0.6666666666666666, \"#ed7953\"], [0.7777777777777778, \"#fb9f3a\"], [0.8888888888888888, \"#fdca26\"], [1.0, \"#f0f921\"]], \"type\": \"contour\"}], \"contourcarpet\": [{\"colorbar\": {\"outlinewidth\": 0, \"ticks\": \"\"}, \"type\": \"contourcarpet\"}], \"heatmap\": [{\"colorbar\": {\"outlinewidth\": 0, \"ticks\": \"\"}, \"colorscale\": [[0.0, \"#0d0887\"], [0.1111111111111111, \"#46039f\"], [0.2222222222222222, \"#7201a8\"], [0.3333333333333333, \"#9c179e\"], [0.4444444444444444, \"#bd3786\"], [0.5555555555555556, \"#d8576b\"], [0.6666666666666666, \"#ed7953\"], [0.7777777777777778, \"#fb9f3a\"], [0.8888888888888888, \"#fdca26\"], [1.0, \"#f0f921\"]], \"type\": \"heatmap\"}], \"heatmapgl\": [{\"colorbar\": {\"outlinewidth\": 0, \"ticks\": \"\"}, \"colorscale\": [[0.0, \"#0d0887\"], [0.1111111111111111, \"#46039f\"], [0.2222222222222222, \"#7201a8\"], [0.3333333333333333, \"#9c179e\"], [0.4444444444444444, \"#bd3786\"], [0.5555555555555556, \"#d8576b\"], [0.6666666666666666, \"#ed7953\"], [0.7777777777777778, \"#fb9f3a\"], [0.8888888888888888, \"#fdca26\"], [1.0, \"#f0f921\"]], \"type\": \"heatmapgl\"}], \"histogram\": [{\"marker\": {\"colorbar\": {\"outlinewidth\": 0, \"ticks\": \"\"}}, \"type\": \"histogram\"}], \"histogram2d\": [{\"colorbar\": {\"outlinewidth\": 0, \"ticks\": \"\"}, \"colorscale\": [[0.0, \"#0d0887\"], [0.1111111111111111, \"#46039f\"], [0.2222222222222222, \"#7201a8\"], [0.3333333333333333, \"#9c179e\"], [0.4444444444444444, \"#bd3786\"], [0.5555555555555556, \"#d8576b\"], [0.6666666666666666, \"#ed7953\"], [0.7777777777777778, \"#fb9f3a\"], [0.8888888888888888, \"#fdca26\"], [1.0, \"#f0f921\"]], \"type\": \"histogram2d\"}], \"histogram2dcontour\": [{\"colorbar\": {\"outlinewidth\": 0, \"ticks\": \"\"}, \"colorscale\": [[0.0, \"#0d0887\"], [0.1111111111111111, \"#46039f\"], [0.2222222222222222, \"#7201a8\"], [0.3333333333333333, \"#9c179e\"], [0.4444444444444444, \"#bd3786\"], [0.5555555555555556, \"#d8576b\"], [0.6666666666666666, \"#ed7953\"], [0.7777777777777778, \"#fb9f3a\"], [0.8888888888888888, \"#fdca26\"], [1.0, \"#f0f921\"]], \"type\": \"histogram2dcontour\"}], \"mesh3d\": [{\"colorbar\": {\"outlinewidth\": 0, \"ticks\": \"\"}, \"type\": \"mesh3d\"}], \"parcoords\": [{\"line\": {\"colorbar\": {\"outlinewidth\": 0, \"ticks\": \"\"}}, \"type\": \"parcoords\"}], \"pie\": [{\"automargin\": true, \"type\": \"pie\"}], \"scatter\": [{\"marker\": {\"colorbar\": {\"outlinewidth\": 0, \"ticks\": \"\"}}, \"type\": \"scatter\"}], \"scatter3d\": [{\"line\": {\"colorbar\": {\"outlinewidth\": 0, \"ticks\": \"\"}}, \"marker\": {\"colorbar\": {\"outlinewidth\": 0, \"ticks\": \"\"}}, \"type\": \"scatter3d\"}], \"scattercarpet\": [{\"marker\": {\"colorbar\": {\"outlinewidth\": 0, \"ticks\": \"\"}}, \"type\": \"scattercarpet\"}], \"scattergeo\": [{\"marker\": {\"colorbar\": {\"outlinewidth\": 0, \"ticks\": \"\"}}, \"type\": \"scattergeo\"}], \"scattergl\": [{\"marker\": {\"colorbar\": {\"outlinewidth\": 0, \"ticks\": \"\"}}, \"type\": \"scattergl\"}], \"scattermapbox\": [{\"marker\": {\"colorbar\": {\"outlinewidth\": 0, \"ticks\": \"\"}}, \"type\": \"scattermapbox\"}], \"scatterpolar\": [{\"marker\": {\"colorbar\": {\"outlinewidth\": 0, \"ticks\": \"\"}}, \"type\": \"scatterpolar\"}], \"scatterpolargl\": [{\"marker\": {\"colorbar\": {\"outlinewidth\": 0, \"ticks\": \"\"}}, \"type\": \"scatterpolargl\"}], \"scatterternary\": [{\"marker\": {\"colorbar\": {\"outlinewidth\": 0, \"ticks\": \"\"}}, \"type\": \"scatterternary\"}], \"surface\": [{\"colorbar\": {\"outlinewidth\": 0, \"ticks\": \"\"}, \"colorscale\": [[0.0, \"#0d0887\"], [0.1111111111111111, \"#46039f\"], [0.2222222222222222, \"#7201a8\"], [0.3333333333333333, \"#9c179e\"], [0.4444444444444444, \"#bd3786\"], [0.5555555555555556, \"#d8576b\"], [0.6666666666666666, \"#ed7953\"], [0.7777777777777778, \"#fb9f3a\"], [0.8888888888888888, \"#fdca26\"], [1.0, \"#f0f921\"]], \"type\": \"surface\"}], \"table\": [{\"cells\": {\"fill\": {\"color\": \"#EBF0F8\"}, \"line\": {\"color\": \"white\"}}, \"header\": {\"fill\": {\"color\": \"#C8D4E3\"}, \"line\": {\"color\": \"white\"}}, \"type\": \"table\"}]}, \"layout\": {\"annotationdefaults\": {\"arrowcolor\": \"#2a3f5f\", \"arrowhead\": 0, \"arrowwidth\": 1}, \"coloraxis\": {\"colorbar\": {\"outlinewidth\": 0, \"ticks\": \"\"}}, \"colorscale\": {\"diverging\": [[0, \"#8e0152\"], [0.1, \"#c51b7d\"], [0.2, \"#de77ae\"], [0.3, \"#f1b6da\"], [0.4, \"#fde0ef\"], [0.5, \"#f7f7f7\"], [0.6, \"#e6f5d0\"], [0.7, \"#b8e186\"], [0.8, \"#7fbc41\"], [0.9, \"#4d9221\"], [1, \"#276419\"]], \"sequential\": [[0.0, \"#0d0887\"], [0.1111111111111111, \"#46039f\"], [0.2222222222222222, \"#7201a8\"], [0.3333333333333333, \"#9c179e\"], [0.4444444444444444, \"#bd3786\"], [0.5555555555555556, \"#d8576b\"], [0.6666666666666666, \"#ed7953\"], [0.7777777777777778, \"#fb9f3a\"], [0.8888888888888888, \"#fdca26\"], [1.0, \"#f0f921\"]], \"sequentialminus\": [[0.0, \"#0d0887\"], [0.1111111111111111, \"#46039f\"], [0.2222222222222222, \"#7201a8\"], [0.3333333333333333, \"#9c179e\"], [0.4444444444444444, \"#bd3786\"], [0.5555555555555556, \"#d8576b\"], [0.6666666666666666, \"#ed7953\"], [0.7777777777777778, \"#fb9f3a\"], [0.8888888888888888, \"#fdca26\"], [1.0, \"#f0f921\"]]}, \"colorway\": [\"#636efa\", \"#EF553B\", \"#00cc96\", \"#ab63fa\", \"#FFA15A\", \"#19d3f3\", \"#FF6692\", \"#B6E880\", \"#FF97FF\", \"#FECB52\"], \"font\": {\"color\": \"#2a3f5f\"}, \"geo\": {\"bgcolor\": \"white\", \"lakecolor\": \"white\", \"landcolor\": \"#E5ECF6\", \"showlakes\": true, \"showland\": true, \"subunitcolor\": \"white\"}, \"hoverlabel\": {\"align\": \"left\"}, \"hovermode\": \"closest\", \"mapbox\": {\"style\": \"light\"}, \"paper_bgcolor\": \"white\", \"plot_bgcolor\": \"#E5ECF6\", \"polar\": {\"angularaxis\": {\"gridcolor\": \"white\", \"linecolor\": \"white\", \"ticks\": \"\"}, \"bgcolor\": \"#E5ECF6\", \"radialaxis\": {\"gridcolor\": \"white\", \"linecolor\": \"white\", \"ticks\": \"\"}}, \"scene\": {\"xaxis\": {\"backgroundcolor\": \"#E5ECF6\", \"gridcolor\": \"white\", \"gridwidth\": 2, \"linecolor\": \"white\", \"showbackground\": true, \"ticks\": \"\", \"zerolinecolor\": \"white\"}, \"yaxis\": {\"backgroundcolor\": \"#E5ECF6\", \"gridcolor\": \"white\", \"gridwidth\": 2, \"linecolor\": \"white\", \"showbackground\": true, \"ticks\": \"\", \"zerolinecolor\": \"white\"}, \"zaxis\": {\"backgroundcolor\": \"#E5ECF6\", \"gridcolor\": \"white\", \"gridwidth\": 2, \"linecolor\": \"white\", \"showbackground\": true, \"ticks\": \"\", \"zerolinecolor\": \"white\"}}, \"shapedefaults\": {\"line\": {\"color\": \"#2a3f5f\"}}, \"ternary\": {\"aaxis\": {\"gridcolor\": \"white\", \"linecolor\": \"white\", \"ticks\": \"\"}, \"baxis\": {\"gridcolor\": \"white\", \"linecolor\": \"white\", \"ticks\": \"\"}, \"bgcolor\": \"#E5ECF6\", \"caxis\": {\"gridcolor\": \"white\", \"linecolor\": \"white\", \"ticks\": \"\"}}, \"title\": {\"x\": 0.05}, \"xaxis\": {\"automargin\": true, \"gridcolor\": \"white\", \"linecolor\": \"white\", \"ticks\": \"\", \"title\": {\"standoff\": 15}, \"zerolinecolor\": \"white\", \"zerolinewidth\": 2}, \"yaxis\": {\"automargin\": true, \"gridcolor\": \"white\", \"linecolor\": \"white\", \"ticks\": \"\", \"title\": {\"standoff\": 15}, \"zerolinecolor\": \"white\", \"zerolinewidth\": 2}}}, \"xaxis\": {\"anchor\": \"y\", \"domain\": [0.0, 1.0], \"title\": {\"text\": \"Age\"}}, \"yaxis\": {\"anchor\": \"x\", \"domain\": [0.0, 1.0], \"title\": {\"text\": \"count\"}}},\n",
              "                        {\"responsive\": true}\n",
              "                    ).then(function(){\n",
              "                            \n",
              "var gd = document.getElementById('9895e013-570a-4fba-8cb0-b4a334067070');\n",
              "var x = new MutationObserver(function (mutations, observer) {{\n",
              "        var display = window.getComputedStyle(gd).display;\n",
              "        if (!display || display === 'none') {{\n",
              "            console.log([gd, 'removed!']);\n",
              "            Plotly.purge(gd);\n",
              "            observer.disconnect();\n",
              "        }}\n",
              "}});\n",
              "\n",
              "// Listen for the removal of the full notebook cells\n",
              "var notebookContainer = gd.closest('#notebook-container');\n",
              "if (notebookContainer) {{\n",
              "    x.observe(notebookContainer, {childList: true});\n",
              "}}\n",
              "\n",
              "// Listen for the clearing of the current output cell\n",
              "var outputEl = gd.closest('.output');\n",
              "if (outputEl) {{\n",
              "    x.observe(outputEl, {childList: true});\n",
              "}}\n",
              "\n",
              "                        })\n",
              "                };\n",
              "                \n",
              "            </script>\n",
              "        </div>\n",
              "</body>\n",
              "</html>"
            ]
          },
          "metadata": {
            "tags": []
          }
        }
      ]
    },
    {
      "cell_type": "code",
      "metadata": {
        "colab": {
          "base_uri": "https://localhost:8080/",
          "height": 542
        },
        "id": "U4D6VDo4Hnsh",
        "outputId": "7dc02b77-8265-4b9d-ef17-eaa1691fbed2"
      },
      "source": [
        "px.histogram(Dataset, x='Price of clothes', color='Age', nbins=10)"
      ],
      "execution_count": 21,
      "outputs": [
        {
          "output_type": "display_data",
          "data": {
            "text/html": [
              "<html>\n",
              "<head><meta charset=\"utf-8\" /></head>\n",
              "<body>\n",
              "    <div>\n",
              "            <script src=\"https://cdnjs.cloudflare.com/ajax/libs/mathjax/2.7.5/MathJax.js?config=TeX-AMS-MML_SVG\"></script><script type=\"text/javascript\">if (window.MathJax) {MathJax.Hub.Config({SVG: {font: \"STIX-Web\"}});}</script>\n",
              "                <script type=\"text/javascript\">window.PlotlyConfig = {MathJaxConfig: 'local'};</script>\n",
              "        <script src=\"https://cdn.plot.ly/plotly-latest.min.js\"></script>    \n",
              "            <div id=\"c5ff7ea2-d0f9-4183-8555-fdc26261c21f\" class=\"plotly-graph-div\" style=\"height:525px; width:100%;\"></div>\n",
              "            <script type=\"text/javascript\">\n",
              "                \n",
              "                    window.PLOTLYENV=window.PLOTLYENV || {};\n",
              "                    \n",
              "                if (document.getElementById(\"c5ff7ea2-d0f9-4183-8555-fdc26261c21f\")) {\n",
              "                    Plotly.newPlot(\n",
              "                        'c5ff7ea2-d0f9-4183-8555-fdc26261c21f',\n",
              "                        [{\"alignmentgroup\": \"True\", \"bingroup\": \"x\", \"hoverlabel\": {\"namelength\": 0}, \"hovertemplate\": \"Age=18-25<br>Price of clothes=%{x}<br>count=%{y}\", \"legendgroup\": \"Age=18-25\", \"marker\": {\"color\": \"#636efa\"}, \"name\": \"Age=18-25\", \"nbinsx\": 10, \"offsetgroup\": \"Age=18-25\", \"orientation\": \"v\", \"showlegend\": true, \"type\": \"histogram\", \"x\": [\"500-700\", \"700-1000\", \"200-500\", \"500-700\", \"500-700\", \"500-700\", \"200-500\", \"1000-above\", \"500-700\", \"500-700\", \"700-1000\", \"700-1000\", \"500-700\", \"200-500\", \"700-1000\", \"700-1000\", \"500-700\", \"500-700\", \"200-500\", \"200-500\", \"700-1000\", \"700-1000\", \"500-700\", \"1000-above\", \"1000-above\", \"700-1000\", \"700-1000\", \"1000-above\", \"700-1000\", \"500-700\", \"700-1000\", \"1000-above\", \"1000-above\", \"700-1000\", \"700-1000\", \"700-1000\", \"1000-above\", \"1000-above\", \"1000-above\", \"700-1000\", \"1000-above\", \"700-1000\", \"700-1000\", \"700-1000\", \"700-1000\", \"700-1000\", \"700-1000\", \"700-1000\", \"700-1000\", \"700-1000\", \"700-1000\", \"700-1000\", \"700-1000\", \"700-1000\", \"1000-above\", \"1000-above\", \"700-1000\", \"700-1000\", \"700-1000\", \"700-1000\", \"700-1000\", \"700-1000\", \"700-1000\", \"1000-above\", \"500-700\", \"700-1000\", \"700-1000\", \"700-1000\", \"500-700\", \"500-700\", \"700-1000\", \"500-700\", \"500-700\", \"700-1000\", \"500-700\", \"1000-above\", \"1000-above\", \"1000-above\", \"1000-above\", \"1000-above\", \"700-1000\", \"700-1000\", \"700-1000\", \"1000-above\", \"700-1000\", \"500-700\", \"700-1000\", \"1000-above\", \"700-1000\", \"700-1000\", \"1000-above\", \"1000-above\", \"1000-above\", \"700-1000\", \"700-1000\", \"700-1000\", \"700-1000\", \"1000-above\", \"1000-above\", \"1000-above\", \"1000-above\", \"700-1000\", \"1000-above\", \"1000-above\", \"700-1000\", \"500-700\", \"1000-above\", \"1000-above\", \"1000-above\", \"1000-above\", \"1000-above\", \"1000-above\", \"700-1000\", \"1000-above\", \"1000-above\", \"700-1000\", \"700-1000\", \"700-1000\", \"1000-above\", \"1000-above\", \"700-1000\", \"1000-above\", \"1000-above\", \"1000-above\", \"700-1000\", \"700-1000\", \"700-1000\", \"700-1000\", \"1000-above\", \"1000-above\", \"700-1000\", \"700-1000\", \"1000-above\", \"1000-above\", \"1000-above\", \"1000-above\", \"1000-above\", \"700-1000\", \"1000-above\", \"1000-above\", \"1000-above\", \"1000-above\", \"1000-above\", \"1000-above\", \"1000-above\", \"1000-above\", \"1000-above\", \"1000-above\", \"1000-above\", \"1000-above\", \"1000-above\", \"1000-above\", \"1000-above\", \"1000-above\", \"1000-above\", \"1000-above\", \"1000-above\", \"700-1000\", \"500-700\", \"1000-above\", \"700-1000\", \"700-1000\"], \"xaxis\": \"x\", \"yaxis\": \"y\"}, {\"alignmentgroup\": \"True\", \"bingroup\": \"x\", \"hoverlabel\": {\"namelength\": 0}, \"hovertemplate\": \"Age=25-35<br>Price of clothes=%{x}<br>count=%{y}\", \"legendgroup\": \"Age=25-35\", \"marker\": {\"color\": \"#EF553B\"}, \"name\": \"Age=25-35\", \"nbinsx\": 10, \"offsetgroup\": \"Age=25-35\", \"orientation\": \"v\", \"showlegend\": true, \"type\": \"histogram\", \"x\": [\"700-1000\", \"500-700\", \"500-700\", \"500-700\", \"500-700\", \"500-700\", \"500-700\", \"1000-above\", \"1000-above\", \"1000-above\", \"700-1000\", \"500-700\", \"700-1000\", \"700-1000\", \"1000-above\", \"700-1000\", \"1000-above\", \"1000-above\", \"1000-above\", \"1000-above\", \"1000-above\", \"1000-above\", \"1000-above\", \"700-1000\", \"700-1000\", \"1000-above\", \"700-1000\"], \"xaxis\": \"x\", \"yaxis\": \"y\"}, {\"alignmentgroup\": \"True\", \"bingroup\": \"x\", \"hoverlabel\": {\"namelength\": 0}, \"hovertemplate\": \"Age=35-50<br>Price of clothes=%{x}<br>count=%{y}\", \"legendgroup\": \"Age=35-50\", \"marker\": {\"color\": \"#00cc96\"}, \"name\": \"Age=35-50\", \"nbinsx\": 10, \"offsetgroup\": \"Age=35-50\", \"orientation\": \"v\", \"showlegend\": true, \"type\": \"histogram\", \"x\": [\"500-700\", \"700-1000\", \"700-1000\", \"700-1000\", \"700-1000\", \"1000-above\", \"1000-above\", \"1000-above\", \"1000-above\", \"1000-above\", \"1000-above\", \"700-1000\"], \"xaxis\": \"x\", \"yaxis\": \"y\"}, {\"alignmentgroup\": \"True\", \"bingroup\": \"x\", \"hoverlabel\": {\"namelength\": 0}, \"hovertemplate\": \"Age=50 - above<br>Price of clothes=%{x}<br>count=%{y}\", \"legendgroup\": \"Age=50 - above\", \"marker\": {\"color\": \"#ab63fa\"}, \"name\": \"Age=50 - above\", \"nbinsx\": 10, \"offsetgroup\": \"Age=50 - above\", \"orientation\": \"v\", \"showlegend\": true, \"type\": \"histogram\", \"x\": [\"500-700\"], \"xaxis\": \"x\", \"yaxis\": \"y\"}],\n",
              "                        {\"barmode\": \"relative\", \"legend\": {\"tracegroupgap\": 0}, \"margin\": {\"t\": 60}, \"template\": {\"data\": {\"bar\": [{\"error_x\": {\"color\": \"#2a3f5f\"}, \"error_y\": {\"color\": \"#2a3f5f\"}, \"marker\": {\"line\": {\"color\": \"#E5ECF6\", \"width\": 0.5}}, \"type\": \"bar\"}], \"barpolar\": [{\"marker\": {\"line\": {\"color\": \"#E5ECF6\", \"width\": 0.5}}, \"type\": \"barpolar\"}], \"carpet\": [{\"aaxis\": {\"endlinecolor\": \"#2a3f5f\", \"gridcolor\": \"white\", \"linecolor\": \"white\", \"minorgridcolor\": \"white\", \"startlinecolor\": \"#2a3f5f\"}, \"baxis\": {\"endlinecolor\": \"#2a3f5f\", \"gridcolor\": \"white\", \"linecolor\": \"white\", \"minorgridcolor\": \"white\", \"startlinecolor\": \"#2a3f5f\"}, \"type\": \"carpet\"}], \"choropleth\": [{\"colorbar\": {\"outlinewidth\": 0, \"ticks\": \"\"}, \"type\": \"choropleth\"}], \"contour\": [{\"colorbar\": {\"outlinewidth\": 0, \"ticks\": \"\"}, \"colorscale\": [[0.0, \"#0d0887\"], [0.1111111111111111, \"#46039f\"], [0.2222222222222222, \"#7201a8\"], [0.3333333333333333, \"#9c179e\"], [0.4444444444444444, \"#bd3786\"], [0.5555555555555556, \"#d8576b\"], [0.6666666666666666, \"#ed7953\"], [0.7777777777777778, \"#fb9f3a\"], [0.8888888888888888, \"#fdca26\"], [1.0, \"#f0f921\"]], \"type\": \"contour\"}], \"contourcarpet\": [{\"colorbar\": {\"outlinewidth\": 0, \"ticks\": \"\"}, \"type\": \"contourcarpet\"}], \"heatmap\": [{\"colorbar\": {\"outlinewidth\": 0, \"ticks\": \"\"}, \"colorscale\": [[0.0, \"#0d0887\"], [0.1111111111111111, \"#46039f\"], [0.2222222222222222, \"#7201a8\"], [0.3333333333333333, \"#9c179e\"], [0.4444444444444444, \"#bd3786\"], [0.5555555555555556, \"#d8576b\"], [0.6666666666666666, \"#ed7953\"], [0.7777777777777778, \"#fb9f3a\"], [0.8888888888888888, \"#fdca26\"], [1.0, \"#f0f921\"]], \"type\": \"heatmap\"}], \"heatmapgl\": [{\"colorbar\": {\"outlinewidth\": 0, \"ticks\": \"\"}, \"colorscale\": [[0.0, \"#0d0887\"], [0.1111111111111111, \"#46039f\"], [0.2222222222222222, \"#7201a8\"], [0.3333333333333333, \"#9c179e\"], [0.4444444444444444, \"#bd3786\"], [0.5555555555555556, \"#d8576b\"], [0.6666666666666666, \"#ed7953\"], [0.7777777777777778, \"#fb9f3a\"], [0.8888888888888888, \"#fdca26\"], [1.0, \"#f0f921\"]], \"type\": \"heatmapgl\"}], \"histogram\": [{\"marker\": {\"colorbar\": {\"outlinewidth\": 0, \"ticks\": \"\"}}, \"type\": \"histogram\"}], \"histogram2d\": [{\"colorbar\": {\"outlinewidth\": 0, \"ticks\": \"\"}, \"colorscale\": [[0.0, \"#0d0887\"], [0.1111111111111111, \"#46039f\"], [0.2222222222222222, \"#7201a8\"], [0.3333333333333333, \"#9c179e\"], [0.4444444444444444, \"#bd3786\"], [0.5555555555555556, \"#d8576b\"], [0.6666666666666666, \"#ed7953\"], [0.7777777777777778, \"#fb9f3a\"], [0.8888888888888888, \"#fdca26\"], [1.0, \"#f0f921\"]], \"type\": \"histogram2d\"}], \"histogram2dcontour\": [{\"colorbar\": {\"outlinewidth\": 0, \"ticks\": \"\"}, \"colorscale\": [[0.0, \"#0d0887\"], [0.1111111111111111, \"#46039f\"], [0.2222222222222222, \"#7201a8\"], [0.3333333333333333, \"#9c179e\"], [0.4444444444444444, \"#bd3786\"], [0.5555555555555556, \"#d8576b\"], [0.6666666666666666, \"#ed7953\"], [0.7777777777777778, \"#fb9f3a\"], [0.8888888888888888, \"#fdca26\"], [1.0, \"#f0f921\"]], \"type\": \"histogram2dcontour\"}], \"mesh3d\": [{\"colorbar\": {\"outlinewidth\": 0, \"ticks\": \"\"}, \"type\": \"mesh3d\"}], \"parcoords\": [{\"line\": {\"colorbar\": {\"outlinewidth\": 0, \"ticks\": \"\"}}, \"type\": \"parcoords\"}], \"pie\": [{\"automargin\": true, \"type\": \"pie\"}], \"scatter\": [{\"marker\": {\"colorbar\": {\"outlinewidth\": 0, \"ticks\": \"\"}}, \"type\": \"scatter\"}], \"scatter3d\": [{\"line\": {\"colorbar\": {\"outlinewidth\": 0, \"ticks\": \"\"}}, \"marker\": {\"colorbar\": {\"outlinewidth\": 0, \"ticks\": \"\"}}, \"type\": \"scatter3d\"}], \"scattercarpet\": [{\"marker\": {\"colorbar\": {\"outlinewidth\": 0, \"ticks\": \"\"}}, \"type\": \"scattercarpet\"}], \"scattergeo\": [{\"marker\": {\"colorbar\": {\"outlinewidth\": 0, \"ticks\": \"\"}}, \"type\": \"scattergeo\"}], \"scattergl\": [{\"marker\": {\"colorbar\": {\"outlinewidth\": 0, \"ticks\": \"\"}}, \"type\": \"scattergl\"}], \"scattermapbox\": [{\"marker\": {\"colorbar\": {\"outlinewidth\": 0, \"ticks\": \"\"}}, \"type\": \"scattermapbox\"}], \"scatterpolar\": [{\"marker\": {\"colorbar\": {\"outlinewidth\": 0, \"ticks\": \"\"}}, \"type\": \"scatterpolar\"}], \"scatterpolargl\": [{\"marker\": {\"colorbar\": {\"outlinewidth\": 0, \"ticks\": \"\"}}, \"type\": \"scatterpolargl\"}], \"scatterternary\": [{\"marker\": {\"colorbar\": {\"outlinewidth\": 0, \"ticks\": \"\"}}, \"type\": \"scatterternary\"}], \"surface\": [{\"colorbar\": {\"outlinewidth\": 0, \"ticks\": \"\"}, \"colorscale\": [[0.0, \"#0d0887\"], [0.1111111111111111, \"#46039f\"], [0.2222222222222222, \"#7201a8\"], [0.3333333333333333, \"#9c179e\"], [0.4444444444444444, \"#bd3786\"], [0.5555555555555556, \"#d8576b\"], [0.6666666666666666, \"#ed7953\"], [0.7777777777777778, \"#fb9f3a\"], [0.8888888888888888, \"#fdca26\"], [1.0, \"#f0f921\"]], \"type\": \"surface\"}], \"table\": [{\"cells\": {\"fill\": {\"color\": \"#EBF0F8\"}, \"line\": {\"color\": \"white\"}}, \"header\": {\"fill\": {\"color\": \"#C8D4E3\"}, \"line\": {\"color\": \"white\"}}, \"type\": \"table\"}]}, \"layout\": {\"annotationdefaults\": {\"arrowcolor\": \"#2a3f5f\", \"arrowhead\": 0, \"arrowwidth\": 1}, \"coloraxis\": {\"colorbar\": {\"outlinewidth\": 0, \"ticks\": \"\"}}, \"colorscale\": {\"diverging\": [[0, \"#8e0152\"], [0.1, \"#c51b7d\"], [0.2, \"#de77ae\"], [0.3, \"#f1b6da\"], [0.4, \"#fde0ef\"], [0.5, \"#f7f7f7\"], [0.6, \"#e6f5d0\"], [0.7, \"#b8e186\"], [0.8, \"#7fbc41\"], [0.9, \"#4d9221\"], [1, \"#276419\"]], \"sequential\": [[0.0, \"#0d0887\"], [0.1111111111111111, \"#46039f\"], [0.2222222222222222, \"#7201a8\"], [0.3333333333333333, \"#9c179e\"], [0.4444444444444444, \"#bd3786\"], [0.5555555555555556, \"#d8576b\"], [0.6666666666666666, \"#ed7953\"], [0.7777777777777778, \"#fb9f3a\"], [0.8888888888888888, \"#fdca26\"], [1.0, \"#f0f921\"]], \"sequentialminus\": [[0.0, \"#0d0887\"], [0.1111111111111111, \"#46039f\"], [0.2222222222222222, \"#7201a8\"], [0.3333333333333333, \"#9c179e\"], [0.4444444444444444, \"#bd3786\"], [0.5555555555555556, \"#d8576b\"], [0.6666666666666666, \"#ed7953\"], [0.7777777777777778, \"#fb9f3a\"], [0.8888888888888888, \"#fdca26\"], [1.0, \"#f0f921\"]]}, \"colorway\": [\"#636efa\", \"#EF553B\", \"#00cc96\", \"#ab63fa\", \"#FFA15A\", \"#19d3f3\", \"#FF6692\", \"#B6E880\", \"#FF97FF\", \"#FECB52\"], \"font\": {\"color\": \"#2a3f5f\"}, \"geo\": {\"bgcolor\": \"white\", \"lakecolor\": \"white\", \"landcolor\": \"#E5ECF6\", \"showlakes\": true, \"showland\": true, \"subunitcolor\": \"white\"}, \"hoverlabel\": {\"align\": \"left\"}, \"hovermode\": \"closest\", \"mapbox\": {\"style\": \"light\"}, \"paper_bgcolor\": \"white\", \"plot_bgcolor\": \"#E5ECF6\", \"polar\": {\"angularaxis\": {\"gridcolor\": \"white\", \"linecolor\": \"white\", \"ticks\": \"\"}, \"bgcolor\": \"#E5ECF6\", \"radialaxis\": {\"gridcolor\": \"white\", \"linecolor\": \"white\", \"ticks\": \"\"}}, \"scene\": {\"xaxis\": {\"backgroundcolor\": \"#E5ECF6\", \"gridcolor\": \"white\", \"gridwidth\": 2, \"linecolor\": \"white\", \"showbackground\": true, \"ticks\": \"\", \"zerolinecolor\": \"white\"}, \"yaxis\": {\"backgroundcolor\": \"#E5ECF6\", \"gridcolor\": \"white\", \"gridwidth\": 2, \"linecolor\": \"white\", \"showbackground\": true, \"ticks\": \"\", \"zerolinecolor\": \"white\"}, \"zaxis\": {\"backgroundcolor\": \"#E5ECF6\", \"gridcolor\": \"white\", \"gridwidth\": 2, \"linecolor\": \"white\", \"showbackground\": true, \"ticks\": \"\", \"zerolinecolor\": \"white\"}}, \"shapedefaults\": {\"line\": {\"color\": \"#2a3f5f\"}}, \"ternary\": {\"aaxis\": {\"gridcolor\": \"white\", \"linecolor\": \"white\", \"ticks\": \"\"}, \"baxis\": {\"gridcolor\": \"white\", \"linecolor\": \"white\", \"ticks\": \"\"}, \"bgcolor\": \"#E5ECF6\", \"caxis\": {\"gridcolor\": \"white\", \"linecolor\": \"white\", \"ticks\": \"\"}}, \"title\": {\"x\": 0.05}, \"xaxis\": {\"automargin\": true, \"gridcolor\": \"white\", \"linecolor\": \"white\", \"ticks\": \"\", \"title\": {\"standoff\": 15}, \"zerolinecolor\": \"white\", \"zerolinewidth\": 2}, \"yaxis\": {\"automargin\": true, \"gridcolor\": \"white\", \"linecolor\": \"white\", \"ticks\": \"\", \"title\": {\"standoff\": 15}, \"zerolinecolor\": \"white\", \"zerolinewidth\": 2}}}, \"xaxis\": {\"anchor\": \"y\", \"domain\": [0.0, 1.0], \"title\": {\"text\": \"Price of clothes\"}}, \"yaxis\": {\"anchor\": \"x\", \"domain\": [0.0, 1.0], \"title\": {\"text\": \"count\"}}},\n",
              "                        {\"responsive\": true}\n",
              "                    ).then(function(){\n",
              "                            \n",
              "var gd = document.getElementById('c5ff7ea2-d0f9-4183-8555-fdc26261c21f');\n",
              "var x = new MutationObserver(function (mutations, observer) {{\n",
              "        var display = window.getComputedStyle(gd).display;\n",
              "        if (!display || display === 'none') {{\n",
              "            console.log([gd, 'removed!']);\n",
              "            Plotly.purge(gd);\n",
              "            observer.disconnect();\n",
              "        }}\n",
              "}});\n",
              "\n",
              "// Listen for the removal of the full notebook cells\n",
              "var notebookContainer = gd.closest('#notebook-container');\n",
              "if (notebookContainer) {{\n",
              "    x.observe(notebookContainer, {childList: true});\n",
              "}}\n",
              "\n",
              "// Listen for the clearing of the current output cell\n",
              "var outputEl = gd.closest('.output');\n",
              "if (outputEl) {{\n",
              "    x.observe(outputEl, {childList: true});\n",
              "}}\n",
              "\n",
              "                        })\n",
              "                };\n",
              "                \n",
              "            </script>\n",
              "        </div>\n",
              "</body>\n",
              "</html>"
            ]
          },
          "metadata": {
            "tags": []
          }
        }
      ]
    },
    {
      "cell_type": "code",
      "metadata": {
        "colab": {
          "base_uri": "https://localhost:8080/",
          "height": 542
        },
        "id": "z5rhKCMJHIsI",
        "outputId": "f41c0891-bf2f-4c21-b260-6c09e81ebb9e"
      },
      "source": [
        "px.histogram(Dataset, x='Age', color='Brand of clothes', nbins=10)"
      ],
      "execution_count": 22,
      "outputs": [
        {
          "output_type": "display_data",
          "data": {
            "text/html": [
              "<html>\n",
              "<head><meta charset=\"utf-8\" /></head>\n",
              "<body>\n",
              "    <div>\n",
              "            <script src=\"https://cdnjs.cloudflare.com/ajax/libs/mathjax/2.7.5/MathJax.js?config=TeX-AMS-MML_SVG\"></script><script type=\"text/javascript\">if (window.MathJax) {MathJax.Hub.Config({SVG: {font: \"STIX-Web\"}});}</script>\n",
              "                <script type=\"text/javascript\">window.PlotlyConfig = {MathJaxConfig: 'local'};</script>\n",
              "        <script src=\"https://cdn.plot.ly/plotly-latest.min.js\"></script>    \n",
              "            <div id=\"4ddf119a-cd09-4ba5-a4fa-3eed149ad2a2\" class=\"plotly-graph-div\" style=\"height:525px; width:100%;\"></div>\n",
              "            <script type=\"text/javascript\">\n",
              "                \n",
              "                    window.PLOTLYENV=window.PLOTLYENV || {};\n",
              "                    \n",
              "                if (document.getElementById(\"4ddf119a-cd09-4ba5-a4fa-3eed149ad2a2\")) {\n",
              "                    Plotly.newPlot(\n",
              "                        '4ddf119a-cd09-4ba5-a4fa-3eed149ad2a2',\n",
              "                        [{\"alignmentgroup\": \"True\", \"bingroup\": \"x\", \"hoverlabel\": {\"namelength\": 0}, \"hovertemplate\": \"Brand of clothes=NIKE,Adidas<br>Age=%{x}<br>count=%{y}\", \"legendgroup\": \"Brand of clothes=NIKE,Adidas\", \"marker\": {\"color\": \"#636efa\"}, \"name\": \"Brand of clothes=NIKE,Adidas\", \"nbinsx\": 10, \"offsetgroup\": \"Brand of clothes=NIKE,Adidas\", \"orientation\": \"v\", \"showlegend\": true, \"type\": \"histogram\", \"x\": [\"18-25\", \"18-25\", \"18-25\", \"18-25\", \"18-25\", \"18-25\", \"18-25\", \"18-25\", \"18-25\", \"18-25\", \"18-25\", \"18-25\", \"18-25\", \"18-25\", \"18-25\", \"18-25\", \"18-25\", \"18-25\", \"18-25\", \"18-25\", \"18-25\", \"18-25\", \"18-25\", \"18-25\", \"18-25\", \"18-25\", \"18-25\", \"18-25\", \"50 - above\", \"25-35\", \"18-25\", \"25-35\", \"18-25\"], \"xaxis\": \"x\", \"yaxis\": \"y\"}, {\"alignmentgroup\": \"True\", \"bingroup\": \"x\", \"hoverlabel\": {\"namelength\": 0}, \"hovertemplate\": \"Brand of clothes=NIKE,Adidas,H&M<br>Age=%{x}<br>count=%{y}\", \"legendgroup\": \"Brand of clothes=NIKE,Adidas,H&M\", \"marker\": {\"color\": \"#EF553B\"}, \"name\": \"Brand of clothes=NIKE,Adidas,H&M\", \"nbinsx\": 10, \"offsetgroup\": \"Brand of clothes=NIKE,Adidas,H&M\", \"orientation\": \"v\", \"showlegend\": true, \"type\": \"histogram\", \"x\": [\"18-25\", \"18-25\", \"18-25\", \"18-25\", \"25-35\", \"25-35\", \"18-25\", \"18-25\", \"18-25\", \"18-25\", \"18-25\"], \"xaxis\": \"x\", \"yaxis\": \"y\"}, {\"alignmentgroup\": \"True\", \"bingroup\": \"x\", \"hoverlabel\": {\"namelength\": 0}, \"hovertemplate\": \"Brand of clothes=NIKE,Adidas,H&M,ZARA<br>Age=%{x}<br>count=%{y}\", \"legendgroup\": \"Brand of clothes=NIKE,Adidas,H&M,ZARA\", \"marker\": {\"color\": \"#00cc96\"}, \"name\": \"Brand of clothes=NIKE,Adidas,H&M,ZARA\", \"nbinsx\": 10, \"offsetgroup\": \"Brand of clothes=NIKE,Adidas,H&M,ZARA\", \"orientation\": \"v\", \"showlegend\": true, \"type\": \"histogram\", \"x\": [\"18-25\", \"18-25\"], \"xaxis\": \"x\", \"yaxis\": \"y\"}, {\"alignmentgroup\": \"True\", \"bingroup\": \"x\", \"hoverlabel\": {\"namelength\": 0}, \"hovertemplate\": \"Brand of clothes=NIKE<br>Age=%{x}<br>count=%{y}\", \"legendgroup\": \"Brand of clothes=NIKE\", \"marker\": {\"color\": \"#ab63fa\"}, \"name\": \"Brand of clothes=NIKE\", \"nbinsx\": 10, \"offsetgroup\": \"Brand of clothes=NIKE\", \"orientation\": \"v\", \"showlegend\": true, \"type\": \"histogram\", \"x\": [\"18-25\", \"18-25\", \"18-25\", \"18-25\", \"18-25\", \"25-35\", \"18-25\", \"18-25\", \"18-25\", \"18-25\"], \"xaxis\": \"x\", \"yaxis\": \"y\"}, {\"alignmentgroup\": \"True\", \"bingroup\": \"x\", \"hoverlabel\": {\"namelength\": 0}, \"hovertemplate\": \"Brand of clothes=Meesho<br>Age=%{x}<br>count=%{y}\", \"legendgroup\": \"Brand of clothes=Meesho\", \"marker\": {\"color\": \"#FFA15A\"}, \"name\": \"Brand of clothes=Meesho\", \"nbinsx\": 10, \"offsetgroup\": \"Brand of clothes=Meesho\", \"orientation\": \"v\", \"showlegend\": true, \"type\": \"histogram\", \"x\": [\"18-25\"], \"xaxis\": \"x\", \"yaxis\": \"y\"}, {\"alignmentgroup\": \"True\", \"bingroup\": \"x\", \"hoverlabel\": {\"namelength\": 0}, \"hovertemplate\": \"Brand of clothes=H&M<br>Age=%{x}<br>count=%{y}\", \"legendgroup\": \"Brand of clothes=H&M\", \"marker\": {\"color\": \"#19d3f3\"}, \"name\": \"Brand of clothes=H&M\", \"nbinsx\": 10, \"offsetgroup\": \"Brand of clothes=H&M\", \"orientation\": \"v\", \"showlegend\": true, \"type\": \"histogram\", \"x\": [\"18-25\", \"18-25\", \"25-35\", \"18-25\", \"18-25\", \"18-25\", \"18-25\", \"35-50\", \"35-50\", \"18-25\", \"18-25\", \"18-25\", \"18-25\", \"25-35\", \"18-25\", \"18-25\", \"25-35\", \"35-50\", \"25-35\", \"18-25\"], \"xaxis\": \"x\", \"yaxis\": \"y\"}, {\"alignmentgroup\": \"True\", \"bingroup\": \"x\", \"hoverlabel\": {\"namelength\": 0}, \"hovertemplate\": \"Brand of clothes=GUCCI,Adidas,H&M<br>Age=%{x}<br>count=%{y}\", \"legendgroup\": \"Brand of clothes=GUCCI,Adidas,H&M\", \"marker\": {\"color\": \"#FF6692\"}, \"name\": \"Brand of clothes=GUCCI,Adidas,H&M\", \"nbinsx\": 10, \"offsetgroup\": \"Brand of clothes=GUCCI,Adidas,H&M\", \"orientation\": \"v\", \"showlegend\": true, \"type\": \"histogram\", \"x\": [\"25-35\", \"18-25\", \"18-25\"], \"xaxis\": \"x\", \"yaxis\": \"y\"}, {\"alignmentgroup\": \"True\", \"bingroup\": \"x\", \"hoverlabel\": {\"namelength\": 0}, \"hovertemplate\": \"Brand of clothes=Adidas,LEVIS<br>Age=%{x}<br>count=%{y}\", \"legendgroup\": \"Brand of clothes=Adidas,LEVIS\", \"marker\": {\"color\": \"#B6E880\"}, \"name\": \"Brand of clothes=Adidas,LEVIS\", \"nbinsx\": 10, \"offsetgroup\": \"Brand of clothes=Adidas,LEVIS\", \"orientation\": \"v\", \"showlegend\": true, \"type\": \"histogram\", \"x\": [\"18-25\", \"18-25\", \"18-25\"], \"xaxis\": \"x\", \"yaxis\": \"y\"}, {\"alignmentgroup\": \"True\", \"bingroup\": \"x\", \"hoverlabel\": {\"namelength\": 0}, \"hovertemplate\": \"Brand of clothes=NIKE,Adidas,ZARA,LEVIS<br>Age=%{x}<br>count=%{y}\", \"legendgroup\": \"Brand of clothes=NIKE,Adidas,ZARA,LEVIS\", \"marker\": {\"color\": \"#FF97FF\"}, \"name\": \"Brand of clothes=NIKE,Adidas,ZARA,LEVIS\", \"nbinsx\": 10, \"offsetgroup\": \"Brand of clothes=NIKE,Adidas,ZARA,LEVIS\", \"orientation\": \"v\", \"showlegend\": true, \"type\": \"histogram\", \"x\": [\"18-25\", \"25-35\", \"25-35\", \"35-50\", \"18-25\"], \"xaxis\": \"x\", \"yaxis\": \"y\"}, {\"alignmentgroup\": \"True\", \"bingroup\": \"x\", \"hoverlabel\": {\"namelength\": 0}, \"hovertemplate\": \"Brand of clothes=NIKE,Adidas,H&M,ZARA,LEVIS<br>Age=%{x}<br>count=%{y}\", \"legendgroup\": \"Brand of clothes=NIKE,Adidas,H&M,ZARA,LEVIS\", \"marker\": {\"color\": \"#FECB52\"}, \"name\": \"Brand of clothes=NIKE,Adidas,H&M,ZARA,LEVIS\", \"nbinsx\": 10, \"offsetgroup\": \"Brand of clothes=NIKE,Adidas,H&M,ZARA,LEVIS\", \"orientation\": \"v\", \"showlegend\": true, \"type\": \"histogram\", \"x\": [\"18-25\", \"25-35\", \"25-35\", \"18-25\"], \"xaxis\": \"x\", \"yaxis\": \"y\"}, {\"alignmentgroup\": \"True\", \"bingroup\": \"x\", \"hoverlabel\": {\"namelength\": 0}, \"hovertemplate\": \"Brand of clothes=ZARA<br>Age=%{x}<br>count=%{y}\", \"legendgroup\": \"Brand of clothes=ZARA\", \"marker\": {\"color\": \"#636efa\"}, \"name\": \"Brand of clothes=ZARA\", \"nbinsx\": 10, \"offsetgroup\": \"Brand of clothes=ZARA\", \"orientation\": \"v\", \"showlegend\": true, \"type\": \"histogram\", \"x\": [\"18-25\", \"25-35\", \"18-25\"], \"xaxis\": \"x\", \"yaxis\": \"y\"}, {\"alignmentgroup\": \"True\", \"bingroup\": \"x\", \"hoverlabel\": {\"namelength\": 0}, \"hovertemplate\": \"Brand of clothes=LEVIS<br>Age=%{x}<br>count=%{y}\", \"legendgroup\": \"Brand of clothes=LEVIS\", \"marker\": {\"color\": \"#EF553B\"}, \"name\": \"Brand of clothes=LEVIS\", \"nbinsx\": 10, \"offsetgroup\": \"Brand of clothes=LEVIS\", \"orientation\": \"v\", \"showlegend\": true, \"type\": \"histogram\", \"x\": [\"18-25\", \"18-25\"], \"xaxis\": \"x\", \"yaxis\": \"y\"}, {\"alignmentgroup\": \"True\", \"bingroup\": \"x\", \"hoverlabel\": {\"namelength\": 0}, \"hovertemplate\": \"Brand of clothes=Adidas<br>Age=%{x}<br>count=%{y}\", \"legendgroup\": \"Brand of clothes=Adidas\", \"marker\": {\"color\": \"#00cc96\"}, \"name\": \"Brand of clothes=Adidas\", \"nbinsx\": 10, \"offsetgroup\": \"Brand of clothes=Adidas\", \"orientation\": \"v\", \"showlegend\": true, \"type\": \"histogram\", \"x\": [\"18-25\", \"18-25\", \"18-25\", \"25-35\", \"25-35\", \"18-25\", \"18-25\", \"35-50\", \"18-25\", \"18-25\"], \"xaxis\": \"x\", \"yaxis\": \"y\"}, {\"alignmentgroup\": \"True\", \"bingroup\": \"x\", \"hoverlabel\": {\"namelength\": 0}, \"hovertemplate\": \"Brand of clothes=NIKE,GUCCI,Adidas,LEVIS<br>Age=%{x}<br>count=%{y}\", \"legendgroup\": \"Brand of clothes=NIKE,GUCCI,Adidas,LEVIS\", \"marker\": {\"color\": \"#ab63fa\"}, \"name\": \"Brand of clothes=NIKE,GUCCI,Adidas,LEVIS\", \"nbinsx\": 10, \"offsetgroup\": \"Brand of clothes=NIKE,GUCCI,Adidas,LEVIS\", \"orientation\": \"v\", \"showlegend\": true, \"type\": \"histogram\", \"x\": [\"18-25\", \"18-25\"], \"xaxis\": \"x\", \"yaxis\": \"y\"}, {\"alignmentgroup\": \"True\", \"bingroup\": \"x\", \"hoverlabel\": {\"namelength\": 0}, \"hovertemplate\": \"Brand of clothes=Don't know <br>Age=%{x}<br>count=%{y}\", \"legendgroup\": \"Brand of clothes=Don't know \", \"marker\": {\"color\": \"#FFA15A\"}, \"name\": \"Brand of clothes=Don't know \", \"nbinsx\": 10, \"offsetgroup\": \"Brand of clothes=Don't know \", \"orientation\": \"v\", \"showlegend\": true, \"type\": \"histogram\", \"x\": [\"18-25\"], \"xaxis\": \"x\", \"yaxis\": \"y\"}, {\"alignmentgroup\": \"True\", \"bingroup\": \"x\", \"hoverlabel\": {\"namelength\": 0}, \"hovertemplate\": \"Brand of clothes=ZARA,LEVIS<br>Age=%{x}<br>count=%{y}\", \"legendgroup\": \"Brand of clothes=ZARA,LEVIS\", \"marker\": {\"color\": \"#19d3f3\"}, \"name\": \"Brand of clothes=ZARA,LEVIS\", \"nbinsx\": 10, \"offsetgroup\": \"Brand of clothes=ZARA,LEVIS\", \"orientation\": \"v\", \"showlegend\": true, \"type\": \"histogram\", \"x\": [\"18-25\", \"25-35\", \"18-25\", \"18-25\"], \"xaxis\": \"x\", \"yaxis\": \"y\"}, {\"alignmentgroup\": \"True\", \"bingroup\": \"x\", \"hoverlabel\": {\"namelength\": 0}, \"hovertemplate\": \"Brand of clothes=Fasla<br>Age=%{x}<br>count=%{y}\", \"legendgroup\": \"Brand of clothes=Fasla\", \"marker\": {\"color\": \"#FF6692\"}, \"name\": \"Brand of clothes=Fasla\", \"nbinsx\": 10, \"offsetgroup\": \"Brand of clothes=Fasla\", \"orientation\": \"v\", \"showlegend\": true, \"type\": \"histogram\", \"x\": [\"18-25\"], \"xaxis\": \"x\", \"yaxis\": \"y\"}, {\"alignmentgroup\": \"True\", \"bingroup\": \"x\", \"hoverlabel\": {\"namelength\": 0}, \"hovertemplate\": \"Brand of clothes=NIKE,H&M,ZARA,LEVIS<br>Age=%{x}<br>count=%{y}\", \"legendgroup\": \"Brand of clothes=NIKE,H&M,ZARA,LEVIS\", \"marker\": {\"color\": \"#B6E880\"}, \"name\": \"Brand of clothes=NIKE,H&M,ZARA,LEVIS\", \"nbinsx\": 10, \"offsetgroup\": \"Brand of clothes=NIKE,H&M,ZARA,LEVIS\", \"orientation\": \"v\", \"showlegend\": true, \"type\": \"histogram\", \"x\": [\"18-25\", \"18-25\"], \"xaxis\": \"x\", \"yaxis\": \"y\"}, {\"alignmentgroup\": \"True\", \"bingroup\": \"x\", \"hoverlabel\": {\"namelength\": 0}, \"hovertemplate\": \"Brand of clothes=NIKE,GUCCI,Adidas,ZARA,LEVIS<br>Age=%{x}<br>count=%{y}\", \"legendgroup\": \"Brand of clothes=NIKE,GUCCI,Adidas,ZARA,LEVIS\", \"marker\": {\"color\": \"#FF97FF\"}, \"name\": \"Brand of clothes=NIKE,GUCCI,Adidas,ZARA,LEVIS\", \"nbinsx\": 10, \"offsetgroup\": \"Brand of clothes=NIKE,GUCCI,Adidas,ZARA,LEVIS\", \"orientation\": \"v\", \"showlegend\": true, \"type\": \"histogram\", \"x\": [\"35-50\"], \"xaxis\": \"x\", \"yaxis\": \"y\"}, {\"alignmentgroup\": \"True\", \"bingroup\": \"x\", \"hoverlabel\": {\"namelength\": 0}, \"hovertemplate\": \"Brand of clothes=Adidas,H&M,ZARA,LEVIS<br>Age=%{x}<br>count=%{y}\", \"legendgroup\": \"Brand of clothes=Adidas,H&M,ZARA,LEVIS\", \"marker\": {\"color\": \"#FECB52\"}, \"name\": \"Brand of clothes=Adidas,H&M,ZARA,LEVIS\", \"nbinsx\": 10, \"offsetgroup\": \"Brand of clothes=Adidas,H&M,ZARA,LEVIS\", \"orientation\": \"v\", \"showlegend\": true, \"type\": \"histogram\", \"x\": [\"18-25\", \"18-25\", \"25-35\", \"18-25\", \"18-25\"], \"xaxis\": \"x\", \"yaxis\": \"y\"}, {\"alignmentgroup\": \"True\", \"bingroup\": \"x\", \"hoverlabel\": {\"namelength\": 0}, \"hovertemplate\": \"Brand of clothes=Local shops<br>Age=%{x}<br>count=%{y}\", \"legendgroup\": \"Brand of clothes=Local shops\", \"marker\": {\"color\": \"#636efa\"}, \"name\": \"Brand of clothes=Local shops\", \"nbinsx\": 10, \"offsetgroup\": \"Brand of clothes=Local shops\", \"orientation\": \"v\", \"showlegend\": true, \"type\": \"histogram\", \"x\": [\"35-50\"], \"xaxis\": \"x\", \"yaxis\": \"y\"}, {\"alignmentgroup\": \"True\", \"bingroup\": \"x\", \"hoverlabel\": {\"namelength\": 0}, \"hovertemplate\": \"Brand of clothes=GUCCI,Adidas,ZARA<br>Age=%{x}<br>count=%{y}\", \"legendgroup\": \"Brand of clothes=GUCCI,Adidas,ZARA\", \"marker\": {\"color\": \"#EF553B\"}, \"name\": \"Brand of clothes=GUCCI,Adidas,ZARA\", \"nbinsx\": 10, \"offsetgroup\": \"Brand of clothes=GUCCI,Adidas,ZARA\", \"orientation\": \"v\", \"showlegend\": true, \"type\": \"histogram\", \"x\": [\"25-35\"], \"xaxis\": \"x\", \"yaxis\": \"y\"}, {\"alignmentgroup\": \"True\", \"bingroup\": \"x\", \"hoverlabel\": {\"namelength\": 0}, \"hovertemplate\": \"Brand of clothes=NIKE,ZARA<br>Age=%{x}<br>count=%{y}\", \"legendgroup\": \"Brand of clothes=NIKE,ZARA\", \"marker\": {\"color\": \"#00cc96\"}, \"name\": \"Brand of clothes=NIKE,ZARA\", \"nbinsx\": 10, \"offsetgroup\": \"Brand of clothes=NIKE,ZARA\", \"orientation\": \"v\", \"showlegend\": true, \"type\": \"histogram\", \"x\": [\"18-25\"], \"xaxis\": \"x\", \"yaxis\": \"y\"}, {\"alignmentgroup\": \"True\", \"bingroup\": \"x\", \"hoverlabel\": {\"namelength\": 0}, \"hovertemplate\": \"Brand of clothes=GUCCI,Adidas,H&M,ZARA<br>Age=%{x}<br>count=%{y}\", \"legendgroup\": \"Brand of clothes=GUCCI,Adidas,H&M,ZARA\", \"marker\": {\"color\": \"#ab63fa\"}, \"name\": \"Brand of clothes=GUCCI,Adidas,H&M,ZARA\", \"nbinsx\": 10, \"offsetgroup\": \"Brand of clothes=GUCCI,Adidas,H&M,ZARA\", \"orientation\": \"v\", \"showlegend\": true, \"type\": \"histogram\", \"x\": [\"25-35\"], \"xaxis\": \"x\", \"yaxis\": \"y\"}, {\"alignmentgroup\": \"True\", \"bingroup\": \"x\", \"hoverlabel\": {\"namelength\": 0}, \"hovertemplate\": \"Brand of clothes=NIKE,Adidas,LEVIS<br>Age=%{x}<br>count=%{y}\", \"legendgroup\": \"Brand of clothes=NIKE,Adidas,LEVIS\", \"marker\": {\"color\": \"#FFA15A\"}, \"name\": \"Brand of clothes=NIKE,Adidas,LEVIS\", \"nbinsx\": 10, \"offsetgroup\": \"Brand of clothes=NIKE,Adidas,LEVIS\", \"orientation\": \"v\", \"showlegend\": true, \"type\": \"histogram\", \"x\": [\"18-25\", \"18-25\", \"18-25\", \"18-25\", \"35-50\", \"18-25\"], \"xaxis\": \"x\", \"yaxis\": \"y\"}, {\"alignmentgroup\": \"True\", \"bingroup\": \"x\", \"hoverlabel\": {\"namelength\": 0}, \"hovertemplate\": \"Brand of clothes=NIKE,GUCCI,Adidas<br>Age=%{x}<br>count=%{y}\", \"legendgroup\": \"Brand of clothes=NIKE,GUCCI,Adidas\", \"marker\": {\"color\": \"#19d3f3\"}, \"name\": \"Brand of clothes=NIKE,GUCCI,Adidas\", \"nbinsx\": 10, \"offsetgroup\": \"Brand of clothes=NIKE,GUCCI,Adidas\", \"orientation\": \"v\", \"showlegend\": true, \"type\": \"histogram\", \"x\": [\"18-25\", \"35-50\", \"35-50\", \"18-25\", \"18-25\"], \"xaxis\": \"x\", \"yaxis\": \"y\"}, {\"alignmentgroup\": \"True\", \"bingroup\": \"x\", \"hoverlabel\": {\"namelength\": 0}, \"hovertemplate\": \"Brand of clothes=NIKE,Adidas,H&M,LEVIS<br>Age=%{x}<br>count=%{y}\", \"legendgroup\": \"Brand of clothes=NIKE,Adidas,H&M,LEVIS\", \"marker\": {\"color\": \"#FF6692\"}, \"name\": \"Brand of clothes=NIKE,Adidas,H&M,LEVIS\", \"nbinsx\": 10, \"offsetgroup\": \"Brand of clothes=NIKE,Adidas,H&M,LEVIS\", \"orientation\": \"v\", \"showlegend\": true, \"type\": \"histogram\", \"x\": [\"35-50\", \"25-35\", \"18-25\", \"18-25\", \"18-25\", \"18-25\", \"18-25\", \"18-25\", \"18-25\"], \"xaxis\": \"x\", \"yaxis\": \"y\"}, {\"alignmentgroup\": \"True\", \"bingroup\": \"x\", \"hoverlabel\": {\"namelength\": 0}, \"hovertemplate\": \"Brand of clothes=NIKE,GUCCI,H&M,ZARA<br>Age=%{x}<br>count=%{y}\", \"legendgroup\": \"Brand of clothes=NIKE,GUCCI,H&M,ZARA\", \"marker\": {\"color\": \"#B6E880\"}, \"name\": \"Brand of clothes=NIKE,GUCCI,H&M,ZARA\", \"nbinsx\": 10, \"offsetgroup\": \"Brand of clothes=NIKE,GUCCI,H&M,ZARA\", \"orientation\": \"v\", \"showlegend\": true, \"type\": \"histogram\", \"x\": [\"25-35\"], \"xaxis\": \"x\", \"yaxis\": \"y\"}, {\"alignmentgroup\": \"True\", \"bingroup\": \"x\", \"hoverlabel\": {\"namelength\": 0}, \"hovertemplate\": \"Brand of clothes=NIKE,LEVIS<br>Age=%{x}<br>count=%{y}\", \"legendgroup\": \"Brand of clothes=NIKE,LEVIS\", \"marker\": {\"color\": \"#FF97FF\"}, \"name\": \"Brand of clothes=NIKE,LEVIS\", \"nbinsx\": 10, \"offsetgroup\": \"Brand of clothes=NIKE,LEVIS\", \"orientation\": \"v\", \"showlegend\": true, \"type\": \"histogram\", \"x\": [\"25-35\"], \"xaxis\": \"x\", \"yaxis\": \"y\"}, {\"alignmentgroup\": \"True\", \"bingroup\": \"x\", \"hoverlabel\": {\"namelength\": 0}, \"hovertemplate\": \"Brand of clothes=GUCCI,Adidas<br>Age=%{x}<br>count=%{y}\", \"legendgroup\": \"Brand of clothes=GUCCI,Adidas\", \"marker\": {\"color\": \"#FECB52\"}, \"name\": \"Brand of clothes=GUCCI,Adidas\", \"nbinsx\": 10, \"offsetgroup\": \"Brand of clothes=GUCCI,Adidas\", \"orientation\": \"v\", \"showlegend\": true, \"type\": \"histogram\", \"x\": [\"18-25\"], \"xaxis\": \"x\", \"yaxis\": \"y\"}, {\"alignmentgroup\": \"True\", \"bingroup\": \"x\", \"hoverlabel\": {\"namelength\": 0}, \"hovertemplate\": \"Brand of clothes=Adidas,H&M<br>Age=%{x}<br>count=%{y}\", \"legendgroup\": \"Brand of clothes=Adidas,H&M\", \"marker\": {\"color\": \"#636efa\"}, \"name\": \"Brand of clothes=Adidas,H&M\", \"nbinsx\": 10, \"offsetgroup\": \"Brand of clothes=Adidas,H&M\", \"orientation\": \"v\", \"showlegend\": true, \"type\": \"histogram\", \"x\": [\"18-25\", \"18-25\", \"18-25\", \"18-25\", \"18-25\", \"18-25\", \"18-25\", \"18-25\", \"18-25\", \"18-25\", \"18-25\", \"18-25\", \"18-25\", \"18-25\", \"18-25\", \"18-25\", \"18-25\", \"18-25\", \"18-25\", \"18-25\", \"18-25\", \"18-25\", \"18-25\"], \"xaxis\": \"x\", \"yaxis\": \"y\"}, {\"alignmentgroup\": \"True\", \"bingroup\": \"x\", \"hoverlabel\": {\"namelength\": 0}, \"hovertemplate\": \"Brand of clothes=NIKE,H&M<br>Age=%{x}<br>count=%{y}\", \"legendgroup\": \"Brand of clothes=NIKE,H&M\", \"marker\": {\"color\": \"#EF553B\"}, \"name\": \"Brand of clothes=NIKE,H&M\", \"nbinsx\": 10, \"offsetgroup\": \"Brand of clothes=NIKE,H&M\", \"orientation\": \"v\", \"showlegend\": true, \"type\": \"histogram\", \"x\": [\"18-25\"], \"xaxis\": \"x\", \"yaxis\": \"y\"}, {\"alignmentgroup\": \"True\", \"bingroup\": \"x\", \"hoverlabel\": {\"namelength\": 0}, \"hovertemplate\": \"Brand of clothes=Adidas,H&M,LEVIS<br>Age=%{x}<br>count=%{y}\", \"legendgroup\": \"Brand of clothes=Adidas,H&M,LEVIS\", \"marker\": {\"color\": \"#00cc96\"}, \"name\": \"Brand of clothes=Adidas,H&M,LEVIS\", \"nbinsx\": 10, \"offsetgroup\": \"Brand of clothes=Adidas,H&M,LEVIS\", \"orientation\": \"v\", \"showlegend\": true, \"type\": \"histogram\", \"x\": [\"18-25\"], \"xaxis\": \"x\", \"yaxis\": \"y\"}, {\"alignmentgroup\": \"True\", \"bingroup\": \"x\", \"hoverlabel\": {\"namelength\": 0}, \"hovertemplate\": \"Brand of clothes=NIKE,Adidas,ZARA<br>Age=%{x}<br>count=%{y}\", \"legendgroup\": \"Brand of clothes=NIKE,Adidas,ZARA\", \"marker\": {\"color\": \"#ab63fa\"}, \"name\": \"Brand of clothes=NIKE,Adidas,ZARA\", \"nbinsx\": 10, \"offsetgroup\": \"Brand of clothes=NIKE,Adidas,ZARA\", \"orientation\": \"v\", \"showlegend\": true, \"type\": \"histogram\", \"x\": [\"18-25\"], \"xaxis\": \"x\", \"yaxis\": \"y\"}, {\"alignmentgroup\": \"True\", \"bingroup\": \"x\", \"hoverlabel\": {\"namelength\": 0}, \"hovertemplate\": \"Brand of clothes=H&M,LEVIS<br>Age=%{x}<br>count=%{y}\", \"legendgroup\": \"Brand of clothes=H&M,LEVIS\", \"marker\": {\"color\": \"#FFA15A\"}, \"name\": \"Brand of clothes=H&M,LEVIS\", \"nbinsx\": 10, \"offsetgroup\": \"Brand of clothes=H&M,LEVIS\", \"orientation\": \"v\", \"showlegend\": true, \"type\": \"histogram\", \"x\": [\"18-25\"], \"xaxis\": \"x\", \"yaxis\": \"y\"}, {\"alignmentgroup\": \"True\", \"bingroup\": \"x\", \"hoverlabel\": {\"namelength\": 0}, \"hovertemplate\": \"Brand of clothes=NIKE,GUCCI,Adidas,H&M,LEVIS<br>Age=%{x}<br>count=%{y}\", \"legendgroup\": \"Brand of clothes=NIKE,GUCCI,Adidas,H&M,LEVIS\", \"marker\": {\"color\": \"#19d3f3\"}, \"name\": \"Brand of clothes=NIKE,GUCCI,Adidas,H&M,LEVIS\", \"nbinsx\": 10, \"offsetgroup\": \"Brand of clothes=NIKE,GUCCI,Adidas,H&M,LEVIS\", \"orientation\": \"v\", \"showlegend\": true, \"type\": \"histogram\", \"x\": [\"18-25\"], \"xaxis\": \"x\", \"yaxis\": \"y\"}, {\"alignmentgroup\": \"True\", \"bingroup\": \"x\", \"hoverlabel\": {\"namelength\": 0}, \"hovertemplate\": \"Brand of clothes=H&M,ZARA,LEVIS<br>Age=%{x}<br>count=%{y}\", \"legendgroup\": \"Brand of clothes=H&M,ZARA,LEVIS\", \"marker\": {\"color\": \"#FF6692\"}, \"name\": \"Brand of clothes=H&M,ZARA,LEVIS\", \"nbinsx\": 10, \"offsetgroup\": \"Brand of clothes=H&M,ZARA,LEVIS\", \"orientation\": \"v\", \"showlegend\": true, \"type\": \"histogram\", \"x\": [\"18-25\", \"18-25\", \"18-25\", \"18-25\", \"18-25\", \"18-25\", \"25-35\"], \"xaxis\": \"x\", \"yaxis\": \"y\"}, {\"alignmentgroup\": \"True\", \"bingroup\": \"x\", \"hoverlabel\": {\"namelength\": 0}, \"hovertemplate\": \"Brand of clothes=GUCCI,ZARA,LEVIS<br>Age=%{x}<br>count=%{y}\", \"legendgroup\": \"Brand of clothes=GUCCI,ZARA,LEVIS\", \"marker\": {\"color\": \"#B6E880\"}, \"name\": \"Brand of clothes=GUCCI,ZARA,LEVIS\", \"nbinsx\": 10, \"offsetgroup\": \"Brand of clothes=GUCCI,ZARA,LEVIS\", \"orientation\": \"v\", \"showlegend\": true, \"type\": \"histogram\", \"x\": [\"18-25\", \"18-25\", \"18-25\", \"18-25\", \"25-35\"], \"xaxis\": \"x\", \"yaxis\": \"y\"}, {\"alignmentgroup\": \"True\", \"bingroup\": \"x\", \"hoverlabel\": {\"namelength\": 0}, \"hovertemplate\": \"Brand of clothes=GUCCI,Adidas,H&M,ZARA,LEVIS<br>Age=%{x}<br>count=%{y}\", \"legendgroup\": \"Brand of clothes=GUCCI,Adidas,H&M,ZARA,LEVIS\", \"marker\": {\"color\": \"#FF97FF\"}, \"name\": \"Brand of clothes=GUCCI,Adidas,H&M,ZARA,LEVIS\", \"nbinsx\": 10, \"offsetgroup\": \"Brand of clothes=GUCCI,Adidas,H&M,ZARA,LEVIS\", \"orientation\": \"v\", \"showlegend\": true, \"type\": \"histogram\", \"x\": [\"18-25\"], \"xaxis\": \"x\", \"yaxis\": \"y\"}, {\"alignmentgroup\": \"True\", \"bingroup\": \"x\", \"hoverlabel\": {\"namelength\": 0}, \"hovertemplate\": \"Brand of clothes=GUCCI,H&M,ZARA,LEVIS<br>Age=%{x}<br>count=%{y}\", \"legendgroup\": \"Brand of clothes=GUCCI,H&M,ZARA,LEVIS\", \"marker\": {\"color\": \"#FECB52\"}, \"name\": \"Brand of clothes=GUCCI,H&M,ZARA,LEVIS\", \"nbinsx\": 10, \"offsetgroup\": \"Brand of clothes=GUCCI,H&M,ZARA,LEVIS\", \"orientation\": \"v\", \"showlegend\": true, \"type\": \"histogram\", \"x\": [\"18-25\", \"25-35\"], \"xaxis\": \"x\", \"yaxis\": \"y\"}, {\"alignmentgroup\": \"True\", \"bingroup\": \"x\", \"hoverlabel\": {\"namelength\": 0}, \"hovertemplate\": \"Brand of clothes=NIKE,GUCCI,Adidas,H&M<br>Age=%{x}<br>count=%{y}\", \"legendgroup\": \"Brand of clothes=NIKE,GUCCI,Adidas,H&M\", \"marker\": {\"color\": \"#636efa\"}, \"name\": \"Brand of clothes=NIKE,GUCCI,Adidas,H&M\", \"nbinsx\": 10, \"offsetgroup\": \"Brand of clothes=NIKE,GUCCI,Adidas,H&M\", \"orientation\": \"v\", \"showlegend\": true, \"type\": \"histogram\", \"x\": [\"18-25\", \"18-25\"], \"xaxis\": \"x\", \"yaxis\": \"y\"}, {\"alignmentgroup\": \"True\", \"bingroup\": \"x\", \"hoverlabel\": {\"namelength\": 0}, \"hovertemplate\": \"Brand of clothes=NIKE,GUCCI<br>Age=%{x}<br>count=%{y}\", \"legendgroup\": \"Brand of clothes=NIKE,GUCCI\", \"marker\": {\"color\": \"#EF553B\"}, \"name\": \"Brand of clothes=NIKE,GUCCI\", \"nbinsx\": 10, \"offsetgroup\": \"Brand of clothes=NIKE,GUCCI\", \"orientation\": \"v\", \"showlegend\": true, \"type\": \"histogram\", \"x\": [\"18-25\"], \"xaxis\": \"x\", \"yaxis\": \"y\"}, {\"alignmentgroup\": \"True\", \"bingroup\": \"x\", \"hoverlabel\": {\"namelength\": 0}, \"hovertemplate\": \"Brand of clothes=Adidas,H&M,ZARA<br>Age=%{x}<br>count=%{y}\", \"legendgroup\": \"Brand of clothes=Adidas,H&M,ZARA\", \"marker\": {\"color\": \"#00cc96\"}, \"name\": \"Brand of clothes=Adidas,H&M,ZARA\", \"nbinsx\": 10, \"offsetgroup\": \"Brand of clothes=Adidas,H&M,ZARA\", \"orientation\": \"v\", \"showlegend\": true, \"type\": \"histogram\", \"x\": [\"18-25\", \"18-25\", \"18-25\", \"18-25\"], \"xaxis\": \"x\", \"yaxis\": \"y\"}, {\"alignmentgroup\": \"True\", \"bingroup\": \"x\", \"hoverlabel\": {\"namelength\": 0}, \"hovertemplate\": \"Brand of clothes=NIKE,GUCCI,H&M,ZARA,LEVIS<br>Age=%{x}<br>count=%{y}\", \"legendgroup\": \"Brand of clothes=NIKE,GUCCI,H&M,ZARA,LEVIS\", \"marker\": {\"color\": \"#ab63fa\"}, \"name\": \"Brand of clothes=NIKE,GUCCI,H&M,ZARA,LEVIS\", \"nbinsx\": 10, \"offsetgroup\": \"Brand of clothes=NIKE,GUCCI,H&M,ZARA,LEVIS\", \"orientation\": \"v\", \"showlegend\": true, \"type\": \"histogram\", \"x\": [\"18-25\"], \"xaxis\": \"x\", \"yaxis\": \"y\"}, {\"alignmentgroup\": \"True\", \"bingroup\": \"x\", \"hoverlabel\": {\"namelength\": 0}, \"hovertemplate\": \"Brand of clothes=H&M,ZARA<br>Age=%{x}<br>count=%{y}\", \"legendgroup\": \"Brand of clothes=H&M,ZARA\", \"marker\": {\"color\": \"#FFA15A\"}, \"name\": \"Brand of clothes=H&M,ZARA\", \"nbinsx\": 10, \"offsetgroup\": \"Brand of clothes=H&M,ZARA\", \"orientation\": \"v\", \"showlegend\": true, \"type\": \"histogram\", \"x\": [\"35-50\"], \"xaxis\": \"x\", \"yaxis\": \"y\"}],\n",
              "                        {\"barmode\": \"relative\", \"legend\": {\"tracegroupgap\": 0}, \"margin\": {\"t\": 60}, \"template\": {\"data\": {\"bar\": [{\"error_x\": {\"color\": \"#2a3f5f\"}, \"error_y\": {\"color\": \"#2a3f5f\"}, \"marker\": {\"line\": {\"color\": \"#E5ECF6\", \"width\": 0.5}}, \"type\": \"bar\"}], \"barpolar\": [{\"marker\": {\"line\": {\"color\": \"#E5ECF6\", \"width\": 0.5}}, \"type\": \"barpolar\"}], \"carpet\": [{\"aaxis\": {\"endlinecolor\": \"#2a3f5f\", \"gridcolor\": \"white\", \"linecolor\": \"white\", \"minorgridcolor\": \"white\", \"startlinecolor\": \"#2a3f5f\"}, \"baxis\": {\"endlinecolor\": \"#2a3f5f\", \"gridcolor\": \"white\", \"linecolor\": \"white\", \"minorgridcolor\": \"white\", \"startlinecolor\": \"#2a3f5f\"}, \"type\": \"carpet\"}], \"choropleth\": [{\"colorbar\": {\"outlinewidth\": 0, \"ticks\": \"\"}, \"type\": \"choropleth\"}], \"contour\": [{\"colorbar\": {\"outlinewidth\": 0, \"ticks\": \"\"}, \"colorscale\": [[0.0, \"#0d0887\"], [0.1111111111111111, \"#46039f\"], [0.2222222222222222, \"#7201a8\"], [0.3333333333333333, \"#9c179e\"], [0.4444444444444444, \"#bd3786\"], [0.5555555555555556, \"#d8576b\"], [0.6666666666666666, \"#ed7953\"], [0.7777777777777778, \"#fb9f3a\"], [0.8888888888888888, \"#fdca26\"], [1.0, \"#f0f921\"]], \"type\": \"contour\"}], \"contourcarpet\": [{\"colorbar\": {\"outlinewidth\": 0, \"ticks\": \"\"}, \"type\": \"contourcarpet\"}], \"heatmap\": [{\"colorbar\": {\"outlinewidth\": 0, \"ticks\": \"\"}, \"colorscale\": [[0.0, \"#0d0887\"], [0.1111111111111111, \"#46039f\"], [0.2222222222222222, \"#7201a8\"], [0.3333333333333333, \"#9c179e\"], [0.4444444444444444, \"#bd3786\"], [0.5555555555555556, \"#d8576b\"], [0.6666666666666666, \"#ed7953\"], [0.7777777777777778, \"#fb9f3a\"], [0.8888888888888888, \"#fdca26\"], [1.0, \"#f0f921\"]], \"type\": \"heatmap\"}], \"heatmapgl\": [{\"colorbar\": {\"outlinewidth\": 0, \"ticks\": \"\"}, \"colorscale\": [[0.0, \"#0d0887\"], [0.1111111111111111, \"#46039f\"], [0.2222222222222222, \"#7201a8\"], [0.3333333333333333, \"#9c179e\"], [0.4444444444444444, \"#bd3786\"], [0.5555555555555556, \"#d8576b\"], [0.6666666666666666, \"#ed7953\"], [0.7777777777777778, \"#fb9f3a\"], [0.8888888888888888, \"#fdca26\"], [1.0, \"#f0f921\"]], \"type\": \"heatmapgl\"}], \"histogram\": [{\"marker\": {\"colorbar\": {\"outlinewidth\": 0, \"ticks\": \"\"}}, \"type\": \"histogram\"}], \"histogram2d\": [{\"colorbar\": {\"outlinewidth\": 0, \"ticks\": \"\"}, \"colorscale\": [[0.0, \"#0d0887\"], [0.1111111111111111, \"#46039f\"], [0.2222222222222222, \"#7201a8\"], [0.3333333333333333, \"#9c179e\"], [0.4444444444444444, \"#bd3786\"], [0.5555555555555556, \"#d8576b\"], [0.6666666666666666, \"#ed7953\"], [0.7777777777777778, \"#fb9f3a\"], [0.8888888888888888, \"#fdca26\"], [1.0, \"#f0f921\"]], \"type\": \"histogram2d\"}], \"histogram2dcontour\": [{\"colorbar\": {\"outlinewidth\": 0, \"ticks\": \"\"}, \"colorscale\": [[0.0, \"#0d0887\"], [0.1111111111111111, \"#46039f\"], [0.2222222222222222, \"#7201a8\"], [0.3333333333333333, \"#9c179e\"], [0.4444444444444444, \"#bd3786\"], [0.5555555555555556, \"#d8576b\"], [0.6666666666666666, \"#ed7953\"], [0.7777777777777778, \"#fb9f3a\"], [0.8888888888888888, \"#fdca26\"], [1.0, \"#f0f921\"]], \"type\": \"histogram2dcontour\"}], \"mesh3d\": [{\"colorbar\": {\"outlinewidth\": 0, \"ticks\": \"\"}, \"type\": \"mesh3d\"}], \"parcoords\": [{\"line\": {\"colorbar\": {\"outlinewidth\": 0, \"ticks\": \"\"}}, \"type\": \"parcoords\"}], \"pie\": [{\"automargin\": true, \"type\": \"pie\"}], \"scatter\": [{\"marker\": {\"colorbar\": {\"outlinewidth\": 0, \"ticks\": \"\"}}, \"type\": \"scatter\"}], \"scatter3d\": [{\"line\": {\"colorbar\": {\"outlinewidth\": 0, \"ticks\": \"\"}}, \"marker\": {\"colorbar\": {\"outlinewidth\": 0, \"ticks\": \"\"}}, \"type\": \"scatter3d\"}], \"scattercarpet\": [{\"marker\": {\"colorbar\": {\"outlinewidth\": 0, \"ticks\": \"\"}}, \"type\": \"scattercarpet\"}], \"scattergeo\": [{\"marker\": {\"colorbar\": {\"outlinewidth\": 0, \"ticks\": \"\"}}, \"type\": \"scattergeo\"}], \"scattergl\": [{\"marker\": {\"colorbar\": {\"outlinewidth\": 0, \"ticks\": \"\"}}, \"type\": \"scattergl\"}], \"scattermapbox\": [{\"marker\": {\"colorbar\": {\"outlinewidth\": 0, \"ticks\": \"\"}}, \"type\": \"scattermapbox\"}], \"scatterpolar\": [{\"marker\": {\"colorbar\": {\"outlinewidth\": 0, \"ticks\": \"\"}}, \"type\": \"scatterpolar\"}], \"scatterpolargl\": [{\"marker\": {\"colorbar\": {\"outlinewidth\": 0, \"ticks\": \"\"}}, \"type\": \"scatterpolargl\"}], \"scatterternary\": [{\"marker\": {\"colorbar\": {\"outlinewidth\": 0, \"ticks\": \"\"}}, \"type\": \"scatterternary\"}], \"surface\": [{\"colorbar\": {\"outlinewidth\": 0, \"ticks\": \"\"}, \"colorscale\": [[0.0, \"#0d0887\"], [0.1111111111111111, \"#46039f\"], [0.2222222222222222, \"#7201a8\"], [0.3333333333333333, \"#9c179e\"], [0.4444444444444444, \"#bd3786\"], [0.5555555555555556, \"#d8576b\"], [0.6666666666666666, \"#ed7953\"], [0.7777777777777778, \"#fb9f3a\"], [0.8888888888888888, \"#fdca26\"], [1.0, \"#f0f921\"]], \"type\": \"surface\"}], \"table\": [{\"cells\": {\"fill\": {\"color\": \"#EBF0F8\"}, \"line\": {\"color\": \"white\"}}, \"header\": {\"fill\": {\"color\": \"#C8D4E3\"}, \"line\": {\"color\": \"white\"}}, \"type\": \"table\"}]}, \"layout\": {\"annotationdefaults\": {\"arrowcolor\": \"#2a3f5f\", \"arrowhead\": 0, \"arrowwidth\": 1}, \"coloraxis\": {\"colorbar\": {\"outlinewidth\": 0, \"ticks\": \"\"}}, \"colorscale\": {\"diverging\": [[0, \"#8e0152\"], [0.1, \"#c51b7d\"], [0.2, \"#de77ae\"], [0.3, \"#f1b6da\"], [0.4, \"#fde0ef\"], [0.5, \"#f7f7f7\"], [0.6, \"#e6f5d0\"], [0.7, \"#b8e186\"], [0.8, \"#7fbc41\"], [0.9, \"#4d9221\"], [1, \"#276419\"]], \"sequential\": [[0.0, \"#0d0887\"], [0.1111111111111111, \"#46039f\"], [0.2222222222222222, \"#7201a8\"], [0.3333333333333333, \"#9c179e\"], [0.4444444444444444, \"#bd3786\"], [0.5555555555555556, \"#d8576b\"], [0.6666666666666666, \"#ed7953\"], [0.7777777777777778, \"#fb9f3a\"], [0.8888888888888888, \"#fdca26\"], [1.0, \"#f0f921\"]], \"sequentialminus\": [[0.0, \"#0d0887\"], [0.1111111111111111, \"#46039f\"], [0.2222222222222222, \"#7201a8\"], [0.3333333333333333, \"#9c179e\"], [0.4444444444444444, \"#bd3786\"], [0.5555555555555556, \"#d8576b\"], [0.6666666666666666, \"#ed7953\"], [0.7777777777777778, \"#fb9f3a\"], [0.8888888888888888, \"#fdca26\"], [1.0, \"#f0f921\"]]}, \"colorway\": [\"#636efa\", \"#EF553B\", \"#00cc96\", \"#ab63fa\", \"#FFA15A\", \"#19d3f3\", \"#FF6692\", \"#B6E880\", \"#FF97FF\", \"#FECB52\"], \"font\": {\"color\": \"#2a3f5f\"}, \"geo\": {\"bgcolor\": \"white\", \"lakecolor\": \"white\", \"landcolor\": \"#E5ECF6\", \"showlakes\": true, \"showland\": true, \"subunitcolor\": \"white\"}, \"hoverlabel\": {\"align\": \"left\"}, \"hovermode\": \"closest\", \"mapbox\": {\"style\": \"light\"}, \"paper_bgcolor\": \"white\", \"plot_bgcolor\": \"#E5ECF6\", \"polar\": {\"angularaxis\": {\"gridcolor\": \"white\", \"linecolor\": \"white\", \"ticks\": \"\"}, \"bgcolor\": \"#E5ECF6\", \"radialaxis\": {\"gridcolor\": \"white\", \"linecolor\": \"white\", \"ticks\": \"\"}}, \"scene\": {\"xaxis\": {\"backgroundcolor\": \"#E5ECF6\", \"gridcolor\": \"white\", \"gridwidth\": 2, \"linecolor\": \"white\", \"showbackground\": true, \"ticks\": \"\", \"zerolinecolor\": \"white\"}, \"yaxis\": {\"backgroundcolor\": \"#E5ECF6\", \"gridcolor\": \"white\", \"gridwidth\": 2, \"linecolor\": \"white\", \"showbackground\": true, \"ticks\": \"\", \"zerolinecolor\": \"white\"}, \"zaxis\": {\"backgroundcolor\": \"#E5ECF6\", \"gridcolor\": \"white\", \"gridwidth\": 2, \"linecolor\": \"white\", \"showbackground\": true, \"ticks\": \"\", \"zerolinecolor\": \"white\"}}, \"shapedefaults\": {\"line\": {\"color\": \"#2a3f5f\"}}, \"ternary\": {\"aaxis\": {\"gridcolor\": \"white\", \"linecolor\": \"white\", \"ticks\": \"\"}, \"baxis\": {\"gridcolor\": \"white\", \"linecolor\": \"white\", \"ticks\": \"\"}, \"bgcolor\": \"#E5ECF6\", \"caxis\": {\"gridcolor\": \"white\", \"linecolor\": \"white\", \"ticks\": \"\"}}, \"title\": {\"x\": 0.05}, \"xaxis\": {\"automargin\": true, \"gridcolor\": \"white\", \"linecolor\": \"white\", \"ticks\": \"\", \"title\": {\"standoff\": 15}, \"zerolinecolor\": \"white\", \"zerolinewidth\": 2}, \"yaxis\": {\"automargin\": true, \"gridcolor\": \"white\", \"linecolor\": \"white\", \"ticks\": \"\", \"title\": {\"standoff\": 15}, \"zerolinecolor\": \"white\", \"zerolinewidth\": 2}}}, \"xaxis\": {\"anchor\": \"y\", \"domain\": [0.0, 1.0], \"title\": {\"text\": \"Age\"}}, \"yaxis\": {\"anchor\": \"x\", \"domain\": [0.0, 1.0], \"title\": {\"text\": \"count\"}}},\n",
              "                        {\"responsive\": true}\n",
              "                    ).then(function(){\n",
              "                            \n",
              "var gd = document.getElementById('4ddf119a-cd09-4ba5-a4fa-3eed149ad2a2');\n",
              "var x = new MutationObserver(function (mutations, observer) {{\n",
              "        var display = window.getComputedStyle(gd).display;\n",
              "        if (!display || display === 'none') {{\n",
              "            console.log([gd, 'removed!']);\n",
              "            Plotly.purge(gd);\n",
              "            observer.disconnect();\n",
              "        }}\n",
              "}});\n",
              "\n",
              "// Listen for the removal of the full notebook cells\n",
              "var notebookContainer = gd.closest('#notebook-container');\n",
              "if (notebookContainer) {{\n",
              "    x.observe(notebookContainer, {childList: true});\n",
              "}}\n",
              "\n",
              "// Listen for the clearing of the current output cell\n",
              "var outputEl = gd.closest('.output');\n",
              "if (outputEl) {{\n",
              "    x.observe(outputEl, {childList: true});\n",
              "}}\n",
              "\n",
              "                        })\n",
              "                };\n",
              "                \n",
              "            </script>\n",
              "        </div>\n",
              "</body>\n",
              "</html>"
            ]
          },
          "metadata": {
            "tags": []
          }
        }
      ]
    },
    {
      "cell_type": "code",
      "metadata": {
        "colab": {
          "base_uri": "https://localhost:8080/",
          "height": 542
        },
        "id": "IJX8CiyEHUzb",
        "outputId": "a027a18e-9c68-4760-f966-346a8148302c"
      },
      "source": [
        "px.histogram(Dataset, x='Brand of clothes', color='Age', nbins=10)"
      ],
      "execution_count": 23,
      "outputs": [
        {
          "output_type": "display_data",
          "data": {
            "text/html": [
              "<html>\n",
              "<head><meta charset=\"utf-8\" /></head>\n",
              "<body>\n",
              "    <div>\n",
              "            <script src=\"https://cdnjs.cloudflare.com/ajax/libs/mathjax/2.7.5/MathJax.js?config=TeX-AMS-MML_SVG\"></script><script type=\"text/javascript\">if (window.MathJax) {MathJax.Hub.Config({SVG: {font: \"STIX-Web\"}});}</script>\n",
              "                <script type=\"text/javascript\">window.PlotlyConfig = {MathJaxConfig: 'local'};</script>\n",
              "        <script src=\"https://cdn.plot.ly/plotly-latest.min.js\"></script>    \n",
              "            <div id=\"720f6d13-a973-4d26-9da6-6b714dad02fb\" class=\"plotly-graph-div\" style=\"height:525px; width:100%;\"></div>\n",
              "            <script type=\"text/javascript\">\n",
              "                \n",
              "                    window.PLOTLYENV=window.PLOTLYENV || {};\n",
              "                    \n",
              "                if (document.getElementById(\"720f6d13-a973-4d26-9da6-6b714dad02fb\")) {\n",
              "                    Plotly.newPlot(\n",
              "                        '720f6d13-a973-4d26-9da6-6b714dad02fb',\n",
              "                        [{\"alignmentgroup\": \"True\", \"bingroup\": \"x\", \"hoverlabel\": {\"namelength\": 0}, \"hovertemplate\": \"Age=18-25<br>Brand of clothes=%{x}<br>count=%{y}\", \"legendgroup\": \"Age=18-25\", \"marker\": {\"color\": \"#636efa\"}, \"name\": \"Age=18-25\", \"nbinsx\": 10, \"offsetgroup\": \"Age=18-25\", \"orientation\": \"v\", \"showlegend\": true, \"type\": \"histogram\", \"x\": [\"NIKE,Adidas\", \"NIKE,Adidas,H&M\", \"NIKE,Adidas,H&M,ZARA\", \"NIKE\", \"Meesho\", \"H&M\", \"NIKE\", \"Adidas,LEVIS\", \"NIKE,Adidas,ZARA,LEVIS\", \"NIKE,Adidas,H&M,ZARA,LEVIS\", \"ZARA\", \"NIKE\", \"LEVIS\", \"Adidas\", \"NIKE,GUCCI,Adidas,LEVIS\", \"Don't know \", \"NIKE,Adidas\", \"ZARA,LEVIS\", \"Fasla\", \"Adidas\", \"NIKE,H&M,ZARA,LEVIS\", \"NIKE,H&M,ZARA,LEVIS\", \"NIKE,Adidas\", \"NIKE,Adidas\", \"Adidas,H&M,ZARA,LEVIS\", \"NIKE,ZARA\", \"NIKE,Adidas,LEVIS\", \"NIKE\", \"NIKE,Adidas\", \"NIKE,Adidas\", \"NIKE,Adidas\", \"NIKE,Adidas,LEVIS\", \"NIKE,Adidas,LEVIS\", \"NIKE,Adidas\", \"NIKE,Adidas,LEVIS\", \"NIKE,GUCCI,Adidas\", \"NIKE,Adidas\", \"NIKE,Adidas\", \"NIKE,Adidas\", \"NIKE,Adidas\", \"NIKE,Adidas\", \"NIKE,Adidas\", \"NIKE,GUCCI,Adidas,LEVIS\", \"NIKE,Adidas\", \"Adidas\", \"NIKE\", \"NIKE,Adidas\", \"NIKE,Adidas\", \"NIKE,Adidas\", \"NIKE,Adidas\", \"NIKE,Adidas\", \"NIKE,Adidas\", \"NIKE,Adidas\", \"NIKE,Adidas\", \"NIKE,Adidas\", \"NIKE,Adidas\", \"NIKE,Adidas\", \"NIKE,Adidas\", \"NIKE,Adidas\", \"NIKE,Adidas,ZARA,LEVIS\", \"GUCCI,Adidas,H&M\", \"GUCCI,Adidas\", \"NIKE,Adidas,H&M\", \"Adidas,LEVIS\", \"NIKE\", \"Adidas,H&M\", \"Adidas,H&M\", \"Adidas,H&M\", \"NIKE,H&M\", \"Adidas,H&M\", \"H&M\", \"Adidas,H&M\", \"Adidas,H&M\", \"Adidas,H&M,LEVIS\", \"Adidas,H&M\", \"Adidas,H&M\", \"Adidas,H&M\", \"Adidas,H&M\", \"Adidas,H&M\", \"Adidas,LEVIS\", \"LEVIS\", \"Adidas,H&M\", \"Adidas,H&M\", \"Adidas,H&M\", \"Adidas,H&M\", \"NIKE,Adidas,ZARA\", \"NIKE,Adidas,H&M\", \"NIKE,Adidas,LEVIS\", \"H&M,LEVIS\", \"NIKE,Adidas,H&M,LEVIS\", \"NIKE,Adidas,H&M,LEVIS\", \"NIKE,GUCCI,Adidas,H&M,LEVIS\", \"GUCCI,Adidas,H&M\", \"NIKE,Adidas,H&M,LEVIS\", \"NIKE,Adidas,H&M,ZARA\", \"Adidas,H&M,ZARA,LEVIS\", \"NIKE,Adidas,H&M,LEVIS\", \"H&M,ZARA,LEVIS\", \"Adidas,H&M,ZARA,LEVIS\", \"Adidas,H&M,ZARA,LEVIS\", \"H&M,ZARA,LEVIS\", \"ZARA,LEVIS\", \"NIKE,Adidas,H&M\", \"NIKE,Adidas,H&M,LEVIS\", \"ZARA,LEVIS\", \"GUCCI,ZARA,LEVIS\", \"GUCCI,ZARA,LEVIS\", \"H&M,ZARA,LEVIS\", \"GUCCI,ZARA,LEVIS\", \"GUCCI,Adidas,H&M,ZARA,LEVIS\", \"H&M,ZARA,LEVIS\", \"H&M,ZARA,LEVIS\", \"H&M,ZARA,LEVIS\", \"GUCCI,ZARA,LEVIS\", \"NIKE,Adidas,H&M\", \"NIKE,Adidas,H&M\", \"NIKE,Adidas,H&M\", \"GUCCI,H&M,ZARA,LEVIS\", \"NIKE,Adidas\", \"NIKE,Adidas,H&M,LEVIS\", \"NIKE,Adidas,H&M\", \"NIKE,Adidas,H&M,ZARA,LEVIS\", \"NIKE,Adidas,H&M,LEVIS\", \"ZARA\", \"NIKE,Adidas,H&M\", \"NIKE\", \"NIKE,GUCCI,Adidas,H&M\", \"NIKE,GUCCI,Adidas\", \"NIKE,GUCCI\", \"NIKE,GUCCI,Adidas,H&M\", \"NIKE,Adidas\", \"NIKE,GUCCI,Adidas\", \"Adidas,H&M,ZARA\", \"Adidas,H&M,ZARA\", \"Adidas,H&M,ZARA\", \"Adidas,H&M\", \"Adidas,H&M\", \"Adidas,H&M\", \"NIKE\", \"NIKE,GUCCI,H&M,ZARA,LEVIS\", \"Adidas,H&M\", \"Adidas,H&M,ZARA\", \"H&M\", \"H&M\", \"H&M\", \"Adidas\", \"H&M\", \"H&M\", \"H&M\", \"H&M\", \"Adidas,H&M\", \"Adidas,H&M\", \"H&M\", \"H&M\", \"H&M\", \"NIKE\", \"Adidas,H&M\", \"Adidas\", \"H&M\", \"Adidas,H&M\", \"Adidas\", \"Adidas\"], \"xaxis\": \"x\", \"yaxis\": \"y\"}, {\"alignmentgroup\": \"True\", \"bingroup\": \"x\", \"hoverlabel\": {\"namelength\": 0}, \"hovertemplate\": \"Age=25-35<br>Brand of clothes=%{x}<br>count=%{y}\", \"legendgroup\": \"Age=25-35\", \"marker\": {\"color\": \"#EF553B\"}, \"name\": \"Age=25-35\", \"nbinsx\": 10, \"offsetgroup\": \"Age=25-35\", \"orientation\": \"v\", \"showlegend\": true, \"type\": \"histogram\", \"x\": [\"GUCCI,Adidas,H&M\", \"GUCCI,Adidas,ZARA\", \"GUCCI,Adidas,H&M,ZARA\", \"NIKE,Adidas,ZARA,LEVIS\", \"NIKE,Adidas,ZARA,LEVIS\", \"NIKE,Adidas,H&M,ZARA,LEVIS\", \"NIKE\", \"NIKE,GUCCI,H&M,ZARA\", \"NIKE,LEVIS\", \"NIKE,Adidas,H&M,LEVIS\", \"NIKE,Adidas\", \"Adidas\", \"Adidas\", \"H&M\", \"NIKE,Adidas,H&M,ZARA,LEVIS\", \"Adidas,H&M,ZARA,LEVIS\", \"ZARA,LEVIS\", \"NIKE,Adidas,H&M\", \"NIKE,Adidas,H&M\", \"ZARA\", \"GUCCI,ZARA,LEVIS\", \"GUCCI,H&M,ZARA,LEVIS\", \"NIKE,Adidas\", \"H&M,ZARA,LEVIS\", \"H&M\", \"H&M\", \"H&M\"], \"xaxis\": \"x\", \"yaxis\": \"y\"}, {\"alignmentgroup\": \"True\", \"bingroup\": \"x\", \"hoverlabel\": {\"namelength\": 0}, \"hovertemplate\": \"Age=35-50<br>Brand of clothes=%{x}<br>count=%{y}\", \"legendgroup\": \"Age=35-50\", \"marker\": {\"color\": \"#00cc96\"}, \"name\": \"Age=35-50\", \"nbinsx\": 10, \"offsetgroup\": \"Age=35-50\", \"orientation\": \"v\", \"showlegend\": true, \"type\": \"histogram\", \"x\": [\"NIKE,GUCCI,Adidas,ZARA,LEVIS\", \"Local shops\", \"NIKE,Adidas,LEVIS\", \"NIKE,Adidas,ZARA,LEVIS\", \"NIKE,GUCCI,Adidas\", \"NIKE,Adidas,H&M,LEVIS\", \"NIKE,GUCCI,Adidas\", \"H&M\", \"H&M\", \"H&M\", \"Adidas\", \"H&M,ZARA\"], \"xaxis\": \"x\", \"yaxis\": \"y\"}, {\"alignmentgroup\": \"True\", \"bingroup\": \"x\", \"hoverlabel\": {\"namelength\": 0}, \"hovertemplate\": \"Age=50 - above<br>Brand of clothes=%{x}<br>count=%{y}\", \"legendgroup\": \"Age=50 - above\", \"marker\": {\"color\": \"#ab63fa\"}, \"name\": \"Age=50 - above\", \"nbinsx\": 10, \"offsetgroup\": \"Age=50 - above\", \"orientation\": \"v\", \"showlegend\": true, \"type\": \"histogram\", \"x\": [\"NIKE,Adidas\"], \"xaxis\": \"x\", \"yaxis\": \"y\"}],\n",
              "                        {\"barmode\": \"relative\", \"legend\": {\"tracegroupgap\": 0}, \"margin\": {\"t\": 60}, \"template\": {\"data\": {\"bar\": [{\"error_x\": {\"color\": \"#2a3f5f\"}, \"error_y\": {\"color\": \"#2a3f5f\"}, \"marker\": {\"line\": {\"color\": \"#E5ECF6\", \"width\": 0.5}}, \"type\": \"bar\"}], \"barpolar\": [{\"marker\": {\"line\": {\"color\": \"#E5ECF6\", \"width\": 0.5}}, \"type\": \"barpolar\"}], \"carpet\": [{\"aaxis\": {\"endlinecolor\": \"#2a3f5f\", \"gridcolor\": \"white\", \"linecolor\": \"white\", \"minorgridcolor\": \"white\", \"startlinecolor\": \"#2a3f5f\"}, \"baxis\": {\"endlinecolor\": \"#2a3f5f\", \"gridcolor\": \"white\", \"linecolor\": \"white\", \"minorgridcolor\": \"white\", \"startlinecolor\": \"#2a3f5f\"}, \"type\": \"carpet\"}], \"choropleth\": [{\"colorbar\": {\"outlinewidth\": 0, \"ticks\": \"\"}, \"type\": \"choropleth\"}], \"contour\": [{\"colorbar\": {\"outlinewidth\": 0, \"ticks\": \"\"}, \"colorscale\": [[0.0, \"#0d0887\"], [0.1111111111111111, \"#46039f\"], [0.2222222222222222, \"#7201a8\"], [0.3333333333333333, \"#9c179e\"], [0.4444444444444444, \"#bd3786\"], [0.5555555555555556, \"#d8576b\"], [0.6666666666666666, \"#ed7953\"], [0.7777777777777778, \"#fb9f3a\"], [0.8888888888888888, \"#fdca26\"], [1.0, \"#f0f921\"]], \"type\": \"contour\"}], \"contourcarpet\": [{\"colorbar\": {\"outlinewidth\": 0, \"ticks\": \"\"}, \"type\": \"contourcarpet\"}], \"heatmap\": [{\"colorbar\": {\"outlinewidth\": 0, \"ticks\": \"\"}, \"colorscale\": [[0.0, \"#0d0887\"], [0.1111111111111111, \"#46039f\"], [0.2222222222222222, \"#7201a8\"], [0.3333333333333333, \"#9c179e\"], [0.4444444444444444, \"#bd3786\"], [0.5555555555555556, \"#d8576b\"], [0.6666666666666666, \"#ed7953\"], [0.7777777777777778, \"#fb9f3a\"], [0.8888888888888888, \"#fdca26\"], [1.0, \"#f0f921\"]], \"type\": \"heatmap\"}], \"heatmapgl\": [{\"colorbar\": {\"outlinewidth\": 0, \"ticks\": \"\"}, \"colorscale\": [[0.0, \"#0d0887\"], [0.1111111111111111, \"#46039f\"], [0.2222222222222222, \"#7201a8\"], [0.3333333333333333, \"#9c179e\"], [0.4444444444444444, \"#bd3786\"], [0.5555555555555556, \"#d8576b\"], [0.6666666666666666, \"#ed7953\"], [0.7777777777777778, \"#fb9f3a\"], [0.8888888888888888, \"#fdca26\"], [1.0, \"#f0f921\"]], \"type\": \"heatmapgl\"}], \"histogram\": [{\"marker\": {\"colorbar\": {\"outlinewidth\": 0, \"ticks\": \"\"}}, \"type\": \"histogram\"}], \"histogram2d\": [{\"colorbar\": {\"outlinewidth\": 0, \"ticks\": \"\"}, \"colorscale\": [[0.0, \"#0d0887\"], [0.1111111111111111, \"#46039f\"], [0.2222222222222222, \"#7201a8\"], [0.3333333333333333, \"#9c179e\"], [0.4444444444444444, \"#bd3786\"], [0.5555555555555556, \"#d8576b\"], [0.6666666666666666, \"#ed7953\"], [0.7777777777777778, \"#fb9f3a\"], [0.8888888888888888, \"#fdca26\"], [1.0, \"#f0f921\"]], \"type\": \"histogram2d\"}], \"histogram2dcontour\": [{\"colorbar\": {\"outlinewidth\": 0, \"ticks\": \"\"}, \"colorscale\": [[0.0, \"#0d0887\"], [0.1111111111111111, \"#46039f\"], [0.2222222222222222, \"#7201a8\"], [0.3333333333333333, \"#9c179e\"], [0.4444444444444444, \"#bd3786\"], [0.5555555555555556, \"#d8576b\"], [0.6666666666666666, \"#ed7953\"], [0.7777777777777778, \"#fb9f3a\"], [0.8888888888888888, \"#fdca26\"], [1.0, \"#f0f921\"]], \"type\": \"histogram2dcontour\"}], \"mesh3d\": [{\"colorbar\": {\"outlinewidth\": 0, \"ticks\": \"\"}, \"type\": \"mesh3d\"}], \"parcoords\": [{\"line\": {\"colorbar\": {\"outlinewidth\": 0, \"ticks\": \"\"}}, \"type\": \"parcoords\"}], \"pie\": [{\"automargin\": true, \"type\": \"pie\"}], \"scatter\": [{\"marker\": {\"colorbar\": {\"outlinewidth\": 0, \"ticks\": \"\"}}, \"type\": \"scatter\"}], \"scatter3d\": [{\"line\": {\"colorbar\": {\"outlinewidth\": 0, \"ticks\": \"\"}}, \"marker\": {\"colorbar\": {\"outlinewidth\": 0, \"ticks\": \"\"}}, \"type\": \"scatter3d\"}], \"scattercarpet\": [{\"marker\": {\"colorbar\": {\"outlinewidth\": 0, \"ticks\": \"\"}}, \"type\": \"scattercarpet\"}], \"scattergeo\": [{\"marker\": {\"colorbar\": {\"outlinewidth\": 0, \"ticks\": \"\"}}, \"type\": \"scattergeo\"}], \"scattergl\": [{\"marker\": {\"colorbar\": {\"outlinewidth\": 0, \"ticks\": \"\"}}, \"type\": \"scattergl\"}], \"scattermapbox\": [{\"marker\": {\"colorbar\": {\"outlinewidth\": 0, \"ticks\": \"\"}}, \"type\": \"scattermapbox\"}], \"scatterpolar\": [{\"marker\": {\"colorbar\": {\"outlinewidth\": 0, \"ticks\": \"\"}}, \"type\": \"scatterpolar\"}], \"scatterpolargl\": [{\"marker\": {\"colorbar\": {\"outlinewidth\": 0, \"ticks\": \"\"}}, \"type\": \"scatterpolargl\"}], \"scatterternary\": [{\"marker\": {\"colorbar\": {\"outlinewidth\": 0, \"ticks\": \"\"}}, \"type\": \"scatterternary\"}], \"surface\": [{\"colorbar\": {\"outlinewidth\": 0, \"ticks\": \"\"}, \"colorscale\": [[0.0, \"#0d0887\"], [0.1111111111111111, \"#46039f\"], [0.2222222222222222, \"#7201a8\"], [0.3333333333333333, \"#9c179e\"], [0.4444444444444444, \"#bd3786\"], [0.5555555555555556, \"#d8576b\"], [0.6666666666666666, \"#ed7953\"], [0.7777777777777778, \"#fb9f3a\"], [0.8888888888888888, \"#fdca26\"], [1.0, \"#f0f921\"]], \"type\": \"surface\"}], \"table\": [{\"cells\": {\"fill\": {\"color\": \"#EBF0F8\"}, \"line\": {\"color\": \"white\"}}, \"header\": {\"fill\": {\"color\": \"#C8D4E3\"}, \"line\": {\"color\": \"white\"}}, \"type\": \"table\"}]}, \"layout\": {\"annotationdefaults\": {\"arrowcolor\": \"#2a3f5f\", \"arrowhead\": 0, \"arrowwidth\": 1}, \"coloraxis\": {\"colorbar\": {\"outlinewidth\": 0, \"ticks\": \"\"}}, \"colorscale\": {\"diverging\": [[0, \"#8e0152\"], [0.1, \"#c51b7d\"], [0.2, \"#de77ae\"], [0.3, \"#f1b6da\"], [0.4, \"#fde0ef\"], [0.5, \"#f7f7f7\"], [0.6, \"#e6f5d0\"], [0.7, \"#b8e186\"], [0.8, \"#7fbc41\"], [0.9, \"#4d9221\"], [1, \"#276419\"]], \"sequential\": [[0.0, \"#0d0887\"], [0.1111111111111111, \"#46039f\"], [0.2222222222222222, \"#7201a8\"], [0.3333333333333333, \"#9c179e\"], [0.4444444444444444, \"#bd3786\"], [0.5555555555555556, \"#d8576b\"], [0.6666666666666666, \"#ed7953\"], [0.7777777777777778, \"#fb9f3a\"], [0.8888888888888888, \"#fdca26\"], [1.0, \"#f0f921\"]], \"sequentialminus\": [[0.0, \"#0d0887\"], [0.1111111111111111, \"#46039f\"], [0.2222222222222222, \"#7201a8\"], [0.3333333333333333, \"#9c179e\"], [0.4444444444444444, \"#bd3786\"], [0.5555555555555556, \"#d8576b\"], [0.6666666666666666, \"#ed7953\"], [0.7777777777777778, \"#fb9f3a\"], [0.8888888888888888, \"#fdca26\"], [1.0, \"#f0f921\"]]}, \"colorway\": [\"#636efa\", \"#EF553B\", \"#00cc96\", \"#ab63fa\", \"#FFA15A\", \"#19d3f3\", \"#FF6692\", \"#B6E880\", \"#FF97FF\", \"#FECB52\"], \"font\": {\"color\": \"#2a3f5f\"}, \"geo\": {\"bgcolor\": \"white\", \"lakecolor\": \"white\", \"landcolor\": \"#E5ECF6\", \"showlakes\": true, \"showland\": true, \"subunitcolor\": \"white\"}, \"hoverlabel\": {\"align\": \"left\"}, \"hovermode\": \"closest\", \"mapbox\": {\"style\": \"light\"}, \"paper_bgcolor\": \"white\", \"plot_bgcolor\": \"#E5ECF6\", \"polar\": {\"angularaxis\": {\"gridcolor\": \"white\", \"linecolor\": \"white\", \"ticks\": \"\"}, \"bgcolor\": \"#E5ECF6\", \"radialaxis\": {\"gridcolor\": \"white\", \"linecolor\": \"white\", \"ticks\": \"\"}}, \"scene\": {\"xaxis\": {\"backgroundcolor\": \"#E5ECF6\", \"gridcolor\": \"white\", \"gridwidth\": 2, \"linecolor\": \"white\", \"showbackground\": true, \"ticks\": \"\", \"zerolinecolor\": \"white\"}, \"yaxis\": {\"backgroundcolor\": \"#E5ECF6\", \"gridcolor\": \"white\", \"gridwidth\": 2, \"linecolor\": \"white\", \"showbackground\": true, \"ticks\": \"\", \"zerolinecolor\": \"white\"}, \"zaxis\": {\"backgroundcolor\": \"#E5ECF6\", \"gridcolor\": \"white\", \"gridwidth\": 2, \"linecolor\": \"white\", \"showbackground\": true, \"ticks\": \"\", \"zerolinecolor\": \"white\"}}, \"shapedefaults\": {\"line\": {\"color\": \"#2a3f5f\"}}, \"ternary\": {\"aaxis\": {\"gridcolor\": \"white\", \"linecolor\": \"white\", \"ticks\": \"\"}, \"baxis\": {\"gridcolor\": \"white\", \"linecolor\": \"white\", \"ticks\": \"\"}, \"bgcolor\": \"#E5ECF6\", \"caxis\": {\"gridcolor\": \"white\", \"linecolor\": \"white\", \"ticks\": \"\"}}, \"title\": {\"x\": 0.05}, \"xaxis\": {\"automargin\": true, \"gridcolor\": \"white\", \"linecolor\": \"white\", \"ticks\": \"\", \"title\": {\"standoff\": 15}, \"zerolinecolor\": \"white\", \"zerolinewidth\": 2}, \"yaxis\": {\"automargin\": true, \"gridcolor\": \"white\", \"linecolor\": \"white\", \"ticks\": \"\", \"title\": {\"standoff\": 15}, \"zerolinecolor\": \"white\", \"zerolinewidth\": 2}}}, \"xaxis\": {\"anchor\": \"y\", \"domain\": [0.0, 1.0], \"title\": {\"text\": \"Brand of clothes\"}}, \"yaxis\": {\"anchor\": \"x\", \"domain\": [0.0, 1.0], \"title\": {\"text\": \"count\"}}},\n",
              "                        {\"responsive\": true}\n",
              "                    ).then(function(){\n",
              "                            \n",
              "var gd = document.getElementById('720f6d13-a973-4d26-9da6-6b714dad02fb');\n",
              "var x = new MutationObserver(function (mutations, observer) {{\n",
              "        var display = window.getComputedStyle(gd).display;\n",
              "        if (!display || display === 'none') {{\n",
              "            console.log([gd, 'removed!']);\n",
              "            Plotly.purge(gd);\n",
              "            observer.disconnect();\n",
              "        }}\n",
              "}});\n",
              "\n",
              "// Listen for the removal of the full notebook cells\n",
              "var notebookContainer = gd.closest('#notebook-container');\n",
              "if (notebookContainer) {{\n",
              "    x.observe(notebookContainer, {childList: true});\n",
              "}}\n",
              "\n",
              "// Listen for the clearing of the current output cell\n",
              "var outputEl = gd.closest('.output');\n",
              "if (outputEl) {{\n",
              "    x.observe(outputEl, {childList: true});\n",
              "}}\n",
              "\n",
              "                        })\n",
              "                };\n",
              "                \n",
              "            </script>\n",
              "        </div>\n",
              "</body>\n",
              "</html>"
            ]
          },
          "metadata": {
            "tags": []
          }
        }
      ]
    },
    {
      "cell_type": "code",
      "metadata": {
        "colab": {
          "base_uri": "https://localhost:8080/"
        },
        "id": "hwkrY4GdIPiR",
        "outputId": "b9551294-c720-48c8-a88c-49faa49f1413"
      },
      "source": [
        "features = Dataset.select_dtypes(exclude=\"bool\").columns\n",
        "features"
      ],
      "execution_count": 24,
      "outputs": [
        {
          "output_type": "execute_result",
          "data": {
            "text/plain": [
              "Index(['Name', 'Age', 'buy clothes', 'Type of clothes ', 'Brand of clothes',\n",
              "       'Price of clothes', 'Rating', 'time_prefer ', ' prefer purchasing ',\n",
              "       'compare prices ', 'any worst experience'],\n",
              "      dtype='object')"
            ]
          },
          "metadata": {
            "tags": []
          },
          "execution_count": 24
        }
      ]
    },
    {
      "cell_type": "code",
      "metadata": {
        "colab": {
          "base_uri": "https://localhost:8080/"
        },
        "id": "96CxcMGsL37q",
        "outputId": "b3bad181-48d9-410b-da5e-65ce3ff56831"
      },
      "source": [
        "Dataset['Age'].value_counts(ascending=True)"
      ],
      "execution_count": 25,
      "outputs": [
        {
          "output_type": "execute_result",
          "data": {
            "text/plain": [
              "50 - above      1\n",
              "35-50          12\n",
              "25-35          27\n",
              "18-25         162\n",
              "Name: Age, dtype: int64"
            ]
          },
          "metadata": {
            "tags": []
          },
          "execution_count": 25
        }
      ]
    },
    {
      "cell_type": "code",
      "metadata": {
        "colab": {
          "base_uri": "https://localhost:8080/",
          "height": 294
        },
        "id": "Z7XxCJLeJr3X",
        "outputId": "35713288-ac4f-4d27-89ac-f9a53404cee2"
      },
      "source": [
        "sns.countplot(x='Age',data=Dataset)\n",
        "plt.title(\"Age\")\n",
        "plt.show()"
      ],
      "execution_count": 26,
      "outputs": [
        {
          "output_type": "display_data",
          "data": {
            "image/png": "[encoded data removed]",
            "text/plain": [
              "<Figure size 432x288 with 1 Axes>"
            ]
          },
          "metadata": {
            "tags": [],
            "needs_background": "light"
          }
        }
      ]
    },
    {
      "cell_type": "code",
      "metadata": {
        "colab": {
          "base_uri": "https://localhost:8080/"
        },
        "id": "7M6cJ5RzL0OU",
        "outputId": "7f49273c-705d-49ea-be2e-2999c33d8de6"
      },
      "source": [
        "Dataset['Price of clothes'].value_counts(ascending=True)"
      ],
      "execution_count": 27,
      "outputs": [
        {
          "output_type": "execute_result",
          "data": {
            "text/plain": [
              "200-500        5\n",
              "500-700       29\n",
              "700-1000      81\n",
              "1000-above    87\n",
              "Name: Price of clothes, dtype: int64"
            ]
          },
          "metadata": {
            "tags": []
          },
          "execution_count": 27
        }
      ]
    },
    {
      "cell_type": "code",
      "metadata": {
        "colab": {
          "base_uri": "https://localhost:8080/",
          "height": 294
        },
        "id": "HQ24HqssJ7-G",
        "outputId": "90296545-495e-4869-8b75-30bc40048b5d"
      },
      "source": [
        "sns.countplot(x='Price of clothes',data=Dataset)\n",
        "plt.title(\"Price of clothes\")\n",
        "plt.show()"
      ],
      "execution_count": 28,
      "outputs": [
        {
          "output_type": "display_data",
          "data": {
            "image/png": "[encoded data removed]",
            "text/plain": [
              "<Figure size 432x288 with 1 Axes>"
            ]
          },
          "metadata": {
            "tags": [],
            "needs_background": "light"
          }
        }
      ]
    },
    {
      "cell_type": "code",
      "metadata": {
        "colab": {
          "base_uri": "https://localhost:8080/",
          "height": 294
        },
        "id": "1u-V_jWiKMtv",
        "outputId": "12007c87-8c57-4aac-8b58-69b4371e41d1"
      },
      "source": [
        "sns.countplot(x='compare prices ',data=Dataset)\n",
        "plt.title(\"Comparing Price of clothes\")\n",
        "plt.show()"
      ],
      "execution_count": 29,
      "outputs": [
        {
          "output_type": "display_data",
          "data": {
            "image/png": "[encoded data removed]",
            "text/plain": [
              "<Figure size 432x288 with 1 Axes>"
            ]
          },
          "metadata": {
            "tags": [],
            "needs_background": "light"
          }
        }
      ]
    },
    {
      "cell_type": "code",
      "metadata": {
        "colab": {
          "base_uri": "https://localhost:8080/",
          "height": 294
        },
        "id": "njjXyEQgKe-T",
        "outputId": "fc77727b-03c6-445e-b8e6-9bfc6fc2add1"
      },
      "source": [
        "sns.countplot(x='any worst experience',data=Dataset)\n",
        "plt.title(\"worst experience of clothes\")\n",
        "plt.show()"
      ],
      "execution_count": 30,
      "outputs": [
        {
          "output_type": "display_data",
          "data": {
            "image/png": "[encoded data removed]",
            "text/plain": [
              "<Figure size 432x288 with 1 Axes>"
            ]
          },
          "metadata": {
            "tags": [],
            "needs_background": "light"
          }
        }
      ]
    },
    {
      "cell_type": "code",
      "metadata": {
        "colab": {
          "base_uri": "https://localhost:8080/",
          "height": 294
        },
        "id": "3i97XiBGLUr6",
        "outputId": "db14e4e5-2ba6-4ccb-c2be-001f4b29e0b5"
      },
      "source": [
        "sns.countplot(x=' prefer purchasing ',data=Dataset)\n",
        "plt.title(\"Prefer Purchasing Clothes\")\n",
        "plt.show()"
      ],
      "execution_count": 31,
      "outputs": [
        {
          "output_type": "display_data",
          "data": {
            "image/png": "[encoded data removed]",
            "text/plain": [
              "<Figure size 432x288 with 1 Axes>"
            ]
          },
          "metadata": {
            "tags": [],
            "needs_background": "light"
          }
        }
      ]
    },
    {
      "cell_type": "code",
      "metadata": {
        "colab": {
          "base_uri": "https://localhost:8080/",
          "height": 295
        },
        "id": "8R_RzardKt8j",
        "outputId": "0e595d38-1a32-4525-d055-964e195aff8b"
      },
      "source": [
        "sns.countplot(x='time_prefer ',data=Dataset)\n",
        "plt.title(\"Prefer time to buy clothes\")\n",
        "plt.show()"
      ],
      "execution_count": 32,
      "outputs": [
        {
          "output_type": "display_data",
          "data": {
            "image/png": "[encoded data removed]",
            "text/plain": [
              "<Figure size 432x288 with 1 Axes>"
            ]
          },
          "metadata": {
            "tags": [],
            "needs_background": "light"
          }
        }
      ]
    },
    {
      "cell_type": "code",
      "metadata": {
        "colab": {
          "base_uri": "https://localhost:8080/",
          "height": 294
        },
        "id": "YHghA3cEKu2y",
        "outputId": "078c5d19-5492-4916-ca82-41a045308508"
      },
      "source": [
        "sns.countplot(x='buy clothes',data=Dataset)\n",
        "plt.title(\"Buy clothes\")\n",
        "plt.show()"
      ],
      "execution_count": 33,
      "outputs": [
        {
          "output_type": "display_data",
          "data": {
            "image/png": "[encoded data removed]",
            "text/plain": [
              "<Figure size 432x288 with 1 Axes>"
            ]
          },
          "metadata": {
            "tags": [],
            "needs_background": "light"
          }
        }
      ]
    },
    {
      "cell_type": "code",
      "metadata": {
        "colab": {
          "base_uri": "https://localhost:8080/",
          "height": 296
        },
        "id": "SIm8iN8q0zQ_",
        "outputId": "3561e3d7-80fc-4235-baa8-c0a77df107cd"
      },
      "source": [
        "sns.countplot(data=Dataset, x='Price of clothes', hue='Age')"
      ],
      "execution_count": 34,
      "outputs": [
        {
          "output_type": "execute_result",
          "data": {
            "text/plain": [
              "<matplotlib.axes._subplots.AxesSubplot at 0x7f91c5849490>"
            ]
          },
          "metadata": {
            "tags": []
          },
          "execution_count": 34
        },
        {
          "output_type": "display_data",
          "data": {
            "image/png": "[encoded data removed]",
            "text/plain": [
              "<Figure size 432x288 with 1 Axes>"
            ]
          },
          "metadata": {
            "tags": [],
            "needs_background": "light"
          }
        }
      ]
    },
    {
      "cell_type": "code",
      "metadata": {
        "colab": {
          "base_uri": "https://localhost:8080/",
          "height": 296
        },
        "id": "gXQEPyNr1XiN",
        "outputId": "1aee6548-4a15-492a-ebe5-8202298cea83"
      },
      "source": [
        "sns.countplot(data=Dataset, x='Age', hue=' prefer purchasing ')"
      ],
      "execution_count": 35,
      "outputs": [
        {
          "output_type": "execute_result",
          "data": {
            "text/plain": [
              "<matplotlib.axes._subplots.AxesSubplot at 0x7f91c576bb90>"
            ]
          },
          "metadata": {
            "tags": []
          },
          "execution_count": 35
        },
        {
          "output_type": "display_data",
          "data": {
            "image/png": "[encoded data removed]",
            "text/plain": [
              "<Figure size 432x288 with 1 Axes>"
            ]
          },
          "metadata": {
            "tags": [],
            "needs_background": "light"
          }
        }
      ]
    },
    {
      "cell_type": "code",
      "metadata": {
        "colab": {
          "base_uri": "https://localhost:8080/",
          "height": 296
        },
        "id": "48YVMht71qiA",
        "outputId": "ef71c8d8-f292-4dfd-e8c7-6e8ea7f079f9"
      },
      "source": [
        "sns.countplot(data=Dataset, x='Price of clothes', hue='compare prices ')"
      ],
      "execution_count": 36,
      "outputs": [
        {
          "output_type": "execute_result",
          "data": {
            "text/plain": [
              "<matplotlib.axes._subplots.AxesSubplot at 0x7f91c58c65d0>"
            ]
          },
          "metadata": {
            "tags": []
          },
          "execution_count": 36
        },
        {
          "output_type": "display_data",
          "data": {
            "image/png": "[encoded data removed]",
            "text/plain": [
              "<Figure size 432x288 with 1 Axes>"
            ]
          },
          "metadata": {
            "tags": [],
            "needs_background": "light"
          }
        }
      ]
    },
    {
      "cell_type": "code",
      "metadata": {
        "colab": {
          "base_uri": "https://localhost:8080/",
          "height": 296
        },
        "id": "K6ecbBk12GOv",
        "outputId": "eefbc51e-6f71-4cd2-b8bf-79ae8eeb479e"
      },
      "source": [
        "sns.countplot(data=Dataset, x='Age', hue='compare prices ')"
      ],
      "execution_count": 37,
      "outputs": [
        {
          "output_type": "execute_result",
          "data": {
            "text/plain": [
              "<matplotlib.axes._subplots.AxesSubplot at 0x7f91c599af90>"
            ]
          },
          "metadata": {
            "tags": []
          },
          "execution_count": 37
        },
        {
          "output_type": "display_data",
          "data": {
            "image/png": "[encoded data removed]",
            "text/plain": [
              "<Figure size 432x288 with 1 Axes>"
            ]
          },
          "metadata": {
            "tags": [],
            "needs_background": "light"
          }
        }
      ]
    },
    {
      "cell_type": "code",
      "metadata": {
        "colab": {
          "base_uri": "https://localhost:8080/",
          "height": 710
        },
        "id": "FaioDCgpRIZN",
        "outputId": "e6bd8052-623a-4499-c6b3-bc800d5811e1"
      },
      "source": [
        "df = pd.read_csv('//content/Sales Summer Clothes..csv') \n",
        "df"
      ],
      "execution_count": 38,
      "outputs": [
        {
          "output_type": "execute_result",
          "data": {
            "text/html": [
              "<div>\n",
              "<style scoped>\n",
              "    .dataframe tbody tr th:only-of-type {\n",
              "        vertical-align: middle;\n",
              "    }\n",
              "\n",
              "    .dataframe tbody tr th {\n",
              "        vertical-align: top;\n",
              "    }\n",
              "\n",
              "    .dataframe thead th {\n",
              "        text-align: right;\n",
              "    }\n",
              "</style>\n",
              "<table border=\"1\" class=\"dataframe\">\n",
              "  <thead>\n",
              "    <tr style=\"text-align: right;\">\n",
              "      <th></th>\n",
              "      <th>Timestamp</th>\n",
              "      <th>Name</th>\n",
              "      <th>Age</th>\n",
              "      <th>Buy_Clothes</th>\n",
              "      <th>Type_Clothes</th>\n",
              "      <th>Brand_Clothes</th>\n",
              "      <th>Price</th>\n",
              "      <th>time_prefer</th>\n",
              "      <th>prefer_purchasing</th>\n",
              "      <th>compare_prices</th>\n",
              "      <th>worst_experience</th>\n",
              "      <th>Rating</th>\n",
              "    </tr>\n",
              "  </thead>\n",
              "  <tbody>\n",
              "    <tr>\n",
              "      <th>0</th>\n",
              "      <td>04-08-21 19:06</td>\n",
              "      <td>Bhairavi</td>\n",
              "      <td>18-25</td>\n",
              "      <td>Occasionally</td>\n",
              "      <td>Jeans,Women Dress,Ladies Tops</td>\n",
              "      <td>NIKE,Adidas</td>\n",
              "      <td>500-700</td>\n",
              "      <td>During the sales</td>\n",
              "      <td>Online</td>\n",
              "      <td>YES</td>\n",
              "      <td>No</td>\n",
              "      <td>4 STAR</td>\n",
              "    </tr>\n",
              "    <tr>\n",
              "      <th>1</th>\n",
              "      <td>04-08-21 19:11</td>\n",
              "      <td>Girish</td>\n",
              "      <td>18-25</td>\n",
              "      <td>Occasionally</td>\n",
              "      <td>T-shirt,Jeans</td>\n",
              "      <td>NIKE,Adidas,H&amp;M</td>\n",
              "      <td>700-1000</td>\n",
              "      <td>During the sales</td>\n",
              "      <td>Online</td>\n",
              "      <td>YES</td>\n",
              "      <td>Yes</td>\n",
              "      <td>3 STAR</td>\n",
              "    </tr>\n",
              "    <tr>\n",
              "      <th>2</th>\n",
              "      <td>04-08-21 19:17</td>\n",
              "      <td>Mayuri katkar</td>\n",
              "      <td>18-25</td>\n",
              "      <td>Occasionally</td>\n",
              "      <td>T-shirt,Jeans,Women Dress,Casual Dress,Ladies ...</td>\n",
              "      <td>NIKE,Adidas,H&amp;M,ZARA</td>\n",
              "      <td>200-500</td>\n",
              "      <td>During the sales</td>\n",
              "      <td>By them in Store</td>\n",
              "      <td>YES</td>\n",
              "      <td>Yes</td>\n",
              "      <td>3 STAR</td>\n",
              "    </tr>\n",
              "    <tr>\n",
              "      <th>3</th>\n",
              "      <td>04-08-21 19:17</td>\n",
              "      <td>Harshali</td>\n",
              "      <td>18-25</td>\n",
              "      <td>Occasionally</td>\n",
              "      <td>Women Dress</td>\n",
              "      <td>NIKE</td>\n",
              "      <td>500-700</td>\n",
              "      <td>During the sales</td>\n",
              "      <td>By them in Store</td>\n",
              "      <td>YES</td>\n",
              "      <td>Yes</td>\n",
              "      <td>4 STAR</td>\n",
              "    </tr>\n",
              "    <tr>\n",
              "      <th>4</th>\n",
              "      <td>04-08-21 19:20</td>\n",
              "      <td>Sadamast Nikita Shivaji</td>\n",
              "      <td>18-25</td>\n",
              "      <td>Occasionally</td>\n",
              "      <td>Women Dress</td>\n",
              "      <td>Meesho</td>\n",
              "      <td>500-700</td>\n",
              "      <td>Without the sales (Off Season)</td>\n",
              "      <td>Online</td>\n",
              "      <td>YES</td>\n",
              "      <td>No</td>\n",
              "      <td>5 STAR</td>\n",
              "    </tr>\n",
              "    <tr>\n",
              "      <th>...</th>\n",
              "      <td>...</td>\n",
              "      <td>...</td>\n",
              "      <td>...</td>\n",
              "      <td>...</td>\n",
              "      <td>...</td>\n",
              "      <td>...</td>\n",
              "      <td>...</td>\n",
              "      <td>...</td>\n",
              "      <td>...</td>\n",
              "      <td>...</td>\n",
              "      <td>...</td>\n",
              "      <td>...</td>\n",
              "    </tr>\n",
              "    <tr>\n",
              "      <th>197</th>\n",
              "      <td>4/27/2021 11:00:23</td>\n",
              "      <td>Rekha</td>\n",
              "      <td>18-25</td>\n",
              "      <td>Occasionally</td>\n",
              "      <td>Casual Dress</td>\n",
              "      <td>H&amp;M</td>\n",
              "      <td>500-700</td>\n",
              "      <td>During the sales</td>\n",
              "      <td>By them in Store</td>\n",
              "      <td>YES</td>\n",
              "      <td>No</td>\n",
              "      <td>5 STAR</td>\n",
              "    </tr>\n",
              "    <tr>\n",
              "      <th>198</th>\n",
              "      <td>4/27/2021 11:00:47</td>\n",
              "      <td>Vaishali kokre</td>\n",
              "      <td>18-25</td>\n",
              "      <td>Regularly</td>\n",
              "      <td>Women Dress,Casual Dress,Ladies Tops</td>\n",
              "      <td>Adidas,H&amp;M</td>\n",
              "      <td>1000-above</td>\n",
              "      <td>During the sales</td>\n",
              "      <td>By them in Store</td>\n",
              "      <td>YES</td>\n",
              "      <td>No</td>\n",
              "      <td>5 STAR</td>\n",
              "    </tr>\n",
              "    <tr>\n",
              "      <th>199</th>\n",
              "      <td>4/27/2021 11:01:10</td>\n",
              "      <td>Neeta</td>\n",
              "      <td>18-25</td>\n",
              "      <td>Regularly</td>\n",
              "      <td>T-shirt,Jeans,Ladies Tops</td>\n",
              "      <td>Adidas</td>\n",
              "      <td>700-1000</td>\n",
              "      <td>During the sales</td>\n",
              "      <td>By them in Store</td>\n",
              "      <td>YES</td>\n",
              "      <td>No</td>\n",
              "      <td>5 STAR</td>\n",
              "    </tr>\n",
              "    <tr>\n",
              "      <th>200</th>\n",
              "      <td>4/27/2021 11:01:37</td>\n",
              "      <td>Sushant</td>\n",
              "      <td>18-25</td>\n",
              "      <td>Occasionally</td>\n",
              "      <td>T-shirt,Jeans</td>\n",
              "      <td>Adidas</td>\n",
              "      <td>700-1000</td>\n",
              "      <td>Without the sales (Off Season)</td>\n",
              "      <td>By them in Store</td>\n",
              "      <td>NO</td>\n",
              "      <td>No</td>\n",
              "      <td>4 STAR</td>\n",
              "    </tr>\n",
              "    <tr>\n",
              "      <th>201</th>\n",
              "      <td>4/27/2021 11:03:00</td>\n",
              "      <td>Suchita</td>\n",
              "      <td>35-50</td>\n",
              "      <td>Occasionally</td>\n",
              "      <td>Women Dress,Casual Dress</td>\n",
              "      <td>H&amp;M,ZARA</td>\n",
              "      <td>700-1000</td>\n",
              "      <td>During the sales</td>\n",
              "      <td>By them in Store</td>\n",
              "      <td>YES</td>\n",
              "      <td>Yes</td>\n",
              "      <td>1 STAR</td>\n",
              "    </tr>\n",
              "  </tbody>\n",
              "</table>\n",
              "<p>202 rows × 12 columns</p>\n",
              "</div>"
            ],
            "text/plain": [
              "              Timestamp                     Name  ... worst_experience Rating \n",
              "0        04-08-21 19:06                 Bhairavi  ...               No  4 STAR\n",
              "1        04-08-21 19:11                   Girish  ...              Yes  3 STAR\n",
              "2        04-08-21 19:17            Mayuri katkar  ...              Yes  3 STAR\n",
              "3        04-08-21 19:17                 Harshali  ...              Yes  4 STAR\n",
              "4        04-08-21 19:20  Sadamast Nikita Shivaji  ...               No  5 STAR\n",
              "..                  ...                      ...  ...              ...     ...\n",
              "197  4/27/2021 11:00:23                   Rekha   ...               No  5 STAR\n",
              "198  4/27/2021 11:00:47           Vaishali kokre  ...               No  5 STAR\n",
              "199  4/27/2021 11:01:10                   Neeta   ...               No  5 STAR\n",
              "200  4/27/2021 11:01:37                 Sushant   ...               No  4 STAR\n",
              "201  4/27/2021 11:03:00                  Suchita  ...              Yes  1 STAR\n",
              "\n",
              "[202 rows x 12 columns]"
            ]
          },
          "metadata": {
            "tags": []
          },
          "execution_count": 38
        }
      ]
    },
    {
      "cell_type": "code",
      "metadata": {
        "colab": {
          "base_uri": "https://localhost:8080/",
          "height": 496
        },
        "id": "YyzANXh2WwUg",
        "outputId": "efc86b7f-444b-46db-f4f8-a4653fba1e78"
      },
      "source": [
        "\n",
        "plt.figure(figsize=(8,8))\n",
        "ax=sns.countplot(data=Dataset, x='Price of clothes', hue='compare prices ')\n",
        "ax.set_ylabel('Age')\n",
        "bars = ax.patches\n",
        "half = int(len(bars)/2)\n",
        "left_bars = bars[:half]\n",
        "right_bars = bars[half:]\n",
        "\n",
        "for left, right in zip(left_bars, right_bars):\n",
        "    height_l = left.get_height()\n",
        "    height_r = right.get_height()\n",
        "    total = height_l + height_r\n",
        "\n",
        "    ax.text(left.get_x() + left.get_width()/2., height_l + 1, '{0:.0%}'.format(height_l/total), ha=\"center\")\n",
        "    ax.text(right.get_x() + right.get_width()/2., height_r + 1, '{0:.0%}'.format(height_r/total), ha=\"center\")"
      ],
      "execution_count": 43,
      "outputs": [
        {
          "output_type": "display_data",
          "data": {
            "image/png": "[encoded data removed]",
            "text/plain": [
              "<Figure size 576x576 with 1 Axes>"
            ]
          },
          "metadata": {
            "tags": [],
            "needs_background": "light"
          }
        }
      ]
    },
    {
      "cell_type": "code",
      "metadata": {
        "id": "L1JN2EWECWUT"
      },
      "source": [
        "from google.colab import drive\n",
        "drive.mount('/content/drive')"
      ],
      "execution_count": null,
      "outputs": []
    }
  ]
}