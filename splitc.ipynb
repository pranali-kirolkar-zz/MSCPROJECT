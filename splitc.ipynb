{
  "nbformat": 4,
  "nbformat_minor": 0,
  "metadata": {
    "colab": {
      "name": "splitc.ipynb",
      "provenance": [],
      "collapsed_sections": [],
      "authorship_tag": "ABX9TyP1NZR9XMQbusloLKjTLtJ2",
      "include_colab_link": true
    },
    "kernelspec": {
      "name": "python3",
      "display_name": "Python 3"
    },
    "language_info": {
      "name": "python"
    }
  },
  "cells": [
    {
      "cell_type": "markdown",
      "metadata": {
        "id": "view-in-github",
        "colab_type": "text"
      },
      "source": [
        "<a href=\"https://colab.research.google.com/github/pranali-kirolkar/MSCPROJECT/blob/main/splitc.ipynb\" target=\"_parent\"><img src=\"https://colab.research.google.com/assets/colab-badge.svg\" alt=\"Open In Colab\"/></a>"
      ]
    },
    {
      "cell_type": "code",
      "metadata": {
        "id": "JvFQ3zsl39Mg"
      },
      "source": [
        "#importing Libraries\n",
        "\n",
        "import pandas as pd\n",
        "import matplotlib.pyplot as plt\n",
        "import numpy as np\n",
        "import seaborn as sns"
      ],
      "execution_count": 148,
      "outputs": []
    },
    {
      "cell_type": "code",
      "metadata": {
        "id": "XRujd6oV4K00"
      },
      "source": [
        "#Sales of Summer clothes Dataset\n",
        "Dataset = pd.read_csv('//content/Sales Summer Clothes....csv') "
      ],
      "execution_count": 157,
      "outputs": []
    },
    {
      "cell_type": "code",
      "metadata": {
        "id": "HnRa0pyF7ims"
      },
      "source": [
        "Dataset.drop('Name', axis=1, inplace=True)"
      ],
      "execution_count": 158,
      "outputs": []
    },
    {
      "cell_type": "code",
      "metadata": {
        "id": "_qn58v337k8v"
      },
      "source": [
        "Dataset.drop('Timestamp',axis=1,inplace=True)"
      ],
      "execution_count": 95,
      "outputs": []
    },
    {
      "cell_type": "code",
      "metadata": {
        "colab": {
          "base_uri": "https://localhost:8080/",
          "height": 932
        },
        "id": "uj14JIPR7qyk",
        "outputId": "a36c2c40-9f87-46f9-92b3-1807175a3c0e"
      },
      "source": [
        "Dataset"
      ],
      "execution_count": 159,
      "outputs": [
        {
          "output_type": "execute_result",
          "data": {
            "text/html": [
              "<div>\n",
              "<style scoped>\n",
              "    .dataframe tbody tr th:only-of-type {\n",
              "        vertical-align: middle;\n",
              "    }\n",
              "\n",
              "    .dataframe tbody tr th {\n",
              "        vertical-align: top;\n",
              "    }\n",
              "\n",
              "    .dataframe thead th {\n",
              "        text-align: right;\n",
              "    }\n",
              "</style>\n",
              "<table border=\"1\" class=\"dataframe\">\n",
              "  <thead>\n",
              "    <tr style=\"text-align: right;\">\n",
              "      <th></th>\n",
              "      <th>Timestamp</th>\n",
              "      <th>Age</th>\n",
              "      <th>buyclothes</th>\n",
              "      <th>Type</th>\n",
              "      <th>Brand</th>\n",
              "      <th>Price</th>\n",
              "      <th>time_prefer</th>\n",
              "      <th>preferpurchasing</th>\n",
              "      <th>compareprices</th>\n",
              "      <th>worstexperience</th>\n",
              "      <th>Rating</th>\n",
              "    </tr>\n",
              "  </thead>\n",
              "  <tbody>\n",
              "    <tr>\n",
              "      <th>0</th>\n",
              "      <td>04-08-21 19:06</td>\n",
              "      <td>18-25</td>\n",
              "      <td>Occasionally</td>\n",
              "      <td>Jeans, Women Dress, Ladies Tops</td>\n",
              "      <td>NIKE, Adidas</td>\n",
              "      <td>500-700</td>\n",
              "      <td>During the sales</td>\n",
              "      <td>Online</td>\n",
              "      <td>YES</td>\n",
              "      <td>No</td>\n",
              "      <td>4 STAR</td>\n",
              "    </tr>\n",
              "    <tr>\n",
              "      <th>1</th>\n",
              "      <td>04-08-21 19:11</td>\n",
              "      <td>18-25</td>\n",
              "      <td>Occasionally</td>\n",
              "      <td>T-shirt, Jeans</td>\n",
              "      <td>NIKE, Adidas, H&amp;M</td>\n",
              "      <td>700-1000</td>\n",
              "      <td>During the sales</td>\n",
              "      <td>Online</td>\n",
              "      <td>YES</td>\n",
              "      <td>Yes</td>\n",
              "      <td>3 STAR</td>\n",
              "    </tr>\n",
              "    <tr>\n",
              "      <th>2</th>\n",
              "      <td>04-08-21 19:17</td>\n",
              "      <td>18-25</td>\n",
              "      <td>Occasionally</td>\n",
              "      <td>T-shirt, Jeans, Women Dress, Casual Dress, Lad...</td>\n",
              "      <td>NIKE, Adidas, H&amp;M, ZARA</td>\n",
              "      <td>200-500</td>\n",
              "      <td>During the sales</td>\n",
              "      <td>By them in Store</td>\n",
              "      <td>YES</td>\n",
              "      <td>Yes</td>\n",
              "      <td>3 STAR</td>\n",
              "    </tr>\n",
              "    <tr>\n",
              "      <th>3</th>\n",
              "      <td>04-08-21 19:17</td>\n",
              "      <td>18-25</td>\n",
              "      <td>Occasionally</td>\n",
              "      <td>Women Dress</td>\n",
              "      <td>NIKE</td>\n",
              "      <td>500-700</td>\n",
              "      <td>During the sales</td>\n",
              "      <td>By them in Store</td>\n",
              "      <td>YES</td>\n",
              "      <td>Yes</td>\n",
              "      <td>4 STAR</td>\n",
              "    </tr>\n",
              "    <tr>\n",
              "      <th>4</th>\n",
              "      <td>04-08-21 19:20</td>\n",
              "      <td>18-25</td>\n",
              "      <td>Occasionally</td>\n",
              "      <td>Women Dress</td>\n",
              "      <td>Meesho</td>\n",
              "      <td>500-700</td>\n",
              "      <td>Without the sales (Off Season)</td>\n",
              "      <td>Online</td>\n",
              "      <td>YES</td>\n",
              "      <td>No</td>\n",
              "      <td>5 STAR</td>\n",
              "    </tr>\n",
              "    <tr>\n",
              "      <th>...</th>\n",
              "      <td>...</td>\n",
              "      <td>...</td>\n",
              "      <td>...</td>\n",
              "      <td>...</td>\n",
              "      <td>...</td>\n",
              "      <td>...</td>\n",
              "      <td>...</td>\n",
              "      <td>...</td>\n",
              "      <td>...</td>\n",
              "      <td>...</td>\n",
              "      <td>...</td>\n",
              "    </tr>\n",
              "    <tr>\n",
              "      <th>197</th>\n",
              "      <td>4/27/2021 11:00:23</td>\n",
              "      <td>18-25</td>\n",
              "      <td>Occasionally</td>\n",
              "      <td>Casual Dress</td>\n",
              "      <td>H&amp;M</td>\n",
              "      <td>500-700</td>\n",
              "      <td>During the sales</td>\n",
              "      <td>By them in Store</td>\n",
              "      <td>YES</td>\n",
              "      <td>No</td>\n",
              "      <td>5 STAR</td>\n",
              "    </tr>\n",
              "    <tr>\n",
              "      <th>198</th>\n",
              "      <td>4/27/2021 11:00:47</td>\n",
              "      <td>18-25</td>\n",
              "      <td>Regularly</td>\n",
              "      <td>Women Dress, Casual Dress, Ladies Tops</td>\n",
              "      <td>Adidas, H&amp;M</td>\n",
              "      <td>1000-above</td>\n",
              "      <td>During the sales</td>\n",
              "      <td>By them in Store</td>\n",
              "      <td>YES</td>\n",
              "      <td>No</td>\n",
              "      <td>5 STAR</td>\n",
              "    </tr>\n",
              "    <tr>\n",
              "      <th>199</th>\n",
              "      <td>4/27/2021 11:01:10</td>\n",
              "      <td>18-25</td>\n",
              "      <td>Regularly</td>\n",
              "      <td>T-shirt, Jeans, Ladies Tops</td>\n",
              "      <td>Adidas</td>\n",
              "      <td>700-1000</td>\n",
              "      <td>During the sales</td>\n",
              "      <td>By them in Store</td>\n",
              "      <td>YES</td>\n",
              "      <td>No</td>\n",
              "      <td>5 STAR</td>\n",
              "    </tr>\n",
              "    <tr>\n",
              "      <th>200</th>\n",
              "      <td>4/27/2021 11:01:37</td>\n",
              "      <td>18-25</td>\n",
              "      <td>Occasionally</td>\n",
              "      <td>T-shirt, Jeans</td>\n",
              "      <td>Adidas</td>\n",
              "      <td>700-1000</td>\n",
              "      <td>Without the sales (Off Season)</td>\n",
              "      <td>By them in Store</td>\n",
              "      <td>NO</td>\n",
              "      <td>No</td>\n",
              "      <td>4 STAR</td>\n",
              "    </tr>\n",
              "    <tr>\n",
              "      <th>201</th>\n",
              "      <td>4/27/2021 11:03:00</td>\n",
              "      <td>35-50</td>\n",
              "      <td>Occasionally</td>\n",
              "      <td>Women Dress, Casual Dress</td>\n",
              "      <td>H&amp;M, ZARA</td>\n",
              "      <td>700-1000</td>\n",
              "      <td>During the sales</td>\n",
              "      <td>By them in Store</td>\n",
              "      <td>YES</td>\n",
              "      <td>Yes</td>\n",
              "      <td>1 STAR</td>\n",
              "    </tr>\n",
              "  </tbody>\n",
              "</table>\n",
              "<p>202 rows × 11 columns</p>\n",
              "</div>"
            ],
            "text/plain": [
              "              Timestamp    Age  ... worstexperience Rating \n",
              "0        04-08-21 19:06  18-25  ...              No  4 STAR\n",
              "1        04-08-21 19:11  18-25  ...             Yes  3 STAR\n",
              "2        04-08-21 19:17  18-25  ...             Yes  3 STAR\n",
              "3        04-08-21 19:17  18-25  ...             Yes  4 STAR\n",
              "4        04-08-21 19:20  18-25  ...              No  5 STAR\n",
              "..                  ...    ...  ...             ...     ...\n",
              "197  4/27/2021 11:00:23  18-25  ...              No  5 STAR\n",
              "198  4/27/2021 11:00:47  18-25  ...              No  5 STAR\n",
              "199  4/27/2021 11:01:10  18-25  ...              No  5 STAR\n",
              "200  4/27/2021 11:01:37  18-25  ...              No  4 STAR\n",
              "201  4/27/2021 11:03:00  35-50  ...             Yes  1 STAR\n",
              "\n",
              "[202 rows x 11 columns]"
            ]
          },
          "metadata": {
            "tags": []
          },
          "execution_count": 159
        }
      ]
    },
    {
      "cell_type": "code",
      "metadata": {
        "colab": {
          "base_uri": "https://localhost:8080/",
          "height": 340
        },
        "id": "xIrTeg-04bmg",
        "outputId": "8e331845-e329-420a-f36c-ab9b01f51aac"
      },
      "source": [
        "Dataset.head()"
      ],
      "execution_count": 27,
      "outputs": [
        {
          "output_type": "execute_result",
          "data": {
            "text/html": [
              "<div>\n",
              "<style scoped>\n",
              "    .dataframe tbody tr th:only-of-type {\n",
              "        vertical-align: middle;\n",
              "    }\n",
              "\n",
              "    .dataframe tbody tr th {\n",
              "        vertical-align: top;\n",
              "    }\n",
              "\n",
              "    .dataframe thead th {\n",
              "        text-align: right;\n",
              "    }\n",
              "</style>\n",
              "<table border=\"1\" class=\"dataframe\">\n",
              "  <thead>\n",
              "    <tr style=\"text-align: right;\">\n",
              "      <th></th>\n",
              "      <th>Age</th>\n",
              "      <th>buy clothes</th>\n",
              "      <th>Type of clothes</th>\n",
              "      <th>Brand of clothes</th>\n",
              "      <th>Price of clothes</th>\n",
              "      <th>time_prefer</th>\n",
              "      <th>prefer purchasing</th>\n",
              "      <th>compare prices</th>\n",
              "      <th>any worst experience</th>\n",
              "      <th>Rating</th>\n",
              "    </tr>\n",
              "  </thead>\n",
              "  <tbody>\n",
              "    <tr>\n",
              "      <th>0</th>\n",
              "      <td>18-25</td>\n",
              "      <td>Occasionally</td>\n",
              "      <td>Jeans, Women Dress, Ladies Tops</td>\n",
              "      <td>NIKE, Adidas</td>\n",
              "      <td>500-700</td>\n",
              "      <td>During the sales</td>\n",
              "      <td>Online</td>\n",
              "      <td>YES</td>\n",
              "      <td>No</td>\n",
              "      <td>4 STAR</td>\n",
              "    </tr>\n",
              "    <tr>\n",
              "      <th>1</th>\n",
              "      <td>18-25</td>\n",
              "      <td>Occasionally</td>\n",
              "      <td>T-shirt, Jeans</td>\n",
              "      <td>NIKE, Adidas, H&amp;M</td>\n",
              "      <td>700-1000</td>\n",
              "      <td>During the sales</td>\n",
              "      <td>Online</td>\n",
              "      <td>YES</td>\n",
              "      <td>Yes</td>\n",
              "      <td>3 STAR</td>\n",
              "    </tr>\n",
              "    <tr>\n",
              "      <th>2</th>\n",
              "      <td>18-25</td>\n",
              "      <td>Occasionally</td>\n",
              "      <td>T-shirt, Jeans, Women Dress, Casual Dress, Lad...</td>\n",
              "      <td>NIKE, Adidas, H&amp;M, ZARA</td>\n",
              "      <td>200-500</td>\n",
              "      <td>During the sales</td>\n",
              "      <td>By them in Store</td>\n",
              "      <td>YES</td>\n",
              "      <td>Yes</td>\n",
              "      <td>3 STAR</td>\n",
              "    </tr>\n",
              "    <tr>\n",
              "      <th>3</th>\n",
              "      <td>18-25</td>\n",
              "      <td>Occasionally</td>\n",
              "      <td>Women Dress</td>\n",
              "      <td>NIKE</td>\n",
              "      <td>500-700</td>\n",
              "      <td>During the sales</td>\n",
              "      <td>By them in Store</td>\n",
              "      <td>YES</td>\n",
              "      <td>Yes</td>\n",
              "      <td>4 STAR</td>\n",
              "    </tr>\n",
              "    <tr>\n",
              "      <th>4</th>\n",
              "      <td>18-25</td>\n",
              "      <td>Occasionally</td>\n",
              "      <td>Women Dress</td>\n",
              "      <td>Meesho</td>\n",
              "      <td>500-700</td>\n",
              "      <td>Without the sales (Off Season)</td>\n",
              "      <td>Online</td>\n",
              "      <td>YES</td>\n",
              "      <td>No</td>\n",
              "      <td>5 STAR</td>\n",
              "    </tr>\n",
              "  </tbody>\n",
              "</table>\n",
              "</div>"
            ],
            "text/plain": [
              "     Age   buy clothes  ... any worst experience Rating \n",
              "0  18-25  Occasionally  ...                   No  4 STAR\n",
              "1  18-25  Occasionally  ...                  Yes  3 STAR\n",
              "2  18-25  Occasionally  ...                  Yes  3 STAR\n",
              "3  18-25  Occasionally  ...                  Yes  4 STAR\n",
              "4  18-25  Occasionally  ...                   No  5 STAR\n",
              "\n",
              "[5 rows x 10 columns]"
            ]
          },
          "metadata": {
            "tags": []
          },
          "execution_count": 27
        }
      ]
    },
    {
      "cell_type": "code",
      "metadata": {
        "colab": {
          "base_uri": "https://localhost:8080/",
          "height": 306
        },
        "id": "Jv_z2_Nh4eZm",
        "outputId": "5466d091-3385-4bee-db5d-4d2a4863cf8a"
      },
      "source": [
        "Dataset.tail()"
      ],
      "execution_count": 69,
      "outputs": [
        {
          "output_type": "execute_result",
          "data": {
            "text/html": [
              "<div>\n",
              "<style scoped>\n",
              "    .dataframe tbody tr th:only-of-type {\n",
              "        vertical-align: middle;\n",
              "    }\n",
              "\n",
              "    .dataframe tbody tr th {\n",
              "        vertical-align: top;\n",
              "    }\n",
              "\n",
              "    .dataframe thead th {\n",
              "        text-align: right;\n",
              "    }\n",
              "</style>\n",
              "<table border=\"1\" class=\"dataframe\">\n",
              "  <thead>\n",
              "    <tr style=\"text-align: right;\">\n",
              "      <th></th>\n",
              "      <th>Age</th>\n",
              "      <th>buy clothes</th>\n",
              "      <th>Type of clothes</th>\n",
              "      <th>Brand of clothes</th>\n",
              "      <th>Price of clothes</th>\n",
              "      <th>time_prefer</th>\n",
              "      <th>prefer purchasing</th>\n",
              "      <th>compare prices</th>\n",
              "      <th>any worst experience</th>\n",
              "      <th>Rating</th>\n",
              "    </tr>\n",
              "  </thead>\n",
              "  <tbody>\n",
              "    <tr>\n",
              "      <th>197</th>\n",
              "      <td>18-25</td>\n",
              "      <td>Occasionally</td>\n",
              "      <td>Casual Dress</td>\n",
              "      <td>H&amp;M</td>\n",
              "      <td>500-700</td>\n",
              "      <td>During the sales</td>\n",
              "      <td>By them in Store</td>\n",
              "      <td>YES</td>\n",
              "      <td>No</td>\n",
              "      <td>5 STAR</td>\n",
              "    </tr>\n",
              "    <tr>\n",
              "      <th>198</th>\n",
              "      <td>18-25</td>\n",
              "      <td>Regularly</td>\n",
              "      <td>Women Dress, Casual Dress, Ladies Tops</td>\n",
              "      <td>Adidas, H&amp;M</td>\n",
              "      <td>1000-above</td>\n",
              "      <td>During the sales</td>\n",
              "      <td>By them in Store</td>\n",
              "      <td>YES</td>\n",
              "      <td>No</td>\n",
              "      <td>5 STAR</td>\n",
              "    </tr>\n",
              "    <tr>\n",
              "      <th>199</th>\n",
              "      <td>18-25</td>\n",
              "      <td>Regularly</td>\n",
              "      <td>T-shirt, Jeans, Ladies Tops</td>\n",
              "      <td>Adidas</td>\n",
              "      <td>700-1000</td>\n",
              "      <td>During the sales</td>\n",
              "      <td>By them in Store</td>\n",
              "      <td>YES</td>\n",
              "      <td>No</td>\n",
              "      <td>5 STAR</td>\n",
              "    </tr>\n",
              "    <tr>\n",
              "      <th>200</th>\n",
              "      <td>18-25</td>\n",
              "      <td>Occasionally</td>\n",
              "      <td>T-shirt, Jeans</td>\n",
              "      <td>Adidas</td>\n",
              "      <td>700-1000</td>\n",
              "      <td>Without the sales (Off Season)</td>\n",
              "      <td>By them in Store</td>\n",
              "      <td>NO</td>\n",
              "      <td>No</td>\n",
              "      <td>4 STAR</td>\n",
              "    </tr>\n",
              "    <tr>\n",
              "      <th>201</th>\n",
              "      <td>35-50</td>\n",
              "      <td>Occasionally</td>\n",
              "      <td>Women Dress, Casual Dress</td>\n",
              "      <td>H&amp;M, ZARA</td>\n",
              "      <td>700-1000</td>\n",
              "      <td>During the sales</td>\n",
              "      <td>By them in Store</td>\n",
              "      <td>YES</td>\n",
              "      <td>Yes</td>\n",
              "      <td>1 STAR</td>\n",
              "    </tr>\n",
              "  </tbody>\n",
              "</table>\n",
              "</div>"
            ],
            "text/plain": [
              "       Age   buy clothes  ... any worst experience Rating \n",
              "197  18-25  Occasionally  ...                   No  5 STAR\n",
              "198  18-25     Regularly  ...                   No  5 STAR\n",
              "199  18-25     Regularly  ...                   No  5 STAR\n",
              "200  18-25  Occasionally  ...                   No  4 STAR\n",
              "201  35-50  Occasionally  ...                  Yes  1 STAR\n",
              "\n",
              "[5 rows x 10 columns]"
            ]
          },
          "metadata": {
            "tags": []
          },
          "execution_count": 69
        }
      ]
    },
    {
      "cell_type": "code",
      "metadata": {
        "colab": {
          "base_uri": "https://localhost:8080/"
        },
        "id": "x327CfsE4iFc",
        "outputId": "ce8c8ec1-f84c-4c1e-8260-872c1b428c5b"
      },
      "source": [
        "len(Dataset)"
      ],
      "execution_count": 85,
      "outputs": [
        {
          "output_type": "execute_result",
          "data": {
            "text/plain": [
              "202"
            ]
          },
          "metadata": {
            "tags": []
          },
          "execution_count": 85
        }
      ]
    },
    {
      "cell_type": "code",
      "metadata": {
        "colab": {
          "base_uri": "https://localhost:8080/"
        },
        "id": "lUFrIhNK4mqT",
        "outputId": "c07780cf-d942-4bdb-bd04-2d1b53efd247"
      },
      "source": [
        "Dataset.shape"
      ],
      "execution_count": 152,
      "outputs": [
        {
          "output_type": "execute_result",
          "data": {
            "text/plain": [
              "(202, 11)"
            ]
          },
          "metadata": {
            "tags": []
          },
          "execution_count": 152
        }
      ]
    },
    {
      "cell_type": "code",
      "metadata": {
        "colab": {
          "base_uri": "https://localhost:8080/"
        },
        "id": "b7lyBwQD4rO9",
        "outputId": "daba5583-2c7d-4f9e-8b18-2e7d9048dc0b"
      },
      "source": [
        "Dataset.dtypes"
      ],
      "execution_count": 97,
      "outputs": [
        {
          "output_type": "execute_result",
          "data": {
            "text/plain": [
              "Age                  object\n",
              "buyclothes           object\n",
              "Type                 object\n",
              "Brand                object\n",
              "Price                object\n",
              "time_prefer          object\n",
              "preferpurchasing     object\n",
              "compareprices        object\n",
              "worstexperience      object\n",
              "Rating               object\n",
              "dtype: object"
            ]
          },
          "metadata": {
            "tags": []
          },
          "execution_count": 97
        }
      ]
    },
    {
      "cell_type": "code",
      "metadata": {
        "colab": {
          "base_uri": "https://localhost:8080/"
        },
        "id": "dxMjQB-T43fm",
        "outputId": "231d7710-db72-49fe-a760-96c9a9297a7a"
      },
      "source": [
        "Dataset.info()"
      ],
      "execution_count": 98,
      "outputs": [
        {
          "output_type": "stream",
          "text": [
            "<class 'pandas.core.frame.DataFrame'>\n",
            "RangeIndex: 202 entries, 0 to 201\n",
            "Data columns (total 10 columns):\n",
            " #   Column             Non-Null Count  Dtype \n",
            "---  ------             --------------  ----- \n",
            " 0   Age                202 non-null    object\n",
            " 1   buyclothes         202 non-null    object\n",
            " 2   Type               202 non-null    object\n",
            " 3   Brand              202 non-null    object\n",
            " 4   Price              202 non-null    object\n",
            " 5   time_prefer        202 non-null    object\n",
            " 6   preferpurchasing   202 non-null    object\n",
            " 7   compareprices      202 non-null    object\n",
            " 8   worstexperience    202 non-null    object\n",
            " 9   Rating             202 non-null    object\n",
            "dtypes: object(10)\n",
            "memory usage: 15.9+ KB\n"
          ],
          "name": "stdout"
        }
      ]
    },
    {
      "cell_type": "code",
      "metadata": {
        "colab": {
          "base_uri": "https://localhost:8080/"
        },
        "id": "ZV87IM_D46SC",
        "outputId": "b877ea9a-50d9-4ac2-e1db-dfc36ee146a9"
      },
      "source": [
        "Dataset[\"Brand\"].value_counts()"
      ],
      "execution_count": 99,
      "outputs": [
        {
          "output_type": "execute_result",
          "data": {
            "text/plain": [
              "NIKE, Adidas                        33\n",
              "Adidas, H&M                         23\n",
              "H&M                                 20\n",
              "NIKE, Adidas, H&M                   11\n",
              "Adidas                              10\n",
              "NIKE                                10\n",
              "NIKE, Adidas, H&M, LEVIS             9\n",
              "H&M, ZARA, LEVIS                     7\n",
              "NIKE, Adidas, LEVIS                  6\n",
              "NIKE, Adidas, ZARA, LEVIS            5\n",
              "NIKE, GUCCI, Adidas                  5\n",
              "GUCCI, ZARA, LEVIS                   5\n",
              "Adidas, H&M, ZARA, LEVIS             5\n",
              "ZARA, LEVIS                          4\n",
              "Adidas, H&M, ZARA                    4\n",
              "NIKE, Adidas, H&M, ZARA, LEVIS       4\n",
              "GUCCI, Adidas, H&M                   3\n",
              "Adidas, LEVIS                        3\n",
              "ZARA                                 3\n",
              "NIKE, Adidas, H&M, ZARA              2\n",
              "NIKE, GUCCI, Adidas, H&M             2\n",
              "GUCCI, H&M, ZARA, LEVIS              2\n",
              "NIKE, GUCCI, Adidas, LEVIS           2\n",
              "LEVIS                                2\n",
              "NIKE, H&M, ZARA, LEVIS               2\n",
              "GUCCI, Adidas, H&M, ZARA             1\n",
              "NIKE, GUCCI, H&M, ZARA               1\n",
              "NIKE, LEVIS                          1\n",
              "Fasla                                1\n",
              "NIKE, H&M                            1\n",
              "GUCCI, Adidas                        1\n",
              "NIKE, Adidas, ZARA                   1\n",
              "NIKE, GUCCI                          1\n",
              "GUCCI, Adidas, ZARA                  1\n",
              "Meesho                               1\n",
              "NIKE, GUCCI, H&M, ZARA, LEVIS        1\n",
              "H&M, ZARA                            1\n",
              "NIKE, GUCCI, Adidas, ZARA, LEVIS     1\n",
              "GUCCI, Adidas, H&M, ZARA, LEVIS      1\n",
              "H&M, LEVIS                           1\n",
              "NIKE, GUCCI, Adidas, H&M, LEVIS      1\n",
              "Adidas, H&M, LEVIS                   1\n",
              "NIKE, ZARA                           1\n",
              "Local shops                          1\n",
              "Don't know                           1\n",
              "Name: Brand, dtype: int64"
            ]
          },
          "metadata": {
            "tags": []
          },
          "execution_count": 99
        }
      ]
    },
    {
      "cell_type": "code",
      "metadata": {
        "colab": {
          "base_uri": "https://localhost:8080/"
        },
        "id": "T2YE7DW29tX8",
        "outputId": "2f77204d-7f58-4eaa-8765-bef53dab4dc7"
      },
      "source": [
        "Dataset['Age']"
      ],
      "execution_count": 100,
      "outputs": [
        {
          "output_type": "execute_result",
          "data": {
            "text/plain": [
              "0      18-25\n",
              "1      18-25\n",
              "2      18-25\n",
              "3      18-25\n",
              "4      18-25\n",
              "       ...  \n",
              "197    18-25\n",
              "198    18-25\n",
              "199    18-25\n",
              "200    18-25\n",
              "201    35-50\n",
              "Name: Age, Length: 202, dtype: object"
            ]
          },
          "metadata": {
            "tags": []
          },
          "execution_count": 100
        }
      ]
    },
    {
      "cell_type": "code",
      "metadata": {
        "colab": {
          "base_uri": "https://localhost:8080/"
        },
        "id": "kXMOiL4C9zys",
        "outputId": "d56fa418-4ad7-4f8c-cd79-7890098cd566"
      },
      "source": [
        "Dataset[\"Age\"].value_counts()"
      ],
      "execution_count": 153,
      "outputs": [
        {
          "output_type": "execute_result",
          "data": {
            "text/plain": [
              "18-25         162\n",
              "25-35          27\n",
              "35-50          12\n",
              "50 - above      1\n",
              "Name: Age, dtype: int64"
            ]
          },
          "metadata": {
            "tags": []
          },
          "execution_count": 153
        }
      ]
    },
    {
      "cell_type": "code",
      "metadata": {
        "colab": {
          "base_uri": "https://localhost:8080/"
        },
        "id": "tes6zbKr97np",
        "outputId": "13fa87bc-38ad-4fc6-e670-501a01df9350"
      },
      "source": [
        "Dataset['Age'].isnull().values.any()"
      ],
      "execution_count": 44,
      "outputs": [
        {
          "output_type": "execute_result",
          "data": {
            "text/plain": [
              "False"
            ]
          },
          "metadata": {
            "tags": []
          },
          "execution_count": 44
        }
      ]
    },
    {
      "cell_type": "code",
      "metadata": {
        "colab": {
          "base_uri": "https://localhost:8080/"
        },
        "id": "4uYEExfZ-BEf",
        "outputId": "4663566d-e448-49da-a873-99a911d004ae"
      },
      "source": [
        "Dataset['Age'].isnull().sum()"
      ],
      "execution_count": 45,
      "outputs": [
        {
          "output_type": "execute_result",
          "data": {
            "text/plain": [
              "0"
            ]
          },
          "metadata": {
            "tags": []
          },
          "execution_count": 45
        }
      ]
    },
    {
      "cell_type": "code",
      "metadata": {
        "colab": {
          "base_uri": "https://localhost:8080/",
          "height": 932
        },
        "id": "YKhzEB44-HJB",
        "outputId": "577b4a91-9a49-4d8c-b002-f530a6c26b19"
      },
      "source": [
        "values = Dataset.values\n",
        "Dataset"
      ],
      "execution_count": 154,
      "outputs": [
        {
          "output_type": "execute_result",
          "data": {
            "text/html": [
              "<div>\n",
              "<style scoped>\n",
              "    .dataframe tbody tr th:only-of-type {\n",
              "        vertical-align: middle;\n",
              "    }\n",
              "\n",
              "    .dataframe tbody tr th {\n",
              "        vertical-align: top;\n",
              "    }\n",
              "\n",
              "    .dataframe thead th {\n",
              "        text-align: right;\n",
              "    }\n",
              "</style>\n",
              "<table border=\"1\" class=\"dataframe\">\n",
              "  <thead>\n",
              "    <tr style=\"text-align: right;\">\n",
              "      <th></th>\n",
              "      <th>Timestamp</th>\n",
              "      <th>Age</th>\n",
              "      <th>buyclothes</th>\n",
              "      <th>Type</th>\n",
              "      <th>Brand</th>\n",
              "      <th>Price</th>\n",
              "      <th>time_prefer</th>\n",
              "      <th>preferpurchasing</th>\n",
              "      <th>compareprices</th>\n",
              "      <th>worstexperience</th>\n",
              "      <th>Rating</th>\n",
              "    </tr>\n",
              "  </thead>\n",
              "  <tbody>\n",
              "    <tr>\n",
              "      <th>0</th>\n",
              "      <td>04-08-21 19:06</td>\n",
              "      <td>18-25</td>\n",
              "      <td>Occasionally</td>\n",
              "      <td>Jeans, Women Dress, Ladies Tops</td>\n",
              "      <td>NIKE, Adidas</td>\n",
              "      <td>500-700</td>\n",
              "      <td>During the sales</td>\n",
              "      <td>Online</td>\n",
              "      <td>YES</td>\n",
              "      <td>No</td>\n",
              "      <td>4 STAR</td>\n",
              "    </tr>\n",
              "    <tr>\n",
              "      <th>1</th>\n",
              "      <td>04-08-21 19:11</td>\n",
              "      <td>18-25</td>\n",
              "      <td>Occasionally</td>\n",
              "      <td>T-shirt, Jeans</td>\n",
              "      <td>NIKE, Adidas, H&amp;M</td>\n",
              "      <td>700-1000</td>\n",
              "      <td>During the sales</td>\n",
              "      <td>Online</td>\n",
              "      <td>YES</td>\n",
              "      <td>Yes</td>\n",
              "      <td>3 STAR</td>\n",
              "    </tr>\n",
              "    <tr>\n",
              "      <th>2</th>\n",
              "      <td>04-08-21 19:17</td>\n",
              "      <td>18-25</td>\n",
              "      <td>Occasionally</td>\n",
              "      <td>T-shirt, Jeans, Women Dress, Casual Dress, Lad...</td>\n",
              "      <td>NIKE, Adidas, H&amp;M, ZARA</td>\n",
              "      <td>200-500</td>\n",
              "      <td>During the sales</td>\n",
              "      <td>By them in Store</td>\n",
              "      <td>YES</td>\n",
              "      <td>Yes</td>\n",
              "      <td>3 STAR</td>\n",
              "    </tr>\n",
              "    <tr>\n",
              "      <th>3</th>\n",
              "      <td>04-08-21 19:17</td>\n",
              "      <td>18-25</td>\n",
              "      <td>Occasionally</td>\n",
              "      <td>Women Dress</td>\n",
              "      <td>NIKE</td>\n",
              "      <td>500-700</td>\n",
              "      <td>During the sales</td>\n",
              "      <td>By them in Store</td>\n",
              "      <td>YES</td>\n",
              "      <td>Yes</td>\n",
              "      <td>4 STAR</td>\n",
              "    </tr>\n",
              "    <tr>\n",
              "      <th>4</th>\n",
              "      <td>04-08-21 19:20</td>\n",
              "      <td>18-25</td>\n",
              "      <td>Occasionally</td>\n",
              "      <td>Women Dress</td>\n",
              "      <td>Meesho</td>\n",
              "      <td>500-700</td>\n",
              "      <td>Without the sales (Off Season)</td>\n",
              "      <td>Online</td>\n",
              "      <td>YES</td>\n",
              "      <td>No</td>\n",
              "      <td>5 STAR</td>\n",
              "    </tr>\n",
              "    <tr>\n",
              "      <th>...</th>\n",
              "      <td>...</td>\n",
              "      <td>...</td>\n",
              "      <td>...</td>\n",
              "      <td>...</td>\n",
              "      <td>...</td>\n",
              "      <td>...</td>\n",
              "      <td>...</td>\n",
              "      <td>...</td>\n",
              "      <td>...</td>\n",
              "      <td>...</td>\n",
              "      <td>...</td>\n",
              "    </tr>\n",
              "    <tr>\n",
              "      <th>197</th>\n",
              "      <td>4/27/2021 11:00:23</td>\n",
              "      <td>18-25</td>\n",
              "      <td>Occasionally</td>\n",
              "      <td>Casual Dress</td>\n",
              "      <td>H&amp;M</td>\n",
              "      <td>500-700</td>\n",
              "      <td>During the sales</td>\n",
              "      <td>By them in Store</td>\n",
              "      <td>YES</td>\n",
              "      <td>No</td>\n",
              "      <td>5 STAR</td>\n",
              "    </tr>\n",
              "    <tr>\n",
              "      <th>198</th>\n",
              "      <td>4/27/2021 11:00:47</td>\n",
              "      <td>18-25</td>\n",
              "      <td>Regularly</td>\n",
              "      <td>Women Dress, Casual Dress, Ladies Tops</td>\n",
              "      <td>Adidas, H&amp;M</td>\n",
              "      <td>1000-above</td>\n",
              "      <td>During the sales</td>\n",
              "      <td>By them in Store</td>\n",
              "      <td>YES</td>\n",
              "      <td>No</td>\n",
              "      <td>5 STAR</td>\n",
              "    </tr>\n",
              "    <tr>\n",
              "      <th>199</th>\n",
              "      <td>4/27/2021 11:01:10</td>\n",
              "      <td>18-25</td>\n",
              "      <td>Regularly</td>\n",
              "      <td>T-shirt, Jeans, Ladies Tops</td>\n",
              "      <td>Adidas</td>\n",
              "      <td>700-1000</td>\n",
              "      <td>During the sales</td>\n",
              "      <td>By them in Store</td>\n",
              "      <td>YES</td>\n",
              "      <td>No</td>\n",
              "      <td>5 STAR</td>\n",
              "    </tr>\n",
              "    <tr>\n",
              "      <th>200</th>\n",
              "      <td>4/27/2021 11:01:37</td>\n",
              "      <td>18-25</td>\n",
              "      <td>Occasionally</td>\n",
              "      <td>T-shirt, Jeans</td>\n",
              "      <td>Adidas</td>\n",
              "      <td>700-1000</td>\n",
              "      <td>Without the sales (Off Season)</td>\n",
              "      <td>By them in Store</td>\n",
              "      <td>NO</td>\n",
              "      <td>No</td>\n",
              "      <td>4 STAR</td>\n",
              "    </tr>\n",
              "    <tr>\n",
              "      <th>201</th>\n",
              "      <td>4/27/2021 11:03:00</td>\n",
              "      <td>35-50</td>\n",
              "      <td>Occasionally</td>\n",
              "      <td>Women Dress, Casual Dress</td>\n",
              "      <td>H&amp;M, ZARA</td>\n",
              "      <td>700-1000</td>\n",
              "      <td>During the sales</td>\n",
              "      <td>By them in Store</td>\n",
              "      <td>YES</td>\n",
              "      <td>Yes</td>\n",
              "      <td>1 STAR</td>\n",
              "    </tr>\n",
              "  </tbody>\n",
              "</table>\n",
              "<p>202 rows × 11 columns</p>\n",
              "</div>"
            ],
            "text/plain": [
              "              Timestamp    Age  ... worstexperience Rating \n",
              "0        04-08-21 19:06  18-25  ...              No  4 STAR\n",
              "1        04-08-21 19:11  18-25  ...             Yes  3 STAR\n",
              "2        04-08-21 19:17  18-25  ...             Yes  3 STAR\n",
              "3        04-08-21 19:17  18-25  ...             Yes  4 STAR\n",
              "4        04-08-21 19:20  18-25  ...              No  5 STAR\n",
              "..                  ...    ...  ...             ...     ...\n",
              "197  4/27/2021 11:00:23  18-25  ...              No  5 STAR\n",
              "198  4/27/2021 11:00:47  18-25  ...              No  5 STAR\n",
              "199  4/27/2021 11:01:10  18-25  ...              No  5 STAR\n",
              "200  4/27/2021 11:01:37  18-25  ...              No  4 STAR\n",
              "201  4/27/2021 11:03:00  35-50  ...             Yes  1 STAR\n",
              "\n",
              "[202 rows x 11 columns]"
            ]
          },
          "metadata": {
            "tags": []
          },
          "execution_count": 154
        }
      ]
    },
    {
      "cell_type": "code",
      "metadata": {
        "colab": {
          "base_uri": "https://localhost:8080/"
        },
        "id": "HB4tFnfO-UL_",
        "outputId": "9410e28a-6031-4aa0-fdc4-81b6ba5072e2"
      },
      "source": [
        "Dataset.Age.head(10)"
      ],
      "execution_count": 47,
      "outputs": [
        {
          "output_type": "execute_result",
          "data": {
            "text/plain": [
              "0    18-25\n",
              "1    18-25\n",
              "2    18-25\n",
              "3    18-25\n",
              "4    18-25\n",
              "5    18-25\n",
              "6    18-25\n",
              "7    25-35\n",
              "8    18-25\n",
              "9    18-25\n",
              "Name: Age, dtype: object"
            ]
          },
          "metadata": {
            "tags": []
          },
          "execution_count": 47
        }
      ]
    },
    {
      "cell_type": "code",
      "metadata": {
        "colab": {
          "base_uri": "https://localhost:8080/"
        },
        "id": "Km57NDmz-fee",
        "outputId": "56a15f55-e165-4726-a314-43f6ad0627e5"
      },
      "source": [
        "Dataset.dropna(axis=0,how='any').shape"
      ],
      "execution_count": 48,
      "outputs": [
        {
          "output_type": "execute_result",
          "data": {
            "text/plain": [
              "(202, 10)"
            ]
          },
          "metadata": {
            "tags": []
          },
          "execution_count": 48
        }
      ]
    },
    {
      "cell_type": "code",
      "metadata": {
        "id": "M4J9EAy2-kdS"
      },
      "source": [
        "Dataset.dropna(axis=0,how='any',inplace=True)"
      ],
      "execution_count": 49,
      "outputs": []
    },
    {
      "cell_type": "code",
      "metadata": {
        "id": "LmI1reGj-qXZ"
      },
      "source": [
        "Dataset['Age'] = Dataset['Age'].replace(['all'],'18-25')"
      ],
      "execution_count": 54,
      "outputs": []
    },
    {
      "cell_type": "code",
      "metadata": {
        "colab": {
          "base_uri": "https://localhost:8080/",
          "height": 844
        },
        "id": "174SPIKx-u-k",
        "outputId": "48633acc-1542-4fc3-82ca-1432894ebf4a"
      },
      "source": [
        "Dataset"
      ],
      "execution_count": 134,
      "outputs": [
        {
          "output_type": "execute_result",
          "data": {
            "text/html": [
              "<div>\n",
              "<style scoped>\n",
              "    .dataframe tbody tr th:only-of-type {\n",
              "        vertical-align: middle;\n",
              "    }\n",
              "\n",
              "    .dataframe tbody tr th {\n",
              "        vertical-align: top;\n",
              "    }\n",
              "\n",
              "    .dataframe thead th {\n",
              "        text-align: right;\n",
              "    }\n",
              "</style>\n",
              "<table border=\"1\" class=\"dataframe\">\n",
              "  <thead>\n",
              "    <tr style=\"text-align: right;\">\n",
              "      <th></th>\n",
              "      <th>Age</th>\n",
              "      <th>buyclothes</th>\n",
              "      <th>Type</th>\n",
              "      <th>Brand</th>\n",
              "      <th>Price</th>\n",
              "      <th>time_prefer</th>\n",
              "      <th>preferpurchasing</th>\n",
              "      <th>compareprices</th>\n",
              "      <th>worstexperience</th>\n",
              "      <th>Rating</th>\n",
              "    </tr>\n",
              "  </thead>\n",
              "  <tbody>\n",
              "    <tr>\n",
              "      <th>0</th>\n",
              "      <td>18-25</td>\n",
              "      <td>Occasionally</td>\n",
              "      <td>Jeans, Women Dress, Ladies Tops</td>\n",
              "      <td>NIKE, Adidas</td>\n",
              "      <td>500-700</td>\n",
              "      <td>During the sales</td>\n",
              "      <td>Online</td>\n",
              "      <td>YES</td>\n",
              "      <td>No</td>\n",
              "      <td>4 STAR</td>\n",
              "    </tr>\n",
              "    <tr>\n",
              "      <th>1</th>\n",
              "      <td>18-25</td>\n",
              "      <td>Occasionally</td>\n",
              "      <td>T-shirt, Jeans</td>\n",
              "      <td>NIKE, Adidas, H&amp;M</td>\n",
              "      <td>700-1000</td>\n",
              "      <td>During the sales</td>\n",
              "      <td>Online</td>\n",
              "      <td>YES</td>\n",
              "      <td>Yes</td>\n",
              "      <td>3 STAR</td>\n",
              "    </tr>\n",
              "    <tr>\n",
              "      <th>2</th>\n",
              "      <td>18-25</td>\n",
              "      <td>Occasionally</td>\n",
              "      <td>T-shirt, Jeans, Women Dress, Casual Dress, Lad...</td>\n",
              "      <td>NIKE, Adidas, H&amp;M, ZARA</td>\n",
              "      <td>200-500</td>\n",
              "      <td>During the sales</td>\n",
              "      <td>By them in Store</td>\n",
              "      <td>YES</td>\n",
              "      <td>Yes</td>\n",
              "      <td>3 STAR</td>\n",
              "    </tr>\n",
              "    <tr>\n",
              "      <th>3</th>\n",
              "      <td>18-25</td>\n",
              "      <td>Occasionally</td>\n",
              "      <td>Women Dress</td>\n",
              "      <td>NIKE</td>\n",
              "      <td>500-700</td>\n",
              "      <td>During the sales</td>\n",
              "      <td>By them in Store</td>\n",
              "      <td>YES</td>\n",
              "      <td>Yes</td>\n",
              "      <td>4 STAR</td>\n",
              "    </tr>\n",
              "    <tr>\n",
              "      <th>4</th>\n",
              "      <td>18-25</td>\n",
              "      <td>Occasionally</td>\n",
              "      <td>Women Dress</td>\n",
              "      <td>Meesho</td>\n",
              "      <td>500-700</td>\n",
              "      <td>Without the sales (Off Season)</td>\n",
              "      <td>Online</td>\n",
              "      <td>YES</td>\n",
              "      <td>No</td>\n",
              "      <td>5 STAR</td>\n",
              "    </tr>\n",
              "    <tr>\n",
              "      <th>...</th>\n",
              "      <td>...</td>\n",
              "      <td>...</td>\n",
              "      <td>...</td>\n",
              "      <td>...</td>\n",
              "      <td>...</td>\n",
              "      <td>...</td>\n",
              "      <td>...</td>\n",
              "      <td>...</td>\n",
              "      <td>...</td>\n",
              "      <td>...</td>\n",
              "    </tr>\n",
              "    <tr>\n",
              "      <th>197</th>\n",
              "      <td>18-25</td>\n",
              "      <td>Occasionally</td>\n",
              "      <td>Casual Dress</td>\n",
              "      <td>H&amp;M</td>\n",
              "      <td>500-700</td>\n",
              "      <td>During the sales</td>\n",
              "      <td>By them in Store</td>\n",
              "      <td>YES</td>\n",
              "      <td>No</td>\n",
              "      <td>5 STAR</td>\n",
              "    </tr>\n",
              "    <tr>\n",
              "      <th>198</th>\n",
              "      <td>18-25</td>\n",
              "      <td>Regularly</td>\n",
              "      <td>Women Dress, Casual Dress, Ladies Tops</td>\n",
              "      <td>Adidas, H&amp;M</td>\n",
              "      <td>1000-above</td>\n",
              "      <td>During the sales</td>\n",
              "      <td>By them in Store</td>\n",
              "      <td>YES</td>\n",
              "      <td>No</td>\n",
              "      <td>5 STAR</td>\n",
              "    </tr>\n",
              "    <tr>\n",
              "      <th>199</th>\n",
              "      <td>18-25</td>\n",
              "      <td>Regularly</td>\n",
              "      <td>T-shirt, Jeans, Ladies Tops</td>\n",
              "      <td>Adidas</td>\n",
              "      <td>700-1000</td>\n",
              "      <td>During the sales</td>\n",
              "      <td>By them in Store</td>\n",
              "      <td>YES</td>\n",
              "      <td>No</td>\n",
              "      <td>5 STAR</td>\n",
              "    </tr>\n",
              "    <tr>\n",
              "      <th>200</th>\n",
              "      <td>18-25</td>\n",
              "      <td>Occasionally</td>\n",
              "      <td>T-shirt, Jeans</td>\n",
              "      <td>Adidas</td>\n",
              "      <td>700-1000</td>\n",
              "      <td>Without the sales (Off Season)</td>\n",
              "      <td>By them in Store</td>\n",
              "      <td>NO</td>\n",
              "      <td>No</td>\n",
              "      <td>4 STAR</td>\n",
              "    </tr>\n",
              "    <tr>\n",
              "      <th>201</th>\n",
              "      <td>35-50</td>\n",
              "      <td>Occasionally</td>\n",
              "      <td>Women Dress, Casual Dress</td>\n",
              "      <td>H&amp;M, ZARA</td>\n",
              "      <td>700-1000</td>\n",
              "      <td>During the sales</td>\n",
              "      <td>By them in Store</td>\n",
              "      <td>YES</td>\n",
              "      <td>Yes</td>\n",
              "      <td>1 STAR</td>\n",
              "    </tr>\n",
              "  </tbody>\n",
              "</table>\n",
              "<p>202 rows × 10 columns</p>\n",
              "</div>"
            ],
            "text/plain": [
              "       Age    buyclothes  ... worstexperience Rating \n",
              "0    18-25  Occasionally  ...              No  4 STAR\n",
              "1    18-25  Occasionally  ...             Yes  3 STAR\n",
              "2    18-25  Occasionally  ...             Yes  3 STAR\n",
              "3    18-25  Occasionally  ...             Yes  4 STAR\n",
              "4    18-25  Occasionally  ...              No  5 STAR\n",
              "..     ...           ...  ...             ...     ...\n",
              "197  18-25  Occasionally  ...              No  5 STAR\n",
              "198  18-25     Regularly  ...              No  5 STAR\n",
              "199  18-25     Regularly  ...              No  5 STAR\n",
              "200  18-25  Occasionally  ...              No  4 STAR\n",
              "201  35-50  Occasionally  ...             Yes  1 STAR\n",
              "\n",
              "[202 rows x 10 columns]"
            ]
          },
          "metadata": {
            "tags": []
          },
          "execution_count": 134
        }
      ]
    },
    {
      "cell_type": "code",
      "metadata": {
        "colab": {
          "base_uri": "https://localhost:8080/"
        },
        "id": "vo3iKRee-3Ms",
        "outputId": "de9740ba-3f3b-413d-8d09-f077dd4b515a"
      },
      "source": [
        "Dataset.dropna(subset=['Age'],how='all').shape"
      ],
      "execution_count": 56,
      "outputs": [
        {
          "output_type": "execute_result",
          "data": {
            "text/plain": [
              "(202, 10)"
            ]
          },
          "metadata": {
            "tags": []
          },
          "execution_count": 56
        }
      ]
    },
    {
      "cell_type": "code",
      "metadata": {
        "colab": {
          "base_uri": "https://localhost:8080/"
        },
        "id": "hdXPB4TT-9g5",
        "outputId": "8c4a62d0-5784-4570-a9a5-a35de3bd17ee"
      },
      "source": [
        "Dataset['Age'].fillna(value='18-25')"
      ],
      "execution_count": 58,
      "outputs": [
        {
          "output_type": "execute_result",
          "data": {
            "text/plain": [
              "0      18-25\n",
              "1      18-25\n",
              "2      18-25\n",
              "3      18-25\n",
              "4      18-25\n",
              "       ...  \n",
              "197    18-25\n",
              "198    18-25\n",
              "199    18-25\n",
              "200    18-25\n",
              "201    35-50\n",
              "Name: Age, Length: 202, dtype: object"
            ]
          },
          "metadata": {
            "tags": []
          },
          "execution_count": 58
        }
      ]
    },
    {
      "cell_type": "code",
      "metadata": {
        "colab": {
          "base_uri": "https://localhost:8080/"
        },
        "id": "td5_1sqr_PRf",
        "outputId": "89c6eb8b-cdb2-4e51-ada6-c012d1d0eaa6"
      },
      "source": [
        "Dataset['Age'].unique()"
      ],
      "execution_count": 77,
      "outputs": [
        {
          "output_type": "execute_result",
          "data": {
            "text/plain": [
              "array(['18-25', '25-35', '35-50', '50 - above'], dtype=object)"
            ]
          },
          "metadata": {
            "tags": []
          },
          "execution_count": 77
        }
      ]
    },
    {
      "cell_type": "code",
      "metadata": {
        "colab": {
          "base_uri": "https://localhost:8080/"
        },
        "id": "2yGuFn84Azho",
        "outputId": "dfbc8500-a873-400e-ce33-415bdf895048"
      },
      "source": [
        "Dataset.columns"
      ],
      "execution_count": 92,
      "outputs": [
        {
          "output_type": "execute_result",
          "data": {
            "text/plain": [
              "Index(['Age', 'buyclothes', 'Type', 'Brand ', 'Price', 'time_prefer ',\n",
              "       ' preferpurchasing ', 'compareprices ', 'worstexperience', 'Rating '],\n",
              "      dtype='object')"
            ]
          },
          "metadata": {
            "tags": []
          },
          "execution_count": 92
        }
      ]
    },
    {
      "cell_type": "code",
      "metadata": {
        "id": "qWFhaURI5Mx0"
      },
      "source": [
        "def split_multicolumn(Brand):\n",
        "    result_df = Brand.to_frame()\n",
        "    options = []\n",
        "    # Iterate over the column\n",
        "    for idx, value  in Brand[Brand.notnull()].iteritems():\n",
        "        # Break each value into list of options\n",
        "        for option in value.split(','):\n",
        "            # Add the option as a column to result\n",
        "            if not option in result_df.columns:\n",
        "                options.append(option)\n",
        "                result_df[option] = False\n",
        "            # Mark the value in the option column as True\n",
        "            result_df.at[idx, option] = True\n",
        "    return result_df[options]"
      ],
      "execution_count": 106,
      "outputs": []
    },
    {
      "cell_type": "code",
      "metadata": {
        "id": "H78HMU7w5WVE"
      },
      "source": [
        "Brand_df = split_multicolumn(Dataset.Brand)\n",
        "Brand_split = Brand_df.sum().sort_values(ascending=False)"
      ],
      "execution_count": 136,
      "outputs": []
    },
    {
      "cell_type": "code",
      "metadata": {
        "colab": {
          "base_uri": "https://localhost:8080/",
          "height": 485
        },
        "id": "ks3PEYra5Z39",
        "outputId": "f37c5cbd-01ca-411c-f1dc-3651749b41c9"
      },
      "source": [
        "plt.figure(figsize=(12,8))\n",
        "sns.barplot(x=Brand_split.values, y=Brand_split.index);"
      ],
      "execution_count": 160,
      "outputs": [
        {
          "output_type": "display_data",
          "data": {
            "image/png": "[encoded data removed]",
            "text/plain": [
              "<Figure size 864x576 with 1 Axes>"
            ]
          },
          "metadata": {
            "tags": [],
            "needs_background": "light"
          }
        }
      ]
    },
    {
      "cell_type": "code",
      "metadata": {
        "colab": {
          "base_uri": "https://localhost:8080/",
          "height": 285
        },
        "id": "mlo2g21kHinl",
        "outputId": "95bcc514-1232-4b6f-846f-93c20b0cd5a8"
      },
      "source": [
        "sns.countplot(x=Brand_split.values,data=Dataset,palette=\"Set3\")"
      ],
      "execution_count": 128,
      "outputs": [
        {
          "output_type": "execute_result",
          "data": {
            "text/plain": [
              "<matplotlib.axes._subplots.AxesSubplot at 0x7ff6008ad690>"
            ]
          },
          "metadata": {
            "tags": []
          },
          "execution_count": 128
        },
        {
          "output_type": "display_data",
          "data": {
            "image/png": "[encoded data removed]",
            "text/plain": [
              "<Figure size 432x288 with 1 Axes>"
            ]
          },
          "metadata": {
            "tags": [],
            "needs_background": "light"
          }
        }
      ]
    },
    {
      "cell_type": "code",
      "metadata": {
        "id": "I2XkL8g5I8tZ"
      },
      "source": [
        "def split_multicolumn(Type):\n",
        "    result_df = Type.to_frame()\n",
        "    options = []\n",
        "    # Iterate over the column\n",
        "    for idx, value  in Type[Type.notnull()].iteritems():\n",
        "        # Break each value into list of options\n",
        "        for option in value.split(','):\n",
        "            # Add the option as a column to result\n",
        "            if not option in result_df.columns:\n",
        "                options.append(option)\n",
        "                result_df[option] = False\n",
        "            # Mark the value in the option column as True\n",
        "            result_df.at[idx, option] = True\n",
        "    return result_df[options]"
      ],
      "execution_count": 140,
      "outputs": []
    },
    {
      "cell_type": "code",
      "metadata": {
        "id": "oLlIJXGCJET2"
      },
      "source": [
        "Type_df = split_multicolumn(Dataset.Type)\n",
        "Type_split = Type_df.sum().sort_values(ascending=False)"
      ],
      "execution_count": 142,
      "outputs": []
    },
    {
      "cell_type": "code",
      "metadata": {
        "colab": {
          "base_uri": "https://localhost:8080/",
          "height": 485
        },
        "id": "DtdpWFYjJHVq",
        "outputId": "0b855e23-562a-4e41-aa2c-bca3de3c3145"
      },
      "source": [
        "plt.figure(figsize=(12,8))\n",
        "sns.barplot(x=Type_split.values, y=Type_split.index);"
      ],
      "execution_count": 161,
      "outputs": [
        {
          "output_type": "display_data",
          "data": {
            "image/png": "[encoded data removed]",
            "text/plain": [
              "<Figure size 864x576 with 1 Axes>"
            ]
          },
          "metadata": {
            "tags": [],
            "needs_background": "light"
          }
        }
      ]
    }
  ]
}