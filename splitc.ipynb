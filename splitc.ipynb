{
  "nbformat": 4,
  "nbformat_minor": 0,
  "metadata": {
    "colab": {
      "name": "splitc.ipynb",
      "provenance": [],
      "collapsed_sections": [],
      "authorship_tag": "ABX9TyPLh1TnPmUMvhYG7UEt49+Z",
      "include_colab_link": true
    },
    "kernelspec": {
      "name": "python3",
      "display_name": "Python 3"
    },
    "language_info": {
      "name": "python"
    }
  },
  "cells": [
    {
      "cell_type": "markdown",
      "metadata": {
        "id": "view-in-github",
        "colab_type": "text"
      },
      "source": [
        "<a href=\"https://colab.research.google.com/github/pranali-kirolkar/MSCPROJECT/blob/main/splitc.ipynb\" target=\"_parent\"><img src=\"https://colab.research.google.com/assets/colab-badge.svg\" alt=\"Open In Colab\"/></a>"
      ]
    },
    {
      "cell_type": "code",
      "metadata": {
        "id": "JvFQ3zsl39Mg"
      },
      "source": [
        "#importing Libraries\n",
        "\n",
        "import pandas as pd\n",
        "import matplotlib.pyplot as plt\n",
        "import numpy as np\n",
        "import seaborn as sns"
      ],
      "execution_count": 32,
      "outputs": []
    },
    {
      "cell_type": "code",
      "metadata": {
        "id": "XRujd6oV4K00"
      },
      "source": [
        "#Sales of Summer clothes Dataset\n",
        "Dataset = pd.read_csv('//content/Sales Summer Clothes....csv') "
      ],
      "execution_count": 33,
      "outputs": []
    },
    {
      "cell_type": "code",
      "metadata": {
        "id": "HnRa0pyF7ims"
      },
      "source": [
        "Dataset.drop('Name', axis=1, inplace=True)"
      ],
      "execution_count": 34,
      "outputs": []
    },
    {
      "cell_type": "code",
      "metadata": {
        "id": "_qn58v337k8v"
      },
      "source": [
        "Dataset.drop('Timestamp',axis=1,inplace=True)"
      ],
      "execution_count": 35,
      "outputs": []
    },
    {
      "cell_type": "code",
      "metadata": {
        "colab": {
          "base_uri": "https://localhost:8080/",
          "height": 915
        },
        "id": "uj14JIPR7qyk",
        "outputId": "eb852130-bcf3-4f55-8390-b00b5176d0b7"
      },
      "source": [
        "Dataset"
      ],
      "execution_count": 36,
      "outputs": [
        {
          "output_type": "execute_result",
          "data": {
            "text/html": [
              "<div>\n",
              "<style scoped>\n",
              "    .dataframe tbody tr th:only-of-type {\n",
              "        vertical-align: middle;\n",
              "    }\n",
              "\n",
              "    .dataframe tbody tr th {\n",
              "        vertical-align: top;\n",
              "    }\n",
              "\n",
              "    .dataframe thead th {\n",
              "        text-align: right;\n",
              "    }\n",
              "</style>\n",
              "<table border=\"1\" class=\"dataframe\">\n",
              "  <thead>\n",
              "    <tr style=\"text-align: right;\">\n",
              "      <th></th>\n",
              "      <th>Age</th>\n",
              "      <th>buyclothes</th>\n",
              "      <th>Type</th>\n",
              "      <th>Brand</th>\n",
              "      <th>Price</th>\n",
              "      <th>time_prefer</th>\n",
              "      <th>preferpurchasing</th>\n",
              "      <th>compareprices</th>\n",
              "      <th>worstexperience</th>\n",
              "      <th>Rating</th>\n",
              "    </tr>\n",
              "  </thead>\n",
              "  <tbody>\n",
              "    <tr>\n",
              "      <th>0</th>\n",
              "      <td>18-25</td>\n",
              "      <td>Occasionally</td>\n",
              "      <td>Jeans, Women Dress, Ladies Tops</td>\n",
              "      <td>NIKE,Adidas</td>\n",
              "      <td>500-700</td>\n",
              "      <td>During the sales</td>\n",
              "      <td>Online</td>\n",
              "      <td>YES</td>\n",
              "      <td>No</td>\n",
              "      <td>4 STAR</td>\n",
              "    </tr>\n",
              "    <tr>\n",
              "      <th>1</th>\n",
              "      <td>18-25</td>\n",
              "      <td>Occasionally</td>\n",
              "      <td>T-shirt, Jeans</td>\n",
              "      <td>NIKE,Adidas,H&amp;M</td>\n",
              "      <td>700-1000</td>\n",
              "      <td>During the sales</td>\n",
              "      <td>Online</td>\n",
              "      <td>YES</td>\n",
              "      <td>Yes</td>\n",
              "      <td>3 STAR</td>\n",
              "    </tr>\n",
              "    <tr>\n",
              "      <th>2</th>\n",
              "      <td>18-25</td>\n",
              "      <td>Occasionally</td>\n",
              "      <td>T-shirt, Jeans, Women Dress, Casual Dress, Lad...</td>\n",
              "      <td>NIKE,Adidas,H&amp;M,ZARA</td>\n",
              "      <td>200-500</td>\n",
              "      <td>During the sales</td>\n",
              "      <td>By them in Store</td>\n",
              "      <td>YES</td>\n",
              "      <td>Yes</td>\n",
              "      <td>3 STAR</td>\n",
              "    </tr>\n",
              "    <tr>\n",
              "      <th>3</th>\n",
              "      <td>18-25</td>\n",
              "      <td>Occasionally</td>\n",
              "      <td>Women Dress</td>\n",
              "      <td>NIKE</td>\n",
              "      <td>500-700</td>\n",
              "      <td>During the sales</td>\n",
              "      <td>By them in Store</td>\n",
              "      <td>YES</td>\n",
              "      <td>Yes</td>\n",
              "      <td>4 STAR</td>\n",
              "    </tr>\n",
              "    <tr>\n",
              "      <th>4</th>\n",
              "      <td>18-25</td>\n",
              "      <td>Occasionally</td>\n",
              "      <td>Women Dress</td>\n",
              "      <td>Meesho</td>\n",
              "      <td>500-700</td>\n",
              "      <td>Without the sales (Off Season)</td>\n",
              "      <td>Online</td>\n",
              "      <td>YES</td>\n",
              "      <td>No</td>\n",
              "      <td>5 STAR</td>\n",
              "    </tr>\n",
              "    <tr>\n",
              "      <th>...</th>\n",
              "      <td>...</td>\n",
              "      <td>...</td>\n",
              "      <td>...</td>\n",
              "      <td>...</td>\n",
              "      <td>...</td>\n",
              "      <td>...</td>\n",
              "      <td>...</td>\n",
              "      <td>...</td>\n",
              "      <td>...</td>\n",
              "      <td>...</td>\n",
              "    </tr>\n",
              "    <tr>\n",
              "      <th>197</th>\n",
              "      <td>18-25</td>\n",
              "      <td>Occasionally</td>\n",
              "      <td>Casual Dress</td>\n",
              "      <td>H&amp;M</td>\n",
              "      <td>500-700</td>\n",
              "      <td>During the sales</td>\n",
              "      <td>By them in Store</td>\n",
              "      <td>YES</td>\n",
              "      <td>No</td>\n",
              "      <td>5 STAR</td>\n",
              "    </tr>\n",
              "    <tr>\n",
              "      <th>198</th>\n",
              "      <td>18-25</td>\n",
              "      <td>Regularly</td>\n",
              "      <td>Women Dress, Casual Dress, Ladies Tops</td>\n",
              "      <td>Adidas,H&amp;M</td>\n",
              "      <td>1000-above</td>\n",
              "      <td>During the sales</td>\n",
              "      <td>By them in Store</td>\n",
              "      <td>YES</td>\n",
              "      <td>No</td>\n",
              "      <td>5 STAR</td>\n",
              "    </tr>\n",
              "    <tr>\n",
              "      <th>199</th>\n",
              "      <td>18-25</td>\n",
              "      <td>Regularly</td>\n",
              "      <td>T-shirt, Jeans, Ladies Tops</td>\n",
              "      <td>Adidas</td>\n",
              "      <td>700-1000</td>\n",
              "      <td>During the sales</td>\n",
              "      <td>By them in Store</td>\n",
              "      <td>YES</td>\n",
              "      <td>No</td>\n",
              "      <td>5 STAR</td>\n",
              "    </tr>\n",
              "    <tr>\n",
              "      <th>200</th>\n",
              "      <td>18-25</td>\n",
              "      <td>Occasionally</td>\n",
              "      <td>T-shirt, Jeans</td>\n",
              "      <td>Adidas</td>\n",
              "      <td>700-1000</td>\n",
              "      <td>Without the sales (Off Season)</td>\n",
              "      <td>By them in Store</td>\n",
              "      <td>NO</td>\n",
              "      <td>No</td>\n",
              "      <td>4 STAR</td>\n",
              "    </tr>\n",
              "    <tr>\n",
              "      <th>201</th>\n",
              "      <td>35-50</td>\n",
              "      <td>Occasionally</td>\n",
              "      <td>Women Dress, Casual Dress</td>\n",
              "      <td>H&amp;M,ZARA</td>\n",
              "      <td>700-1000</td>\n",
              "      <td>During the sales</td>\n",
              "      <td>By them in Store</td>\n",
              "      <td>YES</td>\n",
              "      <td>Yes</td>\n",
              "      <td>1 STAR</td>\n",
              "    </tr>\n",
              "  </tbody>\n",
              "</table>\n",
              "<p>202 rows × 10 columns</p>\n",
              "</div>"
            ],
            "text/plain": [
              "       Age    buyclothes  ... worstexperience Rating \n",
              "0    18-25  Occasionally  ...              No  4 STAR\n",
              "1    18-25  Occasionally  ...             Yes  3 STAR\n",
              "2    18-25  Occasionally  ...             Yes  3 STAR\n",
              "3    18-25  Occasionally  ...             Yes  4 STAR\n",
              "4    18-25  Occasionally  ...              No  5 STAR\n",
              "..     ...           ...  ...             ...     ...\n",
              "197  18-25  Occasionally  ...              No  5 STAR\n",
              "198  18-25     Regularly  ...              No  5 STAR\n",
              "199  18-25     Regularly  ...              No  5 STAR\n",
              "200  18-25  Occasionally  ...              No  4 STAR\n",
              "201  35-50  Occasionally  ...             Yes  1 STAR\n",
              "\n",
              "[202 rows x 10 columns]"
            ]
          },
          "metadata": {
            "tags": []
          },
          "execution_count": 36
        }
      ]
    },
    {
      "cell_type": "code",
      "metadata": {
        "colab": {
          "base_uri": "https://localhost:8080/",
          "height": 391
        },
        "id": "xIrTeg-04bmg",
        "outputId": "24f7e005-d2ae-4ea8-84f8-25fb890cfb1e"
      },
      "source": [
        "Dataset.head()"
      ],
      "execution_count": 21,
      "outputs": [
        {
          "output_type": "execute_result",
          "data": {
            "text/html": [
              "<div>\n",
              "<style scoped>\n",
              "    .dataframe tbody tr th:only-of-type {\n",
              "        vertical-align: middle;\n",
              "    }\n",
              "\n",
              "    .dataframe tbody tr th {\n",
              "        vertical-align: top;\n",
              "    }\n",
              "\n",
              "    .dataframe thead th {\n",
              "        text-align: right;\n",
              "    }\n",
              "</style>\n",
              "<table border=\"1\" class=\"dataframe\">\n",
              "  <thead>\n",
              "    <tr style=\"text-align: right;\">\n",
              "      <th></th>\n",
              "      <th>Age</th>\n",
              "      <th>buyclothes</th>\n",
              "      <th>Type</th>\n",
              "      <th>Brand</th>\n",
              "      <th>Price</th>\n",
              "      <th>time_prefer</th>\n",
              "      <th>preferpurchasing</th>\n",
              "      <th>compareprices</th>\n",
              "      <th>worstexperience</th>\n",
              "      <th>Rating</th>\n",
              "    </tr>\n",
              "  </thead>\n",
              "  <tbody>\n",
              "    <tr>\n",
              "      <th>0</th>\n",
              "      <td>18-25</td>\n",
              "      <td>Occasionally</td>\n",
              "      <td>Jeans, Women Dress, Ladies Tops</td>\n",
              "      <td>NIKE, Adidas</td>\n",
              "      <td>500-700</td>\n",
              "      <td>During the sales</td>\n",
              "      <td>Online</td>\n",
              "      <td>YES</td>\n",
              "      <td>No</td>\n",
              "      <td>4 STAR</td>\n",
              "    </tr>\n",
              "    <tr>\n",
              "      <th>1</th>\n",
              "      <td>18-25</td>\n",
              "      <td>Occasionally</td>\n",
              "      <td>T-shirt, Jeans</td>\n",
              "      <td>NIKE, Adidas, H&amp;M</td>\n",
              "      <td>700-1000</td>\n",
              "      <td>During the sales</td>\n",
              "      <td>Online</td>\n",
              "      <td>YES</td>\n",
              "      <td>Yes</td>\n",
              "      <td>3 STAR</td>\n",
              "    </tr>\n",
              "    <tr>\n",
              "      <th>2</th>\n",
              "      <td>18-25</td>\n",
              "      <td>Occasionally</td>\n",
              "      <td>T-shirt, Jeans, Women Dress, Casual Dress, Lad...</td>\n",
              "      <td>NIKE, Adidas, H&amp;M, ZARA</td>\n",
              "      <td>200-500</td>\n",
              "      <td>During the sales</td>\n",
              "      <td>By them in Store</td>\n",
              "      <td>YES</td>\n",
              "      <td>Yes</td>\n",
              "      <td>3 STAR</td>\n",
              "    </tr>\n",
              "    <tr>\n",
              "      <th>3</th>\n",
              "      <td>18-25</td>\n",
              "      <td>Occasionally</td>\n",
              "      <td>Women Dress</td>\n",
              "      <td>NIKE</td>\n",
              "      <td>500-700</td>\n",
              "      <td>During the sales</td>\n",
              "      <td>By them in Store</td>\n",
              "      <td>YES</td>\n",
              "      <td>Yes</td>\n",
              "      <td>4 STAR</td>\n",
              "    </tr>\n",
              "    <tr>\n",
              "      <th>4</th>\n",
              "      <td>18-25</td>\n",
              "      <td>Occasionally</td>\n",
              "      <td>Women Dress</td>\n",
              "      <td>Meesho</td>\n",
              "      <td>500-700</td>\n",
              "      <td>Without the sales (Off Season)</td>\n",
              "      <td>Online</td>\n",
              "      <td>YES</td>\n",
              "      <td>No</td>\n",
              "      <td>5 STAR</td>\n",
              "    </tr>\n",
              "  </tbody>\n",
              "</table>\n",
              "</div>"
            ],
            "text/plain": [
              "     Age    buyclothes  ... worstexperience Rating \n",
              "0  18-25  Occasionally  ...              No  4 STAR\n",
              "1  18-25  Occasionally  ...             Yes  3 STAR\n",
              "2  18-25  Occasionally  ...             Yes  3 STAR\n",
              "3  18-25  Occasionally  ...             Yes  4 STAR\n",
              "4  18-25  Occasionally  ...              No  5 STAR\n",
              "\n",
              "[5 rows x 10 columns]"
            ]
          },
          "metadata": {
            "tags": []
          },
          "execution_count": 21
        }
      ]
    },
    {
      "cell_type": "code",
      "metadata": {
        "colab": {
          "base_uri": "https://localhost:8080/",
          "height": 442
        },
        "id": "Jv_z2_Nh4eZm",
        "outputId": "607fc8a5-8592-45e6-f612-92defce88a75"
      },
      "source": [
        "Dataset.tail()"
      ],
      "execution_count": 37,
      "outputs": [
        {
          "output_type": "execute_result",
          "data": {
            "text/html": [
              "<div>\n",
              "<style scoped>\n",
              "    .dataframe tbody tr th:only-of-type {\n",
              "        vertical-align: middle;\n",
              "    }\n",
              "\n",
              "    .dataframe tbody tr th {\n",
              "        vertical-align: top;\n",
              "    }\n",
              "\n",
              "    .dataframe thead th {\n",
              "        text-align: right;\n",
              "    }\n",
              "</style>\n",
              "<table border=\"1\" class=\"dataframe\">\n",
              "  <thead>\n",
              "    <tr style=\"text-align: right;\">\n",
              "      <th></th>\n",
              "      <th>Age</th>\n",
              "      <th>buyclothes</th>\n",
              "      <th>Type</th>\n",
              "      <th>Brand</th>\n",
              "      <th>Price</th>\n",
              "      <th>time_prefer</th>\n",
              "      <th>preferpurchasing</th>\n",
              "      <th>compareprices</th>\n",
              "      <th>worstexperience</th>\n",
              "      <th>Rating</th>\n",
              "    </tr>\n",
              "  </thead>\n",
              "  <tbody>\n",
              "    <tr>\n",
              "      <th>197</th>\n",
              "      <td>18-25</td>\n",
              "      <td>Occasionally</td>\n",
              "      <td>Casual Dress</td>\n",
              "      <td>H&amp;M</td>\n",
              "      <td>500-700</td>\n",
              "      <td>During the sales</td>\n",
              "      <td>By them in Store</td>\n",
              "      <td>YES</td>\n",
              "      <td>No</td>\n",
              "      <td>5 STAR</td>\n",
              "    </tr>\n",
              "    <tr>\n",
              "      <th>198</th>\n",
              "      <td>18-25</td>\n",
              "      <td>Regularly</td>\n",
              "      <td>Women Dress, Casual Dress, Ladies Tops</td>\n",
              "      <td>Adidas,H&amp;M</td>\n",
              "      <td>1000-above</td>\n",
              "      <td>During the sales</td>\n",
              "      <td>By them in Store</td>\n",
              "      <td>YES</td>\n",
              "      <td>No</td>\n",
              "      <td>5 STAR</td>\n",
              "    </tr>\n",
              "    <tr>\n",
              "      <th>199</th>\n",
              "      <td>18-25</td>\n",
              "      <td>Regularly</td>\n",
              "      <td>T-shirt, Jeans, Ladies Tops</td>\n",
              "      <td>Adidas</td>\n",
              "      <td>700-1000</td>\n",
              "      <td>During the sales</td>\n",
              "      <td>By them in Store</td>\n",
              "      <td>YES</td>\n",
              "      <td>No</td>\n",
              "      <td>5 STAR</td>\n",
              "    </tr>\n",
              "    <tr>\n",
              "      <th>200</th>\n",
              "      <td>18-25</td>\n",
              "      <td>Occasionally</td>\n",
              "      <td>T-shirt, Jeans</td>\n",
              "      <td>Adidas</td>\n",
              "      <td>700-1000</td>\n",
              "      <td>Without the sales (Off Season)</td>\n",
              "      <td>By them in Store</td>\n",
              "      <td>NO</td>\n",
              "      <td>No</td>\n",
              "      <td>4 STAR</td>\n",
              "    </tr>\n",
              "    <tr>\n",
              "      <th>201</th>\n",
              "      <td>35-50</td>\n",
              "      <td>Occasionally</td>\n",
              "      <td>Women Dress, Casual Dress</td>\n",
              "      <td>H&amp;M,ZARA</td>\n",
              "      <td>700-1000</td>\n",
              "      <td>During the sales</td>\n",
              "      <td>By them in Store</td>\n",
              "      <td>YES</td>\n",
              "      <td>Yes</td>\n",
              "      <td>1 STAR</td>\n",
              "    </tr>\n",
              "  </tbody>\n",
              "</table>\n",
              "</div>"
            ],
            "text/plain": [
              "       Age    buyclothes  ... worstexperience Rating \n",
              "197  18-25  Occasionally  ...              No  5 STAR\n",
              "198  18-25     Regularly  ...              No  5 STAR\n",
              "199  18-25     Regularly  ...              No  5 STAR\n",
              "200  18-25  Occasionally  ...              No  4 STAR\n",
              "201  35-50  Occasionally  ...             Yes  1 STAR\n",
              "\n",
              "[5 rows x 10 columns]"
            ]
          },
          "metadata": {
            "tags": []
          },
          "execution_count": 37
        }
      ]
    },
    {
      "cell_type": "code",
      "metadata": {
        "colab": {
          "base_uri": "https://localhost:8080/"
        },
        "id": "x327CfsE4iFc",
        "outputId": "5b931dbe-7476-43c2-e0d3-77a04b82d2df"
      },
      "source": [
        "len(Dataset)"
      ],
      "execution_count": 23,
      "outputs": [
        {
          "output_type": "execute_result",
          "data": {
            "text/plain": [
              "202"
            ]
          },
          "metadata": {
            "tags": []
          },
          "execution_count": 23
        }
      ]
    },
    {
      "cell_type": "code",
      "metadata": {
        "colab": {
          "base_uri": "https://localhost:8080/"
        },
        "id": "lUFrIhNK4mqT",
        "outputId": "1c230d98-16a2-4696-def1-d4703afa1bc3"
      },
      "source": [
        "Dataset.shape"
      ],
      "execution_count": 24,
      "outputs": [
        {
          "output_type": "execute_result",
          "data": {
            "text/plain": [
              "(202, 10)"
            ]
          },
          "metadata": {
            "tags": []
          },
          "execution_count": 24
        }
      ]
    },
    {
      "cell_type": "code",
      "metadata": {
        "colab": {
          "base_uri": "https://localhost:8080/"
        },
        "id": "b7lyBwQD4rO9",
        "outputId": "85d5e394-83a6-4e03-9724-5cc3de9d1f16"
      },
      "source": [
        "Dataset.dtypes"
      ],
      "execution_count": 25,
      "outputs": [
        {
          "output_type": "execute_result",
          "data": {
            "text/plain": [
              "Age                  object\n",
              "buyclothes           object\n",
              "Type                 object\n",
              "Brand                object\n",
              "Price                object\n",
              "time_prefer          object\n",
              "preferpurchasing     object\n",
              "compareprices        object\n",
              "worstexperience      object\n",
              "Rating               object\n",
              "dtype: object"
            ]
          },
          "metadata": {
            "tags": []
          },
          "execution_count": 25
        }
      ]
    },
    {
      "cell_type": "code",
      "metadata": {
        "colab": {
          "base_uri": "https://localhost:8080/"
        },
        "id": "dxMjQB-T43fm",
        "outputId": "8861b7e4-169b-4b7e-f6ca-09c370ffb2bf"
      },
      "source": [
        "Dataset.info()"
      ],
      "execution_count": 38,
      "outputs": [
        {
          "output_type": "stream",
          "text": [
            "<class 'pandas.core.frame.DataFrame'>\n",
            "RangeIndex: 202 entries, 0 to 201\n",
            "Data columns (total 10 columns):\n",
            " #   Column             Non-Null Count  Dtype \n",
            "---  ------             --------------  ----- \n",
            " 0   Age                202 non-null    object\n",
            " 1   buyclothes         202 non-null    object\n",
            " 2   Type               202 non-null    object\n",
            " 3   Brand              202 non-null    object\n",
            " 4   Price              202 non-null    object\n",
            " 5   time_prefer        202 non-null    object\n",
            " 6   preferpurchasing   202 non-null    object\n",
            " 7   compareprices      202 non-null    object\n",
            " 8   worstexperience    202 non-null    object\n",
            " 9   Rating             202 non-null    object\n",
            "dtypes: object(10)\n",
            "memory usage: 15.9+ KB\n"
          ],
          "name": "stdout"
        }
      ]
    },
    {
      "cell_type": "code",
      "metadata": {
        "colab": {
          "base_uri": "https://localhost:8080/"
        },
        "id": "ZV87IM_D46SC",
        "outputId": "db6b8a42-698b-42be-c5ff-4f3f57484887"
      },
      "source": [
        "Dataset[\"Brand\"].value_counts()"
      ],
      "execution_count": 39,
      "outputs": [
        {
          "output_type": "execute_result",
          "data": {
            "text/plain": [
              "NIKE,Adidas                     33\n",
              "Adidas,H&M                      23\n",
              "H&M                             20\n",
              "NIKE,Adidas,H&M                 11\n",
              "Adidas                          10\n",
              "NIKE                            10\n",
              "NIKE,Adidas,H&M,LEVIS            9\n",
              "H&M,ZARA,LEVIS                   7\n",
              "NIKE,Adidas,LEVIS                6\n",
              "GUCCI,ZARA,LEVIS                 5\n",
              "Adidas,H&M,ZARA,LEVIS            5\n",
              "NIKE,GUCCI,Adidas                5\n",
              "NIKE,Adidas,ZARA,LEVIS           5\n",
              "ZARA,LEVIS                       4\n",
              "NIKE,Adidas,H&M,ZARA,LEVIS       4\n",
              "Adidas,H&M,ZARA                  4\n",
              "ZARA                             3\n",
              "Adidas,LEVIS                     3\n",
              "GUCCI,Adidas,H&M                 3\n",
              "NIKE,GUCCI,Adidas,H&M            2\n",
              "LEVIS                            2\n",
              "NIKE,GUCCI,Adidas,LEVIS          2\n",
              "GUCCI,H&M,ZARA,LEVIS             2\n",
              "NIKE,H&M,ZARA,LEVIS              2\n",
              "NIKE,Adidas,H&M,ZARA             2\n",
              "NIKE,LEVIS                       1\n",
              "Fasla                            1\n",
              "Don't know                       1\n",
              "NIKE,ZARA                        1\n",
              "GUCCI,Adidas,H&M,ZARA,LEVIS      1\n",
              "GUCCI,Adidas,H&M,ZARA            1\n",
              "NIKE,GUCCI,H&M,ZARA,LEVIS        1\n",
              "H&M,ZARA                         1\n",
              "GUCCI,Adidas                     1\n",
              "GUCCI,Adidas,ZARA                1\n",
              "H&M,LEVIS                        1\n",
              "Meesho                           1\n",
              "NIKE,GUCCI,Adidas,H&M,LEVIS      1\n",
              "NIKE,GUCCI,H&M,ZARA              1\n",
              "NIKE,Adidas,ZARA                 1\n",
              "Adidas,H&M,LEVIS                 1\n",
              "Local shops                      1\n",
              "NIKE,GUCCI,Adidas,ZARA,LEVIS     1\n",
              "NIKE,GUCCI                       1\n",
              "NIKE,H&M                         1\n",
              "Name: Brand, dtype: int64"
            ]
          },
          "metadata": {
            "tags": []
          },
          "execution_count": 39
        }
      ]
    },
    {
      "cell_type": "code",
      "metadata": {
        "colab": {
          "base_uri": "https://localhost:8080/"
        },
        "id": "T2YE7DW29tX8",
        "outputId": "2f77204d-7f58-4eaa-8765-bef53dab4dc7"
      },
      "source": [
        "Dataset['Age']"
      ],
      "execution_count": null,
      "outputs": [
        {
          "output_type": "execute_result",
          "data": {
            "text/plain": [
              "0      18-25\n",
              "1      18-25\n",
              "2      18-25\n",
              "3      18-25\n",
              "4      18-25\n",
              "       ...  \n",
              "197    18-25\n",
              "198    18-25\n",
              "199    18-25\n",
              "200    18-25\n",
              "201    35-50\n",
              "Name: Age, Length: 202, dtype: object"
            ]
          },
          "metadata": {
            "tags": []
          },
          "execution_count": 100
        }
      ]
    },
    {
      "cell_type": "code",
      "metadata": {
        "colab": {
          "base_uri": "https://localhost:8080/"
        },
        "id": "kXMOiL4C9zys",
        "outputId": "0b41ff15-a39b-49fa-fd78-13fae91bc844"
      },
      "source": [
        "Dataset[\"Age\"].value_counts()"
      ],
      "execution_count": null,
      "outputs": [
        {
          "output_type": "execute_result",
          "data": {
            "text/plain": [
              "18-25         162\n",
              "25-35          27\n",
              "35-50          12\n",
              "50 - above      1\n",
              "Name: Age, dtype: int64"
            ]
          },
          "metadata": {
            "tags": []
          },
          "execution_count": 6
        }
      ]
    },
    {
      "cell_type": "code",
      "metadata": {
        "colab": {
          "base_uri": "https://localhost:8080/"
        },
        "id": "tes6zbKr97np",
        "outputId": "13fa87bc-38ad-4fc6-e670-501a01df9350"
      },
      "source": [
        "Dataset['Age'].isnull().values.any()"
      ],
      "execution_count": null,
      "outputs": [
        {
          "output_type": "execute_result",
          "data": {
            "text/plain": [
              "False"
            ]
          },
          "metadata": {
            "tags": []
          },
          "execution_count": 44
        }
      ]
    },
    {
      "cell_type": "code",
      "metadata": {
        "colab": {
          "base_uri": "https://localhost:8080/"
        },
        "id": "4uYEExfZ-BEf",
        "outputId": "4663566d-e448-49da-a873-99a911d004ae"
      },
      "source": [
        "Dataset['Age'].isnull().sum()"
      ],
      "execution_count": null,
      "outputs": [
        {
          "output_type": "execute_result",
          "data": {
            "text/plain": [
              "0"
            ]
          },
          "metadata": {
            "tags": []
          },
          "execution_count": 45
        }
      ]
    },
    {
      "cell_type": "code",
      "metadata": {
        "colab": {
          "base_uri": "https://localhost:8080/",
          "height": 844
        },
        "id": "YKhzEB44-HJB",
        "outputId": "157b2a18-77c2-4fd9-8c2b-9f301f413b01"
      },
      "source": [
        "values = Dataset.values\n",
        "Dataset"
      ],
      "execution_count": 27,
      "outputs": [
        {
          "output_type": "execute_result",
          "data": {
            "text/html": [
              "<div>\n",
              "<style scoped>\n",
              "    .dataframe tbody tr th:only-of-type {\n",
              "        vertical-align: middle;\n",
              "    }\n",
              "\n",
              "    .dataframe tbody tr th {\n",
              "        vertical-align: top;\n",
              "    }\n",
              "\n",
              "    .dataframe thead th {\n",
              "        text-align: right;\n",
              "    }\n",
              "</style>\n",
              "<table border=\"1\" class=\"dataframe\">\n",
              "  <thead>\n",
              "    <tr style=\"text-align: right;\">\n",
              "      <th></th>\n",
              "      <th>Age</th>\n",
              "      <th>buyclothes</th>\n",
              "      <th>Type</th>\n",
              "      <th>Brand</th>\n",
              "      <th>Price</th>\n",
              "      <th>time_prefer</th>\n",
              "      <th>preferpurchasing</th>\n",
              "      <th>compareprices</th>\n",
              "      <th>worstexperience</th>\n",
              "      <th>Rating</th>\n",
              "    </tr>\n",
              "  </thead>\n",
              "  <tbody>\n",
              "    <tr>\n",
              "      <th>0</th>\n",
              "      <td>18-25</td>\n",
              "      <td>Occasionally</td>\n",
              "      <td>Jeans, Women Dress, Ladies Tops</td>\n",
              "      <td>NIKE, Adidas</td>\n",
              "      <td>500-700</td>\n",
              "      <td>During the sales</td>\n",
              "      <td>Online</td>\n",
              "      <td>YES</td>\n",
              "      <td>No</td>\n",
              "      <td>4 STAR</td>\n",
              "    </tr>\n",
              "    <tr>\n",
              "      <th>1</th>\n",
              "      <td>18-25</td>\n",
              "      <td>Occasionally</td>\n",
              "      <td>T-shirt, Jeans</td>\n",
              "      <td>NIKE, Adidas, H&amp;M</td>\n",
              "      <td>700-1000</td>\n",
              "      <td>During the sales</td>\n",
              "      <td>Online</td>\n",
              "      <td>YES</td>\n",
              "      <td>Yes</td>\n",
              "      <td>3 STAR</td>\n",
              "    </tr>\n",
              "    <tr>\n",
              "      <th>2</th>\n",
              "      <td>18-25</td>\n",
              "      <td>Occasionally</td>\n",
              "      <td>T-shirt, Jeans, Women Dress, Casual Dress, Lad...</td>\n",
              "      <td>NIKE, Adidas, H&amp;M, ZARA</td>\n",
              "      <td>200-500</td>\n",
              "      <td>During the sales</td>\n",
              "      <td>By them in Store</td>\n",
              "      <td>YES</td>\n",
              "      <td>Yes</td>\n",
              "      <td>3 STAR</td>\n",
              "    </tr>\n",
              "    <tr>\n",
              "      <th>3</th>\n",
              "      <td>18-25</td>\n",
              "      <td>Occasionally</td>\n",
              "      <td>Women Dress</td>\n",
              "      <td>NIKE</td>\n",
              "      <td>500-700</td>\n",
              "      <td>During the sales</td>\n",
              "      <td>By them in Store</td>\n",
              "      <td>YES</td>\n",
              "      <td>Yes</td>\n",
              "      <td>4 STAR</td>\n",
              "    </tr>\n",
              "    <tr>\n",
              "      <th>4</th>\n",
              "      <td>18-25</td>\n",
              "      <td>Occasionally</td>\n",
              "      <td>Women Dress</td>\n",
              "      <td>Meesho</td>\n",
              "      <td>500-700</td>\n",
              "      <td>Without the sales (Off Season)</td>\n",
              "      <td>Online</td>\n",
              "      <td>YES</td>\n",
              "      <td>No</td>\n",
              "      <td>5 STAR</td>\n",
              "    </tr>\n",
              "    <tr>\n",
              "      <th>...</th>\n",
              "      <td>...</td>\n",
              "      <td>...</td>\n",
              "      <td>...</td>\n",
              "      <td>...</td>\n",
              "      <td>...</td>\n",
              "      <td>...</td>\n",
              "      <td>...</td>\n",
              "      <td>...</td>\n",
              "      <td>...</td>\n",
              "      <td>...</td>\n",
              "    </tr>\n",
              "    <tr>\n",
              "      <th>197</th>\n",
              "      <td>18-25</td>\n",
              "      <td>Occasionally</td>\n",
              "      <td>Casual Dress</td>\n",
              "      <td>H&amp;M</td>\n",
              "      <td>500-700</td>\n",
              "      <td>During the sales</td>\n",
              "      <td>By them in Store</td>\n",
              "      <td>YES</td>\n",
              "      <td>No</td>\n",
              "      <td>5 STAR</td>\n",
              "    </tr>\n",
              "    <tr>\n",
              "      <th>198</th>\n",
              "      <td>18-25</td>\n",
              "      <td>Regularly</td>\n",
              "      <td>Women Dress, Casual Dress, Ladies Tops</td>\n",
              "      <td>Adidas, H&amp;M</td>\n",
              "      <td>1000-above</td>\n",
              "      <td>During the sales</td>\n",
              "      <td>By them in Store</td>\n",
              "      <td>YES</td>\n",
              "      <td>No</td>\n",
              "      <td>5 STAR</td>\n",
              "    </tr>\n",
              "    <tr>\n",
              "      <th>199</th>\n",
              "      <td>18-25</td>\n",
              "      <td>Regularly</td>\n",
              "      <td>T-shirt, Jeans, Ladies Tops</td>\n",
              "      <td>Adidas</td>\n",
              "      <td>700-1000</td>\n",
              "      <td>During the sales</td>\n",
              "      <td>By them in Store</td>\n",
              "      <td>YES</td>\n",
              "      <td>No</td>\n",
              "      <td>5 STAR</td>\n",
              "    </tr>\n",
              "    <tr>\n",
              "      <th>200</th>\n",
              "      <td>18-25</td>\n",
              "      <td>Occasionally</td>\n",
              "      <td>T-shirt, Jeans</td>\n",
              "      <td>Adidas</td>\n",
              "      <td>700-1000</td>\n",
              "      <td>Without the sales (Off Season)</td>\n",
              "      <td>By them in Store</td>\n",
              "      <td>NO</td>\n",
              "      <td>No</td>\n",
              "      <td>4 STAR</td>\n",
              "    </tr>\n",
              "    <tr>\n",
              "      <th>201</th>\n",
              "      <td>35-50</td>\n",
              "      <td>Occasionally</td>\n",
              "      <td>Women Dress, Casual Dress</td>\n",
              "      <td>H&amp;M, ZARA</td>\n",
              "      <td>700-1000</td>\n",
              "      <td>During the sales</td>\n",
              "      <td>By them in Store</td>\n",
              "      <td>YES</td>\n",
              "      <td>Yes</td>\n",
              "      <td>1 STAR</td>\n",
              "    </tr>\n",
              "  </tbody>\n",
              "</table>\n",
              "<p>202 rows × 10 columns</p>\n",
              "</div>"
            ],
            "text/plain": [
              "       Age    buyclothes  ... worstexperience Rating \n",
              "0    18-25  Occasionally  ...              No  4 STAR\n",
              "1    18-25  Occasionally  ...             Yes  3 STAR\n",
              "2    18-25  Occasionally  ...             Yes  3 STAR\n",
              "3    18-25  Occasionally  ...             Yes  4 STAR\n",
              "4    18-25  Occasionally  ...              No  5 STAR\n",
              "..     ...           ...  ...             ...     ...\n",
              "197  18-25  Occasionally  ...              No  5 STAR\n",
              "198  18-25     Regularly  ...              No  5 STAR\n",
              "199  18-25     Regularly  ...              No  5 STAR\n",
              "200  18-25  Occasionally  ...              No  4 STAR\n",
              "201  35-50  Occasionally  ...             Yes  1 STAR\n",
              "\n",
              "[202 rows x 10 columns]"
            ]
          },
          "metadata": {
            "tags": []
          },
          "execution_count": 27
        }
      ]
    },
    {
      "cell_type": "code",
      "metadata": {
        "colab": {
          "base_uri": "https://localhost:8080/"
        },
        "id": "HB4tFnfO-UL_",
        "outputId": "fa771c74-26a8-47ee-f029-cd879b166dea"
      },
      "source": [
        "Dataset.Age.head(10)"
      ],
      "execution_count": 28,
      "outputs": [
        {
          "output_type": "execute_result",
          "data": {
            "text/plain": [
              "0    18-25\n",
              "1    18-25\n",
              "2    18-25\n",
              "3    18-25\n",
              "4    18-25\n",
              "5    18-25\n",
              "6    18-25\n",
              "7    25-35\n",
              "8    18-25\n",
              "9    18-25\n",
              "Name: Age, dtype: object"
            ]
          },
          "metadata": {
            "tags": []
          },
          "execution_count": 28
        }
      ]
    },
    {
      "cell_type": "code",
      "metadata": {
        "colab": {
          "base_uri": "https://localhost:8080/"
        },
        "id": "Km57NDmz-fee",
        "outputId": "56a15f55-e165-4726-a314-43f6ad0627e5"
      },
      "source": [
        "Dataset.dropna(axis=0,how='any').shape"
      ],
      "execution_count": null,
      "outputs": [
        {
          "output_type": "execute_result",
          "data": {
            "text/plain": [
              "(202, 10)"
            ]
          },
          "metadata": {
            "tags": []
          },
          "execution_count": 48
        }
      ]
    },
    {
      "cell_type": "code",
      "metadata": {
        "id": "M4J9EAy2-kdS"
      },
      "source": [
        "Dataset.dropna(axis=0,how='any',inplace=True)"
      ],
      "execution_count": null,
      "outputs": []
    },
    {
      "cell_type": "code",
      "metadata": {
        "id": "LmI1reGj-qXZ"
      },
      "source": [
        "Dataset['Age'] = Dataset['Age'].replace(['all'],'18-25')"
      ],
      "execution_count": null,
      "outputs": []
    },
    {
      "cell_type": "code",
      "metadata": {
        "colab": {
          "base_uri": "https://localhost:8080/",
          "height": 915
        },
        "id": "174SPIKx-u-k",
        "outputId": "52f3c388-112a-45ca-80ad-249bac8ad240"
      },
      "source": [
        "Dataset"
      ],
      "execution_count": 40,
      "outputs": [
        {
          "output_type": "execute_result",
          "data": {
            "text/html": [
              "<div>\n",
              "<style scoped>\n",
              "    .dataframe tbody tr th:only-of-type {\n",
              "        vertical-align: middle;\n",
              "    }\n",
              "\n",
              "    .dataframe tbody tr th {\n",
              "        vertical-align: top;\n",
              "    }\n",
              "\n",
              "    .dataframe thead th {\n",
              "        text-align: right;\n",
              "    }\n",
              "</style>\n",
              "<table border=\"1\" class=\"dataframe\">\n",
              "  <thead>\n",
              "    <tr style=\"text-align: right;\">\n",
              "      <th></th>\n",
              "      <th>Age</th>\n",
              "      <th>buyclothes</th>\n",
              "      <th>Type</th>\n",
              "      <th>Brand</th>\n",
              "      <th>Price</th>\n",
              "      <th>time_prefer</th>\n",
              "      <th>preferpurchasing</th>\n",
              "      <th>compareprices</th>\n",
              "      <th>worstexperience</th>\n",
              "      <th>Rating</th>\n",
              "    </tr>\n",
              "  </thead>\n",
              "  <tbody>\n",
              "    <tr>\n",
              "      <th>0</th>\n",
              "      <td>18-25</td>\n",
              "      <td>Occasionally</td>\n",
              "      <td>Jeans, Women Dress, Ladies Tops</td>\n",
              "      <td>NIKE,Adidas</td>\n",
              "      <td>500-700</td>\n",
              "      <td>During the sales</td>\n",
              "      <td>Online</td>\n",
              "      <td>YES</td>\n",
              "      <td>No</td>\n",
              "      <td>4 STAR</td>\n",
              "    </tr>\n",
              "    <tr>\n",
              "      <th>1</th>\n",
              "      <td>18-25</td>\n",
              "      <td>Occasionally</td>\n",
              "      <td>T-shirt, Jeans</td>\n",
              "      <td>NIKE,Adidas,H&amp;M</td>\n",
              "      <td>700-1000</td>\n",
              "      <td>During the sales</td>\n",
              "      <td>Online</td>\n",
              "      <td>YES</td>\n",
              "      <td>Yes</td>\n",
              "      <td>3 STAR</td>\n",
              "    </tr>\n",
              "    <tr>\n",
              "      <th>2</th>\n",
              "      <td>18-25</td>\n",
              "      <td>Occasionally</td>\n",
              "      <td>T-shirt, Jeans, Women Dress, Casual Dress, Lad...</td>\n",
              "      <td>NIKE,Adidas,H&amp;M,ZARA</td>\n",
              "      <td>200-500</td>\n",
              "      <td>During the sales</td>\n",
              "      <td>By them in Store</td>\n",
              "      <td>YES</td>\n",
              "      <td>Yes</td>\n",
              "      <td>3 STAR</td>\n",
              "    </tr>\n",
              "    <tr>\n",
              "      <th>3</th>\n",
              "      <td>18-25</td>\n",
              "      <td>Occasionally</td>\n",
              "      <td>Women Dress</td>\n",
              "      <td>NIKE</td>\n",
              "      <td>500-700</td>\n",
              "      <td>During the sales</td>\n",
              "      <td>By them in Store</td>\n",
              "      <td>YES</td>\n",
              "      <td>Yes</td>\n",
              "      <td>4 STAR</td>\n",
              "    </tr>\n",
              "    <tr>\n",
              "      <th>4</th>\n",
              "      <td>18-25</td>\n",
              "      <td>Occasionally</td>\n",
              "      <td>Women Dress</td>\n",
              "      <td>Meesho</td>\n",
              "      <td>500-700</td>\n",
              "      <td>Without the sales (Off Season)</td>\n",
              "      <td>Online</td>\n",
              "      <td>YES</td>\n",
              "      <td>No</td>\n",
              "      <td>5 STAR</td>\n",
              "    </tr>\n",
              "    <tr>\n",
              "      <th>...</th>\n",
              "      <td>...</td>\n",
              "      <td>...</td>\n",
              "      <td>...</td>\n",
              "      <td>...</td>\n",
              "      <td>...</td>\n",
              "      <td>...</td>\n",
              "      <td>...</td>\n",
              "      <td>...</td>\n",
              "      <td>...</td>\n",
              "      <td>...</td>\n",
              "    </tr>\n",
              "    <tr>\n",
              "      <th>197</th>\n",
              "      <td>18-25</td>\n",
              "      <td>Occasionally</td>\n",
              "      <td>Casual Dress</td>\n",
              "      <td>H&amp;M</td>\n",
              "      <td>500-700</td>\n",
              "      <td>During the sales</td>\n",
              "      <td>By them in Store</td>\n",
              "      <td>YES</td>\n",
              "      <td>No</td>\n",
              "      <td>5 STAR</td>\n",
              "    </tr>\n",
              "    <tr>\n",
              "      <th>198</th>\n",
              "      <td>18-25</td>\n",
              "      <td>Regularly</td>\n",
              "      <td>Women Dress, Casual Dress, Ladies Tops</td>\n",
              "      <td>Adidas,H&amp;M</td>\n",
              "      <td>1000-above</td>\n",
              "      <td>During the sales</td>\n",
              "      <td>By them in Store</td>\n",
              "      <td>YES</td>\n",
              "      <td>No</td>\n",
              "      <td>5 STAR</td>\n",
              "    </tr>\n",
              "    <tr>\n",
              "      <th>199</th>\n",
              "      <td>18-25</td>\n",
              "      <td>Regularly</td>\n",
              "      <td>T-shirt, Jeans, Ladies Tops</td>\n",
              "      <td>Adidas</td>\n",
              "      <td>700-1000</td>\n",
              "      <td>During the sales</td>\n",
              "      <td>By them in Store</td>\n",
              "      <td>YES</td>\n",
              "      <td>No</td>\n",
              "      <td>5 STAR</td>\n",
              "    </tr>\n",
              "    <tr>\n",
              "      <th>200</th>\n",
              "      <td>18-25</td>\n",
              "      <td>Occasionally</td>\n",
              "      <td>T-shirt, Jeans</td>\n",
              "      <td>Adidas</td>\n",
              "      <td>700-1000</td>\n",
              "      <td>Without the sales (Off Season)</td>\n",
              "      <td>By them in Store</td>\n",
              "      <td>NO</td>\n",
              "      <td>No</td>\n",
              "      <td>4 STAR</td>\n",
              "    </tr>\n",
              "    <tr>\n",
              "      <th>201</th>\n",
              "      <td>35-50</td>\n",
              "      <td>Occasionally</td>\n",
              "      <td>Women Dress, Casual Dress</td>\n",
              "      <td>H&amp;M,ZARA</td>\n",
              "      <td>700-1000</td>\n",
              "      <td>During the sales</td>\n",
              "      <td>By them in Store</td>\n",
              "      <td>YES</td>\n",
              "      <td>Yes</td>\n",
              "      <td>1 STAR</td>\n",
              "    </tr>\n",
              "  </tbody>\n",
              "</table>\n",
              "<p>202 rows × 10 columns</p>\n",
              "</div>"
            ],
            "text/plain": [
              "       Age    buyclothes  ... worstexperience Rating \n",
              "0    18-25  Occasionally  ...              No  4 STAR\n",
              "1    18-25  Occasionally  ...             Yes  3 STAR\n",
              "2    18-25  Occasionally  ...             Yes  3 STAR\n",
              "3    18-25  Occasionally  ...             Yes  4 STAR\n",
              "4    18-25  Occasionally  ...              No  5 STAR\n",
              "..     ...           ...  ...             ...     ...\n",
              "197  18-25  Occasionally  ...              No  5 STAR\n",
              "198  18-25     Regularly  ...              No  5 STAR\n",
              "199  18-25     Regularly  ...              No  5 STAR\n",
              "200  18-25  Occasionally  ...              No  4 STAR\n",
              "201  35-50  Occasionally  ...             Yes  1 STAR\n",
              "\n",
              "[202 rows x 10 columns]"
            ]
          },
          "metadata": {
            "tags": []
          },
          "execution_count": 40
        }
      ]
    },
    {
      "cell_type": "code",
      "metadata": {
        "colab": {
          "base_uri": "https://localhost:8080/"
        },
        "id": "vo3iKRee-3Ms",
        "outputId": "de9740ba-3f3b-413d-8d09-f077dd4b515a"
      },
      "source": [
        "Dataset.dropna(subset=['Age'],how='all').shape"
      ],
      "execution_count": null,
      "outputs": [
        {
          "output_type": "execute_result",
          "data": {
            "text/plain": [
              "(202, 10)"
            ]
          },
          "metadata": {
            "tags": []
          },
          "execution_count": 56
        }
      ]
    },
    {
      "cell_type": "code",
      "metadata": {
        "colab": {
          "base_uri": "https://localhost:8080/"
        },
        "id": "hdXPB4TT-9g5",
        "outputId": "8c4a62d0-5784-4570-a9a5-a35de3bd17ee"
      },
      "source": [
        "Dataset['Age'].fillna(value='18-25')"
      ],
      "execution_count": null,
      "outputs": [
        {
          "output_type": "execute_result",
          "data": {
            "text/plain": [
              "0      18-25\n",
              "1      18-25\n",
              "2      18-25\n",
              "3      18-25\n",
              "4      18-25\n",
              "       ...  \n",
              "197    18-25\n",
              "198    18-25\n",
              "199    18-25\n",
              "200    18-25\n",
              "201    35-50\n",
              "Name: Age, Length: 202, dtype: object"
            ]
          },
          "metadata": {
            "tags": []
          },
          "execution_count": 58
        }
      ]
    },
    {
      "cell_type": "code",
      "metadata": {
        "colab": {
          "base_uri": "https://localhost:8080/"
        },
        "id": "td5_1sqr_PRf",
        "outputId": "89c6eb8b-cdb2-4e51-ada6-c012d1d0eaa6"
      },
      "source": [
        "Dataset['Age'].unique()"
      ],
      "execution_count": null,
      "outputs": [
        {
          "output_type": "execute_result",
          "data": {
            "text/plain": [
              "array(['18-25', '25-35', '35-50', '50 - above'], dtype=object)"
            ]
          },
          "metadata": {
            "tags": []
          },
          "execution_count": 77
        }
      ]
    },
    {
      "cell_type": "code",
      "metadata": {
        "colab": {
          "base_uri": "https://localhost:8080/"
        },
        "id": "2yGuFn84Azho",
        "outputId": "a839c976-13d3-4e5f-e393-34d3884d3bbf"
      },
      "source": [
        "Dataset.columns"
      ],
      "execution_count": 9,
      "outputs": [
        {
          "output_type": "execute_result",
          "data": {
            "text/plain": [
              "Index(['Age', 'buyclothes', 'Type', 'Brand', 'Price', 'time_prefer ',\n",
              "       'preferpurchasing ', 'compareprices ', 'worstexperience', 'Rating '],\n",
              "      dtype='object')"
            ]
          },
          "metadata": {
            "tags": []
          },
          "execution_count": 9
        }
      ]
    },
    {
      "cell_type": "code",
      "metadata": {
        "id": "qWFhaURI5Mx0"
      },
      "source": [
        "def split_multicolumn(Brand):\n",
        "    result_df = Brand.to_frame()\n",
        "    options = []\n",
        "    # Iterate over the column\n",
        "    for idx, value  in Brand[Brand.notnull()].iteritems():\n",
        "        # Break each value into list of options\n",
        "        for option in value.split(','):\n",
        "            # Add the option as a column to result\n",
        "            if not option in result_df.columns:\n",
        "                options.append(option)\n",
        "                result_df[option] = False\n",
        "            # Mark the value in the option column as True\n",
        "            result_df.at[idx, option] = True\n",
        "    return result_df[options]"
      ],
      "execution_count": 41,
      "outputs": []
    },
    {
      "cell_type": "code",
      "metadata": {
        "id": "H78HMU7w5WVE"
      },
      "source": [
        "Brand_df = split_multicolumn(Dataset.Brand)\n",
        "Brand_split = Brand_df.sum().sort_values(ascending=False)"
      ],
      "execution_count": 42,
      "outputs": []
    },
    {
      "cell_type": "code",
      "metadata": {
        "colab": {
          "base_uri": "https://localhost:8080/",
          "height": 483
        },
        "id": "ks3PEYra5Z39",
        "outputId": "65feedf9-551b-4da2-d1bd-49445ebe40c5"
      },
      "source": [
        "plt.figure(figsize=(12,8))\n",
        "sns.barplot(x=Brand_split.values, y=Brand_split.index);"
      ],
      "execution_count": 43,
      "outputs": [
        {
          "output_type": "display_data",
          "data": {
            "image/png": "[encoded data removed]",
            "text/plain": [
              "<Figure size 864x576 with 1 Axes>"
            ]
          },
          "metadata": {
            "tags": [],
            "needs_background": "light"
          }
        }
      ]
    },
    {
      "cell_type": "code",
      "metadata": {
        "id": "S7bNp-LZcQpg"
      },
      "source": [
        ""
      ],
      "execution_count": null,
      "outputs": []
    },
    {
      "cell_type": "code",
      "metadata": {
        "id": "I2XkL8g5I8tZ"
      },
      "source": [
        "def split_multicolumn(Type):\n",
        "    result_df = Type.to_frame()\n",
        "    options = []\n",
        "    # Iterate over the column\n",
        "    for idx, value  in Type[Type.notnull()].iteritems():\n",
        "        # Break each value into list of options\n",
        "        for option in value.split(','):\n",
        "            # Add the option as a column to result\n",
        "            if not option in result_df.columns:\n",
        "                options.append(option)\n",
        "                result_df[option] = False\n",
        "            # Mark the value in the option column as True\n",
        "            result_df.at[idx, option] = True\n",
        "    return result_df[options]"
      ],
      "execution_count": null,
      "outputs": []
    },
    {
      "cell_type": "code",
      "metadata": {
        "id": "oLlIJXGCJET2"
      },
      "source": [
        "Type_df = split_multicolumn(Dataset.Type)\n",
        "Type_split = Type_df.sum().sort_values(ascending=False)"
      ],
      "execution_count": null,
      "outputs": []
    },
    {
      "cell_type": "code",
      "metadata": {
        "colab": {
          "base_uri": "https://localhost:8080/",
          "height": 483
        },
        "id": "DtdpWFYjJHVq",
        "outputId": "54a36751-e6d5-4998-b400-ed780517db4a"
      },
      "source": [
        "plt.figure(figsize=(12,8))\n",
        "sns.barplot(x=Type_split.values, y=Type_split.index);"
      ],
      "execution_count": null,
      "outputs": [
        {
          "output_type": "display_data",
          "data": {
            "image/png": "[encoded data removed]",
            "text/plain": [
              "<Figure size 864x576 with 1 Axes>"
            ]
          },
          "metadata": {
            "tags": [],
            "needs_background": "light"
          }
        }
      ]
    },
    {
      "cell_type": "code",
      "metadata": {
        "colab": {
          "base_uri": "https://localhost:8080/",
          "height": 265
        },
        "id": "l_zlUscFdWdt",
        "outputId": "2e53c328-6431-4ac9-ea45-0e188a39ab26"
      },
      "source": [
        "sns.countplot(x=Brand_split.values,data=Dataset,palette=\"Set3\");\n"
      ],
      "execution_count": 48,
      "outputs": [
        {
          "output_type": "display_data",
          "data": {
            "image/png": "[encoded data removed]",
            "text/plain": [
              "<Figure size 432x288 with 1 Axes>"
            ]
          },
          "metadata": {
            "tags": [],
            "needs_background": "light"
          }
        }
      ]
    }
  ]
}