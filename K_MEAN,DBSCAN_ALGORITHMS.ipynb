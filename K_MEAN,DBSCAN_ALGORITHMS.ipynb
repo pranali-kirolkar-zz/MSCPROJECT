{
  "nbformat": 4,
  "nbformat_minor": 0,
  "metadata": {
    "colab": {
      "name": "K-MEAN,DBSCAN_ALGORITHMS.ipynb",
      "provenance": [],
      "collapsed_sections": [],
      "authorship_tag": "ABX9TyPrO8MToyZDg0LcbWG82hni",
      "include_colab_link": true
    },
    "kernelspec": {
      "name": "python3",
      "display_name": "Python 3"
    },
    "language_info": {
      "name": "python"
    }
  },
  "cells": [
    {
      "cell_type": "markdown",
      "metadata": {
        "id": "view-in-github",
        "colab_type": "text"
      },
      "source": [
        "<a href=\"https://colab.research.google.com/github/pranali-kirolkar/MSCPROJECT/blob/main/K_MEAN%2CDBSCAN_ALGORITHMS.ipynb\" target=\"_parent\"><img src=\"https://colab.research.google.com/assets/colab-badge.svg\" alt=\"Open In Colab\"/></a>"
      ]
    },
    {
      "cell_type": "code",
      "metadata": {
        "id": "JvFQ3zsl39Mg",
        "colab": {
          "base_uri": "https://localhost:8080/"
        },
        "outputId": "e2e4645c-46ba-414a-e78f-ba6e56242174"
      },
      "source": [
        "#importing Libraries\n",
        "\n",
        "import pandas as pd\n",
        "import matplotlib.pyplot as plt\n",
        "import numpy as np\n",
        "import seaborn as sns\n",
        "from sklearn.preprocessing import LabelEncoder\n",
        "num=LabelEncoder()\n",
        "from mlxtend.preprocessing import minmax_scaling\n",
        "import scipy.cluster.hierarchy as sch\n",
        "from sklearn import metrics, mixture, cluster, datasets\n",
        "from sklearn.cluster import AgglomerativeClustering, KMeans, DBSCAN\n",
        "import mpl_toolkits.mplot3d.axes3d as p3\n",
        "from sklearn.mixture import GaussianMixture\n",
        "print(\"Libraries loaded\")\n"
      ],
      "execution_count": 137,
      "outputs": [
        {
          "output_type": "stream",
          "text": [
            "Libraries loaded\n"
          ],
          "name": "stdout"
        }
      ]
    },
    {
      "cell_type": "code",
      "metadata": {
        "id": "XRujd6oV4K00"
      },
      "source": [
        "#Sales of Summer clothes Dataset\n",
        "Dataset = pd.read_csv('/content/SalesSummerClothes.csv') "
      ],
      "execution_count": 177,
      "outputs": []
    },
    {
      "cell_type": "code",
      "metadata": {
        "id": "_qn58v337k8v"
      },
      "source": [
        "Dataset.drop('Timestamp',axis=1,inplace=True)"
      ],
      "execution_count": 178,
      "outputs": []
    },
    {
      "cell_type": "code",
      "metadata": {
        "colab": {
          "base_uri": "https://localhost:8080/",
          "height": 728
        },
        "id": "uj14JIPR7qyk",
        "outputId": "c9be7e67-d7a2-49ec-9469-6f746bb88871"
      },
      "source": [
        "Dataset"
      ],
      "execution_count": 179,
      "outputs": [
        {
          "output_type": "execute_result",
          "data": {
            "text/html": [
              "<div>\n",
              "<style scoped>\n",
              "    .dataframe tbody tr th:only-of-type {\n",
              "        vertical-align: middle;\n",
              "    }\n",
              "\n",
              "    .dataframe tbody tr th {\n",
              "        vertical-align: top;\n",
              "    }\n",
              "\n",
              "    .dataframe thead th {\n",
              "        text-align: right;\n",
              "    }\n",
              "</style>\n",
              "<table border=\"1\" class=\"dataframe\">\n",
              "  <thead>\n",
              "    <tr style=\"text-align: right;\">\n",
              "      <th></th>\n",
              "      <th>Name</th>\n",
              "      <th>Age</th>\n",
              "      <th>Buy_Clothes</th>\n",
              "      <th>Type_Clothes</th>\n",
              "      <th>Brand_Clothes</th>\n",
              "      <th>Price</th>\n",
              "      <th>time_prefer</th>\n",
              "      <th>prefer_purchasing</th>\n",
              "      <th>compare_prices</th>\n",
              "      <th>worst_experience</th>\n",
              "      <th>Rating</th>\n",
              "    </tr>\n",
              "  </thead>\n",
              "  <tbody>\n",
              "    <tr>\n",
              "      <th>0</th>\n",
              "      <td>Bhairavi</td>\n",
              "      <td>18-25</td>\n",
              "      <td>Occasionally</td>\n",
              "      <td>Jeans,Women Dress,Ladies Tops</td>\n",
              "      <td>NIKE,Adidas</td>\n",
              "      <td>500-700</td>\n",
              "      <td>During the sales</td>\n",
              "      <td>Online</td>\n",
              "      <td>YES</td>\n",
              "      <td>No</td>\n",
              "      <td>4</td>\n",
              "    </tr>\n",
              "    <tr>\n",
              "      <th>1</th>\n",
              "      <td>Girish</td>\n",
              "      <td>18-25</td>\n",
              "      <td>Occasionally</td>\n",
              "      <td>T-shirt,Jeans</td>\n",
              "      <td>NIKE,Adidas,H&amp;M</td>\n",
              "      <td>700-1000</td>\n",
              "      <td>During the sales</td>\n",
              "      <td>Online</td>\n",
              "      <td>YES</td>\n",
              "      <td>Yes</td>\n",
              "      <td>3</td>\n",
              "    </tr>\n",
              "    <tr>\n",
              "      <th>2</th>\n",
              "      <td>Mayuri katkar</td>\n",
              "      <td>18-25</td>\n",
              "      <td>Occasionally</td>\n",
              "      <td>T-shirt,Jeans,Women Dress,Casual Dress,Ladies ...</td>\n",
              "      <td>NIKE,Adidas,H&amp;M,ZARA</td>\n",
              "      <td>200-500</td>\n",
              "      <td>During the sales</td>\n",
              "      <td>By them in Store</td>\n",
              "      <td>YES</td>\n",
              "      <td>Yes</td>\n",
              "      <td>3</td>\n",
              "    </tr>\n",
              "    <tr>\n",
              "      <th>3</th>\n",
              "      <td>Harshali</td>\n",
              "      <td>18-25</td>\n",
              "      <td>Occasionally</td>\n",
              "      <td>Women Dress</td>\n",
              "      <td>NIKE</td>\n",
              "      <td>500-700</td>\n",
              "      <td>During the sales</td>\n",
              "      <td>By them in Store</td>\n",
              "      <td>YES</td>\n",
              "      <td>Yes</td>\n",
              "      <td>4</td>\n",
              "    </tr>\n",
              "    <tr>\n",
              "      <th>4</th>\n",
              "      <td>Sadamast Nikita Shivaji</td>\n",
              "      <td>18-25</td>\n",
              "      <td>Occasionally</td>\n",
              "      <td>Women Dress</td>\n",
              "      <td>Meesho</td>\n",
              "      <td>500-700</td>\n",
              "      <td>Without the sales (Off Season)</td>\n",
              "      <td>Online</td>\n",
              "      <td>YES</td>\n",
              "      <td>No</td>\n",
              "      <td>5</td>\n",
              "    </tr>\n",
              "    <tr>\n",
              "      <th>...</th>\n",
              "      <td>...</td>\n",
              "      <td>...</td>\n",
              "      <td>...</td>\n",
              "      <td>...</td>\n",
              "      <td>...</td>\n",
              "      <td>...</td>\n",
              "      <td>...</td>\n",
              "      <td>...</td>\n",
              "      <td>...</td>\n",
              "      <td>...</td>\n",
              "      <td>...</td>\n",
              "    </tr>\n",
              "    <tr>\n",
              "      <th>197</th>\n",
              "      <td>Rekha</td>\n",
              "      <td>18-25</td>\n",
              "      <td>Occasionally</td>\n",
              "      <td>Casual Dress</td>\n",
              "      <td>H&amp;M</td>\n",
              "      <td>500-700</td>\n",
              "      <td>During the sales</td>\n",
              "      <td>By them in Store</td>\n",
              "      <td>YES</td>\n",
              "      <td>No</td>\n",
              "      <td>4</td>\n",
              "    </tr>\n",
              "    <tr>\n",
              "      <th>198</th>\n",
              "      <td>Vaishali kokre</td>\n",
              "      <td>18-25</td>\n",
              "      <td>Regularly</td>\n",
              "      <td>Women Dress,Casual Dress,Ladies Tops</td>\n",
              "      <td>Adidas,H&amp;M</td>\n",
              "      <td>1000-above</td>\n",
              "      <td>During the sales</td>\n",
              "      <td>By them in Store</td>\n",
              "      <td>YES</td>\n",
              "      <td>No</td>\n",
              "      <td>4</td>\n",
              "    </tr>\n",
              "    <tr>\n",
              "      <th>199</th>\n",
              "      <td>Neeta</td>\n",
              "      <td>18-25</td>\n",
              "      <td>Regularly</td>\n",
              "      <td>T-shirt,Jeans,Ladies Tops</td>\n",
              "      <td>Adidas</td>\n",
              "      <td>700-1000</td>\n",
              "      <td>During the sales</td>\n",
              "      <td>By them in Store</td>\n",
              "      <td>YES</td>\n",
              "      <td>No</td>\n",
              "      <td>4</td>\n",
              "    </tr>\n",
              "    <tr>\n",
              "      <th>200</th>\n",
              "      <td>Sushant</td>\n",
              "      <td>18-25</td>\n",
              "      <td>Occasionally</td>\n",
              "      <td>T-shirt,Jeans</td>\n",
              "      <td>Adidas</td>\n",
              "      <td>700-1000</td>\n",
              "      <td>Without the sales (Off Season)</td>\n",
              "      <td>By them in Store</td>\n",
              "      <td>NO</td>\n",
              "      <td>No</td>\n",
              "      <td>4</td>\n",
              "    </tr>\n",
              "    <tr>\n",
              "      <th>201</th>\n",
              "      <td>Suchita</td>\n",
              "      <td>35-50</td>\n",
              "      <td>Occasionally</td>\n",
              "      <td>Women Dress,Casual Dress</td>\n",
              "      <td>H&amp;M,ZARA</td>\n",
              "      <td>700-1000</td>\n",
              "      <td>During the sales</td>\n",
              "      <td>By them in Store</td>\n",
              "      <td>YES</td>\n",
              "      <td>Yes</td>\n",
              "      <td>4</td>\n",
              "    </tr>\n",
              "  </tbody>\n",
              "</table>\n",
              "<p>202 rows × 11 columns</p>\n",
              "</div>"
            ],
            "text/plain": [
              "                        Name    Age  ... worst_experience Rating \n",
              "0                   Bhairavi  18-25  ...               No       4\n",
              "1                     Girish  18-25  ...              Yes       3\n",
              "2              Mayuri katkar  18-25  ...              Yes       3\n",
              "3                   Harshali  18-25  ...              Yes       4\n",
              "4    Sadamast Nikita Shivaji  18-25  ...               No       5\n",
              "..                       ...    ...  ...              ...     ...\n",
              "197                   Rekha   18-25  ...               No       4\n",
              "198           Vaishali kokre  18-25  ...               No       4\n",
              "199                   Neeta   18-25  ...               No       4\n",
              "200                 Sushant   18-25  ...               No       4\n",
              "201                  Suchita  35-50  ...              Yes       4\n",
              "\n",
              "[202 rows x 11 columns]"
            ]
          },
          "metadata": {
            "tags": []
          },
          "execution_count": 179
        }
      ]
    },
    {
      "cell_type": "code",
      "metadata": {
        "colab": {
          "base_uri": "https://localhost:8080/",
          "height": 360
        },
        "id": "xIrTeg-04bmg",
        "outputId": "0314098c-d305-4137-80c0-9b5658c7db90"
      },
      "source": [
        "Dataset.head()"
      ],
      "execution_count": 180,
      "outputs": [
        {
          "output_type": "execute_result",
          "data": {
            "text/html": [
              "<div>\n",
              "<style scoped>\n",
              "    .dataframe tbody tr th:only-of-type {\n",
              "        vertical-align: middle;\n",
              "    }\n",
              "\n",
              "    .dataframe tbody tr th {\n",
              "        vertical-align: top;\n",
              "    }\n",
              "\n",
              "    .dataframe thead th {\n",
              "        text-align: right;\n",
              "    }\n",
              "</style>\n",
              "<table border=\"1\" class=\"dataframe\">\n",
              "  <thead>\n",
              "    <tr style=\"text-align: right;\">\n",
              "      <th></th>\n",
              "      <th>Name</th>\n",
              "      <th>Age</th>\n",
              "      <th>Buy_Clothes</th>\n",
              "      <th>Type_Clothes</th>\n",
              "      <th>Brand_Clothes</th>\n",
              "      <th>Price</th>\n",
              "      <th>time_prefer</th>\n",
              "      <th>prefer_purchasing</th>\n",
              "      <th>compare_prices</th>\n",
              "      <th>worst_experience</th>\n",
              "      <th>Rating</th>\n",
              "    </tr>\n",
              "  </thead>\n",
              "  <tbody>\n",
              "    <tr>\n",
              "      <th>0</th>\n",
              "      <td>Bhairavi</td>\n",
              "      <td>18-25</td>\n",
              "      <td>Occasionally</td>\n",
              "      <td>Jeans,Women Dress,Ladies Tops</td>\n",
              "      <td>NIKE,Adidas</td>\n",
              "      <td>500-700</td>\n",
              "      <td>During the sales</td>\n",
              "      <td>Online</td>\n",
              "      <td>YES</td>\n",
              "      <td>No</td>\n",
              "      <td>4</td>\n",
              "    </tr>\n",
              "    <tr>\n",
              "      <th>1</th>\n",
              "      <td>Girish</td>\n",
              "      <td>18-25</td>\n",
              "      <td>Occasionally</td>\n",
              "      <td>T-shirt,Jeans</td>\n",
              "      <td>NIKE,Adidas,H&amp;M</td>\n",
              "      <td>700-1000</td>\n",
              "      <td>During the sales</td>\n",
              "      <td>Online</td>\n",
              "      <td>YES</td>\n",
              "      <td>Yes</td>\n",
              "      <td>3</td>\n",
              "    </tr>\n",
              "    <tr>\n",
              "      <th>2</th>\n",
              "      <td>Mayuri katkar</td>\n",
              "      <td>18-25</td>\n",
              "      <td>Occasionally</td>\n",
              "      <td>T-shirt,Jeans,Women Dress,Casual Dress,Ladies ...</td>\n",
              "      <td>NIKE,Adidas,H&amp;M,ZARA</td>\n",
              "      <td>200-500</td>\n",
              "      <td>During the sales</td>\n",
              "      <td>By them in Store</td>\n",
              "      <td>YES</td>\n",
              "      <td>Yes</td>\n",
              "      <td>3</td>\n",
              "    </tr>\n",
              "    <tr>\n",
              "      <th>3</th>\n",
              "      <td>Harshali</td>\n",
              "      <td>18-25</td>\n",
              "      <td>Occasionally</td>\n",
              "      <td>Women Dress</td>\n",
              "      <td>NIKE</td>\n",
              "      <td>500-700</td>\n",
              "      <td>During the sales</td>\n",
              "      <td>By them in Store</td>\n",
              "      <td>YES</td>\n",
              "      <td>Yes</td>\n",
              "      <td>4</td>\n",
              "    </tr>\n",
              "    <tr>\n",
              "      <th>4</th>\n",
              "      <td>Sadamast Nikita Shivaji</td>\n",
              "      <td>18-25</td>\n",
              "      <td>Occasionally</td>\n",
              "      <td>Women Dress</td>\n",
              "      <td>Meesho</td>\n",
              "      <td>500-700</td>\n",
              "      <td>Without the sales (Off Season)</td>\n",
              "      <td>Online</td>\n",
              "      <td>YES</td>\n",
              "      <td>No</td>\n",
              "      <td>5</td>\n",
              "    </tr>\n",
              "  </tbody>\n",
              "</table>\n",
              "</div>"
            ],
            "text/plain": [
              "                      Name    Age  ... worst_experience Rating \n",
              "0                 Bhairavi  18-25  ...               No       4\n",
              "1                   Girish  18-25  ...              Yes       3\n",
              "2            Mayuri katkar  18-25  ...              Yes       3\n",
              "3                 Harshali  18-25  ...              Yes       4\n",
              "4  Sadamast Nikita Shivaji  18-25  ...               No       5\n",
              "\n",
              "[5 rows x 11 columns]"
            ]
          },
          "metadata": {
            "tags": []
          },
          "execution_count": 180
        }
      ]
    },
    {
      "cell_type": "code",
      "metadata": {
        "colab": {
          "base_uri": "https://localhost:8080/",
          "height": 394
        },
        "id": "Jv_z2_Nh4eZm",
        "outputId": "2fa31900-c43c-4472-c0a2-489ab9239050"
      },
      "source": [
        "Dataset.tail()"
      ],
      "execution_count": 142,
      "outputs": [
        {
          "output_type": "execute_result",
          "data": {
            "text/html": [
              "<div>\n",
              "<style scoped>\n",
              "    .dataframe tbody tr th:only-of-type {\n",
              "        vertical-align: middle;\n",
              "    }\n",
              "\n",
              "    .dataframe tbody tr th {\n",
              "        vertical-align: top;\n",
              "    }\n",
              "\n",
              "    .dataframe thead th {\n",
              "        text-align: right;\n",
              "    }\n",
              "</style>\n",
              "<table border=\"1\" class=\"dataframe\">\n",
              "  <thead>\n",
              "    <tr style=\"text-align: right;\">\n",
              "      <th></th>\n",
              "      <th>Name</th>\n",
              "      <th>Age</th>\n",
              "      <th>Buy_Clothes</th>\n",
              "      <th>Type_Clothes</th>\n",
              "      <th>Brand_Clothes</th>\n",
              "      <th>Price</th>\n",
              "      <th>time_prefer</th>\n",
              "      <th>prefer_purchasing</th>\n",
              "      <th>compare_prices</th>\n",
              "      <th>worst_experience</th>\n",
              "      <th>Rating</th>\n",
              "    </tr>\n",
              "  </thead>\n",
              "  <tbody>\n",
              "    <tr>\n",
              "      <th>197</th>\n",
              "      <td>Rekha</td>\n",
              "      <td>18-25</td>\n",
              "      <td>Occasionally</td>\n",
              "      <td>Casual Dress</td>\n",
              "      <td>H&amp;M</td>\n",
              "      <td>500-700</td>\n",
              "      <td>During the sales</td>\n",
              "      <td>By them in Store</td>\n",
              "      <td>YES</td>\n",
              "      <td>No</td>\n",
              "      <td>4</td>\n",
              "    </tr>\n",
              "    <tr>\n",
              "      <th>198</th>\n",
              "      <td>Vaishali kokre</td>\n",
              "      <td>18-25</td>\n",
              "      <td>Regularly</td>\n",
              "      <td>Women Dress,Casual Dress,Ladies Tops</td>\n",
              "      <td>Adidas,H&amp;M</td>\n",
              "      <td>1000-above</td>\n",
              "      <td>During the sales</td>\n",
              "      <td>By them in Store</td>\n",
              "      <td>YES</td>\n",
              "      <td>No</td>\n",
              "      <td>4</td>\n",
              "    </tr>\n",
              "    <tr>\n",
              "      <th>199</th>\n",
              "      <td>Neeta</td>\n",
              "      <td>18-25</td>\n",
              "      <td>Regularly</td>\n",
              "      <td>T-shirt,Jeans,Ladies Tops</td>\n",
              "      <td>Adidas</td>\n",
              "      <td>700-1000</td>\n",
              "      <td>During the sales</td>\n",
              "      <td>By them in Store</td>\n",
              "      <td>YES</td>\n",
              "      <td>No</td>\n",
              "      <td>4</td>\n",
              "    </tr>\n",
              "    <tr>\n",
              "      <th>200</th>\n",
              "      <td>Sushant</td>\n",
              "      <td>18-25</td>\n",
              "      <td>Occasionally</td>\n",
              "      <td>T-shirt,Jeans</td>\n",
              "      <td>Adidas</td>\n",
              "      <td>700-1000</td>\n",
              "      <td>Without the sales (Off Season)</td>\n",
              "      <td>By them in Store</td>\n",
              "      <td>NO</td>\n",
              "      <td>No</td>\n",
              "      <td>4</td>\n",
              "    </tr>\n",
              "    <tr>\n",
              "      <th>201</th>\n",
              "      <td>Suchita</td>\n",
              "      <td>35-50</td>\n",
              "      <td>Occasionally</td>\n",
              "      <td>Women Dress,Casual Dress</td>\n",
              "      <td>H&amp;M,ZARA</td>\n",
              "      <td>700-1000</td>\n",
              "      <td>During the sales</td>\n",
              "      <td>By them in Store</td>\n",
              "      <td>YES</td>\n",
              "      <td>Yes</td>\n",
              "      <td>4</td>\n",
              "    </tr>\n",
              "  </tbody>\n",
              "</table>\n",
              "</div>"
            ],
            "text/plain": [
              "               Name    Age  ... worst_experience Rating \n",
              "197          Rekha   18-25  ...               No       4\n",
              "198  Vaishali kokre  18-25  ...               No       4\n",
              "199          Neeta   18-25  ...               No       4\n",
              "200        Sushant   18-25  ...               No       4\n",
              "201         Suchita  35-50  ...              Yes       4\n",
              "\n",
              "[5 rows x 11 columns]"
            ]
          },
          "metadata": {
            "tags": []
          },
          "execution_count": 142
        }
      ]
    },
    {
      "cell_type": "code",
      "metadata": {
        "colab": {
          "base_uri": "https://localhost:8080/"
        },
        "id": "x327CfsE4iFc",
        "outputId": "513920cb-fc12-4a79-c0bc-3bdb468d0ac1"
      },
      "source": [
        "len(Dataset)"
      ],
      "execution_count": 143,
      "outputs": [
        {
          "output_type": "execute_result",
          "data": {
            "text/plain": [
              "202"
            ]
          },
          "metadata": {
            "tags": []
          },
          "execution_count": 143
        }
      ]
    },
    {
      "cell_type": "code",
      "metadata": {
        "colab": {
          "base_uri": "https://localhost:8080/"
        },
        "id": "lUFrIhNK4mqT",
        "outputId": "6e5d0472-b39e-4a1c-8565-43ad74f88b4f"
      },
      "source": [
        "Dataset.shape"
      ],
      "execution_count": 144,
      "outputs": [
        {
          "output_type": "execute_result",
          "data": {
            "text/plain": [
              "(202, 11)"
            ]
          },
          "metadata": {
            "tags": []
          },
          "execution_count": 144
        }
      ]
    },
    {
      "cell_type": "code",
      "metadata": {
        "colab": {
          "base_uri": "https://localhost:8080/"
        },
        "id": "b7lyBwQD4rO9",
        "outputId": "61cfb2af-a876-4147-9d65-a43037ba71b7"
      },
      "source": [
        "Dataset.dtypes"
      ],
      "execution_count": 145,
      "outputs": [
        {
          "output_type": "execute_result",
          "data": {
            "text/plain": [
              "Name                  object\n",
              "Age                   object\n",
              "Buy_Clothes           object\n",
              "Type_Clothes          object\n",
              "Brand_Clothes         object\n",
              "Price                 object\n",
              "time_prefer           object\n",
              "prefer_purchasing     object\n",
              "compare_prices        object\n",
              "worst_experience      object\n",
              "Rating                 int64\n",
              "dtype: object"
            ]
          },
          "metadata": {
            "tags": []
          },
          "execution_count": 145
        }
      ]
    },
    {
      "cell_type": "code",
      "metadata": {
        "colab": {
          "base_uri": "https://localhost:8080/"
        },
        "id": "dxMjQB-T43fm",
        "outputId": "6aaf161c-0d62-4016-a150-5b2a6ec0c7b5"
      },
      "source": [
        "Dataset.info()"
      ],
      "execution_count": 146,
      "outputs": [
        {
          "output_type": "stream",
          "text": [
            "<class 'pandas.core.frame.DataFrame'>\n",
            "RangeIndex: 202 entries, 0 to 201\n",
            "Data columns (total 11 columns):\n",
            " #   Column              Non-Null Count  Dtype \n",
            "---  ------              --------------  ----- \n",
            " 0   Name                202 non-null    object\n",
            " 1   Age                 202 non-null    object\n",
            " 2   Buy_Clothes         202 non-null    object\n",
            " 3   Type_Clothes        202 non-null    object\n",
            " 4   Brand_Clothes       202 non-null    object\n",
            " 5   Price               202 non-null    object\n",
            " 6   time_prefer         202 non-null    object\n",
            " 7   prefer_purchasing   202 non-null    object\n",
            " 8   compare_prices      202 non-null    object\n",
            " 9   worst_experience    202 non-null    object\n",
            " 10  Rating              202 non-null    int64 \n",
            "dtypes: int64(1), object(10)\n",
            "memory usage: 17.5+ KB\n"
          ],
          "name": "stdout"
        }
      ]
    },
    {
      "cell_type": "code",
      "metadata": {
        "colab": {
          "base_uri": "https://localhost:8080/"
        },
        "id": "T2YE7DW29tX8",
        "outputId": "49de5d81-92b8-453e-eabf-d469b02dacf9"
      },
      "source": [
        "Dataset['Age']"
      ],
      "execution_count": 147,
      "outputs": [
        {
          "output_type": "execute_result",
          "data": {
            "text/plain": [
              "0      18-25\n",
              "1      18-25\n",
              "2      18-25\n",
              "3      18-25\n",
              "4      18-25\n",
              "       ...  \n",
              "197    18-25\n",
              "198    18-25\n",
              "199    18-25\n",
              "200    18-25\n",
              "201    35-50\n",
              "Name: Age, Length: 202, dtype: object"
            ]
          },
          "metadata": {
            "tags": []
          },
          "execution_count": 147
        }
      ]
    },
    {
      "cell_type": "code",
      "metadata": {
        "colab": {
          "base_uri": "https://localhost:8080/"
        },
        "id": "kXMOiL4C9zys",
        "outputId": "5a5c3d1c-e6f9-41d4-9384-248a06efb5f5"
      },
      "source": [
        "Dataset[\"Age\"].value_counts()"
      ],
      "execution_count": 148,
      "outputs": [
        {
          "output_type": "execute_result",
          "data": {
            "text/plain": [
              "18-25         162\n",
              "25-35          27\n",
              "35-50          12\n",
              "50 - above      1\n",
              "Name: Age, dtype: int64"
            ]
          },
          "metadata": {
            "tags": []
          },
          "execution_count": 148
        }
      ]
    },
    {
      "cell_type": "code",
      "metadata": {
        "colab": {
          "base_uri": "https://localhost:8080/"
        },
        "id": "tes6zbKr97np",
        "outputId": "cd3b2dee-5275-4f13-84ea-4f9d54c6aad9"
      },
      "source": [
        "Dataset['Age'].isnull().values.any()"
      ],
      "execution_count": 149,
      "outputs": [
        {
          "output_type": "execute_result",
          "data": {
            "text/plain": [
              "False"
            ]
          },
          "metadata": {
            "tags": []
          },
          "execution_count": 149
        }
      ]
    },
    {
      "cell_type": "code",
      "metadata": {
        "colab": {
          "base_uri": "https://localhost:8080/",
          "height": 728
        },
        "id": "YKhzEB44-HJB",
        "outputId": "9fc2b24c-398a-40ff-8f7e-5c5db38838aa"
      },
      "source": [
        "values = Dataset.values\n",
        "Dataset"
      ],
      "execution_count": 150,
      "outputs": [
        {
          "output_type": "execute_result",
          "data": {
            "text/html": [
              "<div>\n",
              "<style scoped>\n",
              "    .dataframe tbody tr th:only-of-type {\n",
              "        vertical-align: middle;\n",
              "    }\n",
              "\n",
              "    .dataframe tbody tr th {\n",
              "        vertical-align: top;\n",
              "    }\n",
              "\n",
              "    .dataframe thead th {\n",
              "        text-align: right;\n",
              "    }\n",
              "</style>\n",
              "<table border=\"1\" class=\"dataframe\">\n",
              "  <thead>\n",
              "    <tr style=\"text-align: right;\">\n",
              "      <th></th>\n",
              "      <th>Name</th>\n",
              "      <th>Age</th>\n",
              "      <th>Buy_Clothes</th>\n",
              "      <th>Type_Clothes</th>\n",
              "      <th>Brand_Clothes</th>\n",
              "      <th>Price</th>\n",
              "      <th>time_prefer</th>\n",
              "      <th>prefer_purchasing</th>\n",
              "      <th>compare_prices</th>\n",
              "      <th>worst_experience</th>\n",
              "      <th>Rating</th>\n",
              "    </tr>\n",
              "  </thead>\n",
              "  <tbody>\n",
              "    <tr>\n",
              "      <th>0</th>\n",
              "      <td>Bhairavi</td>\n",
              "      <td>18-25</td>\n",
              "      <td>Occasionally</td>\n",
              "      <td>Jeans,Women Dress,Ladies Tops</td>\n",
              "      <td>NIKE,Adidas</td>\n",
              "      <td>500-700</td>\n",
              "      <td>During the sales</td>\n",
              "      <td>Online</td>\n",
              "      <td>YES</td>\n",
              "      <td>No</td>\n",
              "      <td>4</td>\n",
              "    </tr>\n",
              "    <tr>\n",
              "      <th>1</th>\n",
              "      <td>Girish</td>\n",
              "      <td>18-25</td>\n",
              "      <td>Occasionally</td>\n",
              "      <td>T-shirt,Jeans</td>\n",
              "      <td>NIKE,Adidas,H&amp;M</td>\n",
              "      <td>700-1000</td>\n",
              "      <td>During the sales</td>\n",
              "      <td>Online</td>\n",
              "      <td>YES</td>\n",
              "      <td>Yes</td>\n",
              "      <td>3</td>\n",
              "    </tr>\n",
              "    <tr>\n",
              "      <th>2</th>\n",
              "      <td>Mayuri katkar</td>\n",
              "      <td>18-25</td>\n",
              "      <td>Occasionally</td>\n",
              "      <td>T-shirt,Jeans,Women Dress,Casual Dress,Ladies ...</td>\n",
              "      <td>NIKE,Adidas,H&amp;M,ZARA</td>\n",
              "      <td>200-500</td>\n",
              "      <td>During the sales</td>\n",
              "      <td>By them in Store</td>\n",
              "      <td>YES</td>\n",
              "      <td>Yes</td>\n",
              "      <td>3</td>\n",
              "    </tr>\n",
              "    <tr>\n",
              "      <th>3</th>\n",
              "      <td>Harshali</td>\n",
              "      <td>18-25</td>\n",
              "      <td>Occasionally</td>\n",
              "      <td>Women Dress</td>\n",
              "      <td>NIKE</td>\n",
              "      <td>500-700</td>\n",
              "      <td>During the sales</td>\n",
              "      <td>By them in Store</td>\n",
              "      <td>YES</td>\n",
              "      <td>Yes</td>\n",
              "      <td>4</td>\n",
              "    </tr>\n",
              "    <tr>\n",
              "      <th>4</th>\n",
              "      <td>Sadamast Nikita Shivaji</td>\n",
              "      <td>18-25</td>\n",
              "      <td>Occasionally</td>\n",
              "      <td>Women Dress</td>\n",
              "      <td>Meesho</td>\n",
              "      <td>500-700</td>\n",
              "      <td>Without the sales (Off Season)</td>\n",
              "      <td>Online</td>\n",
              "      <td>YES</td>\n",
              "      <td>No</td>\n",
              "      <td>5</td>\n",
              "    </tr>\n",
              "    <tr>\n",
              "      <th>...</th>\n",
              "      <td>...</td>\n",
              "      <td>...</td>\n",
              "      <td>...</td>\n",
              "      <td>...</td>\n",
              "      <td>...</td>\n",
              "      <td>...</td>\n",
              "      <td>...</td>\n",
              "      <td>...</td>\n",
              "      <td>...</td>\n",
              "      <td>...</td>\n",
              "      <td>...</td>\n",
              "    </tr>\n",
              "    <tr>\n",
              "      <th>197</th>\n",
              "      <td>Rekha</td>\n",
              "      <td>18-25</td>\n",
              "      <td>Occasionally</td>\n",
              "      <td>Casual Dress</td>\n",
              "      <td>H&amp;M</td>\n",
              "      <td>500-700</td>\n",
              "      <td>During the sales</td>\n",
              "      <td>By them in Store</td>\n",
              "      <td>YES</td>\n",
              "      <td>No</td>\n",
              "      <td>4</td>\n",
              "    </tr>\n",
              "    <tr>\n",
              "      <th>198</th>\n",
              "      <td>Vaishali kokre</td>\n",
              "      <td>18-25</td>\n",
              "      <td>Regularly</td>\n",
              "      <td>Women Dress,Casual Dress,Ladies Tops</td>\n",
              "      <td>Adidas,H&amp;M</td>\n",
              "      <td>1000-above</td>\n",
              "      <td>During the sales</td>\n",
              "      <td>By them in Store</td>\n",
              "      <td>YES</td>\n",
              "      <td>No</td>\n",
              "      <td>4</td>\n",
              "    </tr>\n",
              "    <tr>\n",
              "      <th>199</th>\n",
              "      <td>Neeta</td>\n",
              "      <td>18-25</td>\n",
              "      <td>Regularly</td>\n",
              "      <td>T-shirt,Jeans,Ladies Tops</td>\n",
              "      <td>Adidas</td>\n",
              "      <td>700-1000</td>\n",
              "      <td>During the sales</td>\n",
              "      <td>By them in Store</td>\n",
              "      <td>YES</td>\n",
              "      <td>No</td>\n",
              "      <td>4</td>\n",
              "    </tr>\n",
              "    <tr>\n",
              "      <th>200</th>\n",
              "      <td>Sushant</td>\n",
              "      <td>18-25</td>\n",
              "      <td>Occasionally</td>\n",
              "      <td>T-shirt,Jeans</td>\n",
              "      <td>Adidas</td>\n",
              "      <td>700-1000</td>\n",
              "      <td>Without the sales (Off Season)</td>\n",
              "      <td>By them in Store</td>\n",
              "      <td>NO</td>\n",
              "      <td>No</td>\n",
              "      <td>4</td>\n",
              "    </tr>\n",
              "    <tr>\n",
              "      <th>201</th>\n",
              "      <td>Suchita</td>\n",
              "      <td>35-50</td>\n",
              "      <td>Occasionally</td>\n",
              "      <td>Women Dress,Casual Dress</td>\n",
              "      <td>H&amp;M,ZARA</td>\n",
              "      <td>700-1000</td>\n",
              "      <td>During the sales</td>\n",
              "      <td>By them in Store</td>\n",
              "      <td>YES</td>\n",
              "      <td>Yes</td>\n",
              "      <td>4</td>\n",
              "    </tr>\n",
              "  </tbody>\n",
              "</table>\n",
              "<p>202 rows × 11 columns</p>\n",
              "</div>"
            ],
            "text/plain": [
              "                        Name    Age  ... worst_experience Rating \n",
              "0                   Bhairavi  18-25  ...               No       4\n",
              "1                     Girish  18-25  ...              Yes       3\n",
              "2              Mayuri katkar  18-25  ...              Yes       3\n",
              "3                   Harshali  18-25  ...              Yes       4\n",
              "4    Sadamast Nikita Shivaji  18-25  ...               No       5\n",
              "..                       ...    ...  ...              ...     ...\n",
              "197                   Rekha   18-25  ...               No       4\n",
              "198           Vaishali kokre  18-25  ...               No       4\n",
              "199                   Neeta   18-25  ...               No       4\n",
              "200                 Sushant   18-25  ...               No       4\n",
              "201                  Suchita  35-50  ...              Yes       4\n",
              "\n",
              "[202 rows x 11 columns]"
            ]
          },
          "metadata": {
            "tags": []
          },
          "execution_count": 150
        }
      ]
    },
    {
      "cell_type": "code",
      "metadata": {
        "colab": {
          "base_uri": "https://localhost:8080/"
        },
        "id": "HB4tFnfO-UL_",
        "outputId": "b23d1513-6383-4e99-a6af-adf4954d4224"
      },
      "source": [
        "Dataset.Age.head(10)"
      ],
      "execution_count": 151,
      "outputs": [
        {
          "output_type": "execute_result",
          "data": {
            "text/plain": [
              "0    18-25\n",
              "1    18-25\n",
              "2    18-25\n",
              "3    18-25\n",
              "4    18-25\n",
              "5    18-25\n",
              "6    18-25\n",
              "7    25-35\n",
              "8    18-25\n",
              "9    18-25\n",
              "Name: Age, dtype: object"
            ]
          },
          "metadata": {
            "tags": []
          },
          "execution_count": 151
        }
      ]
    },
    {
      "cell_type": "code",
      "metadata": {
        "colab": {
          "base_uri": "https://localhost:8080/"
        },
        "id": "Km57NDmz-fee",
        "outputId": "d0cb6339-754b-42c9-e0b1-c358344f34a5"
      },
      "source": [
        "Dataset.dropna(axis=0,how='any').shape"
      ],
      "execution_count": 152,
      "outputs": [
        {
          "output_type": "execute_result",
          "data": {
            "text/plain": [
              "(202, 11)"
            ]
          },
          "metadata": {
            "tags": []
          },
          "execution_count": 152
        }
      ]
    },
    {
      "cell_type": "code",
      "metadata": {
        "id": "M4J9EAy2-kdS"
      },
      "source": [
        "Dataset.dropna(axis=0,how='any',inplace=True)"
      ],
      "execution_count": 153,
      "outputs": []
    },
    {
      "cell_type": "code",
      "metadata": {
        "id": "LmI1reGj-qXZ"
      },
      "source": [
        "Dataset['Age'] = Dataset['Age'].replace(['all'],'18-25')"
      ],
      "execution_count": 154,
      "outputs": []
    },
    {
      "cell_type": "code",
      "metadata": {
        "colab": {
          "base_uri": "https://localhost:8080/",
          "height": 728
        },
        "id": "174SPIKx-u-k",
        "outputId": "2e6e7fa1-2c39-4715-c0b8-a2762f47f1b8"
      },
      "source": [
        "Dataset"
      ],
      "execution_count": 155,
      "outputs": [
        {
          "output_type": "execute_result",
          "data": {
            "text/html": [
              "<div>\n",
              "<style scoped>\n",
              "    .dataframe tbody tr th:only-of-type {\n",
              "        vertical-align: middle;\n",
              "    }\n",
              "\n",
              "    .dataframe tbody tr th {\n",
              "        vertical-align: top;\n",
              "    }\n",
              "\n",
              "    .dataframe thead th {\n",
              "        text-align: right;\n",
              "    }\n",
              "</style>\n",
              "<table border=\"1\" class=\"dataframe\">\n",
              "  <thead>\n",
              "    <tr style=\"text-align: right;\">\n",
              "      <th></th>\n",
              "      <th>Name</th>\n",
              "      <th>Age</th>\n",
              "      <th>Buy_Clothes</th>\n",
              "      <th>Type_Clothes</th>\n",
              "      <th>Brand_Clothes</th>\n",
              "      <th>Price</th>\n",
              "      <th>time_prefer</th>\n",
              "      <th>prefer_purchasing</th>\n",
              "      <th>compare_prices</th>\n",
              "      <th>worst_experience</th>\n",
              "      <th>Rating</th>\n",
              "    </tr>\n",
              "  </thead>\n",
              "  <tbody>\n",
              "    <tr>\n",
              "      <th>0</th>\n",
              "      <td>Bhairavi</td>\n",
              "      <td>18-25</td>\n",
              "      <td>Occasionally</td>\n",
              "      <td>Jeans,Women Dress,Ladies Tops</td>\n",
              "      <td>NIKE,Adidas</td>\n",
              "      <td>500-700</td>\n",
              "      <td>During the sales</td>\n",
              "      <td>Online</td>\n",
              "      <td>YES</td>\n",
              "      <td>No</td>\n",
              "      <td>4</td>\n",
              "    </tr>\n",
              "    <tr>\n",
              "      <th>1</th>\n",
              "      <td>Girish</td>\n",
              "      <td>18-25</td>\n",
              "      <td>Occasionally</td>\n",
              "      <td>T-shirt,Jeans</td>\n",
              "      <td>NIKE,Adidas,H&amp;M</td>\n",
              "      <td>700-1000</td>\n",
              "      <td>During the sales</td>\n",
              "      <td>Online</td>\n",
              "      <td>YES</td>\n",
              "      <td>Yes</td>\n",
              "      <td>3</td>\n",
              "    </tr>\n",
              "    <tr>\n",
              "      <th>2</th>\n",
              "      <td>Mayuri katkar</td>\n",
              "      <td>18-25</td>\n",
              "      <td>Occasionally</td>\n",
              "      <td>T-shirt,Jeans,Women Dress,Casual Dress,Ladies ...</td>\n",
              "      <td>NIKE,Adidas,H&amp;M,ZARA</td>\n",
              "      <td>200-500</td>\n",
              "      <td>During the sales</td>\n",
              "      <td>By them in Store</td>\n",
              "      <td>YES</td>\n",
              "      <td>Yes</td>\n",
              "      <td>3</td>\n",
              "    </tr>\n",
              "    <tr>\n",
              "      <th>3</th>\n",
              "      <td>Harshali</td>\n",
              "      <td>18-25</td>\n",
              "      <td>Occasionally</td>\n",
              "      <td>Women Dress</td>\n",
              "      <td>NIKE</td>\n",
              "      <td>500-700</td>\n",
              "      <td>During the sales</td>\n",
              "      <td>By them in Store</td>\n",
              "      <td>YES</td>\n",
              "      <td>Yes</td>\n",
              "      <td>4</td>\n",
              "    </tr>\n",
              "    <tr>\n",
              "      <th>4</th>\n",
              "      <td>Sadamast Nikita Shivaji</td>\n",
              "      <td>18-25</td>\n",
              "      <td>Occasionally</td>\n",
              "      <td>Women Dress</td>\n",
              "      <td>Meesho</td>\n",
              "      <td>500-700</td>\n",
              "      <td>Without the sales (Off Season)</td>\n",
              "      <td>Online</td>\n",
              "      <td>YES</td>\n",
              "      <td>No</td>\n",
              "      <td>5</td>\n",
              "    </tr>\n",
              "    <tr>\n",
              "      <th>...</th>\n",
              "      <td>...</td>\n",
              "      <td>...</td>\n",
              "      <td>...</td>\n",
              "      <td>...</td>\n",
              "      <td>...</td>\n",
              "      <td>...</td>\n",
              "      <td>...</td>\n",
              "      <td>...</td>\n",
              "      <td>...</td>\n",
              "      <td>...</td>\n",
              "      <td>...</td>\n",
              "    </tr>\n",
              "    <tr>\n",
              "      <th>197</th>\n",
              "      <td>Rekha</td>\n",
              "      <td>18-25</td>\n",
              "      <td>Occasionally</td>\n",
              "      <td>Casual Dress</td>\n",
              "      <td>H&amp;M</td>\n",
              "      <td>500-700</td>\n",
              "      <td>During the sales</td>\n",
              "      <td>By them in Store</td>\n",
              "      <td>YES</td>\n",
              "      <td>No</td>\n",
              "      <td>4</td>\n",
              "    </tr>\n",
              "    <tr>\n",
              "      <th>198</th>\n",
              "      <td>Vaishali kokre</td>\n",
              "      <td>18-25</td>\n",
              "      <td>Regularly</td>\n",
              "      <td>Women Dress,Casual Dress,Ladies Tops</td>\n",
              "      <td>Adidas,H&amp;M</td>\n",
              "      <td>1000-above</td>\n",
              "      <td>During the sales</td>\n",
              "      <td>By them in Store</td>\n",
              "      <td>YES</td>\n",
              "      <td>No</td>\n",
              "      <td>4</td>\n",
              "    </tr>\n",
              "    <tr>\n",
              "      <th>199</th>\n",
              "      <td>Neeta</td>\n",
              "      <td>18-25</td>\n",
              "      <td>Regularly</td>\n",
              "      <td>T-shirt,Jeans,Ladies Tops</td>\n",
              "      <td>Adidas</td>\n",
              "      <td>700-1000</td>\n",
              "      <td>During the sales</td>\n",
              "      <td>By them in Store</td>\n",
              "      <td>YES</td>\n",
              "      <td>No</td>\n",
              "      <td>4</td>\n",
              "    </tr>\n",
              "    <tr>\n",
              "      <th>200</th>\n",
              "      <td>Sushant</td>\n",
              "      <td>18-25</td>\n",
              "      <td>Occasionally</td>\n",
              "      <td>T-shirt,Jeans</td>\n",
              "      <td>Adidas</td>\n",
              "      <td>700-1000</td>\n",
              "      <td>Without the sales (Off Season)</td>\n",
              "      <td>By them in Store</td>\n",
              "      <td>NO</td>\n",
              "      <td>No</td>\n",
              "      <td>4</td>\n",
              "    </tr>\n",
              "    <tr>\n",
              "      <th>201</th>\n",
              "      <td>Suchita</td>\n",
              "      <td>35-50</td>\n",
              "      <td>Occasionally</td>\n",
              "      <td>Women Dress,Casual Dress</td>\n",
              "      <td>H&amp;M,ZARA</td>\n",
              "      <td>700-1000</td>\n",
              "      <td>During the sales</td>\n",
              "      <td>By them in Store</td>\n",
              "      <td>YES</td>\n",
              "      <td>Yes</td>\n",
              "      <td>4</td>\n",
              "    </tr>\n",
              "  </tbody>\n",
              "</table>\n",
              "<p>202 rows × 11 columns</p>\n",
              "</div>"
            ],
            "text/plain": [
              "                        Name    Age  ... worst_experience Rating \n",
              "0                   Bhairavi  18-25  ...               No       4\n",
              "1                     Girish  18-25  ...              Yes       3\n",
              "2              Mayuri katkar  18-25  ...              Yes       3\n",
              "3                   Harshali  18-25  ...              Yes       4\n",
              "4    Sadamast Nikita Shivaji  18-25  ...               No       5\n",
              "..                       ...    ...  ...              ...     ...\n",
              "197                   Rekha   18-25  ...               No       4\n",
              "198           Vaishali kokre  18-25  ...               No       4\n",
              "199                   Neeta   18-25  ...               No       4\n",
              "200                 Sushant   18-25  ...               No       4\n",
              "201                  Suchita  35-50  ...              Yes       4\n",
              "\n",
              "[202 rows x 11 columns]"
            ]
          },
          "metadata": {
            "tags": []
          },
          "execution_count": 155
        }
      ]
    },
    {
      "cell_type": "code",
      "metadata": {
        "colab": {
          "base_uri": "https://localhost:8080/"
        },
        "id": "vo3iKRee-3Ms",
        "outputId": "edce3a52-577a-4d9b-da39-e708da961f28"
      },
      "source": [
        "Dataset.dropna(subset=['Age'],how='all').shape"
      ],
      "execution_count": 156,
      "outputs": [
        {
          "output_type": "execute_result",
          "data": {
            "text/plain": [
              "(202, 11)"
            ]
          },
          "metadata": {
            "tags": []
          },
          "execution_count": 156
        }
      ]
    },
    {
      "cell_type": "code",
      "metadata": {
        "colab": {
          "base_uri": "https://localhost:8080/"
        },
        "id": "hdXPB4TT-9g5",
        "outputId": "a7677389-ab40-4433-bac1-12ab20589383"
      },
      "source": [
        "Dataset['Age'].fillna(value='18-25')"
      ],
      "execution_count": 157,
      "outputs": [
        {
          "output_type": "execute_result",
          "data": {
            "text/plain": [
              "0      18-25\n",
              "1      18-25\n",
              "2      18-25\n",
              "3      18-25\n",
              "4      18-25\n",
              "       ...  \n",
              "197    18-25\n",
              "198    18-25\n",
              "199    18-25\n",
              "200    18-25\n",
              "201    35-50\n",
              "Name: Age, Length: 202, dtype: object"
            ]
          },
          "metadata": {
            "tags": []
          },
          "execution_count": 157
        }
      ]
    },
    {
      "cell_type": "code",
      "metadata": {
        "colab": {
          "base_uri": "https://localhost:8080/"
        },
        "id": "td5_1sqr_PRf",
        "outputId": "ead5ad5d-2f31-443f-b49c-c2011d99429b"
      },
      "source": [
        "Dataset['Age'].unique()"
      ],
      "execution_count": 158,
      "outputs": [
        {
          "output_type": "execute_result",
          "data": {
            "text/plain": [
              "array(['18-25', '25-35', '35-50', '50 - above'], dtype=object)"
            ]
          },
          "metadata": {
            "tags": []
          },
          "execution_count": 158
        }
      ]
    },
    {
      "cell_type": "code",
      "metadata": {
        "colab": {
          "base_uri": "https://localhost:8080/"
        },
        "id": "2yGuFn84Azho",
        "outputId": "ac3f1d64-f5c0-4fd4-87e9-5fa9e91c476b"
      },
      "source": [
        "Dataset.columns"
      ],
      "execution_count": 159,
      "outputs": [
        {
          "output_type": "execute_result",
          "data": {
            "text/plain": [
              "Index(['Name', 'Age', 'Buy_Clothes', 'Type_Clothes', 'Brand_Clothes', 'Price',\n",
              "       'time_prefer ', 'prefer_purchasing ', 'compare_prices ',\n",
              "       'worst_experience', 'Rating '],\n",
              "      dtype='object')"
            ]
          },
          "metadata": {
            "tags": []
          },
          "execution_count": 159
        }
      ]
    },
    {
      "cell_type": "code",
      "metadata": {
        "id": "qWFhaURI5Mx0"
      },
      "source": [
        "def split_multicolumn(Brand_Clothes):\n",
        "    result_df = Brand_Clothes.to_frame()\n",
        "    options = []\n",
        "    # Iterate over the column\n",
        "    for idx, value  in Brand_Clothes[Brand_Clothes.notnull()].iteritems():\n",
        "        # Break each value into list of options\n",
        "        for option in value.split(','):\n",
        "            # Add the option as a column to result\n",
        "            if not option in result_df.columns:\n",
        "                options.append(option)\n",
        "                result_df[option] = False\n",
        "            # Mark the value in the option column as True\n",
        "            result_df.at[idx, option] = True\n",
        "    return result_df[options]"
      ],
      "execution_count": 160,
      "outputs": []
    },
    {
      "cell_type": "code",
      "metadata": {
        "id": "H78HMU7w5WVE"
      },
      "source": [
        "Brand_df = split_multicolumn(Dataset.Brand_Clothes)\n",
        "Brand_split = Brand_df.sum().sort_values(ascending=False)"
      ],
      "execution_count": 161,
      "outputs": []
    },
    {
      "cell_type": "code",
      "metadata": {
        "colab": {
          "base_uri": "https://localhost:8080/",
          "height": 515
        },
        "id": "ks3PEYra5Z39",
        "outputId": "c6b94c08-681f-48ed-d565-b79c0f8d5fb6"
      },
      "source": [
        "plt.figure(figsize=(12,8))\n",
        "sns.barplot(x=Brand_split.values, y=Brand_split.index);"
      ],
      "execution_count": 162,
      "outputs": [
        {
          "output_type": "display_data",
          "data": {
            "image/png": "[encoded data removed]",
            "text/plain": [
              "<Figure size 864x576 with 1 Axes>"
            ]
          },
          "metadata": {
            "tags": []
          }
        }
      ]
    },
    {
      "cell_type": "code",
      "metadata": {
        "id": "I2XkL8g5I8tZ"
      },
      "source": [
        "def split_multicolumn(Type_Clothes):\n",
        "    result_df = Type_Clothes.to_frame()\n",
        "    options = []\n",
        "    # Iterate over the column\n",
        "    for idx, value  in Type_Clothes[Type_Clothes.notnull()].iteritems():\n",
        "        # Break each value into list of options\n",
        "        for option in value.split(','):\n",
        "            # Add the option as a column to result\n",
        "            if not option in result_df.columns:\n",
        "                options.append(option)\n",
        "                result_df[option] = False\n",
        "            # Mark the value in the option column as True\n",
        "            result_df.at[idx, option] = True\n",
        "    return result_df[options]"
      ],
      "execution_count": 163,
      "outputs": []
    },
    {
      "cell_type": "code",
      "metadata": {
        "id": "oLlIJXGCJET2"
      },
      "source": [
        "Type_df = split_multicolumn(Dataset.Type_Clothes)\n",
        "Type_split = Type_df.sum().sort_values(ascending=False)"
      ],
      "execution_count": 164,
      "outputs": []
    },
    {
      "cell_type": "code",
      "metadata": {
        "colab": {
          "base_uri": "https://localhost:8080/",
          "height": 515
        },
        "id": "DtdpWFYjJHVq",
        "outputId": "d42f813c-2e7e-4c98-dcfe-854896b01463"
      },
      "source": [
        "plt.figure(figsize=(12,8))\n",
        "sns.barplot(x=Type_split.values, y=Type_split.index);"
      ],
      "execution_count": 165,
      "outputs": [
        {
          "output_type": "display_data",
          "data": {
            "image/png": "[encoded data removed]",
            "text/plain": [
              "<Figure size 864x576 with 1 Axes>"
            ]
          },
          "metadata": {
            "tags": []
          }
        }
      ]
    },
    {
      "cell_type": "code",
      "metadata": {
        "id": "Suskvm6UDr1i"
      },
      "source": [
        "Dataset['Age']=num.fit_transform(Dataset['Age']).astype('int')\n",
        "Dataset['Buy_Clothes']=num.fit_transform(Dataset['Buy_Clothes']).astype('int')\n",
        "Dataset['Type_Clothes']=num.fit_transform(Dataset['Type_Clothes']).astype('int')\n",
        "Dataset['Brand_Clothes']=num.fit_transform(Dataset['Brand_Clothes']).astype('int')\n",
        "Dataset['Price']=num.fit_transform(Dataset['Price']).astype('int')\n",
        "Dataset['time_prefer ']=num.fit_transform(Dataset['time_prefer ']).astype('int')\n",
        "Dataset['prefer_purchasing ']=num.fit_transform(Dataset['prefer_purchasing ']).astype('int')\n",
        "Dataset['compare_prices ']=num.fit_transform(Dataset['compare_prices ']).astype('int')\n",
        "Dataset['worst_experience']=num.fit_transform(Dataset['worst_experience']).astype('int')\n",
        "Dataset['Rating ']=num.fit_transform(Dataset['Rating ']).astype('int')"
      ],
      "execution_count": 190,
      "outputs": []
    },
    {
      "cell_type": "code",
      "metadata": {
        "colab": {
          "base_uri": "https://localhost:8080/",
          "height": 439
        },
        "id": "5hP2InfoF5K4",
        "outputId": "085e1564-2038-4884-c77c-000a49a13fcf"
      },
      "source": [
        "Dataset"
      ],
      "execution_count": 191,
      "outputs": [
        {
          "output_type": "execute_result",
          "data": {
            "text/html": [
              "<div>\n",
              "<style scoped>\n",
              "    .dataframe tbody tr th:only-of-type {\n",
              "        vertical-align: middle;\n",
              "    }\n",
              "\n",
              "    .dataframe tbody tr th {\n",
              "        vertical-align: top;\n",
              "    }\n",
              "\n",
              "    .dataframe thead th {\n",
              "        text-align: right;\n",
              "    }\n",
              "</style>\n",
              "<table border=\"1\" class=\"dataframe\">\n",
              "  <thead>\n",
              "    <tr style=\"text-align: right;\">\n",
              "      <th></th>\n",
              "      <th>Age</th>\n",
              "      <th>Buy_Clothes</th>\n",
              "      <th>Type_Clothes</th>\n",
              "      <th>Brand_Clothes</th>\n",
              "      <th>Price</th>\n",
              "      <th>time_prefer</th>\n",
              "      <th>prefer_purchasing</th>\n",
              "      <th>compare_prices</th>\n",
              "      <th>worst_experience</th>\n",
              "      <th>Rating</th>\n",
              "    </tr>\n",
              "  </thead>\n",
              "  <tbody>\n",
              "    <tr>\n",
              "      <th>0</th>\n",
              "      <td>0</td>\n",
              "      <td>0</td>\n",
              "      <td>8</td>\n",
              "      <td>23</td>\n",
              "      <td>2</td>\n",
              "      <td>0</td>\n",
              "      <td>1</td>\n",
              "      <td>1</td>\n",
              "      <td>0</td>\n",
              "      <td>3</td>\n",
              "    </tr>\n",
              "    <tr>\n",
              "      <th>1</th>\n",
              "      <td>0</td>\n",
              "      <td>0</td>\n",
              "      <td>13</td>\n",
              "      <td>24</td>\n",
              "      <td>3</td>\n",
              "      <td>0</td>\n",
              "      <td>1</td>\n",
              "      <td>1</td>\n",
              "      <td>1</td>\n",
              "      <td>2</td>\n",
              "    </tr>\n",
              "    <tr>\n",
              "      <th>2</th>\n",
              "      <td>0</td>\n",
              "      <td>0</td>\n",
              "      <td>19</td>\n",
              "      <td>26</td>\n",
              "      <td>1</td>\n",
              "      <td>0</td>\n",
              "      <td>0</td>\n",
              "      <td>1</td>\n",
              "      <td>1</td>\n",
              "      <td>2</td>\n",
              "    </tr>\n",
              "    <tr>\n",
              "      <th>3</th>\n",
              "      <td>0</td>\n",
              "      <td>0</td>\n",
              "      <td>25</td>\n",
              "      <td>22</td>\n",
              "      <td>2</td>\n",
              "      <td>0</td>\n",
              "      <td>0</td>\n",
              "      <td>1</td>\n",
              "      <td>1</td>\n",
              "      <td>3</td>\n",
              "    </tr>\n",
              "    <tr>\n",
              "      <th>4</th>\n",
              "      <td>0</td>\n",
              "      <td>0</td>\n",
              "      <td>25</td>\n",
              "      <td>21</td>\n",
              "      <td>2</td>\n",
              "      <td>1</td>\n",
              "      <td>1</td>\n",
              "      <td>1</td>\n",
              "      <td>0</td>\n",
              "      <td>4</td>\n",
              "    </tr>\n",
              "    <tr>\n",
              "      <th>...</th>\n",
              "      <td>...</td>\n",
              "      <td>...</td>\n",
              "      <td>...</td>\n",
              "      <td>...</td>\n",
              "      <td>...</td>\n",
              "      <td>...</td>\n",
              "      <td>...</td>\n",
              "      <td>...</td>\n",
              "      <td>...</td>\n",
              "      <td>...</td>\n",
              "    </tr>\n",
              "    <tr>\n",
              "      <th>197</th>\n",
              "      <td>0</td>\n",
              "      <td>0</td>\n",
              "      <td>0</td>\n",
              "      <td>15</td>\n",
              "      <td>2</td>\n",
              "      <td>0</td>\n",
              "      <td>0</td>\n",
              "      <td>1</td>\n",
              "      <td>0</td>\n",
              "      <td>3</td>\n",
              "    </tr>\n",
              "    <tr>\n",
              "      <th>198</th>\n",
              "      <td>0</td>\n",
              "      <td>1</td>\n",
              "      <td>27</td>\n",
              "      <td>1</td>\n",
              "      <td>0</td>\n",
              "      <td>0</td>\n",
              "      <td>0</td>\n",
              "      <td>1</td>\n",
              "      <td>0</td>\n",
              "      <td>3</td>\n",
              "    </tr>\n",
              "    <tr>\n",
              "      <th>199</th>\n",
              "      <td>0</td>\n",
              "      <td>1</td>\n",
              "      <td>16</td>\n",
              "      <td>0</td>\n",
              "      <td>3</td>\n",
              "      <td>0</td>\n",
              "      <td>0</td>\n",
              "      <td>1</td>\n",
              "      <td>0</td>\n",
              "      <td>3</td>\n",
              "    </tr>\n",
              "    <tr>\n",
              "      <th>200</th>\n",
              "      <td>0</td>\n",
              "      <td>0</td>\n",
              "      <td>13</td>\n",
              "      <td>0</td>\n",
              "      <td>3</td>\n",
              "      <td>1</td>\n",
              "      <td>0</td>\n",
              "      <td>0</td>\n",
              "      <td>0</td>\n",
              "      <td>3</td>\n",
              "    </tr>\n",
              "    <tr>\n",
              "      <th>201</th>\n",
              "      <td>2</td>\n",
              "      <td>0</td>\n",
              "      <td>26</td>\n",
              "      <td>17</td>\n",
              "      <td>3</td>\n",
              "      <td>0</td>\n",
              "      <td>0</td>\n",
              "      <td>1</td>\n",
              "      <td>1</td>\n",
              "      <td>3</td>\n",
              "    </tr>\n",
              "  </tbody>\n",
              "</table>\n",
              "<p>202 rows × 10 columns</p>\n",
              "</div>"
            ],
            "text/plain": [
              "     Age  Buy_Clothes  Type_Clothes  ...  compare_prices   worst_experience  Rating \n",
              "0      0            0             8  ...                1                 0        3\n",
              "1      0            0            13  ...                1                 1        2\n",
              "2      0            0            19  ...                1                 1        2\n",
              "3      0            0            25  ...                1                 1        3\n",
              "4      0            0            25  ...                1                 0        4\n",
              "..   ...          ...           ...  ...              ...               ...      ...\n",
              "197    0            0             0  ...                1                 0        3\n",
              "198    0            1            27  ...                1                 0        3\n",
              "199    0            1            16  ...                1                 0        3\n",
              "200    0            0            13  ...                0                 0        3\n",
              "201    2            0            26  ...                1                 1        3\n",
              "\n",
              "[202 rows x 10 columns]"
            ]
          },
          "metadata": {
            "tags": []
          },
          "execution_count": 191
        }
      ]
    },
    {
      "cell_type": "markdown",
      "metadata": {
        "id": "xgGGkdSPMx8q"
      },
      "source": [
        "Data Analysis"
      ]
    },
    {
      "cell_type": "code",
      "metadata": {
        "colab": {
          "base_uri": "https://localhost:8080/",
          "height": 708
        },
        "id": "Hi5mMDUvDaV3",
        "outputId": "9464bbf5-258d-4534-e917-feaea1d9de9d"
      },
      "source": [
        "SpearmanCorr = Dataset.corr(method=\"spearman\")\n",
        "plt.figure(figsize=(10,10))\n",
        "sns.heatmap(SpearmanCorr, vmax=.9, square=True);"
      ],
      "execution_count": 168,
      "outputs": [
        {
          "output_type": "display_data",
          "data": {
            "image/png": "[encoded data removed]",
            "text/plain": [
              "<Figure size 720x720 with 2 Axes>"
            ]
          },
          "metadata": {
            "tags": []
          }
        }
      ]
    },
    {
      "cell_type": "code",
      "metadata": {
        "colab": {
          "base_uri": "https://localhost:8080/",
          "height": 728
        },
        "id": "TqykSQH0JKkp",
        "outputId": "10ae7ed8-4912-4865-d527-20e57574b0fd"
      },
      "source": [
        "Dataset"
      ],
      "execution_count": 181,
      "outputs": [
        {
          "output_type": "execute_result",
          "data": {
            "text/html": [
              "<div>\n",
              "<style scoped>\n",
              "    .dataframe tbody tr th:only-of-type {\n",
              "        vertical-align: middle;\n",
              "    }\n",
              "\n",
              "    .dataframe tbody tr th {\n",
              "        vertical-align: top;\n",
              "    }\n",
              "\n",
              "    .dataframe thead th {\n",
              "        text-align: right;\n",
              "    }\n",
              "</style>\n",
              "<table border=\"1\" class=\"dataframe\">\n",
              "  <thead>\n",
              "    <tr style=\"text-align: right;\">\n",
              "      <th></th>\n",
              "      <th>Name</th>\n",
              "      <th>Age</th>\n",
              "      <th>Buy_Clothes</th>\n",
              "      <th>Type_Clothes</th>\n",
              "      <th>Brand_Clothes</th>\n",
              "      <th>Price</th>\n",
              "      <th>time_prefer</th>\n",
              "      <th>prefer_purchasing</th>\n",
              "      <th>compare_prices</th>\n",
              "      <th>worst_experience</th>\n",
              "      <th>Rating</th>\n",
              "    </tr>\n",
              "  </thead>\n",
              "  <tbody>\n",
              "    <tr>\n",
              "      <th>0</th>\n",
              "      <td>Bhairavi</td>\n",
              "      <td>18-25</td>\n",
              "      <td>Occasionally</td>\n",
              "      <td>Jeans,Women Dress,Ladies Tops</td>\n",
              "      <td>NIKE,Adidas</td>\n",
              "      <td>500-700</td>\n",
              "      <td>During the sales</td>\n",
              "      <td>Online</td>\n",
              "      <td>YES</td>\n",
              "      <td>No</td>\n",
              "      <td>4</td>\n",
              "    </tr>\n",
              "    <tr>\n",
              "      <th>1</th>\n",
              "      <td>Girish</td>\n",
              "      <td>18-25</td>\n",
              "      <td>Occasionally</td>\n",
              "      <td>T-shirt,Jeans</td>\n",
              "      <td>NIKE,Adidas,H&amp;M</td>\n",
              "      <td>700-1000</td>\n",
              "      <td>During the sales</td>\n",
              "      <td>Online</td>\n",
              "      <td>YES</td>\n",
              "      <td>Yes</td>\n",
              "      <td>3</td>\n",
              "    </tr>\n",
              "    <tr>\n",
              "      <th>2</th>\n",
              "      <td>Mayuri katkar</td>\n",
              "      <td>18-25</td>\n",
              "      <td>Occasionally</td>\n",
              "      <td>T-shirt,Jeans,Women Dress,Casual Dress,Ladies ...</td>\n",
              "      <td>NIKE,Adidas,H&amp;M,ZARA</td>\n",
              "      <td>200-500</td>\n",
              "      <td>During the sales</td>\n",
              "      <td>By them in Store</td>\n",
              "      <td>YES</td>\n",
              "      <td>Yes</td>\n",
              "      <td>3</td>\n",
              "    </tr>\n",
              "    <tr>\n",
              "      <th>3</th>\n",
              "      <td>Harshali</td>\n",
              "      <td>18-25</td>\n",
              "      <td>Occasionally</td>\n",
              "      <td>Women Dress</td>\n",
              "      <td>NIKE</td>\n",
              "      <td>500-700</td>\n",
              "      <td>During the sales</td>\n",
              "      <td>By them in Store</td>\n",
              "      <td>YES</td>\n",
              "      <td>Yes</td>\n",
              "      <td>4</td>\n",
              "    </tr>\n",
              "    <tr>\n",
              "      <th>4</th>\n",
              "      <td>Sadamast Nikita Shivaji</td>\n",
              "      <td>18-25</td>\n",
              "      <td>Occasionally</td>\n",
              "      <td>Women Dress</td>\n",
              "      <td>Meesho</td>\n",
              "      <td>500-700</td>\n",
              "      <td>Without the sales (Off Season)</td>\n",
              "      <td>Online</td>\n",
              "      <td>YES</td>\n",
              "      <td>No</td>\n",
              "      <td>5</td>\n",
              "    </tr>\n",
              "    <tr>\n",
              "      <th>...</th>\n",
              "      <td>...</td>\n",
              "      <td>...</td>\n",
              "      <td>...</td>\n",
              "      <td>...</td>\n",
              "      <td>...</td>\n",
              "      <td>...</td>\n",
              "      <td>...</td>\n",
              "      <td>...</td>\n",
              "      <td>...</td>\n",
              "      <td>...</td>\n",
              "      <td>...</td>\n",
              "    </tr>\n",
              "    <tr>\n",
              "      <th>197</th>\n",
              "      <td>Rekha</td>\n",
              "      <td>18-25</td>\n",
              "      <td>Occasionally</td>\n",
              "      <td>Casual Dress</td>\n",
              "      <td>H&amp;M</td>\n",
              "      <td>500-700</td>\n",
              "      <td>During the sales</td>\n",
              "      <td>By them in Store</td>\n",
              "      <td>YES</td>\n",
              "      <td>No</td>\n",
              "      <td>4</td>\n",
              "    </tr>\n",
              "    <tr>\n",
              "      <th>198</th>\n",
              "      <td>Vaishali kokre</td>\n",
              "      <td>18-25</td>\n",
              "      <td>Regularly</td>\n",
              "      <td>Women Dress,Casual Dress,Ladies Tops</td>\n",
              "      <td>Adidas,H&amp;M</td>\n",
              "      <td>1000-above</td>\n",
              "      <td>During the sales</td>\n",
              "      <td>By them in Store</td>\n",
              "      <td>YES</td>\n",
              "      <td>No</td>\n",
              "      <td>4</td>\n",
              "    </tr>\n",
              "    <tr>\n",
              "      <th>199</th>\n",
              "      <td>Neeta</td>\n",
              "      <td>18-25</td>\n",
              "      <td>Regularly</td>\n",
              "      <td>T-shirt,Jeans,Ladies Tops</td>\n",
              "      <td>Adidas</td>\n",
              "      <td>700-1000</td>\n",
              "      <td>During the sales</td>\n",
              "      <td>By them in Store</td>\n",
              "      <td>YES</td>\n",
              "      <td>No</td>\n",
              "      <td>4</td>\n",
              "    </tr>\n",
              "    <tr>\n",
              "      <th>200</th>\n",
              "      <td>Sushant</td>\n",
              "      <td>18-25</td>\n",
              "      <td>Occasionally</td>\n",
              "      <td>T-shirt,Jeans</td>\n",
              "      <td>Adidas</td>\n",
              "      <td>700-1000</td>\n",
              "      <td>Without the sales (Off Season)</td>\n",
              "      <td>By them in Store</td>\n",
              "      <td>NO</td>\n",
              "      <td>No</td>\n",
              "      <td>4</td>\n",
              "    </tr>\n",
              "    <tr>\n",
              "      <th>201</th>\n",
              "      <td>Suchita</td>\n",
              "      <td>35-50</td>\n",
              "      <td>Occasionally</td>\n",
              "      <td>Women Dress,Casual Dress</td>\n",
              "      <td>H&amp;M,ZARA</td>\n",
              "      <td>700-1000</td>\n",
              "      <td>During the sales</td>\n",
              "      <td>By them in Store</td>\n",
              "      <td>YES</td>\n",
              "      <td>Yes</td>\n",
              "      <td>4</td>\n",
              "    </tr>\n",
              "  </tbody>\n",
              "</table>\n",
              "<p>202 rows × 11 columns</p>\n",
              "</div>"
            ],
            "text/plain": [
              "                        Name    Age  ... worst_experience Rating \n",
              "0                   Bhairavi  18-25  ...               No       4\n",
              "1                     Girish  18-25  ...              Yes       3\n",
              "2              Mayuri katkar  18-25  ...              Yes       3\n",
              "3                   Harshali  18-25  ...              Yes       4\n",
              "4    Sadamast Nikita Shivaji  18-25  ...               No       5\n",
              "..                       ...    ...  ...              ...     ...\n",
              "197                   Rekha   18-25  ...               No       4\n",
              "198           Vaishali kokre  18-25  ...               No       4\n",
              "199                   Neeta   18-25  ...               No       4\n",
              "200                 Sushant   18-25  ...               No       4\n",
              "201                  Suchita  35-50  ...              Yes       4\n",
              "\n",
              "[202 rows x 11 columns]"
            ]
          },
          "metadata": {
            "tags": []
          },
          "execution_count": 181
        }
      ]
    },
    {
      "cell_type": "code",
      "metadata": {
        "colab": {
          "base_uri": "https://localhost:8080/"
        },
        "id": "ZlA5F4MDHhYD",
        "outputId": "4921ee54-7c70-4d1b-8020-67e63493c6cd"
      },
      "source": [
        "C = (Dataset.dtypes == 'object')\n",
        "CategoricalVariables = list(C[C].index)\n",
        "Integer = (Dataset.dtypes == 'int64') \n",
        "Float   = (Dataset.dtypes == 'float64') \n",
        "NumericVariables = list(Integer[Integer].index) + list(Float[Float].index)\n",
        "\n",
        "Missing_Percentage = (Dataset.isnull().sum()).sum()/np.product(Dataset.shape)*100\n",
        "print(\"The number of missing entries before cleaning: \" + str(round(Missing_Percentage,2)) + \" %\")\n",
        "\n",
        "Dataset[NumericVariables]=Dataset[NumericVariables].fillna(0)\n",
        "\n",
        "Dataset[CategoricalVariables]=Dataset[CategoricalVariables].fillna('Unknown')\n",
        "\n",
        "C = (Dataset.dtypes == 'object')\n",
        "CategoricalVariables = list(C[C].index)\n",
        "Integer = (Dataset.dtypes == 'int64') \n",
        "Float   = (Dataset.dtypes == 'float64') \n",
        "NumericVariables = list(Integer[Integer].index) + list(Float[Float].index)\n",
        "\n",
        "Missing_Percentage = (Dataset.isnull().sum()).sum()/np.product(Dataset.shape)*100\n",
        "print(\"The number of missing entries after cleaning: \" + str(round(Missing_Percentage,2)) + \" %\")\n",
        "print(\"The number of categorical variables:\" + str(len(CategoricalVariables)))\n",
        "print(\"The number of numeric variables:\" + str(len(NumericVariables)))\n"
      ],
      "execution_count": 182,
      "outputs": [
        {
          "output_type": "stream",
          "text": [
            "The number of missing entries before cleaning: 0.0 %\n",
            "The number of missing entries after cleaning: 0.0 %\n",
            "The number of categorical variables:10\n",
            "The number of numeric variables:1\n"
          ],
          "name": "stdout"
        }
      ]
    },
    {
      "cell_type": "code",
      "metadata": {
        "colab": {
          "base_uri": "https://localhost:8080/"
        },
        "id": "_QRqWpyoJiGf",
        "outputId": "fa82401b-5c17-47a4-e59d-bf7f7aa94101"
      },
      "source": [
        "OrdinalVariables = ['Name']\n",
        "print(OrdinalVariables)"
      ],
      "execution_count": 185,
      "outputs": [
        {
          "output_type": "stream",
          "text": [
            "['Name']\n"
          ],
          "name": "stdout"
        }
      ]
    },
    {
      "cell_type": "code",
      "metadata": {
        "colab": {
          "base_uri": "https://localhost:8080/"
        },
        "id": "H9SWIMNLI4YV",
        "outputId": "3c688dde-5a39-449b-c156-7094abeb321e"
      },
      "source": [
        "NominalVariables = [x for x in CategoricalVariables if x not in OrdinalVariables]\n",
        "Lvl = Dataset[NominalVariables].nunique()\n",
        "\n",
        "ToDrop=['Name']\n",
        "Dataset = Dataset.drop(ToDrop, axis = 1)\n",
        "FinalNominalVariables = [x for x in NominalVariables if x not in ToDrop]\n",
        "\n",
        "df_dummy = pd.get_dummies(Dataset[FinalNominalVariables], columns=FinalNominalVariables)\n",
        "print(ToDrop)"
      ],
      "execution_count": 186,
      "outputs": [
        {
          "output_type": "stream",
          "text": [
            "['Name']\n"
          ],
          "name": "stdout"
        }
      ]
    },
    {
      "cell_type": "code",
      "metadata": {
        "colab": {
          "base_uri": "https://localhost:8080/"
        },
        "id": "1FLjBUjYHbF_",
        "outputId": "748642cd-dc11-4dd0-8a6d-928df0266914"
      },
      "source": [
        "df_clean = Dataset.drop(FinalNominalVariables, axis = 1)\n",
        "df_clean = pd.concat([df_clean, df_dummy], axis=1)\n",
        "\n",
        "NumericVariablesNoTarget = [x for x in NumericVariables if x not in ['units_sold']]\n",
        "df_scale=df_clean\n",
        "df_scale[NumericVariables] = minmax_scaling(df_clean, columns=NumericVariables)\n",
        "print(FinalNominalVariables + NumericVariables + OrdinalVariables)"
      ],
      "execution_count": 187,
      "outputs": [
        {
          "output_type": "stream",
          "text": [
            "['Age', 'Buy_Clothes', 'Type_Clothes', 'Brand_Clothes', 'Price', 'time_prefer ', 'prefer_purchasing ', 'compare_prices ', 'worst_experience', 'Rating ', 'Name']\n"
          ],
          "name": "stdout"
        }
      ]
    },
    {
      "cell_type": "markdown",
      "metadata": {
        "id": "GU6rVkBPMtfM"
      },
      "source": [
        "Hierarchical clustering"
      ]
    },
    {
      "cell_type": "code",
      "metadata": {
        "id": "BC59VxjbGvVu"
      },
      "source": [
        "def plot_dendrogram(model, **kwargs):\n",
        "    # Create linkage matrix and then plot the dendrogram\n",
        "\n",
        "    # create the counts of samples under each node\n",
        "    counts = np.zeros(model.children_.shape[0])\n",
        "    n_samples = len(model.labels_)\n",
        "    for i, merge in enumerate(model.children_):\n",
        "        current_count = 0\n",
        "        for child_idx in merge:\n",
        "            if child_idx < n_samples:\n",
        "                current_count += 1  # leaf node\n",
        "            else:\n",
        "                current_count += counts[child_idx - n_samples]\n",
        "        counts[i] = current_count\n",
        "\n",
        "    linkage_matrix = np.column_stack([model.children_, model.distances_,\n",
        "                                      counts]).astype(float)\n",
        "\n",
        "    # Plot the corresponding dendrogram\n",
        "    dendrogram(linkage_matrix, **kwargs)"
      ],
      "execution_count": 192,
      "outputs": []
    },
    {
      "cell_type": "code",
      "metadata": {
        "colab": {
          "base_uri": "https://localhost:8080/",
          "height": 286
        },
        "id": "8p38hDAbGCbA",
        "outputId": "53281d11-4df2-41e6-a1ca-653c204565b6"
      },
      "source": [
        "X = Dataset.values\n",
        "dendrogram = sch.dendrogram(sch.linkage(X, method='ward'), truncate_mode='level', p=4)"
      ],
      "execution_count": 193,
      "outputs": [
        {
          "output_type": "display_data",
          "data": {
            "image/png": "[encoded data removed]",
            "text/plain": [
              "<Figure size 432x288 with 1 Axes>"
            ]
          },
          "metadata": {
            "tags": []
          }
        }
      ]
    },
    {
      "cell_type": "code",
      "metadata": {
        "colab": {
          "base_uri": "https://localhost:8080/",
          "height": 391
        },
        "id": "3mwndIwFM66B",
        "outputId": "e267f28d-4169-456d-8e3a-bcbab78ac855"
      },
      "source": [
        "AWcluster = AgglomerativeClustering(n_clusters=6, affinity='euclidean', linkage='ward')\n",
        "AWcluster.fit(df_scale)\n",
        "AWlabels = AWcluster.labels_\n",
        "AWcluster_fit = AWcluster.fit(X)\n",
        "\n",
        "fig, ax = plt.subplots(nrows=1, ncols=1, figsize=(10,5), facecolor='w', edgecolor='k')\n",
        "ax = p3.Axes3D(fig)\n",
        "ax.view_init(15, 30)\n",
        "for l in np.unique(AWlabels):\n",
        "    ax.scatter(X[AWlabels == l, 0], X[AWlabels == l, 1], X[AWlabels == l, 2],color=plt.cm.jet(float(l) / np.max(AWlabels + 1)),s=20, edgecolor='k')\n",
        "plt.title('Hierarchical: Agglomerative Clustering with ward link' )\n",
        "\n",
        "plt.show()"
      ],
      "execution_count": 194,
      "outputs": [
        {
          "output_type": "display_data",
          "data": {
            "image/png": "[encoded data removed]",
            "text/plain": [
              "<Figure size 720x360 with 2 Axes>"
            ]
          },
          "metadata": {
            "tags": []
          }
        }
      ]
    },
    {
      "cell_type": "markdown",
      "metadata": {
        "id": "hkcfnH6GNe6C"
      },
      "source": [
        "K-means clustering"
      ]
    },
    {
      "cell_type": "code",
      "metadata": {
        "colab": {
          "base_uri": "https://localhost:8080/",
          "height": 304
        },
        "id": "jypePDpINf9Q",
        "outputId": "a6e96428-3e39-4ec6-be94-fd52a31b2148"
      },
      "source": [
        "kmeans_kwargs = {\"init\": \"random\",\"n_init\": 10,\"max_iter\": 300,\"random_state\": 42,}\n",
        "\n",
        "# A list holds the SSE values for each k\n",
        "sse = []\n",
        "for k in range(1, 11):\n",
        "   kmeans = KMeans(n_clusters=k, **kmeans_kwargs)\n",
        "   kmeans.fit(df_scale)\n",
        "   sse.append(kmeans.inertia_)\n",
        "\n",
        "plt.style.use(\"fivethirtyeight\")\n",
        "plt.plot(range(1, 11), sse)\n",
        "plt.xticks(range(1, 11))\n",
        "plt.xlabel(\"Number of Clusters\")\n",
        "plt.ylabel(\"sum of squared error\")\n",
        "plt.show()"
      ],
      "execution_count": 195,
      "outputs": [
        {
          "output_type": "display_data",
          "data": {
            "image/png": "[encoded data removed]",
            "text/plain": [
              "<Figure size 432x288 with 1 Axes>"
            ]
          },
          "metadata": {
            "tags": []
          }
        }
      ]
    },
    {
      "cell_type": "code",
      "metadata": {
        "colab": {
          "base_uri": "https://localhost:8080/"
        },
        "id": "hqPP_NynOBnf",
        "outputId": "3879bea4-72e1-48bc-824c-a9c40e37c1d4"
      },
      "source": [
        "KMcluster = KMeans(init=\"random\",n_clusters=4,n_init=10,max_iter=300,random_state=42)\n",
        "KMcluster.fit(df_scale)\n",
        "print('The inertia equals to:' + format(KMcluster.inertia_))"
      ],
      "execution_count": 196,
      "outputs": [
        {
          "output_type": "stream",
          "text": [
            "The inertia equals to:686.4240617620513\n"
          ],
          "name": "stdout"
        }
      ]
    },
    {
      "cell_type": "code",
      "metadata": {
        "colab": {
          "base_uri": "https://localhost:8080/",
          "height": 391
        },
        "id": "ezOVKa3TOG_Y",
        "outputId": "7b91406a-0108-4839-918e-3aaf9b4ca4b2"
      },
      "source": [
        "KMcluster_fit = KMcluster.fit(df_scale)\n",
        "KMlabels = KMcluster.labels_\n",
        "\n",
        "fig, ax = plt.subplots(nrows=1, ncols=1, figsize=(10,5), facecolor='w', edgecolor='k')\n",
        "ax = p3.Axes3D(fig)\n",
        "ax.view_init(15, 30)\n",
        "for l in np.unique(KMlabels):\n",
        "    ax.scatter(X[KMlabels == l, 0], X[KMlabels == l, 1], X[KMlabels == l, 2],color=plt.cm.jet(float(l) / np.max(KMlabels + 1)),s=20, edgecolor='k')\n",
        "plt.title('Centroid: k-means clustering' )\n",
        "\n",
        "plt.show()"
      ],
      "execution_count": 197,
      "outputs": [
        {
          "output_type": "display_data",
          "data": {
            "image/png": "[encoded data removed]",
            "text/plain": [
              "<Figure size 720x360 with 2 Axes>"
            ]
          },
          "metadata": {
            "tags": []
          }
        }
      ]
    },
    {
      "cell_type": "markdown",
      "metadata": {
        "id": "0iE1hJuKOQr7"
      },
      "source": [
        "Expectation-maximization algorithm"
      ]
    },
    {
      "cell_type": "code",
      "metadata": {
        "colab": {
          "base_uri": "https://localhost:8080/",
          "height": 307
        },
        "id": "PQfkvMDGORmY",
        "outputId": "8efac3cf-6e14-45e3-912b-3c245f95fa0f"
      },
      "source": [
        "#Bayesian information criterion (BIC)\n",
        "# Akaike information criterion (AIC)\n",
        "Xmoon, ymoon = make_moons(200, noise=.05, random_state=0)\n",
        "\n",
        "GM_n_components = np.arange(1, 21)\n",
        "GM_models = [mixture.GaussianMixture(n, covariance_type='full', random_state=0).fit(Xmoon) for n in GM_n_components]\n",
        "\n",
        "plt.plot(GM_n_components, [m.bic(Xmoon) for m in GM_models], label='BIC')\n",
        "plt.plot(GM_n_components, [m.aic(Xmoon) for m in GM_models], label='AIC')\n",
        "plt.legend(loc='best')\n",
        "plt.xlabel('n_components');"
      ],
      "execution_count": 198,
      "outputs": [
        {
          "output_type": "display_data",
          "data": {
            "image/png": "[encoded data removed]",
            "text/plain": [
              "<Figure size 432x288 with 1 Axes>"
            ]
          },
          "metadata": {
            "tags": []
          }
        }
      ]
    },
    {
      "cell_type": "code",
      "metadata": {
        "colab": {
          "base_uri": "https://localhost:8080/"
        },
        "id": "u9ZXS-sVPHIs",
        "outputId": "6443f575-fe4d-41cc-9222-ebc68374f549"
      },
      "source": [
        "GM_n_classes = 6 #len(np.unique(df_scale))\n",
        "\n",
        "GMcluster = mixture.GaussianMixture(n_components=GM_n_classes, covariance_type='full')\n",
        "GMcluster_fit = GMcluster.fit(df_scale)\n",
        "GMlabels = GMcluster_fit.predict(df_scale)\n",
        "print('Number of clusters: ' + format(len(np.unique(GMlabels))))"
      ],
      "execution_count": 199,
      "outputs": [
        {
          "output_type": "stream",
          "text": [
            "Number of clusters: 6\n"
          ],
          "name": "stdout"
        }
      ]
    },
    {
      "cell_type": "code",
      "metadata": {
        "colab": {
          "base_uri": "https://localhost:8080/",
          "height": 391
        },
        "id": "OQhUzy5ZPNYu",
        "outputId": "aef3de14-a6e0-4d46-e90e-682239e83398"
      },
      "source": [
        "fig, ax = plt.subplots(nrows=1, ncols=1, figsize=(10,5), facecolor='w', edgecolor='k')\n",
        "ax = p3.Axes3D(fig)\n",
        "ax.view_init(15, 30)\n",
        "for l in np.unique(GMlabels):\n",
        "    ax.scatter(X[GMlabels == l, 0], X[GMlabels == l, 1], X[GMlabels == l, 2],color=plt.cm.jet(float(l) / np.max(GMlabels + 1)),s=20, edgecolor='k')\n",
        "plt.title('Expectation-maximization algorithm for clustering' )\n",
        "\n",
        "plt.show()"
      ],
      "execution_count": 200,
      "outputs": [
        {
          "output_type": "display_data",
          "data": {
            "image/png": "[encoded data removed]",
            "text/plain": [
              "<Figure size 720x360 with 2 Axes>"
            ]
          },
          "metadata": {
            "tags": []
          }
        }
      ]
    },
    {
      "cell_type": "markdown",
      "metadata": {
        "id": "cxIhh_BnPXid"
      },
      "source": [
        "Density-based spatial clustering of applications with noise"
      ]
    },
    {
      "cell_type": "code",
      "metadata": {
        "id": "clAYSvNLPYai"
      },
      "source": [
        "DBcluster= DBSCAN(eps=0.3, min_samples=10)\n",
        "DBcluster_fit = DBcluster.fit(df_scale)\n",
        "core_samples_mask = np.zeros_like(DBcluster_fit.labels_, dtype=bool)\n",
        "core_samples_mask[DBcluster_fit.core_sample_indices_] = True\n",
        "DBlabels = DBcluster_fit.labels_"
      ],
      "execution_count": 206,
      "outputs": []
    },
    {
      "cell_type": "code",
      "metadata": {
        "colab": {
          "base_uri": "https://localhost:8080/"
        },
        "id": "_zh9iak3PdIK",
        "outputId": "d43f2ae0-c3f6-417a-b3cc-72259b49ae41"
      },
      "source": [
        "DB_n_clusters_ = len(set(DBlabels)) \n",
        "DB_n_noise_ = list(DBlabels).count(-1)\n",
        "print('Estimated number of clusters: %d' % DB_n_clusters_)\n",
        "print('Estimated number of noise points: %d' % DB_n_noise_)"
      ],
      "execution_count": 207,
      "outputs": [
        {
          "output_type": "stream",
          "text": [
            "Estimated number of clusters: 2\n",
            "Estimated number of noise points: 191\n"
          ],
          "name": "stdout"
        }
      ]
    },
    {
      "cell_type": "code",
      "metadata": {
        "colab": {
          "base_uri": "https://localhost:8080/",
          "height": 303
        },
        "id": "fVN6DUldPiFe",
        "outputId": "848b8737-07d5-42d7-c443-8d6882245269"
      },
      "source": [
        "unique_labels = set(DBlabels)\n",
        "colors = [plt.cm.Spectral(each)\n",
        "          for each in np.linspace(0, 1, len(unique_labels))]\n",
        "for k, col in zip(unique_labels, colors):\n",
        "    if k == -1:\n",
        "        # Black used for noise.\n",
        "        col = [1, 0, 0, 0]\n",
        "\n",
        "    class_member_mask = (DBlabels == k)\n",
        "\n",
        "    xy = X[class_member_mask & core_samples_mask]\n",
        "    plt.plot(xy[:, 0], xy[:, 1], 'o', markerfacecolor=tuple(col),\n",
        "             markeredgecolor='k', markersize=20)\n",
        "\n",
        "    xy = X[class_member_mask & ~core_samples_mask]\n",
        "    plt.plot(xy[:, 0], xy[:, 1], 'o', markerfacecolor=tuple(col),\n",
        "             markeredgecolor='k', markersize=2)\n",
        "\n",
        "plt.title('Density-based spatial clustering of applications with noise')\n",
        "plt.show()"
      ],
      "execution_count": 208,
      "outputs": [
        {
          "output_type": "display_data",
          "data": {
            "image/png": "[encoded data removed]",
            "text/plain": [
              "<Figure size 432x288 with 1 Axes>"
            ]
          },
          "metadata": {
            "tags": []
          }
        }
      ]
    },
    {
      "cell_type": "code",
      "metadata": {
        "colab": {
          "base_uri": "https://localhost:8080/",
          "height": 391
        },
        "id": "mxABRD77PoJe",
        "outputId": "c390bd24-023f-4912-9c9f-7718450f6934"
      },
      "source": [
        "fig, ax = plt.subplots(nrows=1, ncols=1, figsize=(10,5), facecolor='w', edgecolor='k')\n",
        "ax = p3.Axes3D(fig)\n",
        "ax.view_init(15, 30)\n",
        "for l in range(0,4):\n",
        "    ax.scatter(X[DBlabels == l, 0], X[DBlabels == l, 1], X[DBlabels == l, 2],color=plt.cm.jet(float(l) / np.max(DBlabels + 1)),s=50, edgecolor='k')\n",
        "plt.title('Density-based spatial clustering with noise removed' )\n",
        "\n",
        "plt.show()"
      ],
      "execution_count": 209,
      "outputs": [
        {
          "output_type": "display_data",
          "data": {
            "image/png": "[encoded data removed]",
            "text/plain": [
              "<Figure size 720x360 with 2 Axes>"
            ]
          },
          "metadata": {
            "tags": []
          }
        }
      ]
    },
    {
      "cell_type": "code",
      "metadata": {
        "colab": {
          "base_uri": "https://localhost:8080/"
        },
        "id": "PhMtR_h6RHVJ",
        "outputId": "98123f24-0215-43a8-dea4-773bd06e6f6b"
      },
      "source": [
        "KMunique, KMcounts = np.unique(KMlabels, return_counts=True)\n",
        "AWunique, AWcounts = np.unique(AWlabels, return_counts=True)\n",
        "AAunique, AAcounts = np.unique(AWlabels, return_counts=True)\n",
        "DBunique, DBcounts = np.unique(DBlabels, return_counts=True)\n",
        "GMunique, GMcounts = np.unique(GMlabels, return_counts=True)\n",
        "print('K-means distributed points: ' + format(dict(zip(KMunique, KMcounts))))\n",
        "print('Hierarchical ward link distributed points: ' + format(dict(zip(AWunique, AWcounts))))\n",
        "print('Hierarchical average link distributed points: ' + format(dict(zip(AAunique, AAcounts))))\n",
        "print('DBSCAN distributed points: ' + format(dict(zip(DBunique, DBcounts))))\n",
        "print('Gaussian Mixture distributed points: ' + format(dict(zip(GMunique, GMcounts))))"
      ],
      "execution_count": 210,
      "outputs": [
        {
          "output_type": "stream",
          "text": [
            "K-means distributed points: {0: 86, 1: 45, 2: 33, 3: 38}\n",
            "Hierarchical ward link distributed points: {0: 41, 1: 30, 2: 52, 3: 42, 4: 18, 5: 19}\n",
            "Hierarchical average link distributed points: {0: 41, 1: 30, 2: 52, 3: 42, 4: 18, 5: 19}\n",
            "DBSCAN distributed points: {-1: 191, 0: 11}\n",
            "Gaussian Mixture distributed points: {0: 17, 1: 20, 2: 54, 3: 44, 4: 35, 5: 32}\n"
          ],
          "name": "stdout"
        }
      ]
    }
  ]
}