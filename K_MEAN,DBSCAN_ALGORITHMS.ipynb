{
  "nbformat": 4,
  "nbformat_minor": 0,
  "metadata": {
    "colab": {
      "name": "K-MEAN,DBSCAN_ALGORITHMS.ipynb",
      "provenance": [],
      "collapsed_sections": [],
      "authorship_tag": "ABX9TyPKP5XKXR/w4bdfwfFsIOnT",
      "include_colab_link": true
    },
    "kernelspec": {
      "name": "python3",
      "display_name": "Python 3"
    },
    "language_info": {
      "name": "python"
    }
  },
  "cells": [
    {
      "cell_type": "markdown",
      "metadata": {
        "id": "view-in-github",
        "colab_type": "text"
      },
      "source": [
        "<a href=\"https://colab.research.google.com/github/pranali-kirolkar/MSCPROJECT/blob/main/K_MEAN%2CDBSCAN_ALGORITHMS.ipynb\" target=\"_parent\"><img src=\"https://colab.research.google.com/assets/colab-badge.svg\" alt=\"Open In Colab\"/></a>"
      ]
    },
    {
      "cell_type": "code",
      "metadata": {
        "id": "JvFQ3zsl39Mg",
        "colab": {
          "base_uri": "https://localhost:8080/"
        },
        "outputId": "d8a2f38a-3901-490b-b833-32bc6dc361ee"
      },
      "source": [
        "#importing Libraries\n",
        "\n",
        "import pandas as pd\n",
        "import matplotlib.pyplot as plt\n",
        "import numpy as np\n",
        "import seaborn as sns\n",
        "from sklearn.preprocessing import LabelEncoder\n",
        "num=LabelEncoder()\n",
        "from mlxtend.preprocessing import minmax_scaling\n",
        "import scipy.cluster.hierarchy as sch\n",
        "from sklearn import metrics, mixture, cluster, datasets\n",
        "from sklearn.cluster import AgglomerativeClustering, KMeans, DBSCAN\n",
        "import mpl_toolkits.mplot3d.axes3d as p3\n",
        "from sklearn.mixture import GaussianMixture\n",
        "print(\"Libraries loaded\")\n"
      ],
      "execution_count": 441,
      "outputs": [
        {
          "output_type": "stream",
          "text": [
            "Libraries loaded\n"
          ],
          "name": "stdout"
        }
      ]
    },
    {
      "cell_type": "code",
      "metadata": {
        "id": "XRujd6oV4K00"
      },
      "source": [
        "#Sales of Summer clothes Dataset\n",
        "Dataset = pd.read_csv('/content/SalesSummerClothes.csv') "
      ],
      "execution_count": 449,
      "outputs": []
    },
    {
      "cell_type": "code",
      "metadata": {
        "id": "_qn58v337k8v"
      },
      "source": [
        "#Dropanelement\n",
        "Dataset.drop('Timestamp',axis=1,inplace=True)"
      ],
      "execution_count": 450,
      "outputs": []
    },
    {
      "cell_type": "code",
      "metadata": {
        "id": "tHz5qTO82OPp"
      },
      "source": [
        "#Dropanelement\n",
        "Dataset.drop('Name',axis=1,inplace=True)"
      ],
      "execution_count": 451,
      "outputs": []
    },
    {
      "cell_type": "code",
      "metadata": {
        "colab": {
          "base_uri": "https://localhost:8080/",
          "height": 728
        },
        "id": "uj14JIPR7qyk",
        "outputId": "31fccdc6-5f00-4491-c0e5-91640f2e00ab"
      },
      "source": [
        "Dataset"
      ],
      "execution_count": 452,
      "outputs": [
        {
          "output_type": "execute_result",
          "data": {
            "text/html": [
              "<div>\n",
              "<style scoped>\n",
              "    .dataframe tbody tr th:only-of-type {\n",
              "        vertical-align: middle;\n",
              "    }\n",
              "\n",
              "    .dataframe tbody tr th {\n",
              "        vertical-align: top;\n",
              "    }\n",
              "\n",
              "    .dataframe thead th {\n",
              "        text-align: right;\n",
              "    }\n",
              "</style>\n",
              "<table border=\"1\" class=\"dataframe\">\n",
              "  <thead>\n",
              "    <tr style=\"text-align: right;\">\n",
              "      <th></th>\n",
              "      <th>Age</th>\n",
              "      <th>Buy_Clothes</th>\n",
              "      <th>Type_Clothes</th>\n",
              "      <th>Brand_Clothes</th>\n",
              "      <th>Price</th>\n",
              "      <th>time_prefer</th>\n",
              "      <th>prefer_purchasing</th>\n",
              "      <th>compare_prices</th>\n",
              "      <th>worst_experience</th>\n",
              "      <th>Rating</th>\n",
              "    </tr>\n",
              "  </thead>\n",
              "  <tbody>\n",
              "    <tr>\n",
              "      <th>0</th>\n",
              "      <td>18-25</td>\n",
              "      <td>Occasionally</td>\n",
              "      <td>Jeans,Women Dress,Ladies Tops</td>\n",
              "      <td>NIKE,Adidas</td>\n",
              "      <td>500-700</td>\n",
              "      <td>During the sales</td>\n",
              "      <td>Online</td>\n",
              "      <td>YES</td>\n",
              "      <td>No</td>\n",
              "      <td>4</td>\n",
              "    </tr>\n",
              "    <tr>\n",
              "      <th>1</th>\n",
              "      <td>18-25</td>\n",
              "      <td>Occasionally</td>\n",
              "      <td>T-shirt,Jeans</td>\n",
              "      <td>NIKE,Adidas,H&amp;M</td>\n",
              "      <td>700-1000</td>\n",
              "      <td>During the sales</td>\n",
              "      <td>Online</td>\n",
              "      <td>YES</td>\n",
              "      <td>Yes</td>\n",
              "      <td>3</td>\n",
              "    </tr>\n",
              "    <tr>\n",
              "      <th>2</th>\n",
              "      <td>18-25</td>\n",
              "      <td>Occasionally</td>\n",
              "      <td>T-shirt,Jeans,Women Dress,Casual Dress,Ladies ...</td>\n",
              "      <td>NIKE,Adidas,H&amp;M,ZARA</td>\n",
              "      <td>200-500</td>\n",
              "      <td>During the sales</td>\n",
              "      <td>By them in Store</td>\n",
              "      <td>YES</td>\n",
              "      <td>Yes</td>\n",
              "      <td>3</td>\n",
              "    </tr>\n",
              "    <tr>\n",
              "      <th>3</th>\n",
              "      <td>18-25</td>\n",
              "      <td>Occasionally</td>\n",
              "      <td>Women Dress</td>\n",
              "      <td>NIKE</td>\n",
              "      <td>500-700</td>\n",
              "      <td>During the sales</td>\n",
              "      <td>By them in Store</td>\n",
              "      <td>YES</td>\n",
              "      <td>Yes</td>\n",
              "      <td>4</td>\n",
              "    </tr>\n",
              "    <tr>\n",
              "      <th>4</th>\n",
              "      <td>18-25</td>\n",
              "      <td>Occasionally</td>\n",
              "      <td>Women Dress</td>\n",
              "      <td>Meesho</td>\n",
              "      <td>500-700</td>\n",
              "      <td>Without the sales (Off Season)</td>\n",
              "      <td>Online</td>\n",
              "      <td>YES</td>\n",
              "      <td>No</td>\n",
              "      <td>5</td>\n",
              "    </tr>\n",
              "    <tr>\n",
              "      <th>...</th>\n",
              "      <td>...</td>\n",
              "      <td>...</td>\n",
              "      <td>...</td>\n",
              "      <td>...</td>\n",
              "      <td>...</td>\n",
              "      <td>...</td>\n",
              "      <td>...</td>\n",
              "      <td>...</td>\n",
              "      <td>...</td>\n",
              "      <td>...</td>\n",
              "    </tr>\n",
              "    <tr>\n",
              "      <th>197</th>\n",
              "      <td>18-25</td>\n",
              "      <td>Occasionally</td>\n",
              "      <td>Casual Dress</td>\n",
              "      <td>H&amp;M</td>\n",
              "      <td>500-700</td>\n",
              "      <td>During the sales</td>\n",
              "      <td>By them in Store</td>\n",
              "      <td>YES</td>\n",
              "      <td>No</td>\n",
              "      <td>4</td>\n",
              "    </tr>\n",
              "    <tr>\n",
              "      <th>198</th>\n",
              "      <td>18-25</td>\n",
              "      <td>Regularly</td>\n",
              "      <td>Women Dress,Casual Dress,Ladies Tops</td>\n",
              "      <td>Adidas,H&amp;M</td>\n",
              "      <td>1000-above</td>\n",
              "      <td>During the sales</td>\n",
              "      <td>By them in Store</td>\n",
              "      <td>YES</td>\n",
              "      <td>No</td>\n",
              "      <td>4</td>\n",
              "    </tr>\n",
              "    <tr>\n",
              "      <th>199</th>\n",
              "      <td>18-25</td>\n",
              "      <td>Regularly</td>\n",
              "      <td>T-shirt,Jeans,Ladies Tops</td>\n",
              "      <td>Adidas</td>\n",
              "      <td>700-1000</td>\n",
              "      <td>During the sales</td>\n",
              "      <td>By them in Store</td>\n",
              "      <td>YES</td>\n",
              "      <td>No</td>\n",
              "      <td>4</td>\n",
              "    </tr>\n",
              "    <tr>\n",
              "      <th>200</th>\n",
              "      <td>18-25</td>\n",
              "      <td>Occasionally</td>\n",
              "      <td>T-shirt,Jeans</td>\n",
              "      <td>Adidas</td>\n",
              "      <td>700-1000</td>\n",
              "      <td>Without the sales (Off Season)</td>\n",
              "      <td>By them in Store</td>\n",
              "      <td>NO</td>\n",
              "      <td>No</td>\n",
              "      <td>4</td>\n",
              "    </tr>\n",
              "    <tr>\n",
              "      <th>201</th>\n",
              "      <td>35-50</td>\n",
              "      <td>Occasionally</td>\n",
              "      <td>Women Dress,Casual Dress</td>\n",
              "      <td>H&amp;M,ZARA</td>\n",
              "      <td>700-1000</td>\n",
              "      <td>During the sales</td>\n",
              "      <td>By them in Store</td>\n",
              "      <td>YES</td>\n",
              "      <td>Yes</td>\n",
              "      <td>4</td>\n",
              "    </tr>\n",
              "  </tbody>\n",
              "</table>\n",
              "<p>202 rows × 10 columns</p>\n",
              "</div>"
            ],
            "text/plain": [
              "       Age   Buy_Clothes  ... worst_experience Rating \n",
              "0    18-25  Occasionally  ...               No       4\n",
              "1    18-25  Occasionally  ...              Yes       3\n",
              "2    18-25  Occasionally  ...              Yes       3\n",
              "3    18-25  Occasionally  ...              Yes       4\n",
              "4    18-25  Occasionally  ...               No       5\n",
              "..     ...           ...  ...              ...     ...\n",
              "197  18-25  Occasionally  ...               No       4\n",
              "198  18-25     Regularly  ...               No       4\n",
              "199  18-25     Regularly  ...               No       4\n",
              "200  18-25  Occasionally  ...               No       4\n",
              "201  35-50  Occasionally  ...              Yes       4\n",
              "\n",
              "[202 rows x 10 columns]"
            ]
          },
          "metadata": {
            "tags": []
          },
          "execution_count": 452
        }
      ]
    },
    {
      "cell_type": "code",
      "metadata": {
        "colab": {
          "base_uri": "https://localhost:8080/",
          "height": 360
        },
        "id": "xIrTeg-04bmg",
        "outputId": "e9929381-1d53-4b48-c5c1-15471a42f945"
      },
      "source": [
        "#showfirstfiveElements\n",
        "Dataset.head()"
      ],
      "execution_count": 453,
      "outputs": [
        {
          "output_type": "execute_result",
          "data": {
            "text/html": [
              "<div>\n",
              "<style scoped>\n",
              "    .dataframe tbody tr th:only-of-type {\n",
              "        vertical-align: middle;\n",
              "    }\n",
              "\n",
              "    .dataframe tbody tr th {\n",
              "        vertical-align: top;\n",
              "    }\n",
              "\n",
              "    .dataframe thead th {\n",
              "        text-align: right;\n",
              "    }\n",
              "</style>\n",
              "<table border=\"1\" class=\"dataframe\">\n",
              "  <thead>\n",
              "    <tr style=\"text-align: right;\">\n",
              "      <th></th>\n",
              "      <th>Age</th>\n",
              "      <th>Buy_Clothes</th>\n",
              "      <th>Type_Clothes</th>\n",
              "      <th>Brand_Clothes</th>\n",
              "      <th>Price</th>\n",
              "      <th>time_prefer</th>\n",
              "      <th>prefer_purchasing</th>\n",
              "      <th>compare_prices</th>\n",
              "      <th>worst_experience</th>\n",
              "      <th>Rating</th>\n",
              "    </tr>\n",
              "  </thead>\n",
              "  <tbody>\n",
              "    <tr>\n",
              "      <th>0</th>\n",
              "      <td>18-25</td>\n",
              "      <td>Occasionally</td>\n",
              "      <td>Jeans,Women Dress,Ladies Tops</td>\n",
              "      <td>NIKE,Adidas</td>\n",
              "      <td>500-700</td>\n",
              "      <td>During the sales</td>\n",
              "      <td>Online</td>\n",
              "      <td>YES</td>\n",
              "      <td>No</td>\n",
              "      <td>4</td>\n",
              "    </tr>\n",
              "    <tr>\n",
              "      <th>1</th>\n",
              "      <td>18-25</td>\n",
              "      <td>Occasionally</td>\n",
              "      <td>T-shirt,Jeans</td>\n",
              "      <td>NIKE,Adidas,H&amp;M</td>\n",
              "      <td>700-1000</td>\n",
              "      <td>During the sales</td>\n",
              "      <td>Online</td>\n",
              "      <td>YES</td>\n",
              "      <td>Yes</td>\n",
              "      <td>3</td>\n",
              "    </tr>\n",
              "    <tr>\n",
              "      <th>2</th>\n",
              "      <td>18-25</td>\n",
              "      <td>Occasionally</td>\n",
              "      <td>T-shirt,Jeans,Women Dress,Casual Dress,Ladies ...</td>\n",
              "      <td>NIKE,Adidas,H&amp;M,ZARA</td>\n",
              "      <td>200-500</td>\n",
              "      <td>During the sales</td>\n",
              "      <td>By them in Store</td>\n",
              "      <td>YES</td>\n",
              "      <td>Yes</td>\n",
              "      <td>3</td>\n",
              "    </tr>\n",
              "    <tr>\n",
              "      <th>3</th>\n",
              "      <td>18-25</td>\n",
              "      <td>Occasionally</td>\n",
              "      <td>Women Dress</td>\n",
              "      <td>NIKE</td>\n",
              "      <td>500-700</td>\n",
              "      <td>During the sales</td>\n",
              "      <td>By them in Store</td>\n",
              "      <td>YES</td>\n",
              "      <td>Yes</td>\n",
              "      <td>4</td>\n",
              "    </tr>\n",
              "    <tr>\n",
              "      <th>4</th>\n",
              "      <td>18-25</td>\n",
              "      <td>Occasionally</td>\n",
              "      <td>Women Dress</td>\n",
              "      <td>Meesho</td>\n",
              "      <td>500-700</td>\n",
              "      <td>Without the sales (Off Season)</td>\n",
              "      <td>Online</td>\n",
              "      <td>YES</td>\n",
              "      <td>No</td>\n",
              "      <td>5</td>\n",
              "    </tr>\n",
              "  </tbody>\n",
              "</table>\n",
              "</div>"
            ],
            "text/plain": [
              "     Age   Buy_Clothes  ... worst_experience Rating \n",
              "0  18-25  Occasionally  ...               No       4\n",
              "1  18-25  Occasionally  ...              Yes       3\n",
              "2  18-25  Occasionally  ...              Yes       3\n",
              "3  18-25  Occasionally  ...              Yes       4\n",
              "4  18-25  Occasionally  ...               No       5\n",
              "\n",
              "[5 rows x 10 columns]"
            ]
          },
          "metadata": {
            "tags": []
          },
          "execution_count": 453
        }
      ]
    },
    {
      "cell_type": "code",
      "metadata": {
        "colab": {
          "base_uri": "https://localhost:8080/",
          "height": 394
        },
        "id": "Jv_z2_Nh4eZm",
        "outputId": "44be3121-6bd7-4c54-c297-97cf6227d423"
      },
      "source": [
        "#ShowLastFiveElements\n",
        "Dataset.tail()"
      ],
      "execution_count": 454,
      "outputs": [
        {
          "output_type": "execute_result",
          "data": {
            "text/html": [
              "<div>\n",
              "<style scoped>\n",
              "    .dataframe tbody tr th:only-of-type {\n",
              "        vertical-align: middle;\n",
              "    }\n",
              "\n",
              "    .dataframe tbody tr th {\n",
              "        vertical-align: top;\n",
              "    }\n",
              "\n",
              "    .dataframe thead th {\n",
              "        text-align: right;\n",
              "    }\n",
              "</style>\n",
              "<table border=\"1\" class=\"dataframe\">\n",
              "  <thead>\n",
              "    <tr style=\"text-align: right;\">\n",
              "      <th></th>\n",
              "      <th>Age</th>\n",
              "      <th>Buy_Clothes</th>\n",
              "      <th>Type_Clothes</th>\n",
              "      <th>Brand_Clothes</th>\n",
              "      <th>Price</th>\n",
              "      <th>time_prefer</th>\n",
              "      <th>prefer_purchasing</th>\n",
              "      <th>compare_prices</th>\n",
              "      <th>worst_experience</th>\n",
              "      <th>Rating</th>\n",
              "    </tr>\n",
              "  </thead>\n",
              "  <tbody>\n",
              "    <tr>\n",
              "      <th>197</th>\n",
              "      <td>18-25</td>\n",
              "      <td>Occasionally</td>\n",
              "      <td>Casual Dress</td>\n",
              "      <td>H&amp;M</td>\n",
              "      <td>500-700</td>\n",
              "      <td>During the sales</td>\n",
              "      <td>By them in Store</td>\n",
              "      <td>YES</td>\n",
              "      <td>No</td>\n",
              "      <td>4</td>\n",
              "    </tr>\n",
              "    <tr>\n",
              "      <th>198</th>\n",
              "      <td>18-25</td>\n",
              "      <td>Regularly</td>\n",
              "      <td>Women Dress,Casual Dress,Ladies Tops</td>\n",
              "      <td>Adidas,H&amp;M</td>\n",
              "      <td>1000-above</td>\n",
              "      <td>During the sales</td>\n",
              "      <td>By them in Store</td>\n",
              "      <td>YES</td>\n",
              "      <td>No</td>\n",
              "      <td>4</td>\n",
              "    </tr>\n",
              "    <tr>\n",
              "      <th>199</th>\n",
              "      <td>18-25</td>\n",
              "      <td>Regularly</td>\n",
              "      <td>T-shirt,Jeans,Ladies Tops</td>\n",
              "      <td>Adidas</td>\n",
              "      <td>700-1000</td>\n",
              "      <td>During the sales</td>\n",
              "      <td>By them in Store</td>\n",
              "      <td>YES</td>\n",
              "      <td>No</td>\n",
              "      <td>4</td>\n",
              "    </tr>\n",
              "    <tr>\n",
              "      <th>200</th>\n",
              "      <td>18-25</td>\n",
              "      <td>Occasionally</td>\n",
              "      <td>T-shirt,Jeans</td>\n",
              "      <td>Adidas</td>\n",
              "      <td>700-1000</td>\n",
              "      <td>Without the sales (Off Season)</td>\n",
              "      <td>By them in Store</td>\n",
              "      <td>NO</td>\n",
              "      <td>No</td>\n",
              "      <td>4</td>\n",
              "    </tr>\n",
              "    <tr>\n",
              "      <th>201</th>\n",
              "      <td>35-50</td>\n",
              "      <td>Occasionally</td>\n",
              "      <td>Women Dress,Casual Dress</td>\n",
              "      <td>H&amp;M,ZARA</td>\n",
              "      <td>700-1000</td>\n",
              "      <td>During the sales</td>\n",
              "      <td>By them in Store</td>\n",
              "      <td>YES</td>\n",
              "      <td>Yes</td>\n",
              "      <td>4</td>\n",
              "    </tr>\n",
              "  </tbody>\n",
              "</table>\n",
              "</div>"
            ],
            "text/plain": [
              "       Age   Buy_Clothes  ... worst_experience Rating \n",
              "197  18-25  Occasionally  ...               No       4\n",
              "198  18-25     Regularly  ...               No       4\n",
              "199  18-25     Regularly  ...               No       4\n",
              "200  18-25  Occasionally  ...               No       4\n",
              "201  35-50  Occasionally  ...              Yes       4\n",
              "\n",
              "[5 rows x 10 columns]"
            ]
          },
          "metadata": {
            "tags": []
          },
          "execution_count": 454
        }
      ]
    },
    {
      "cell_type": "code",
      "metadata": {
        "colab": {
          "base_uri": "https://localhost:8080/"
        },
        "id": "x327CfsE4iFc",
        "outputId": "bd99e7a0-386b-4d56-8566-4e3d894191cd"
      },
      "source": [
        "#LengthDataset\n",
        "len(Dataset)"
      ],
      "execution_count": 455,
      "outputs": [
        {
          "output_type": "execute_result",
          "data": {
            "text/plain": [
              "202"
            ]
          },
          "metadata": {
            "tags": []
          },
          "execution_count": 455
        }
      ]
    },
    {
      "cell_type": "code",
      "metadata": {
        "colab": {
          "base_uri": "https://localhost:8080/"
        },
        "id": "lUFrIhNK4mqT",
        "outputId": "4bc36d18-d5af-400c-8448-4b000979ea21"
      },
      "source": [
        "#Size\n",
        "Dataset.shape"
      ],
      "execution_count": 456,
      "outputs": [
        {
          "output_type": "execute_result",
          "data": {
            "text/plain": [
              "(202, 10)"
            ]
          },
          "metadata": {
            "tags": []
          },
          "execution_count": 456
        }
      ]
    },
    {
      "cell_type": "code",
      "metadata": {
        "colab": {
          "base_uri": "https://localhost:8080/"
        },
        "id": "b7lyBwQD4rO9",
        "outputId": "55974515-b7f4-4e1c-a021-53fdb9d28738"
      },
      "source": [
        "#DataTypeofDataset\n",
        "Dataset.dtypes"
      ],
      "execution_count": 457,
      "outputs": [
        {
          "output_type": "execute_result",
          "data": {
            "text/plain": [
              "Age                   object\n",
              "Buy_Clothes           object\n",
              "Type_Clothes          object\n",
              "Brand_Clothes         object\n",
              "Price                 object\n",
              "time_prefer           object\n",
              "prefer_purchasing     object\n",
              "compare_prices        object\n",
              "worst_experience      object\n",
              "Rating                 int64\n",
              "dtype: object"
            ]
          },
          "metadata": {
            "tags": []
          },
          "execution_count": 457
        }
      ]
    },
    {
      "cell_type": "code",
      "metadata": {
        "colab": {
          "base_uri": "https://localhost:8080/"
        },
        "id": "dxMjQB-T43fm",
        "outputId": "88c645d6-1cdc-4036-ccc5-c7e875cf2de2"
      },
      "source": [
        "#Information\n",
        "Dataset.info()"
      ],
      "execution_count": 458,
      "outputs": [
        {
          "output_type": "stream",
          "text": [
            "<class 'pandas.core.frame.DataFrame'>\n",
            "RangeIndex: 202 entries, 0 to 201\n",
            "Data columns (total 10 columns):\n",
            " #   Column              Non-Null Count  Dtype \n",
            "---  ------              --------------  ----- \n",
            " 0   Age                 202 non-null    object\n",
            " 1   Buy_Clothes         202 non-null    object\n",
            " 2   Type_Clothes        202 non-null    object\n",
            " 3   Brand_Clothes       202 non-null    object\n",
            " 4   Price               202 non-null    object\n",
            " 5   time_prefer         202 non-null    object\n",
            " 6   prefer_purchasing   202 non-null    object\n",
            " 7   compare_prices      202 non-null    object\n",
            " 8   worst_experience    202 non-null    object\n",
            " 9   Rating              202 non-null    int64 \n",
            "dtypes: int64(1), object(9)\n",
            "memory usage: 15.9+ KB\n"
          ],
          "name": "stdout"
        }
      ]
    },
    {
      "cell_type": "code",
      "metadata": {
        "colab": {
          "base_uri": "https://localhost:8080/"
        },
        "id": "T2YE7DW29tX8",
        "outputId": "1c778edd-4c52-48e4-cff0-2a0d7d7357ed"
      },
      "source": [
        "#AgeDatasetValue\n",
        "Dataset['Age']"
      ],
      "execution_count": 459,
      "outputs": [
        {
          "output_type": "execute_result",
          "data": {
            "text/plain": [
              "0      18-25\n",
              "1      18-25\n",
              "2      18-25\n",
              "3      18-25\n",
              "4      18-25\n",
              "       ...  \n",
              "197    18-25\n",
              "198    18-25\n",
              "199    18-25\n",
              "200    18-25\n",
              "201    35-50\n",
              "Name: Age, Length: 202, dtype: object"
            ]
          },
          "metadata": {
            "tags": []
          },
          "execution_count": 459
        }
      ]
    },
    {
      "cell_type": "code",
      "metadata": {
        "colab": {
          "base_uri": "https://localhost:8080/"
        },
        "id": "kXMOiL4C9zys",
        "outputId": "22f9a60d-8872-4ccc-82e5-c642803d4324"
      },
      "source": [
        "Dataset[\"Age\"].value_counts()"
      ],
      "execution_count": 460,
      "outputs": [
        {
          "output_type": "execute_result",
          "data": {
            "text/plain": [
              "18-25         162\n",
              "25-35          27\n",
              "35-50          12\n",
              "50 - above      1\n",
              "Name: Age, dtype: int64"
            ]
          },
          "metadata": {
            "tags": []
          },
          "execution_count": 460
        }
      ]
    },
    {
      "cell_type": "code",
      "metadata": {
        "colab": {
          "base_uri": "https://localhost:8080/"
        },
        "id": "tes6zbKr97np",
        "outputId": "083ea509-479e-4a08-cdb9-8ec50da2d9a5"
      },
      "source": [
        "Dataset['Age'].isnull().values.any()"
      ],
      "execution_count": 461,
      "outputs": [
        {
          "output_type": "execute_result",
          "data": {
            "text/plain": [
              "False"
            ]
          },
          "metadata": {
            "tags": []
          },
          "execution_count": 461
        }
      ]
    },
    {
      "cell_type": "code",
      "metadata": {
        "colab": {
          "base_uri": "https://localhost:8080/",
          "height": 728
        },
        "id": "YKhzEB44-HJB",
        "outputId": "5d5c8792-8c8e-4c21-eed1-76a534d90375"
      },
      "source": [
        "values = Dataset.values\n",
        "Dataset"
      ],
      "execution_count": 462,
      "outputs": [
        {
          "output_type": "execute_result",
          "data": {
            "text/html": [
              "<div>\n",
              "<style scoped>\n",
              "    .dataframe tbody tr th:only-of-type {\n",
              "        vertical-align: middle;\n",
              "    }\n",
              "\n",
              "    .dataframe tbody tr th {\n",
              "        vertical-align: top;\n",
              "    }\n",
              "\n",
              "    .dataframe thead th {\n",
              "        text-align: right;\n",
              "    }\n",
              "</style>\n",
              "<table border=\"1\" class=\"dataframe\">\n",
              "  <thead>\n",
              "    <tr style=\"text-align: right;\">\n",
              "      <th></th>\n",
              "      <th>Age</th>\n",
              "      <th>Buy_Clothes</th>\n",
              "      <th>Type_Clothes</th>\n",
              "      <th>Brand_Clothes</th>\n",
              "      <th>Price</th>\n",
              "      <th>time_prefer</th>\n",
              "      <th>prefer_purchasing</th>\n",
              "      <th>compare_prices</th>\n",
              "      <th>worst_experience</th>\n",
              "      <th>Rating</th>\n",
              "    </tr>\n",
              "  </thead>\n",
              "  <tbody>\n",
              "    <tr>\n",
              "      <th>0</th>\n",
              "      <td>18-25</td>\n",
              "      <td>Occasionally</td>\n",
              "      <td>Jeans,Women Dress,Ladies Tops</td>\n",
              "      <td>NIKE,Adidas</td>\n",
              "      <td>500-700</td>\n",
              "      <td>During the sales</td>\n",
              "      <td>Online</td>\n",
              "      <td>YES</td>\n",
              "      <td>No</td>\n",
              "      <td>4</td>\n",
              "    </tr>\n",
              "    <tr>\n",
              "      <th>1</th>\n",
              "      <td>18-25</td>\n",
              "      <td>Occasionally</td>\n",
              "      <td>T-shirt,Jeans</td>\n",
              "      <td>NIKE,Adidas,H&amp;M</td>\n",
              "      <td>700-1000</td>\n",
              "      <td>During the sales</td>\n",
              "      <td>Online</td>\n",
              "      <td>YES</td>\n",
              "      <td>Yes</td>\n",
              "      <td>3</td>\n",
              "    </tr>\n",
              "    <tr>\n",
              "      <th>2</th>\n",
              "      <td>18-25</td>\n",
              "      <td>Occasionally</td>\n",
              "      <td>T-shirt,Jeans,Women Dress,Casual Dress,Ladies ...</td>\n",
              "      <td>NIKE,Adidas,H&amp;M,ZARA</td>\n",
              "      <td>200-500</td>\n",
              "      <td>During the sales</td>\n",
              "      <td>By them in Store</td>\n",
              "      <td>YES</td>\n",
              "      <td>Yes</td>\n",
              "      <td>3</td>\n",
              "    </tr>\n",
              "    <tr>\n",
              "      <th>3</th>\n",
              "      <td>18-25</td>\n",
              "      <td>Occasionally</td>\n",
              "      <td>Women Dress</td>\n",
              "      <td>NIKE</td>\n",
              "      <td>500-700</td>\n",
              "      <td>During the sales</td>\n",
              "      <td>By them in Store</td>\n",
              "      <td>YES</td>\n",
              "      <td>Yes</td>\n",
              "      <td>4</td>\n",
              "    </tr>\n",
              "    <tr>\n",
              "      <th>4</th>\n",
              "      <td>18-25</td>\n",
              "      <td>Occasionally</td>\n",
              "      <td>Women Dress</td>\n",
              "      <td>Meesho</td>\n",
              "      <td>500-700</td>\n",
              "      <td>Without the sales (Off Season)</td>\n",
              "      <td>Online</td>\n",
              "      <td>YES</td>\n",
              "      <td>No</td>\n",
              "      <td>5</td>\n",
              "    </tr>\n",
              "    <tr>\n",
              "      <th>...</th>\n",
              "      <td>...</td>\n",
              "      <td>...</td>\n",
              "      <td>...</td>\n",
              "      <td>...</td>\n",
              "      <td>...</td>\n",
              "      <td>...</td>\n",
              "      <td>...</td>\n",
              "      <td>...</td>\n",
              "      <td>...</td>\n",
              "      <td>...</td>\n",
              "    </tr>\n",
              "    <tr>\n",
              "      <th>197</th>\n",
              "      <td>18-25</td>\n",
              "      <td>Occasionally</td>\n",
              "      <td>Casual Dress</td>\n",
              "      <td>H&amp;M</td>\n",
              "      <td>500-700</td>\n",
              "      <td>During the sales</td>\n",
              "      <td>By them in Store</td>\n",
              "      <td>YES</td>\n",
              "      <td>No</td>\n",
              "      <td>4</td>\n",
              "    </tr>\n",
              "    <tr>\n",
              "      <th>198</th>\n",
              "      <td>18-25</td>\n",
              "      <td>Regularly</td>\n",
              "      <td>Women Dress,Casual Dress,Ladies Tops</td>\n",
              "      <td>Adidas,H&amp;M</td>\n",
              "      <td>1000-above</td>\n",
              "      <td>During the sales</td>\n",
              "      <td>By them in Store</td>\n",
              "      <td>YES</td>\n",
              "      <td>No</td>\n",
              "      <td>4</td>\n",
              "    </tr>\n",
              "    <tr>\n",
              "      <th>199</th>\n",
              "      <td>18-25</td>\n",
              "      <td>Regularly</td>\n",
              "      <td>T-shirt,Jeans,Ladies Tops</td>\n",
              "      <td>Adidas</td>\n",
              "      <td>700-1000</td>\n",
              "      <td>During the sales</td>\n",
              "      <td>By them in Store</td>\n",
              "      <td>YES</td>\n",
              "      <td>No</td>\n",
              "      <td>4</td>\n",
              "    </tr>\n",
              "    <tr>\n",
              "      <th>200</th>\n",
              "      <td>18-25</td>\n",
              "      <td>Occasionally</td>\n",
              "      <td>T-shirt,Jeans</td>\n",
              "      <td>Adidas</td>\n",
              "      <td>700-1000</td>\n",
              "      <td>Without the sales (Off Season)</td>\n",
              "      <td>By them in Store</td>\n",
              "      <td>NO</td>\n",
              "      <td>No</td>\n",
              "      <td>4</td>\n",
              "    </tr>\n",
              "    <tr>\n",
              "      <th>201</th>\n",
              "      <td>35-50</td>\n",
              "      <td>Occasionally</td>\n",
              "      <td>Women Dress,Casual Dress</td>\n",
              "      <td>H&amp;M,ZARA</td>\n",
              "      <td>700-1000</td>\n",
              "      <td>During the sales</td>\n",
              "      <td>By them in Store</td>\n",
              "      <td>YES</td>\n",
              "      <td>Yes</td>\n",
              "      <td>4</td>\n",
              "    </tr>\n",
              "  </tbody>\n",
              "</table>\n",
              "<p>202 rows × 10 columns</p>\n",
              "</div>"
            ],
            "text/plain": [
              "       Age   Buy_Clothes  ... worst_experience Rating \n",
              "0    18-25  Occasionally  ...               No       4\n",
              "1    18-25  Occasionally  ...              Yes       3\n",
              "2    18-25  Occasionally  ...              Yes       3\n",
              "3    18-25  Occasionally  ...              Yes       4\n",
              "4    18-25  Occasionally  ...               No       5\n",
              "..     ...           ...  ...              ...     ...\n",
              "197  18-25  Occasionally  ...               No       4\n",
              "198  18-25     Regularly  ...               No       4\n",
              "199  18-25     Regularly  ...               No       4\n",
              "200  18-25  Occasionally  ...               No       4\n",
              "201  35-50  Occasionally  ...              Yes       4\n",
              "\n",
              "[202 rows x 10 columns]"
            ]
          },
          "metadata": {
            "tags": []
          },
          "execution_count": 462
        }
      ]
    },
    {
      "cell_type": "code",
      "metadata": {
        "colab": {
          "base_uri": "https://localhost:8080/"
        },
        "id": "HB4tFnfO-UL_",
        "outputId": "aa6520f6-4b82-40a7-de7a-bfed3013c212"
      },
      "source": [
        "Dataset.Age.head(10)"
      ],
      "execution_count": 463,
      "outputs": [
        {
          "output_type": "execute_result",
          "data": {
            "text/plain": [
              "0    18-25\n",
              "1    18-25\n",
              "2    18-25\n",
              "3    18-25\n",
              "4    18-25\n",
              "5    18-25\n",
              "6    18-25\n",
              "7    25-35\n",
              "8    18-25\n",
              "9    18-25\n",
              "Name: Age, dtype: object"
            ]
          },
          "metadata": {
            "tags": []
          },
          "execution_count": 463
        }
      ]
    },
    {
      "cell_type": "code",
      "metadata": {
        "colab": {
          "base_uri": "https://localhost:8080/"
        },
        "id": "Km57NDmz-fee",
        "outputId": "e8a0c489-b6cb-4a2d-ffee-3bffdaf64e52"
      },
      "source": [
        "Dataset.dropna(axis=0,how='any').shape"
      ],
      "execution_count": 464,
      "outputs": [
        {
          "output_type": "execute_result",
          "data": {
            "text/plain": [
              "(202, 10)"
            ]
          },
          "metadata": {
            "tags": []
          },
          "execution_count": 464
        }
      ]
    },
    {
      "cell_type": "code",
      "metadata": {
        "id": "M4J9EAy2-kdS"
      },
      "source": [
        "Dataset.dropna(axis=0,how='any',inplace=True)"
      ],
      "execution_count": 465,
      "outputs": []
    },
    {
      "cell_type": "code",
      "metadata": {
        "id": "LmI1reGj-qXZ"
      },
      "source": [
        "Dataset['Age'] = Dataset['Age'].replace(['all'],'18-25')"
      ],
      "execution_count": 466,
      "outputs": []
    },
    {
      "cell_type": "code",
      "metadata": {
        "colab": {
          "base_uri": "https://localhost:8080/",
          "height": 728
        },
        "id": "174SPIKx-u-k",
        "outputId": "2f67061d-a3e4-4b01-b734-ef2e4228c1a4"
      },
      "source": [
        "Dataset"
      ],
      "execution_count": 467,
      "outputs": [
        {
          "output_type": "execute_result",
          "data": {
            "text/html": [
              "<div>\n",
              "<style scoped>\n",
              "    .dataframe tbody tr th:only-of-type {\n",
              "        vertical-align: middle;\n",
              "    }\n",
              "\n",
              "    .dataframe tbody tr th {\n",
              "        vertical-align: top;\n",
              "    }\n",
              "\n",
              "    .dataframe thead th {\n",
              "        text-align: right;\n",
              "    }\n",
              "</style>\n",
              "<table border=\"1\" class=\"dataframe\">\n",
              "  <thead>\n",
              "    <tr style=\"text-align: right;\">\n",
              "      <th></th>\n",
              "      <th>Age</th>\n",
              "      <th>Buy_Clothes</th>\n",
              "      <th>Type_Clothes</th>\n",
              "      <th>Brand_Clothes</th>\n",
              "      <th>Price</th>\n",
              "      <th>time_prefer</th>\n",
              "      <th>prefer_purchasing</th>\n",
              "      <th>compare_prices</th>\n",
              "      <th>worst_experience</th>\n",
              "      <th>Rating</th>\n",
              "    </tr>\n",
              "  </thead>\n",
              "  <tbody>\n",
              "    <tr>\n",
              "      <th>0</th>\n",
              "      <td>18-25</td>\n",
              "      <td>Occasionally</td>\n",
              "      <td>Jeans,Women Dress,Ladies Tops</td>\n",
              "      <td>NIKE,Adidas</td>\n",
              "      <td>500-700</td>\n",
              "      <td>During the sales</td>\n",
              "      <td>Online</td>\n",
              "      <td>YES</td>\n",
              "      <td>No</td>\n",
              "      <td>4</td>\n",
              "    </tr>\n",
              "    <tr>\n",
              "      <th>1</th>\n",
              "      <td>18-25</td>\n",
              "      <td>Occasionally</td>\n",
              "      <td>T-shirt,Jeans</td>\n",
              "      <td>NIKE,Adidas,H&amp;M</td>\n",
              "      <td>700-1000</td>\n",
              "      <td>During the sales</td>\n",
              "      <td>Online</td>\n",
              "      <td>YES</td>\n",
              "      <td>Yes</td>\n",
              "      <td>3</td>\n",
              "    </tr>\n",
              "    <tr>\n",
              "      <th>2</th>\n",
              "      <td>18-25</td>\n",
              "      <td>Occasionally</td>\n",
              "      <td>T-shirt,Jeans,Women Dress,Casual Dress,Ladies ...</td>\n",
              "      <td>NIKE,Adidas,H&amp;M,ZARA</td>\n",
              "      <td>200-500</td>\n",
              "      <td>During the sales</td>\n",
              "      <td>By them in Store</td>\n",
              "      <td>YES</td>\n",
              "      <td>Yes</td>\n",
              "      <td>3</td>\n",
              "    </tr>\n",
              "    <tr>\n",
              "      <th>3</th>\n",
              "      <td>18-25</td>\n",
              "      <td>Occasionally</td>\n",
              "      <td>Women Dress</td>\n",
              "      <td>NIKE</td>\n",
              "      <td>500-700</td>\n",
              "      <td>During the sales</td>\n",
              "      <td>By them in Store</td>\n",
              "      <td>YES</td>\n",
              "      <td>Yes</td>\n",
              "      <td>4</td>\n",
              "    </tr>\n",
              "    <tr>\n",
              "      <th>4</th>\n",
              "      <td>18-25</td>\n",
              "      <td>Occasionally</td>\n",
              "      <td>Women Dress</td>\n",
              "      <td>Meesho</td>\n",
              "      <td>500-700</td>\n",
              "      <td>Without the sales (Off Season)</td>\n",
              "      <td>Online</td>\n",
              "      <td>YES</td>\n",
              "      <td>No</td>\n",
              "      <td>5</td>\n",
              "    </tr>\n",
              "    <tr>\n",
              "      <th>...</th>\n",
              "      <td>...</td>\n",
              "      <td>...</td>\n",
              "      <td>...</td>\n",
              "      <td>...</td>\n",
              "      <td>...</td>\n",
              "      <td>...</td>\n",
              "      <td>...</td>\n",
              "      <td>...</td>\n",
              "      <td>...</td>\n",
              "      <td>...</td>\n",
              "    </tr>\n",
              "    <tr>\n",
              "      <th>197</th>\n",
              "      <td>18-25</td>\n",
              "      <td>Occasionally</td>\n",
              "      <td>Casual Dress</td>\n",
              "      <td>H&amp;M</td>\n",
              "      <td>500-700</td>\n",
              "      <td>During the sales</td>\n",
              "      <td>By them in Store</td>\n",
              "      <td>YES</td>\n",
              "      <td>No</td>\n",
              "      <td>4</td>\n",
              "    </tr>\n",
              "    <tr>\n",
              "      <th>198</th>\n",
              "      <td>18-25</td>\n",
              "      <td>Regularly</td>\n",
              "      <td>Women Dress,Casual Dress,Ladies Tops</td>\n",
              "      <td>Adidas,H&amp;M</td>\n",
              "      <td>1000-above</td>\n",
              "      <td>During the sales</td>\n",
              "      <td>By them in Store</td>\n",
              "      <td>YES</td>\n",
              "      <td>No</td>\n",
              "      <td>4</td>\n",
              "    </tr>\n",
              "    <tr>\n",
              "      <th>199</th>\n",
              "      <td>18-25</td>\n",
              "      <td>Regularly</td>\n",
              "      <td>T-shirt,Jeans,Ladies Tops</td>\n",
              "      <td>Adidas</td>\n",
              "      <td>700-1000</td>\n",
              "      <td>During the sales</td>\n",
              "      <td>By them in Store</td>\n",
              "      <td>YES</td>\n",
              "      <td>No</td>\n",
              "      <td>4</td>\n",
              "    </tr>\n",
              "    <tr>\n",
              "      <th>200</th>\n",
              "      <td>18-25</td>\n",
              "      <td>Occasionally</td>\n",
              "      <td>T-shirt,Jeans</td>\n",
              "      <td>Adidas</td>\n",
              "      <td>700-1000</td>\n",
              "      <td>Without the sales (Off Season)</td>\n",
              "      <td>By them in Store</td>\n",
              "      <td>NO</td>\n",
              "      <td>No</td>\n",
              "      <td>4</td>\n",
              "    </tr>\n",
              "    <tr>\n",
              "      <th>201</th>\n",
              "      <td>35-50</td>\n",
              "      <td>Occasionally</td>\n",
              "      <td>Women Dress,Casual Dress</td>\n",
              "      <td>H&amp;M,ZARA</td>\n",
              "      <td>700-1000</td>\n",
              "      <td>During the sales</td>\n",
              "      <td>By them in Store</td>\n",
              "      <td>YES</td>\n",
              "      <td>Yes</td>\n",
              "      <td>4</td>\n",
              "    </tr>\n",
              "  </tbody>\n",
              "</table>\n",
              "<p>202 rows × 10 columns</p>\n",
              "</div>"
            ],
            "text/plain": [
              "       Age   Buy_Clothes  ... worst_experience Rating \n",
              "0    18-25  Occasionally  ...               No       4\n",
              "1    18-25  Occasionally  ...              Yes       3\n",
              "2    18-25  Occasionally  ...              Yes       3\n",
              "3    18-25  Occasionally  ...              Yes       4\n",
              "4    18-25  Occasionally  ...               No       5\n",
              "..     ...           ...  ...              ...     ...\n",
              "197  18-25  Occasionally  ...               No       4\n",
              "198  18-25     Regularly  ...               No       4\n",
              "199  18-25     Regularly  ...               No       4\n",
              "200  18-25  Occasionally  ...               No       4\n",
              "201  35-50  Occasionally  ...              Yes       4\n",
              "\n",
              "[202 rows x 10 columns]"
            ]
          },
          "metadata": {
            "tags": []
          },
          "execution_count": 467
        }
      ]
    },
    {
      "cell_type": "code",
      "metadata": {
        "colab": {
          "base_uri": "https://localhost:8080/"
        },
        "id": "vo3iKRee-3Ms",
        "outputId": "6c659f3b-b983-49df-9400-26830d06508a"
      },
      "source": [
        "Dataset.dropna(subset=['Age'],how='all').shape"
      ],
      "execution_count": 468,
      "outputs": [
        {
          "output_type": "execute_result",
          "data": {
            "text/plain": [
              "(202, 10)"
            ]
          },
          "metadata": {
            "tags": []
          },
          "execution_count": 468
        }
      ]
    },
    {
      "cell_type": "code",
      "metadata": {
        "colab": {
          "base_uri": "https://localhost:8080/"
        },
        "id": "hdXPB4TT-9g5",
        "outputId": "130943ae-b48c-4db3-c095-7edc59a4f611"
      },
      "source": [
        "Dataset['Age'].fillna(value='18-25')"
      ],
      "execution_count": 469,
      "outputs": [
        {
          "output_type": "execute_result",
          "data": {
            "text/plain": [
              "0      18-25\n",
              "1      18-25\n",
              "2      18-25\n",
              "3      18-25\n",
              "4      18-25\n",
              "       ...  \n",
              "197    18-25\n",
              "198    18-25\n",
              "199    18-25\n",
              "200    18-25\n",
              "201    35-50\n",
              "Name: Age, Length: 202, dtype: object"
            ]
          },
          "metadata": {
            "tags": []
          },
          "execution_count": 469
        }
      ]
    },
    {
      "cell_type": "code",
      "metadata": {
        "colab": {
          "base_uri": "https://localhost:8080/"
        },
        "id": "td5_1sqr_PRf",
        "outputId": "2d858329-890c-4c7b-e39c-5a1db1246cee"
      },
      "source": [
        "Dataset['Age'].unique()"
      ],
      "execution_count": 470,
      "outputs": [
        {
          "output_type": "execute_result",
          "data": {
            "text/plain": [
              "array(['18-25', '25-35', '35-50', '50 - above'], dtype=object)"
            ]
          },
          "metadata": {
            "tags": []
          },
          "execution_count": 470
        }
      ]
    },
    {
      "cell_type": "code",
      "metadata": {
        "colab": {
          "base_uri": "https://localhost:8080/"
        },
        "id": "2yGuFn84Azho",
        "outputId": "e7728a74-9d0b-417a-97a5-b205c2f9dd81"
      },
      "source": [
        "Dataset.columns"
      ],
      "execution_count": 471,
      "outputs": [
        {
          "output_type": "execute_result",
          "data": {
            "text/plain": [
              "Index(['Age', 'Buy_Clothes', 'Type_Clothes', 'Brand_Clothes', 'Price',\n",
              "       'time_prefer ', 'prefer_purchasing ', 'compare_prices ',\n",
              "       'worst_experience', 'Rating '],\n",
              "      dtype='object')"
            ]
          },
          "metadata": {
            "tags": []
          },
          "execution_count": 471
        }
      ]
    },
    {
      "cell_type": "markdown",
      "metadata": {
        "id": "N92MDZeY6NhC"
      },
      "source": [
        "Converting categorical data into integer\n"
      ]
    },
    {
      "cell_type": "code",
      "metadata": {
        "id": "uDw_z-1WyutY"
      },
      "source": [
        "Dataset['Age']=num.fit_transform(Dataset['Age']).astype('int')\n",
        "Dataset['Buy_Clothes']=num.fit_transform(Dataset['Buy_Clothes']).astype('int')\n",
        "Dataset['Type_Clothes']=num.fit_transform(Dataset['Type_Clothes']).astype('int')\n",
        "Dataset['Brand_Clothes']=num.fit_transform(Dataset['Brand_Clothes']).astype('int')\n",
        "Dataset['Price']=num.fit_transform(Dataset['Price']).astype('int')\n",
        "Dataset['time_prefer ']=num.fit_transform(Dataset['time_prefer ']).astype('int')\n",
        "Dataset['prefer_purchasing ']=num.fit_transform(Dataset['prefer_purchasing ']).astype('int')\n",
        "Dataset['compare_prices ']=num.fit_transform(Dataset['compare_prices ']).astype('int')\n",
        "Dataset['worst_experience']=num.fit_transform(Dataset['worst_experience']).astype('int')\n",
        "Dataset['Rating ']=num.fit_transform(Dataset['Rating ']).astype('int')"
      ],
      "execution_count": 472,
      "outputs": []
    },
    {
      "cell_type": "code",
      "metadata": {
        "colab": {
          "base_uri": "https://localhost:8080/",
          "height": 439
        },
        "id": "XugC_NZkyydl",
        "outputId": "ca5502e4-f5ee-4b69-b609-ddf9a0dc5b9b"
      },
      "source": [
        "Dataset"
      ],
      "execution_count": 473,
      "outputs": [
        {
          "output_type": "execute_result",
          "data": {
            "text/html": [
              "<div>\n",
              "<style scoped>\n",
              "    .dataframe tbody tr th:only-of-type {\n",
              "        vertical-align: middle;\n",
              "    }\n",
              "\n",
              "    .dataframe tbody tr th {\n",
              "        vertical-align: top;\n",
              "    }\n",
              "\n",
              "    .dataframe thead th {\n",
              "        text-align: right;\n",
              "    }\n",
              "</style>\n",
              "<table border=\"1\" class=\"dataframe\">\n",
              "  <thead>\n",
              "    <tr style=\"text-align: right;\">\n",
              "      <th></th>\n",
              "      <th>Age</th>\n",
              "      <th>Buy_Clothes</th>\n",
              "      <th>Type_Clothes</th>\n",
              "      <th>Brand_Clothes</th>\n",
              "      <th>Price</th>\n",
              "      <th>time_prefer</th>\n",
              "      <th>prefer_purchasing</th>\n",
              "      <th>compare_prices</th>\n",
              "      <th>worst_experience</th>\n",
              "      <th>Rating</th>\n",
              "    </tr>\n",
              "  </thead>\n",
              "  <tbody>\n",
              "    <tr>\n",
              "      <th>0</th>\n",
              "      <td>0</td>\n",
              "      <td>0</td>\n",
              "      <td>8</td>\n",
              "      <td>23</td>\n",
              "      <td>2</td>\n",
              "      <td>0</td>\n",
              "      <td>1</td>\n",
              "      <td>1</td>\n",
              "      <td>0</td>\n",
              "      <td>3</td>\n",
              "    </tr>\n",
              "    <tr>\n",
              "      <th>1</th>\n",
              "      <td>0</td>\n",
              "      <td>0</td>\n",
              "      <td>13</td>\n",
              "      <td>24</td>\n",
              "      <td>3</td>\n",
              "      <td>0</td>\n",
              "      <td>1</td>\n",
              "      <td>1</td>\n",
              "      <td>1</td>\n",
              "      <td>2</td>\n",
              "    </tr>\n",
              "    <tr>\n",
              "      <th>2</th>\n",
              "      <td>0</td>\n",
              "      <td>0</td>\n",
              "      <td>19</td>\n",
              "      <td>26</td>\n",
              "      <td>1</td>\n",
              "      <td>0</td>\n",
              "      <td>0</td>\n",
              "      <td>1</td>\n",
              "      <td>1</td>\n",
              "      <td>2</td>\n",
              "    </tr>\n",
              "    <tr>\n",
              "      <th>3</th>\n",
              "      <td>0</td>\n",
              "      <td>0</td>\n",
              "      <td>25</td>\n",
              "      <td>22</td>\n",
              "      <td>2</td>\n",
              "      <td>0</td>\n",
              "      <td>0</td>\n",
              "      <td>1</td>\n",
              "      <td>1</td>\n",
              "      <td>3</td>\n",
              "    </tr>\n",
              "    <tr>\n",
              "      <th>4</th>\n",
              "      <td>0</td>\n",
              "      <td>0</td>\n",
              "      <td>25</td>\n",
              "      <td>21</td>\n",
              "      <td>2</td>\n",
              "      <td>1</td>\n",
              "      <td>1</td>\n",
              "      <td>1</td>\n",
              "      <td>0</td>\n",
              "      <td>4</td>\n",
              "    </tr>\n",
              "    <tr>\n",
              "      <th>...</th>\n",
              "      <td>...</td>\n",
              "      <td>...</td>\n",
              "      <td>...</td>\n",
              "      <td>...</td>\n",
              "      <td>...</td>\n",
              "      <td>...</td>\n",
              "      <td>...</td>\n",
              "      <td>...</td>\n",
              "      <td>...</td>\n",
              "      <td>...</td>\n",
              "    </tr>\n",
              "    <tr>\n",
              "      <th>197</th>\n",
              "      <td>0</td>\n",
              "      <td>0</td>\n",
              "      <td>0</td>\n",
              "      <td>15</td>\n",
              "      <td>2</td>\n",
              "      <td>0</td>\n",
              "      <td>0</td>\n",
              "      <td>1</td>\n",
              "      <td>0</td>\n",
              "      <td>3</td>\n",
              "    </tr>\n",
              "    <tr>\n",
              "      <th>198</th>\n",
              "      <td>0</td>\n",
              "      <td>1</td>\n",
              "      <td>27</td>\n",
              "      <td>1</td>\n",
              "      <td>0</td>\n",
              "      <td>0</td>\n",
              "      <td>0</td>\n",
              "      <td>1</td>\n",
              "      <td>0</td>\n",
              "      <td>3</td>\n",
              "    </tr>\n",
              "    <tr>\n",
              "      <th>199</th>\n",
              "      <td>0</td>\n",
              "      <td>1</td>\n",
              "      <td>16</td>\n",
              "      <td>0</td>\n",
              "      <td>3</td>\n",
              "      <td>0</td>\n",
              "      <td>0</td>\n",
              "      <td>1</td>\n",
              "      <td>0</td>\n",
              "      <td>3</td>\n",
              "    </tr>\n",
              "    <tr>\n",
              "      <th>200</th>\n",
              "      <td>0</td>\n",
              "      <td>0</td>\n",
              "      <td>13</td>\n",
              "      <td>0</td>\n",
              "      <td>3</td>\n",
              "      <td>1</td>\n",
              "      <td>0</td>\n",
              "      <td>0</td>\n",
              "      <td>0</td>\n",
              "      <td>3</td>\n",
              "    </tr>\n",
              "    <tr>\n",
              "      <th>201</th>\n",
              "      <td>2</td>\n",
              "      <td>0</td>\n",
              "      <td>26</td>\n",
              "      <td>17</td>\n",
              "      <td>3</td>\n",
              "      <td>0</td>\n",
              "      <td>0</td>\n",
              "      <td>1</td>\n",
              "      <td>1</td>\n",
              "      <td>3</td>\n",
              "    </tr>\n",
              "  </tbody>\n",
              "</table>\n",
              "<p>202 rows × 10 columns</p>\n",
              "</div>"
            ],
            "text/plain": [
              "     Age  Buy_Clothes  Type_Clothes  ...  compare_prices   worst_experience  Rating \n",
              "0      0            0             8  ...                1                 0        3\n",
              "1      0            0            13  ...                1                 1        2\n",
              "2      0            0            19  ...                1                 1        2\n",
              "3      0            0            25  ...                1                 1        3\n",
              "4      0            0            25  ...                1                 0        4\n",
              "..   ...          ...           ...  ...              ...               ...      ...\n",
              "197    0            0             0  ...                1                 0        3\n",
              "198    0            1            27  ...                1                 0        3\n",
              "199    0            1            16  ...                1                 0        3\n",
              "200    0            0            13  ...                0                 0        3\n",
              "201    2            0            26  ...                1                 1        3\n",
              "\n",
              "[202 rows x 10 columns]"
            ]
          },
          "metadata": {
            "tags": []
          },
          "execution_count": 473
        }
      ]
    },
    {
      "cell_type": "code",
      "metadata": {
        "colab": {
          "base_uri": "https://localhost:8080/"
        },
        "id": "oNc4Agq8ydq1",
        "outputId": "162af6c6-e865-472a-ab34-92ed96a27e3f"
      },
      "source": [
        "Dataset.dtypes"
      ],
      "execution_count": 474,
      "outputs": [
        {
          "output_type": "execute_result",
          "data": {
            "text/plain": [
              "Age                   int64\n",
              "Buy_Clothes           int64\n",
              "Type_Clothes          int64\n",
              "Brand_Clothes         int64\n",
              "Price                 int64\n",
              "time_prefer           int64\n",
              "prefer_purchasing     int64\n",
              "compare_prices        int64\n",
              "worst_experience      int64\n",
              "Rating                int64\n",
              "dtype: object"
            ]
          },
          "metadata": {
            "tags": []
          },
          "execution_count": 474
        }
      ]
    },
    {
      "cell_type": "markdown",
      "metadata": {
        "id": "txrCKtfX45cv"
      },
      "source": [
        "Data Analysis"
      ]
    },
    {
      "cell_type": "code",
      "metadata": {
        "colab": {
          "base_uri": "https://localhost:8080/",
          "height": 708
        },
        "id": "pkkYaVBE49bJ",
        "outputId": "0e8882e5-50d8-40db-bd99-745fa7f6012e"
      },
      "source": [
        "SpearmanCorr = Dataset.corr(method=\"spearman\")\n",
        "plt.figure(figsize=(10,10))\n",
        "sns.heatmap(SpearmanCorr, vmax=.9, square=True);"
      ],
      "execution_count": 475,
      "outputs": [
        {
          "output_type": "display_data",
          "data": {
            "image/png": "[encoded data removed]",
            "text/plain": [
              "<Figure size 720x720 with 2 Axes>"
            ]
          },
          "metadata": {
            "tags": []
          }
        }
      ]
    },
    {
      "cell_type": "markdown",
      "metadata": {
        "id": "GU6rVkBPMtfM"
      },
      "source": [
        "Hierarchical clustering"
      ]
    },
    {
      "cell_type": "code",
      "metadata": {
        "id": "BC59VxjbGvVu"
      },
      "source": [
        "def plot_dendrogram(model, **kwargs):\n",
        "    # Create linkage matrix and then plot the dendrogram\n",
        "\n",
        "    # create the counts of samples under each node\n",
        "    counts = np.zeros(model.children_.shape[0])\n",
        "    n_samples = len(model.labels_)\n",
        "    for i, merge in enumerate(model.children_):\n",
        "        current_count = 0\n",
        "        for child_idx in merge:\n",
        "            if child_idx < n_samples:\n",
        "                current_count += 1  # leaf node\n",
        "            else:\n",
        "                current_count += counts[child_idx - n_samples]\n",
        "        counts[i] = current_count\n",
        "\n",
        "    linkage_matrix = np.column_stack([model.children_, model.distances_,\n",
        "                                      counts]).astype(float)\n",
        "\n",
        "    # Plot the corresponding dendrogram\n",
        "    dendrogram(linkage_matrix, **kwargs)"
      ],
      "execution_count": 476,
      "outputs": []
    },
    {
      "cell_type": "code",
      "metadata": {
        "colab": {
          "base_uri": "https://localhost:8080/",
          "height": 286
        },
        "id": "8p38hDAbGCbA",
        "outputId": "f9ffa7a8-85f6-4f0e-fdfd-b62abab67204"
      },
      "source": [
        "X = Dataset.values\n",
        "dendrogram = sch.dendrogram(sch.linkage(X, method='ward'), truncate_mode='level', p=4)"
      ],
      "execution_count": 477,
      "outputs": [
        {
          "output_type": "display_data",
          "data": {
            "image/png": "[encoded data removed]",
            "text/plain": [
              "<Figure size 432x288 with 1 Axes>"
            ]
          },
          "metadata": {
            "tags": []
          }
        }
      ]
    },
    {
      "cell_type": "code",
      "metadata": {
        "colab": {
          "base_uri": "https://localhost:8080/",
          "height": 391
        },
        "id": "3mwndIwFM66B",
        "outputId": "db5acda3-3fef-4647-c7ef-72c9ee540fdf"
      },
      "source": [
        "AWcluster = AgglomerativeClustering(n_clusters=6, affinity='euclidean', linkage='ward')\n",
        "AWcluster.fit(df_scale)\n",
        "AWlabels = AWcluster.labels_\n",
        "AWcluster_fit = AWcluster.fit(X)\n",
        "\n",
        "fig, ax = plt.subplots(nrows=1, ncols=1, figsize=(10,5), facecolor='w', edgecolor='k')\n",
        "ax = p3.Axes3D(fig)\n",
        "ax.view_init(15, 30)\n",
        "for l in np.unique(AWlabels):\n",
        "    ax.scatter(X[AWlabels == l, 0], X[AWlabels == l, 1], X[AWlabels == l, 2],color=plt.cm.jet(float(l) / np.max(AWlabels + 1)),s=20, edgecolor='k')\n",
        "plt.title('Hierarchical: Agglomerative Clustering with ward link' )\n",
        "\n",
        "plt.show()"
      ],
      "execution_count": 478,
      "outputs": [
        {
          "output_type": "display_data",
          "data": {
            "image/png": "[encoded data removed]",
            "text/plain": [
              "<Figure size 720x360 with 2 Axes>"
            ]
          },
          "metadata": {
            "tags": []
          }
        }
      ]
    },
    {
      "cell_type": "markdown",
      "metadata": {
        "id": "hkcfnH6GNe6C"
      },
      "source": [
        "K-means clustering"
      ]
    },
    {
      "cell_type": "code",
      "metadata": {
        "colab": {
          "base_uri": "https://localhost:8080/",
          "height": 304
        },
        "id": "jypePDpINf9Q",
        "outputId": "149bcc14-06df-4663-cc0a-78cac845c6b2"
      },
      "source": [
        "kmeans_kwargs = {\"init\": \"random\",\"n_init\": 10,\"max_iter\": 300,\"random_state\": 42,}\n",
        "\n",
        "# A list holds the SSE values for each k\n",
        "sse = []\n",
        "for k in range(1, 11):\n",
        "   kmeans = KMeans(n_clusters=k, **kmeans_kwargs)\n",
        "   kmeans.fit(df_scale)\n",
        "   sse.append(kmeans.inertia_)\n",
        "\n",
        "plt.style.use(\"fivethirtyeight\")\n",
        "plt.plot(range(1, 11), sse)\n",
        "plt.xticks(range(1, 11))\n",
        "plt.xlabel(\"Number of Clusters\")\n",
        "plt.ylabel(\"sum of squared error\")\n",
        "plt.show()"
      ],
      "execution_count": 479,
      "outputs": [
        {
          "output_type": "display_data",
          "data": {
            "image/png": "[encoded data removed]",
            "text/plain": [
              "<Figure size 432x288 with 1 Axes>"
            ]
          },
          "metadata": {
            "tags": []
          }
        }
      ]
    },
    {
      "cell_type": "code",
      "metadata": {
        "colab": {
          "base_uri": "https://localhost:8080/"
        },
        "id": "hqPP_NynOBnf",
        "outputId": "b22c77ce-bd14-4b79-ec5a-fcf4d52553f0"
      },
      "source": [
        "KMcluster = KMeans(init=\"random\",n_clusters=4,n_init=10,max_iter=300,random_state=42)\n",
        "KMcluster.fit(df_scale)\n",
        "print('The inertia equals to:' + format(KMcluster.inertia_))"
      ],
      "execution_count": 480,
      "outputs": [
        {
          "output_type": "stream",
          "text": [
            "The inertia equals to:854.9138336917443\n"
          ],
          "name": "stdout"
        }
      ]
    },
    {
      "cell_type": "code",
      "metadata": {
        "colab": {
          "base_uri": "https://localhost:8080/",
          "height": 391
        },
        "id": "ezOVKa3TOG_Y",
        "outputId": "3c522020-05b7-4c71-cc86-72f9d3512cf1"
      },
      "source": [
        "KMcluster_fit = KMcluster.fit(df_scale)\n",
        "KMlabels = KMcluster.labels_\n",
        "\n",
        "fig, ax = plt.subplots(nrows=1, ncols=1, figsize=(10,5), facecolor='w', edgecolor='k')\n",
        "ax = p3.Axes3D(fig)\n",
        "ax.view_init(15, 30)\n",
        "for l in np.unique(KMlabels):\n",
        "    ax.scatter(X[KMlabels == l, 0], X[KMlabels == l, 1], X[KMlabels == l, 2],color=plt.cm.jet(float(l) / np.max(KMlabels + 1)),s=20, edgecolor='k')\n",
        "plt.title('Centroid: k-means clustering' )\n",
        "\n",
        "plt.show()"
      ],
      "execution_count": 481,
      "outputs": [
        {
          "output_type": "display_data",
          "data": {
            "image/png": "[encoded data removed]",
            "text/plain": [
              "<Figure size 720x360 with 2 Axes>"
            ]
          },
          "metadata": {
            "tags": []
          }
        }
      ]
    },
    {
      "cell_type": "markdown",
      "metadata": {
        "id": "0iE1hJuKOQr7"
      },
      "source": [
        "Expectation-maximization algorithm"
      ]
    },
    {
      "cell_type": "code",
      "metadata": {
        "colab": {
          "base_uri": "https://localhost:8080/",
          "height": 307
        },
        "id": "PQfkvMDGORmY",
        "outputId": "65af2f4f-d7c0-49e2-c6c9-d97efc97721e"
      },
      "source": [
        "#Bayesian information criterion (BIC)\n",
        "# Akaike information criterion (AIC)\n",
        "Xmoon, ymoon = make_moons(200, noise=.05, random_state=0)\n",
        "\n",
        "GM_n_components = np.arange(1, 21)\n",
        "GM_models = [mixture.GaussianMixture(n, covariance_type='full', random_state=0).fit(Xmoon) for n in GM_n_components]\n",
        "\n",
        "plt.plot(GM_n_components, [m.bic(Xmoon) for m in GM_models], label='BIC')\n",
        "plt.plot(GM_n_components, [m.aic(Xmoon) for m in GM_models], label='AIC')\n",
        "plt.legend(loc='best')\n",
        "plt.xlabel('n_components');"
      ],
      "execution_count": 482,
      "outputs": [
        {
          "output_type": "display_data",
          "data": {
            "image/png": "[encoded data removed]",
            "text/plain": [
              "<Figure size 432x288 with 1 Axes>"
            ]
          },
          "metadata": {
            "tags": []
          }
        }
      ]
    },
    {
      "cell_type": "code",
      "metadata": {
        "colab": {
          "base_uri": "https://localhost:8080/"
        },
        "id": "u9ZXS-sVPHIs",
        "outputId": "f3fa771e-1cdc-4f93-a9c3-f8fcfbbda8e8"
      },
      "source": [
        "GM_n_classes = 6 #len(np.unique(df_scale))\n",
        "\n",
        "GMcluster = mixture.GaussianMixture(n_components=GM_n_classes, covariance_type='full')\n",
        "GMcluster_fit = GMcluster.fit(df_scale)\n",
        "GMlabels = GMcluster_fit.predict(df_scale)\n",
        "print('Number of clusters: ' + format(len(np.unique(GMlabels))))"
      ],
      "execution_count": 483,
      "outputs": [
        {
          "output_type": "stream",
          "text": [
            "Number of clusters: 6\n"
          ],
          "name": "stdout"
        }
      ]
    },
    {
      "cell_type": "code",
      "metadata": {
        "colab": {
          "base_uri": "https://localhost:8080/",
          "height": 391
        },
        "id": "OQhUzy5ZPNYu",
        "outputId": "66ec0553-f122-44ba-8417-9d08474fb309"
      },
      "source": [
        "fig, ax = plt.subplots(nrows=1, ncols=1, figsize=(10,5), facecolor='w', edgecolor='k')\n",
        "ax = p3.Axes3D(fig)\n",
        "ax.view_init(10, 30)\n",
        "for l in np.unique(GMlabels):\n",
        "    ax.scatter(X[GMlabels == l, 0], X[GMlabels == l, 1], X[GMlabels == l, 2],color=plt.cm.jet(float(l) / np.max(GMlabels + 1)),s=20, edgecolor='k')\n",
        "plt.title('Expectation-maximization algorithm for clustering' )\n",
        "\n",
        "plt.show()"
      ],
      "execution_count": 484,
      "outputs": [
        {
          "output_type": "display_data",
          "data": {
            "image/png": "[encoded data removed]",
            "text/plain": [
              "<Figure size 720x360 with 2 Axes>"
            ]
          },
          "metadata": {
            "tags": []
          }
        }
      ]
    },
    {
      "cell_type": "markdown",
      "metadata": {
        "id": "cxIhh_BnPXid"
      },
      "source": [
        "Density-based spatial clustering of applications with noise"
      ]
    },
    {
      "cell_type": "code",
      "metadata": {
        "id": "clAYSvNLPYai"
      },
      "source": [
        "DBcluster= DBSCAN(eps=0.3, min_samples=10)\n",
        "DBcluster_fit = DBcluster.fit(df_scale)\n",
        "core_samples_mask = np.zeros_like(DBcluster_fit.labels_, dtype=bool)\n",
        "core_samples_mask[DBcluster_fit.core_sample_indices_] = True\n",
        "DBlabels = DBcluster_fit.labels_"
      ],
      "execution_count": 485,
      "outputs": []
    },
    {
      "cell_type": "code",
      "metadata": {
        "colab": {
          "base_uri": "https://localhost:8080/"
        },
        "id": "_zh9iak3PdIK",
        "outputId": "22d0d8b4-5093-4a3a-afed-c5c5df791cfc"
      },
      "source": [
        "DB_n_clusters_ = len(set(DBlabels)) \n",
        "DB_n_noise_ = list(DBlabels).count(-1)\n",
        "print('Estimated number of clusters: %d' % DB_n_clusters_)\n",
        "print('Estimated number of noise points: %d' % DB_n_noise_)"
      ],
      "execution_count": 486,
      "outputs": [
        {
          "output_type": "stream",
          "text": [
            "Estimated number of clusters: 2\n",
            "Estimated number of noise points: 191\n"
          ],
          "name": "stdout"
        }
      ]
    },
    {
      "cell_type": "code",
      "metadata": {
        "colab": {
          "base_uri": "https://localhost:8080/",
          "height": 303
        },
        "id": "fVN6DUldPiFe",
        "outputId": "05d2eb58-20eb-4090-b1cd-190f1cd22495"
      },
      "source": [
        "unique_labels = set(DBlabels)\n",
        "colors = [plt.cm.Spectral(each)\n",
        "          for each in np.linspace(0, 1, len(unique_labels))]\n",
        "for k, col in zip(unique_labels, colors):\n",
        "    if k == -1:\n",
        "        # Black used for noise.\n",
        "        col = [1, 0, 0, 0]\n",
        "\n",
        "    class_member_mask = (DBlabels == k)\n",
        "\n",
        "    xy = X[class_member_mask & core_samples_mask]\n",
        "    plt.plot(xy[:, 0], xy[:, 1], 'o', markerfacecolor=tuple(col),\n",
        "             markeredgecolor='k', markersize=20)\n",
        "\n",
        "    xy = X[class_member_mask & ~core_samples_mask]\n",
        "    plt.plot(xy[:, 0], xy[:, 1], 'o', markerfacecolor=tuple(col),\n",
        "             markeredgecolor='k', markersize=2)\n",
        "\n",
        "plt.title('Density-based spatial clustering of applications with noise')\n",
        "plt.show()"
      ],
      "execution_count": 487,
      "outputs": [
        {
          "output_type": "display_data",
          "data": {
            "image/png": "[encoded data removed]",
            "text/plain": [
              "<Figure size 432x288 with 1 Axes>"
            ]
          },
          "metadata": {
            "tags": []
          }
        }
      ]
    },
    {
      "cell_type": "code",
      "metadata": {
        "colab": {
          "base_uri": "https://localhost:8080/",
          "height": 391
        },
        "id": "mxABRD77PoJe",
        "outputId": "12ce2786-7d7d-4530-8e94-5e4841af6e7d"
      },
      "source": [
        "fig, ax = plt.subplots(nrows=1, ncols=1, figsize=(10,5), facecolor='w', edgecolor='k')\n",
        "ax = p3.Axes3D(fig)\n",
        "ax.view_init(15, 30)\n",
        "for l in range(0,4):\n",
        "    ax.scatter(X[DBlabels == l, 0], X[DBlabels == l, 1], X[DBlabels == l, 2],color=plt.cm.jet(float(l) / np.max(DBlabels + 1)),s=50, edgecolor='k')\n",
        "plt.title('Density-based spatial clustering with noise removed' )\n",
        "\n",
        "plt.show()"
      ],
      "execution_count": 488,
      "outputs": [
        {
          "output_type": "display_data",
          "data": {
            "image/png": "[encoded data removed]",
            "text/plain": [
              "<Figure size 720x360 with 2 Axes>"
            ]
          },
          "metadata": {
            "tags": []
          }
        }
      ]
    },
    {
      "cell_type": "code",
      "metadata": {
        "colab": {
          "base_uri": "https://localhost:8080/"
        },
        "id": "PhMtR_h6RHVJ",
        "outputId": "a1bea88a-67e6-43f9-b0bd-bd9b49f217dc"
      },
      "source": [
        "KMunique, KMcounts = np.unique(KMlabels, return_counts=True)\n",
        "AWunique, AWcounts = np.unique(AWlabels, return_counts=True)\n",
        "AAunique, AAcounts = np.unique(AWlabels, return_counts=True)\n",
        "DBunique, DBcounts = np.unique(DBlabels, return_counts=True)\n",
        "GMunique, GMcounts = np.unique(GMlabels, return_counts=True)\n",
        "print('K-means distributed points: ' + format(dict(zip(KMunique, KMcounts))))\n",
        "print('Hierarchical ward link distributed points: ' + format(dict(zip(AWunique, AWcounts))))\n",
        "print('Hierarchical average link distributed points: ' + format(dict(zip(AAunique, AAcounts))))\n",
        "print('DBSCAN distributed points: ' + format(dict(zip(DBunique, DBcounts))))\n",
        "print('Gaussian Mixture distributed points: ' + format(dict(zip(GMunique, GMcounts))))"
      ],
      "execution_count": 489,
      "outputs": [
        {
          "output_type": "stream",
          "text": [
            "K-means distributed points: {0: 61, 1: 42, 2: 52, 3: 47}\n",
            "Hierarchical ward link distributed points: {0: 63, 1: 27, 2: 41, 3: 30, 4: 20, 5: 21}\n",
            "Hierarchical average link distributed points: {0: 63, 1: 27, 2: 41, 3: 30, 4: 20, 5: 21}\n",
            "DBSCAN distributed points: {-1: 191, 0: 11}\n",
            "Gaussian Mixture distributed points: {0: 28, 1: 41, 2: 44, 3: 50, 4: 26, 5: 13}\n"
          ],
          "name": "stdout"
        }
      ]
    }
  ]
}