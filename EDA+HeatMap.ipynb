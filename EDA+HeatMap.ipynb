{
  "nbformat": 4,
  "nbformat_minor": 0,
  "metadata": {
    "colab": {
      "name": "EDA+HeatMap.ipynb",
      "provenance": [],
      "collapsed_sections": [],
      "authorship_tag": "ABX9TyMzuwA/GUvdn2HfcLD9JShJ",
      "include_colab_link": true
    },
    "kernelspec": {
      "name": "python3",
      "display_name": "Python 3"
    },
    "language_info": {
      "name": "python"
    }
  },
  "cells": [
    {
      "cell_type": "markdown",
      "metadata": {
        "id": "view-in-github",
        "colab_type": "text"
      },
      "source": [
        "<a href=\"https://colab.research.google.com/github/pranali-kirolkar/MSCPROJECT/blob/main/EDA%2BHeatMap.ipynb\" target=\"_parent\"><img src=\"https://colab.research.google.com/assets/colab-badge.svg\" alt=\"Open In Colab\"/></a>"
      ]
    },
    {
      "cell_type": "code",
      "metadata": {
        "id": "JvFQ3zsl39Mg",
        "colab": {
          "base_uri": "https://localhost:8080/"
        },
        "outputId": "d5ba4bf7-d892-4149-d376-23797f960fb5"
      },
      "source": [
        "#importing Libraries\n",
        "\n",
        "import pandas as pd\n",
        "import matplotlib.pyplot as plt\n",
        "import numpy as np\n",
        "import seaborn as sns\n",
        "from sklearn.preprocessing import LabelEncoder\n",
        "num=LabelEncoder()\n",
        "print(\"Libraries loaded\")\n"
      ],
      "execution_count": 1,
      "outputs": [
        {
          "output_type": "stream",
          "text": [
            "Libraries loaded\n"
          ],
          "name": "stdout"
        }
      ]
    },
    {
      "cell_type": "code",
      "metadata": {
        "id": "XRujd6oV4K00"
      },
      "source": [
        "#Sales of Summer clothes Dataset\n",
        "Dataset = pd.read_csv('/content/SalesSummerClothes.csv') "
      ],
      "execution_count": 2,
      "outputs": []
    },
    {
      "cell_type": "code",
      "metadata": {
        "id": "_qn58v337k8v"
      },
      "source": [
        "#Dropanelement\n",
        "Dataset.drop('Timestamp',axis=1,inplace=True)"
      ],
      "execution_count": 3,
      "outputs": []
    },
    {
      "cell_type": "code",
      "metadata": {
        "id": "tHz5qTO82OPp"
      },
      "source": [
        "#Dropanelement\n",
        "Dataset.drop('Name',axis=1,inplace=True)"
      ],
      "execution_count": 4,
      "outputs": []
    },
    {
      "cell_type": "code",
      "metadata": {
        "colab": {
          "base_uri": "https://localhost:8080/",
          "height": 728
        },
        "id": "uj14JIPR7qyk",
        "outputId": "cc984173-3bbe-4e2f-c9cb-36c8a4359919"
      },
      "source": [
        "Dataset"
      ],
      "execution_count": 5,
      "outputs": [
        {
          "output_type": "execute_result",
          "data": {
            "text/html": [
              "<div>\n",
              "<style scoped>\n",
              "    .dataframe tbody tr th:only-of-type {\n",
              "        vertical-align: middle;\n",
              "    }\n",
              "\n",
              "    .dataframe tbody tr th {\n",
              "        vertical-align: top;\n",
              "    }\n",
              "\n",
              "    .dataframe thead th {\n",
              "        text-align: right;\n",
              "    }\n",
              "</style>\n",
              "<table border=\"1\" class=\"dataframe\">\n",
              "  <thead>\n",
              "    <tr style=\"text-align: right;\">\n",
              "      <th></th>\n",
              "      <th>Age</th>\n",
              "      <th>Buy_Clothes</th>\n",
              "      <th>Type_Clothes</th>\n",
              "      <th>Brand_Clothes</th>\n",
              "      <th>Price</th>\n",
              "      <th>time_prefer</th>\n",
              "      <th>prefer_purchasing</th>\n",
              "      <th>compare_prices</th>\n",
              "      <th>worst_experience</th>\n",
              "      <th>Rating</th>\n",
              "    </tr>\n",
              "  </thead>\n",
              "  <tbody>\n",
              "    <tr>\n",
              "      <th>0</th>\n",
              "      <td>18-25</td>\n",
              "      <td>Occasionally</td>\n",
              "      <td>Jeans,Women Dress,Ladies Tops</td>\n",
              "      <td>NIKE,Adidas</td>\n",
              "      <td>500-700</td>\n",
              "      <td>During the sales</td>\n",
              "      <td>Online</td>\n",
              "      <td>YES</td>\n",
              "      <td>No</td>\n",
              "      <td>4</td>\n",
              "    </tr>\n",
              "    <tr>\n",
              "      <th>1</th>\n",
              "      <td>18-25</td>\n",
              "      <td>Occasionally</td>\n",
              "      <td>T-shirt,Jeans</td>\n",
              "      <td>NIKE,Adidas,H&amp;M</td>\n",
              "      <td>700-1000</td>\n",
              "      <td>During the sales</td>\n",
              "      <td>Online</td>\n",
              "      <td>YES</td>\n",
              "      <td>Yes</td>\n",
              "      <td>3</td>\n",
              "    </tr>\n",
              "    <tr>\n",
              "      <th>2</th>\n",
              "      <td>18-25</td>\n",
              "      <td>Occasionally</td>\n",
              "      <td>T-shirt,Jeans,Women Dress,Casual Dress,Ladies ...</td>\n",
              "      <td>NIKE,Adidas,H&amp;M,ZARA</td>\n",
              "      <td>200-500</td>\n",
              "      <td>During the sales</td>\n",
              "      <td>By them in Store</td>\n",
              "      <td>YES</td>\n",
              "      <td>Yes</td>\n",
              "      <td>3</td>\n",
              "    </tr>\n",
              "    <tr>\n",
              "      <th>3</th>\n",
              "      <td>18-25</td>\n",
              "      <td>Occasionally</td>\n",
              "      <td>Women Dress</td>\n",
              "      <td>NIKE</td>\n",
              "      <td>500-700</td>\n",
              "      <td>During the sales</td>\n",
              "      <td>By them in Store</td>\n",
              "      <td>YES</td>\n",
              "      <td>Yes</td>\n",
              "      <td>4</td>\n",
              "    </tr>\n",
              "    <tr>\n",
              "      <th>4</th>\n",
              "      <td>18-25</td>\n",
              "      <td>Occasionally</td>\n",
              "      <td>Women Dress</td>\n",
              "      <td>Meesho</td>\n",
              "      <td>500-700</td>\n",
              "      <td>Without the sales (Off Season)</td>\n",
              "      <td>Online</td>\n",
              "      <td>YES</td>\n",
              "      <td>No</td>\n",
              "      <td>5</td>\n",
              "    </tr>\n",
              "    <tr>\n",
              "      <th>...</th>\n",
              "      <td>...</td>\n",
              "      <td>...</td>\n",
              "      <td>...</td>\n",
              "      <td>...</td>\n",
              "      <td>...</td>\n",
              "      <td>...</td>\n",
              "      <td>...</td>\n",
              "      <td>...</td>\n",
              "      <td>...</td>\n",
              "      <td>...</td>\n",
              "    </tr>\n",
              "    <tr>\n",
              "      <th>197</th>\n",
              "      <td>18-25</td>\n",
              "      <td>Occasionally</td>\n",
              "      <td>Casual Dress</td>\n",
              "      <td>H&amp;M</td>\n",
              "      <td>500-700</td>\n",
              "      <td>During the sales</td>\n",
              "      <td>By them in Store</td>\n",
              "      <td>YES</td>\n",
              "      <td>No</td>\n",
              "      <td>4</td>\n",
              "    </tr>\n",
              "    <tr>\n",
              "      <th>198</th>\n",
              "      <td>18-25</td>\n",
              "      <td>Regularly</td>\n",
              "      <td>Women Dress,Casual Dress,Ladies Tops</td>\n",
              "      <td>Adidas,H&amp;M</td>\n",
              "      <td>1000-above</td>\n",
              "      <td>During the sales</td>\n",
              "      <td>By them in Store</td>\n",
              "      <td>YES</td>\n",
              "      <td>No</td>\n",
              "      <td>4</td>\n",
              "    </tr>\n",
              "    <tr>\n",
              "      <th>199</th>\n",
              "      <td>18-25</td>\n",
              "      <td>Regularly</td>\n",
              "      <td>T-shirt,Jeans,Ladies Tops</td>\n",
              "      <td>Adidas</td>\n",
              "      <td>700-1000</td>\n",
              "      <td>During the sales</td>\n",
              "      <td>By them in Store</td>\n",
              "      <td>YES</td>\n",
              "      <td>No</td>\n",
              "      <td>4</td>\n",
              "    </tr>\n",
              "    <tr>\n",
              "      <th>200</th>\n",
              "      <td>18-25</td>\n",
              "      <td>Occasionally</td>\n",
              "      <td>T-shirt,Jeans</td>\n",
              "      <td>Adidas</td>\n",
              "      <td>700-1000</td>\n",
              "      <td>Without the sales (Off Season)</td>\n",
              "      <td>By them in Store</td>\n",
              "      <td>NO</td>\n",
              "      <td>No</td>\n",
              "      <td>4</td>\n",
              "    </tr>\n",
              "    <tr>\n",
              "      <th>201</th>\n",
              "      <td>35-50</td>\n",
              "      <td>Occasionally</td>\n",
              "      <td>Women Dress,Casual Dress</td>\n",
              "      <td>H&amp;M,ZARA</td>\n",
              "      <td>700-1000</td>\n",
              "      <td>During the sales</td>\n",
              "      <td>By them in Store</td>\n",
              "      <td>YES</td>\n",
              "      <td>Yes</td>\n",
              "      <td>4</td>\n",
              "    </tr>\n",
              "  </tbody>\n",
              "</table>\n",
              "<p>202 rows × 10 columns</p>\n",
              "</div>"
            ],
            "text/plain": [
              "       Age   Buy_Clothes  ... worst_experience Rating \n",
              "0    18-25  Occasionally  ...               No       4\n",
              "1    18-25  Occasionally  ...              Yes       3\n",
              "2    18-25  Occasionally  ...              Yes       3\n",
              "3    18-25  Occasionally  ...              Yes       4\n",
              "4    18-25  Occasionally  ...               No       5\n",
              "..     ...           ...  ...              ...     ...\n",
              "197  18-25  Occasionally  ...               No       4\n",
              "198  18-25     Regularly  ...               No       4\n",
              "199  18-25     Regularly  ...               No       4\n",
              "200  18-25  Occasionally  ...               No       4\n",
              "201  35-50  Occasionally  ...              Yes       4\n",
              "\n",
              "[202 rows x 10 columns]"
            ]
          },
          "metadata": {
            "tags": []
          },
          "execution_count": 5
        }
      ]
    },
    {
      "cell_type": "code",
      "metadata": {
        "colab": {
          "base_uri": "https://localhost:8080/",
          "height": 360
        },
        "id": "xIrTeg-04bmg",
        "outputId": "c8c4e002-fcc2-42bf-ba69-cc60f51e4d52"
      },
      "source": [
        "#showfirstfiveElements\n",
        "Dataset.head()"
      ],
      "execution_count": 6,
      "outputs": [
        {
          "output_type": "execute_result",
          "data": {
            "text/html": [
              "<div>\n",
              "<style scoped>\n",
              "    .dataframe tbody tr th:only-of-type {\n",
              "        vertical-align: middle;\n",
              "    }\n",
              "\n",
              "    .dataframe tbody tr th {\n",
              "        vertical-align: top;\n",
              "    }\n",
              "\n",
              "    .dataframe thead th {\n",
              "        text-align: right;\n",
              "    }\n",
              "</style>\n",
              "<table border=\"1\" class=\"dataframe\">\n",
              "  <thead>\n",
              "    <tr style=\"text-align: right;\">\n",
              "      <th></th>\n",
              "      <th>Age</th>\n",
              "      <th>Buy_Clothes</th>\n",
              "      <th>Type_Clothes</th>\n",
              "      <th>Brand_Clothes</th>\n",
              "      <th>Price</th>\n",
              "      <th>time_prefer</th>\n",
              "      <th>prefer_purchasing</th>\n",
              "      <th>compare_prices</th>\n",
              "      <th>worst_experience</th>\n",
              "      <th>Rating</th>\n",
              "    </tr>\n",
              "  </thead>\n",
              "  <tbody>\n",
              "    <tr>\n",
              "      <th>0</th>\n",
              "      <td>18-25</td>\n",
              "      <td>Occasionally</td>\n",
              "      <td>Jeans,Women Dress,Ladies Tops</td>\n",
              "      <td>NIKE,Adidas</td>\n",
              "      <td>500-700</td>\n",
              "      <td>During the sales</td>\n",
              "      <td>Online</td>\n",
              "      <td>YES</td>\n",
              "      <td>No</td>\n",
              "      <td>4</td>\n",
              "    </tr>\n",
              "    <tr>\n",
              "      <th>1</th>\n",
              "      <td>18-25</td>\n",
              "      <td>Occasionally</td>\n",
              "      <td>T-shirt,Jeans</td>\n",
              "      <td>NIKE,Adidas,H&amp;M</td>\n",
              "      <td>700-1000</td>\n",
              "      <td>During the sales</td>\n",
              "      <td>Online</td>\n",
              "      <td>YES</td>\n",
              "      <td>Yes</td>\n",
              "      <td>3</td>\n",
              "    </tr>\n",
              "    <tr>\n",
              "      <th>2</th>\n",
              "      <td>18-25</td>\n",
              "      <td>Occasionally</td>\n",
              "      <td>T-shirt,Jeans,Women Dress,Casual Dress,Ladies ...</td>\n",
              "      <td>NIKE,Adidas,H&amp;M,ZARA</td>\n",
              "      <td>200-500</td>\n",
              "      <td>During the sales</td>\n",
              "      <td>By them in Store</td>\n",
              "      <td>YES</td>\n",
              "      <td>Yes</td>\n",
              "      <td>3</td>\n",
              "    </tr>\n",
              "    <tr>\n",
              "      <th>3</th>\n",
              "      <td>18-25</td>\n",
              "      <td>Occasionally</td>\n",
              "      <td>Women Dress</td>\n",
              "      <td>NIKE</td>\n",
              "      <td>500-700</td>\n",
              "      <td>During the sales</td>\n",
              "      <td>By them in Store</td>\n",
              "      <td>YES</td>\n",
              "      <td>Yes</td>\n",
              "      <td>4</td>\n",
              "    </tr>\n",
              "    <tr>\n",
              "      <th>4</th>\n",
              "      <td>18-25</td>\n",
              "      <td>Occasionally</td>\n",
              "      <td>Women Dress</td>\n",
              "      <td>Meesho</td>\n",
              "      <td>500-700</td>\n",
              "      <td>Without the sales (Off Season)</td>\n",
              "      <td>Online</td>\n",
              "      <td>YES</td>\n",
              "      <td>No</td>\n",
              "      <td>5</td>\n",
              "    </tr>\n",
              "  </tbody>\n",
              "</table>\n",
              "</div>"
            ],
            "text/plain": [
              "     Age   Buy_Clothes  ... worst_experience Rating \n",
              "0  18-25  Occasionally  ...               No       4\n",
              "1  18-25  Occasionally  ...              Yes       3\n",
              "2  18-25  Occasionally  ...              Yes       3\n",
              "3  18-25  Occasionally  ...              Yes       4\n",
              "4  18-25  Occasionally  ...               No       5\n",
              "\n",
              "[5 rows x 10 columns]"
            ]
          },
          "metadata": {
            "tags": []
          },
          "execution_count": 6
        }
      ]
    },
    {
      "cell_type": "code",
      "metadata": {
        "colab": {
          "base_uri": "https://localhost:8080/",
          "height": 394
        },
        "id": "Jv_z2_Nh4eZm",
        "outputId": "e1bbf3ab-41f7-401b-bd1f-e1702c2d72b6"
      },
      "source": [
        "#ShowLastFiveElements\n",
        "Dataset.tail()"
      ],
      "execution_count": 7,
      "outputs": [
        {
          "output_type": "execute_result",
          "data": {
            "text/html": [
              "<div>\n",
              "<style scoped>\n",
              "    .dataframe tbody tr th:only-of-type {\n",
              "        vertical-align: middle;\n",
              "    }\n",
              "\n",
              "    .dataframe tbody tr th {\n",
              "        vertical-align: top;\n",
              "    }\n",
              "\n",
              "    .dataframe thead th {\n",
              "        text-align: right;\n",
              "    }\n",
              "</style>\n",
              "<table border=\"1\" class=\"dataframe\">\n",
              "  <thead>\n",
              "    <tr style=\"text-align: right;\">\n",
              "      <th></th>\n",
              "      <th>Age</th>\n",
              "      <th>Buy_Clothes</th>\n",
              "      <th>Type_Clothes</th>\n",
              "      <th>Brand_Clothes</th>\n",
              "      <th>Price</th>\n",
              "      <th>time_prefer</th>\n",
              "      <th>prefer_purchasing</th>\n",
              "      <th>compare_prices</th>\n",
              "      <th>worst_experience</th>\n",
              "      <th>Rating</th>\n",
              "    </tr>\n",
              "  </thead>\n",
              "  <tbody>\n",
              "    <tr>\n",
              "      <th>197</th>\n",
              "      <td>18-25</td>\n",
              "      <td>Occasionally</td>\n",
              "      <td>Casual Dress</td>\n",
              "      <td>H&amp;M</td>\n",
              "      <td>500-700</td>\n",
              "      <td>During the sales</td>\n",
              "      <td>By them in Store</td>\n",
              "      <td>YES</td>\n",
              "      <td>No</td>\n",
              "      <td>4</td>\n",
              "    </tr>\n",
              "    <tr>\n",
              "      <th>198</th>\n",
              "      <td>18-25</td>\n",
              "      <td>Regularly</td>\n",
              "      <td>Women Dress,Casual Dress,Ladies Tops</td>\n",
              "      <td>Adidas,H&amp;M</td>\n",
              "      <td>1000-above</td>\n",
              "      <td>During the sales</td>\n",
              "      <td>By them in Store</td>\n",
              "      <td>YES</td>\n",
              "      <td>No</td>\n",
              "      <td>4</td>\n",
              "    </tr>\n",
              "    <tr>\n",
              "      <th>199</th>\n",
              "      <td>18-25</td>\n",
              "      <td>Regularly</td>\n",
              "      <td>T-shirt,Jeans,Ladies Tops</td>\n",
              "      <td>Adidas</td>\n",
              "      <td>700-1000</td>\n",
              "      <td>During the sales</td>\n",
              "      <td>By them in Store</td>\n",
              "      <td>YES</td>\n",
              "      <td>No</td>\n",
              "      <td>4</td>\n",
              "    </tr>\n",
              "    <tr>\n",
              "      <th>200</th>\n",
              "      <td>18-25</td>\n",
              "      <td>Occasionally</td>\n",
              "      <td>T-shirt,Jeans</td>\n",
              "      <td>Adidas</td>\n",
              "      <td>700-1000</td>\n",
              "      <td>Without the sales (Off Season)</td>\n",
              "      <td>By them in Store</td>\n",
              "      <td>NO</td>\n",
              "      <td>No</td>\n",
              "      <td>4</td>\n",
              "    </tr>\n",
              "    <tr>\n",
              "      <th>201</th>\n",
              "      <td>35-50</td>\n",
              "      <td>Occasionally</td>\n",
              "      <td>Women Dress,Casual Dress</td>\n",
              "      <td>H&amp;M,ZARA</td>\n",
              "      <td>700-1000</td>\n",
              "      <td>During the sales</td>\n",
              "      <td>By them in Store</td>\n",
              "      <td>YES</td>\n",
              "      <td>Yes</td>\n",
              "      <td>4</td>\n",
              "    </tr>\n",
              "  </tbody>\n",
              "</table>\n",
              "</div>"
            ],
            "text/plain": [
              "       Age   Buy_Clothes  ... worst_experience Rating \n",
              "197  18-25  Occasionally  ...               No       4\n",
              "198  18-25     Regularly  ...               No       4\n",
              "199  18-25     Regularly  ...               No       4\n",
              "200  18-25  Occasionally  ...               No       4\n",
              "201  35-50  Occasionally  ...              Yes       4\n",
              "\n",
              "[5 rows x 10 columns]"
            ]
          },
          "metadata": {
            "tags": []
          },
          "execution_count": 7
        }
      ]
    },
    {
      "cell_type": "code",
      "metadata": {
        "colab": {
          "base_uri": "https://localhost:8080/"
        },
        "id": "x327CfsE4iFc",
        "outputId": "b456e00e-97ec-432c-b0d5-8e48d21538f5"
      },
      "source": [
        "#LengthDataset\n",
        "len(Dataset)"
      ],
      "execution_count": 8,
      "outputs": [
        {
          "output_type": "execute_result",
          "data": {
            "text/plain": [
              "202"
            ]
          },
          "metadata": {
            "tags": []
          },
          "execution_count": 8
        }
      ]
    },
    {
      "cell_type": "code",
      "metadata": {
        "colab": {
          "base_uri": "https://localhost:8080/"
        },
        "id": "lUFrIhNK4mqT",
        "outputId": "c61141c0-1533-48bd-a23d-e442b3a56c9d"
      },
      "source": [
        "#Size\n",
        "Dataset.shape"
      ],
      "execution_count": 9,
      "outputs": [
        {
          "output_type": "execute_result",
          "data": {
            "text/plain": [
              "(202, 10)"
            ]
          },
          "metadata": {
            "tags": []
          },
          "execution_count": 9
        }
      ]
    },
    {
      "cell_type": "code",
      "metadata": {
        "colab": {
          "base_uri": "https://localhost:8080/"
        },
        "id": "b7lyBwQD4rO9",
        "outputId": "ffe53a29-7e95-4261-fa43-0404504d1b8c"
      },
      "source": [
        "#DataTypeofDataset\n",
        "Dataset.dtypes"
      ],
      "execution_count": 10,
      "outputs": [
        {
          "output_type": "execute_result",
          "data": {
            "text/plain": [
              "Age                   object\n",
              "Buy_Clothes           object\n",
              "Type_Clothes          object\n",
              "Brand_Clothes         object\n",
              "Price                 object\n",
              "time_prefer           object\n",
              "prefer_purchasing     object\n",
              "compare_prices        object\n",
              "worst_experience      object\n",
              "Rating                 int64\n",
              "dtype: object"
            ]
          },
          "metadata": {
            "tags": []
          },
          "execution_count": 10
        }
      ]
    },
    {
      "cell_type": "code",
      "metadata": {
        "colab": {
          "base_uri": "https://localhost:8080/"
        },
        "id": "dxMjQB-T43fm",
        "outputId": "242e84c4-d14e-4d59-ad63-6e017655464a"
      },
      "source": [
        "#Information\n",
        "Dataset.info()"
      ],
      "execution_count": 11,
      "outputs": [
        {
          "output_type": "stream",
          "text": [
            "<class 'pandas.core.frame.DataFrame'>\n",
            "RangeIndex: 202 entries, 0 to 201\n",
            "Data columns (total 10 columns):\n",
            " #   Column              Non-Null Count  Dtype \n",
            "---  ------              --------------  ----- \n",
            " 0   Age                 202 non-null    object\n",
            " 1   Buy_Clothes         202 non-null    object\n",
            " 2   Type_Clothes        202 non-null    object\n",
            " 3   Brand_Clothes       202 non-null    object\n",
            " 4   Price               202 non-null    object\n",
            " 5   time_prefer         202 non-null    object\n",
            " 6   prefer_purchasing   202 non-null    object\n",
            " 7   compare_prices      202 non-null    object\n",
            " 8   worst_experience    202 non-null    object\n",
            " 9   Rating              202 non-null    int64 \n",
            "dtypes: int64(1), object(9)\n",
            "memory usage: 15.9+ KB\n"
          ],
          "name": "stdout"
        }
      ]
    },
    {
      "cell_type": "code",
      "metadata": {
        "colab": {
          "base_uri": "https://localhost:8080/"
        },
        "id": "T2YE7DW29tX8",
        "outputId": "826b24d6-7d65-4fb9-aaa9-a0e8b594724b"
      },
      "source": [
        "#AgeDatasetValue\n",
        "Dataset['Age']"
      ],
      "execution_count": 12,
      "outputs": [
        {
          "output_type": "execute_result",
          "data": {
            "text/plain": [
              "0      18-25\n",
              "1      18-25\n",
              "2      18-25\n",
              "3      18-25\n",
              "4      18-25\n",
              "       ...  \n",
              "197    18-25\n",
              "198    18-25\n",
              "199    18-25\n",
              "200    18-25\n",
              "201    35-50\n",
              "Name: Age, Length: 202, dtype: object"
            ]
          },
          "metadata": {
            "tags": []
          },
          "execution_count": 12
        }
      ]
    },
    {
      "cell_type": "code",
      "metadata": {
        "colab": {
          "base_uri": "https://localhost:8080/"
        },
        "id": "kXMOiL4C9zys",
        "outputId": "8b9a7fdb-bf1f-4435-a0a4-70ed0117a8d3"
      },
      "source": [
        "Dataset[\"Age\"].value_counts()"
      ],
      "execution_count": 13,
      "outputs": [
        {
          "output_type": "execute_result",
          "data": {
            "text/plain": [
              "18-25         162\n",
              "25-35          27\n",
              "35-50          12\n",
              "50 - above      1\n",
              "Name: Age, dtype: int64"
            ]
          },
          "metadata": {
            "tags": []
          },
          "execution_count": 13
        }
      ]
    },
    {
      "cell_type": "code",
      "metadata": {
        "colab": {
          "base_uri": "https://localhost:8080/"
        },
        "id": "tes6zbKr97np",
        "outputId": "82eb951b-11b0-4fb0-b5a4-5d7938dd7ddc"
      },
      "source": [
        "Dataset['Age'].isnull().values.any()"
      ],
      "execution_count": 14,
      "outputs": [
        {
          "output_type": "execute_result",
          "data": {
            "text/plain": [
              "False"
            ]
          },
          "metadata": {
            "tags": []
          },
          "execution_count": 14
        }
      ]
    },
    {
      "cell_type": "code",
      "metadata": {
        "colab": {
          "base_uri": "https://localhost:8080/",
          "height": 728
        },
        "id": "YKhzEB44-HJB",
        "outputId": "220b6c57-9eeb-4854-c427-e107a668a982"
      },
      "source": [
        "values = Dataset.values\n",
        "Dataset"
      ],
      "execution_count": 15,
      "outputs": [
        {
          "output_type": "execute_result",
          "data": {
            "text/html": [
              "<div>\n",
              "<style scoped>\n",
              "    .dataframe tbody tr th:only-of-type {\n",
              "        vertical-align: middle;\n",
              "    }\n",
              "\n",
              "    .dataframe tbody tr th {\n",
              "        vertical-align: top;\n",
              "    }\n",
              "\n",
              "    .dataframe thead th {\n",
              "        text-align: right;\n",
              "    }\n",
              "</style>\n",
              "<table border=\"1\" class=\"dataframe\">\n",
              "  <thead>\n",
              "    <tr style=\"text-align: right;\">\n",
              "      <th></th>\n",
              "      <th>Age</th>\n",
              "      <th>Buy_Clothes</th>\n",
              "      <th>Type_Clothes</th>\n",
              "      <th>Brand_Clothes</th>\n",
              "      <th>Price</th>\n",
              "      <th>time_prefer</th>\n",
              "      <th>prefer_purchasing</th>\n",
              "      <th>compare_prices</th>\n",
              "      <th>worst_experience</th>\n",
              "      <th>Rating</th>\n",
              "    </tr>\n",
              "  </thead>\n",
              "  <tbody>\n",
              "    <tr>\n",
              "      <th>0</th>\n",
              "      <td>18-25</td>\n",
              "      <td>Occasionally</td>\n",
              "      <td>Jeans,Women Dress,Ladies Tops</td>\n",
              "      <td>NIKE,Adidas</td>\n",
              "      <td>500-700</td>\n",
              "      <td>During the sales</td>\n",
              "      <td>Online</td>\n",
              "      <td>YES</td>\n",
              "      <td>No</td>\n",
              "      <td>4</td>\n",
              "    </tr>\n",
              "    <tr>\n",
              "      <th>1</th>\n",
              "      <td>18-25</td>\n",
              "      <td>Occasionally</td>\n",
              "      <td>T-shirt,Jeans</td>\n",
              "      <td>NIKE,Adidas,H&amp;M</td>\n",
              "      <td>700-1000</td>\n",
              "      <td>During the sales</td>\n",
              "      <td>Online</td>\n",
              "      <td>YES</td>\n",
              "      <td>Yes</td>\n",
              "      <td>3</td>\n",
              "    </tr>\n",
              "    <tr>\n",
              "      <th>2</th>\n",
              "      <td>18-25</td>\n",
              "      <td>Occasionally</td>\n",
              "      <td>T-shirt,Jeans,Women Dress,Casual Dress,Ladies ...</td>\n",
              "      <td>NIKE,Adidas,H&amp;M,ZARA</td>\n",
              "      <td>200-500</td>\n",
              "      <td>During the sales</td>\n",
              "      <td>By them in Store</td>\n",
              "      <td>YES</td>\n",
              "      <td>Yes</td>\n",
              "      <td>3</td>\n",
              "    </tr>\n",
              "    <tr>\n",
              "      <th>3</th>\n",
              "      <td>18-25</td>\n",
              "      <td>Occasionally</td>\n",
              "      <td>Women Dress</td>\n",
              "      <td>NIKE</td>\n",
              "      <td>500-700</td>\n",
              "      <td>During the sales</td>\n",
              "      <td>By them in Store</td>\n",
              "      <td>YES</td>\n",
              "      <td>Yes</td>\n",
              "      <td>4</td>\n",
              "    </tr>\n",
              "    <tr>\n",
              "      <th>4</th>\n",
              "      <td>18-25</td>\n",
              "      <td>Occasionally</td>\n",
              "      <td>Women Dress</td>\n",
              "      <td>Meesho</td>\n",
              "      <td>500-700</td>\n",
              "      <td>Without the sales (Off Season)</td>\n",
              "      <td>Online</td>\n",
              "      <td>YES</td>\n",
              "      <td>No</td>\n",
              "      <td>5</td>\n",
              "    </tr>\n",
              "    <tr>\n",
              "      <th>...</th>\n",
              "      <td>...</td>\n",
              "      <td>...</td>\n",
              "      <td>...</td>\n",
              "      <td>...</td>\n",
              "      <td>...</td>\n",
              "      <td>...</td>\n",
              "      <td>...</td>\n",
              "      <td>...</td>\n",
              "      <td>...</td>\n",
              "      <td>...</td>\n",
              "    </tr>\n",
              "    <tr>\n",
              "      <th>197</th>\n",
              "      <td>18-25</td>\n",
              "      <td>Occasionally</td>\n",
              "      <td>Casual Dress</td>\n",
              "      <td>H&amp;M</td>\n",
              "      <td>500-700</td>\n",
              "      <td>During the sales</td>\n",
              "      <td>By them in Store</td>\n",
              "      <td>YES</td>\n",
              "      <td>No</td>\n",
              "      <td>4</td>\n",
              "    </tr>\n",
              "    <tr>\n",
              "      <th>198</th>\n",
              "      <td>18-25</td>\n",
              "      <td>Regularly</td>\n",
              "      <td>Women Dress,Casual Dress,Ladies Tops</td>\n",
              "      <td>Adidas,H&amp;M</td>\n",
              "      <td>1000-above</td>\n",
              "      <td>During the sales</td>\n",
              "      <td>By them in Store</td>\n",
              "      <td>YES</td>\n",
              "      <td>No</td>\n",
              "      <td>4</td>\n",
              "    </tr>\n",
              "    <tr>\n",
              "      <th>199</th>\n",
              "      <td>18-25</td>\n",
              "      <td>Regularly</td>\n",
              "      <td>T-shirt,Jeans,Ladies Tops</td>\n",
              "      <td>Adidas</td>\n",
              "      <td>700-1000</td>\n",
              "      <td>During the sales</td>\n",
              "      <td>By them in Store</td>\n",
              "      <td>YES</td>\n",
              "      <td>No</td>\n",
              "      <td>4</td>\n",
              "    </tr>\n",
              "    <tr>\n",
              "      <th>200</th>\n",
              "      <td>18-25</td>\n",
              "      <td>Occasionally</td>\n",
              "      <td>T-shirt,Jeans</td>\n",
              "      <td>Adidas</td>\n",
              "      <td>700-1000</td>\n",
              "      <td>Without the sales (Off Season)</td>\n",
              "      <td>By them in Store</td>\n",
              "      <td>NO</td>\n",
              "      <td>No</td>\n",
              "      <td>4</td>\n",
              "    </tr>\n",
              "    <tr>\n",
              "      <th>201</th>\n",
              "      <td>35-50</td>\n",
              "      <td>Occasionally</td>\n",
              "      <td>Women Dress,Casual Dress</td>\n",
              "      <td>H&amp;M,ZARA</td>\n",
              "      <td>700-1000</td>\n",
              "      <td>During the sales</td>\n",
              "      <td>By them in Store</td>\n",
              "      <td>YES</td>\n",
              "      <td>Yes</td>\n",
              "      <td>4</td>\n",
              "    </tr>\n",
              "  </tbody>\n",
              "</table>\n",
              "<p>202 rows × 10 columns</p>\n",
              "</div>"
            ],
            "text/plain": [
              "       Age   Buy_Clothes  ... worst_experience Rating \n",
              "0    18-25  Occasionally  ...               No       4\n",
              "1    18-25  Occasionally  ...              Yes       3\n",
              "2    18-25  Occasionally  ...              Yes       3\n",
              "3    18-25  Occasionally  ...              Yes       4\n",
              "4    18-25  Occasionally  ...               No       5\n",
              "..     ...           ...  ...              ...     ...\n",
              "197  18-25  Occasionally  ...               No       4\n",
              "198  18-25     Regularly  ...               No       4\n",
              "199  18-25     Regularly  ...               No       4\n",
              "200  18-25  Occasionally  ...               No       4\n",
              "201  35-50  Occasionally  ...              Yes       4\n",
              "\n",
              "[202 rows x 10 columns]"
            ]
          },
          "metadata": {
            "tags": []
          },
          "execution_count": 15
        }
      ]
    },
    {
      "cell_type": "code",
      "metadata": {
        "colab": {
          "base_uri": "https://localhost:8080/"
        },
        "id": "HB4tFnfO-UL_",
        "outputId": "35a5b5bb-d81c-4136-9968-e3b8a6d9a787"
      },
      "source": [
        "Dataset.Age.head(10)"
      ],
      "execution_count": 16,
      "outputs": [
        {
          "output_type": "execute_result",
          "data": {
            "text/plain": [
              "0    18-25\n",
              "1    18-25\n",
              "2    18-25\n",
              "3    18-25\n",
              "4    18-25\n",
              "5    18-25\n",
              "6    18-25\n",
              "7    25-35\n",
              "8    18-25\n",
              "9    18-25\n",
              "Name: Age, dtype: object"
            ]
          },
          "metadata": {
            "tags": []
          },
          "execution_count": 16
        }
      ]
    },
    {
      "cell_type": "code",
      "metadata": {
        "colab": {
          "base_uri": "https://localhost:8080/"
        },
        "id": "Km57NDmz-fee",
        "outputId": "a82230fd-f79b-42b5-d728-ae05cc1faac6"
      },
      "source": [
        "Dataset.dropna(axis=0,how='any').shape"
      ],
      "execution_count": 17,
      "outputs": [
        {
          "output_type": "execute_result",
          "data": {
            "text/plain": [
              "(202, 10)"
            ]
          },
          "metadata": {
            "tags": []
          },
          "execution_count": 17
        }
      ]
    },
    {
      "cell_type": "code",
      "metadata": {
        "id": "M4J9EAy2-kdS"
      },
      "source": [
        "Dataset.dropna(axis=0,how='any',inplace=True)"
      ],
      "execution_count": 18,
      "outputs": []
    },
    {
      "cell_type": "code",
      "metadata": {
        "id": "LmI1reGj-qXZ"
      },
      "source": [
        "Dataset['Age'] = Dataset['Age'].replace(['all'],'18-25')"
      ],
      "execution_count": 19,
      "outputs": []
    },
    {
      "cell_type": "code",
      "metadata": {
        "colab": {
          "base_uri": "https://localhost:8080/",
          "height": 728
        },
        "id": "174SPIKx-u-k",
        "outputId": "f975d189-47ac-4192-bf04-409ae4f0887b"
      },
      "source": [
        "Dataset"
      ],
      "execution_count": 20,
      "outputs": [
        {
          "output_type": "execute_result",
          "data": {
            "text/html": [
              "<div>\n",
              "<style scoped>\n",
              "    .dataframe tbody tr th:only-of-type {\n",
              "        vertical-align: middle;\n",
              "    }\n",
              "\n",
              "    .dataframe tbody tr th {\n",
              "        vertical-align: top;\n",
              "    }\n",
              "\n",
              "    .dataframe thead th {\n",
              "        text-align: right;\n",
              "    }\n",
              "</style>\n",
              "<table border=\"1\" class=\"dataframe\">\n",
              "  <thead>\n",
              "    <tr style=\"text-align: right;\">\n",
              "      <th></th>\n",
              "      <th>Age</th>\n",
              "      <th>Buy_Clothes</th>\n",
              "      <th>Type_Clothes</th>\n",
              "      <th>Brand_Clothes</th>\n",
              "      <th>Price</th>\n",
              "      <th>time_prefer</th>\n",
              "      <th>prefer_purchasing</th>\n",
              "      <th>compare_prices</th>\n",
              "      <th>worst_experience</th>\n",
              "      <th>Rating</th>\n",
              "    </tr>\n",
              "  </thead>\n",
              "  <tbody>\n",
              "    <tr>\n",
              "      <th>0</th>\n",
              "      <td>18-25</td>\n",
              "      <td>Occasionally</td>\n",
              "      <td>Jeans,Women Dress,Ladies Tops</td>\n",
              "      <td>NIKE,Adidas</td>\n",
              "      <td>500-700</td>\n",
              "      <td>During the sales</td>\n",
              "      <td>Online</td>\n",
              "      <td>YES</td>\n",
              "      <td>No</td>\n",
              "      <td>4</td>\n",
              "    </tr>\n",
              "    <tr>\n",
              "      <th>1</th>\n",
              "      <td>18-25</td>\n",
              "      <td>Occasionally</td>\n",
              "      <td>T-shirt,Jeans</td>\n",
              "      <td>NIKE,Adidas,H&amp;M</td>\n",
              "      <td>700-1000</td>\n",
              "      <td>During the sales</td>\n",
              "      <td>Online</td>\n",
              "      <td>YES</td>\n",
              "      <td>Yes</td>\n",
              "      <td>3</td>\n",
              "    </tr>\n",
              "    <tr>\n",
              "      <th>2</th>\n",
              "      <td>18-25</td>\n",
              "      <td>Occasionally</td>\n",
              "      <td>T-shirt,Jeans,Women Dress,Casual Dress,Ladies ...</td>\n",
              "      <td>NIKE,Adidas,H&amp;M,ZARA</td>\n",
              "      <td>200-500</td>\n",
              "      <td>During the sales</td>\n",
              "      <td>By them in Store</td>\n",
              "      <td>YES</td>\n",
              "      <td>Yes</td>\n",
              "      <td>3</td>\n",
              "    </tr>\n",
              "    <tr>\n",
              "      <th>3</th>\n",
              "      <td>18-25</td>\n",
              "      <td>Occasionally</td>\n",
              "      <td>Women Dress</td>\n",
              "      <td>NIKE</td>\n",
              "      <td>500-700</td>\n",
              "      <td>During the sales</td>\n",
              "      <td>By them in Store</td>\n",
              "      <td>YES</td>\n",
              "      <td>Yes</td>\n",
              "      <td>4</td>\n",
              "    </tr>\n",
              "    <tr>\n",
              "      <th>4</th>\n",
              "      <td>18-25</td>\n",
              "      <td>Occasionally</td>\n",
              "      <td>Women Dress</td>\n",
              "      <td>Meesho</td>\n",
              "      <td>500-700</td>\n",
              "      <td>Without the sales (Off Season)</td>\n",
              "      <td>Online</td>\n",
              "      <td>YES</td>\n",
              "      <td>No</td>\n",
              "      <td>5</td>\n",
              "    </tr>\n",
              "    <tr>\n",
              "      <th>...</th>\n",
              "      <td>...</td>\n",
              "      <td>...</td>\n",
              "      <td>...</td>\n",
              "      <td>...</td>\n",
              "      <td>...</td>\n",
              "      <td>...</td>\n",
              "      <td>...</td>\n",
              "      <td>...</td>\n",
              "      <td>...</td>\n",
              "      <td>...</td>\n",
              "    </tr>\n",
              "    <tr>\n",
              "      <th>197</th>\n",
              "      <td>18-25</td>\n",
              "      <td>Occasionally</td>\n",
              "      <td>Casual Dress</td>\n",
              "      <td>H&amp;M</td>\n",
              "      <td>500-700</td>\n",
              "      <td>During the sales</td>\n",
              "      <td>By them in Store</td>\n",
              "      <td>YES</td>\n",
              "      <td>No</td>\n",
              "      <td>4</td>\n",
              "    </tr>\n",
              "    <tr>\n",
              "      <th>198</th>\n",
              "      <td>18-25</td>\n",
              "      <td>Regularly</td>\n",
              "      <td>Women Dress,Casual Dress,Ladies Tops</td>\n",
              "      <td>Adidas,H&amp;M</td>\n",
              "      <td>1000-above</td>\n",
              "      <td>During the sales</td>\n",
              "      <td>By them in Store</td>\n",
              "      <td>YES</td>\n",
              "      <td>No</td>\n",
              "      <td>4</td>\n",
              "    </tr>\n",
              "    <tr>\n",
              "      <th>199</th>\n",
              "      <td>18-25</td>\n",
              "      <td>Regularly</td>\n",
              "      <td>T-shirt,Jeans,Ladies Tops</td>\n",
              "      <td>Adidas</td>\n",
              "      <td>700-1000</td>\n",
              "      <td>During the sales</td>\n",
              "      <td>By them in Store</td>\n",
              "      <td>YES</td>\n",
              "      <td>No</td>\n",
              "      <td>4</td>\n",
              "    </tr>\n",
              "    <tr>\n",
              "      <th>200</th>\n",
              "      <td>18-25</td>\n",
              "      <td>Occasionally</td>\n",
              "      <td>T-shirt,Jeans</td>\n",
              "      <td>Adidas</td>\n",
              "      <td>700-1000</td>\n",
              "      <td>Without the sales (Off Season)</td>\n",
              "      <td>By them in Store</td>\n",
              "      <td>NO</td>\n",
              "      <td>No</td>\n",
              "      <td>4</td>\n",
              "    </tr>\n",
              "    <tr>\n",
              "      <th>201</th>\n",
              "      <td>35-50</td>\n",
              "      <td>Occasionally</td>\n",
              "      <td>Women Dress,Casual Dress</td>\n",
              "      <td>H&amp;M,ZARA</td>\n",
              "      <td>700-1000</td>\n",
              "      <td>During the sales</td>\n",
              "      <td>By them in Store</td>\n",
              "      <td>YES</td>\n",
              "      <td>Yes</td>\n",
              "      <td>4</td>\n",
              "    </tr>\n",
              "  </tbody>\n",
              "</table>\n",
              "<p>202 rows × 10 columns</p>\n",
              "</div>"
            ],
            "text/plain": [
              "       Age   Buy_Clothes  ... worst_experience Rating \n",
              "0    18-25  Occasionally  ...               No       4\n",
              "1    18-25  Occasionally  ...              Yes       3\n",
              "2    18-25  Occasionally  ...              Yes       3\n",
              "3    18-25  Occasionally  ...              Yes       4\n",
              "4    18-25  Occasionally  ...               No       5\n",
              "..     ...           ...  ...              ...     ...\n",
              "197  18-25  Occasionally  ...               No       4\n",
              "198  18-25     Regularly  ...               No       4\n",
              "199  18-25     Regularly  ...               No       4\n",
              "200  18-25  Occasionally  ...               No       4\n",
              "201  35-50  Occasionally  ...              Yes       4\n",
              "\n",
              "[202 rows x 10 columns]"
            ]
          },
          "metadata": {
            "tags": []
          },
          "execution_count": 20
        }
      ]
    },
    {
      "cell_type": "code",
      "metadata": {
        "colab": {
          "base_uri": "https://localhost:8080/"
        },
        "id": "vo3iKRee-3Ms",
        "outputId": "884cc134-6f93-4716-e2a5-11e5dbf4962f"
      },
      "source": [
        "Dataset.dropna(subset=['Age'],how='all').shape"
      ],
      "execution_count": 21,
      "outputs": [
        {
          "output_type": "execute_result",
          "data": {
            "text/plain": [
              "(202, 10)"
            ]
          },
          "metadata": {
            "tags": []
          },
          "execution_count": 21
        }
      ]
    },
    {
      "cell_type": "code",
      "metadata": {
        "colab": {
          "base_uri": "https://localhost:8080/"
        },
        "id": "hdXPB4TT-9g5",
        "outputId": "fcdbad5d-dce8-4155-aeb5-5bf2dcd6b52a"
      },
      "source": [
        "Dataset['Age'].fillna(value='18-25')"
      ],
      "execution_count": 22,
      "outputs": [
        {
          "output_type": "execute_result",
          "data": {
            "text/plain": [
              "0      18-25\n",
              "1      18-25\n",
              "2      18-25\n",
              "3      18-25\n",
              "4      18-25\n",
              "       ...  \n",
              "197    18-25\n",
              "198    18-25\n",
              "199    18-25\n",
              "200    18-25\n",
              "201    35-50\n",
              "Name: Age, Length: 202, dtype: object"
            ]
          },
          "metadata": {
            "tags": []
          },
          "execution_count": 22
        }
      ]
    },
    {
      "cell_type": "code",
      "metadata": {
        "colab": {
          "base_uri": "https://localhost:8080/"
        },
        "id": "td5_1sqr_PRf",
        "outputId": "4e6d46bb-6877-4589-b721-5610249cbd1e"
      },
      "source": [
        "Dataset['Age'].unique()"
      ],
      "execution_count": 23,
      "outputs": [
        {
          "output_type": "execute_result",
          "data": {
            "text/plain": [
              "array(['18-25', '25-35', '35-50', '50 - above'], dtype=object)"
            ]
          },
          "metadata": {
            "tags": []
          },
          "execution_count": 23
        }
      ]
    },
    {
      "cell_type": "code",
      "metadata": {
        "colab": {
          "base_uri": "https://localhost:8080/"
        },
        "id": "2yGuFn84Azho",
        "outputId": "cbb20ea9-68dd-4538-fa47-768fb0a34ac4"
      },
      "source": [
        "Dataset.columns"
      ],
      "execution_count": 24,
      "outputs": [
        {
          "output_type": "execute_result",
          "data": {
            "text/plain": [
              "Index(['Age', 'Buy_Clothes', 'Type_Clothes', 'Brand_Clothes', 'Price',\n",
              "       'time_prefer ', 'prefer_purchasing ', 'compare_prices ',\n",
              "       'worst_experience', 'Rating '],\n",
              "      dtype='object')"
            ]
          },
          "metadata": {
            "tags": []
          },
          "execution_count": 24
        }
      ]
    },
    {
      "cell_type": "markdown",
      "metadata": {
        "id": "N92MDZeY6NhC"
      },
      "source": [
        "Converting categorical data into integer\n"
      ]
    },
    {
      "cell_type": "code",
      "metadata": {
        "id": "uDw_z-1WyutY"
      },
      "source": [
        "Dataset['Age']=num.fit_transform(Dataset['Age']).astype('int')\n",
        "Dataset['Buy_Clothes']=num.fit_transform(Dataset['Buy_Clothes']).astype('int')\n",
        "Dataset['Type_Clothes']=num.fit_transform(Dataset['Type_Clothes']).astype('int')\n",
        "Dataset['Brand_Clothes']=num.fit_transform(Dataset['Brand_Clothes']).astype('int')\n",
        "Dataset['Price']=num.fit_transform(Dataset['Price']).astype('int')\n",
        "Dataset['time_prefer ']=num.fit_transform(Dataset['time_prefer ']).astype('int')\n",
        "Dataset['prefer_purchasing ']=num.fit_transform(Dataset['prefer_purchasing ']).astype('int')\n",
        "Dataset['compare_prices ']=num.fit_transform(Dataset['compare_prices ']).astype('int')\n",
        "Dataset['worst_experience']=num.fit_transform(Dataset['worst_experience']).astype('int')\n",
        "Dataset['Rating ']=num.fit_transform(Dataset['Rating ']).astype('int')"
      ],
      "execution_count": 25,
      "outputs": []
    },
    {
      "cell_type": "code",
      "metadata": {
        "colab": {
          "base_uri": "https://localhost:8080/",
          "height": 439
        },
        "id": "XugC_NZkyydl",
        "outputId": "dffaa8bc-b975-4127-fd62-3e182cba7ab9"
      },
      "source": [
        "Dataset"
      ],
      "execution_count": 26,
      "outputs": [
        {
          "output_type": "execute_result",
          "data": {
            "text/html": [
              "<div>\n",
              "<style scoped>\n",
              "    .dataframe tbody tr th:only-of-type {\n",
              "        vertical-align: middle;\n",
              "    }\n",
              "\n",
              "    .dataframe tbody tr th {\n",
              "        vertical-align: top;\n",
              "    }\n",
              "\n",
              "    .dataframe thead th {\n",
              "        text-align: right;\n",
              "    }\n",
              "</style>\n",
              "<table border=\"1\" class=\"dataframe\">\n",
              "  <thead>\n",
              "    <tr style=\"text-align: right;\">\n",
              "      <th></th>\n",
              "      <th>Age</th>\n",
              "      <th>Buy_Clothes</th>\n",
              "      <th>Type_Clothes</th>\n",
              "      <th>Brand_Clothes</th>\n",
              "      <th>Price</th>\n",
              "      <th>time_prefer</th>\n",
              "      <th>prefer_purchasing</th>\n",
              "      <th>compare_prices</th>\n",
              "      <th>worst_experience</th>\n",
              "      <th>Rating</th>\n",
              "    </tr>\n",
              "  </thead>\n",
              "  <tbody>\n",
              "    <tr>\n",
              "      <th>0</th>\n",
              "      <td>0</td>\n",
              "      <td>0</td>\n",
              "      <td>8</td>\n",
              "      <td>23</td>\n",
              "      <td>2</td>\n",
              "      <td>0</td>\n",
              "      <td>1</td>\n",
              "      <td>1</td>\n",
              "      <td>0</td>\n",
              "      <td>3</td>\n",
              "    </tr>\n",
              "    <tr>\n",
              "      <th>1</th>\n",
              "      <td>0</td>\n",
              "      <td>0</td>\n",
              "      <td>13</td>\n",
              "      <td>24</td>\n",
              "      <td>3</td>\n",
              "      <td>0</td>\n",
              "      <td>1</td>\n",
              "      <td>1</td>\n",
              "      <td>1</td>\n",
              "      <td>2</td>\n",
              "    </tr>\n",
              "    <tr>\n",
              "      <th>2</th>\n",
              "      <td>0</td>\n",
              "      <td>0</td>\n",
              "      <td>19</td>\n",
              "      <td>26</td>\n",
              "      <td>1</td>\n",
              "      <td>0</td>\n",
              "      <td>0</td>\n",
              "      <td>1</td>\n",
              "      <td>1</td>\n",
              "      <td>2</td>\n",
              "    </tr>\n",
              "    <tr>\n",
              "      <th>3</th>\n",
              "      <td>0</td>\n",
              "      <td>0</td>\n",
              "      <td>25</td>\n",
              "      <td>22</td>\n",
              "      <td>2</td>\n",
              "      <td>0</td>\n",
              "      <td>0</td>\n",
              "      <td>1</td>\n",
              "      <td>1</td>\n",
              "      <td>3</td>\n",
              "    </tr>\n",
              "    <tr>\n",
              "      <th>4</th>\n",
              "      <td>0</td>\n",
              "      <td>0</td>\n",
              "      <td>25</td>\n",
              "      <td>21</td>\n",
              "      <td>2</td>\n",
              "      <td>1</td>\n",
              "      <td>1</td>\n",
              "      <td>1</td>\n",
              "      <td>0</td>\n",
              "      <td>4</td>\n",
              "    </tr>\n",
              "    <tr>\n",
              "      <th>...</th>\n",
              "      <td>...</td>\n",
              "      <td>...</td>\n",
              "      <td>...</td>\n",
              "      <td>...</td>\n",
              "      <td>...</td>\n",
              "      <td>...</td>\n",
              "      <td>...</td>\n",
              "      <td>...</td>\n",
              "      <td>...</td>\n",
              "      <td>...</td>\n",
              "    </tr>\n",
              "    <tr>\n",
              "      <th>197</th>\n",
              "      <td>0</td>\n",
              "      <td>0</td>\n",
              "      <td>0</td>\n",
              "      <td>15</td>\n",
              "      <td>2</td>\n",
              "      <td>0</td>\n",
              "      <td>0</td>\n",
              "      <td>1</td>\n",
              "      <td>0</td>\n",
              "      <td>3</td>\n",
              "    </tr>\n",
              "    <tr>\n",
              "      <th>198</th>\n",
              "      <td>0</td>\n",
              "      <td>1</td>\n",
              "      <td>27</td>\n",
              "      <td>1</td>\n",
              "      <td>0</td>\n",
              "      <td>0</td>\n",
              "      <td>0</td>\n",
              "      <td>1</td>\n",
              "      <td>0</td>\n",
              "      <td>3</td>\n",
              "    </tr>\n",
              "    <tr>\n",
              "      <th>199</th>\n",
              "      <td>0</td>\n",
              "      <td>1</td>\n",
              "      <td>16</td>\n",
              "      <td>0</td>\n",
              "      <td>3</td>\n",
              "      <td>0</td>\n",
              "      <td>0</td>\n",
              "      <td>1</td>\n",
              "      <td>0</td>\n",
              "      <td>3</td>\n",
              "    </tr>\n",
              "    <tr>\n",
              "      <th>200</th>\n",
              "      <td>0</td>\n",
              "      <td>0</td>\n",
              "      <td>13</td>\n",
              "      <td>0</td>\n",
              "      <td>3</td>\n",
              "      <td>1</td>\n",
              "      <td>0</td>\n",
              "      <td>0</td>\n",
              "      <td>0</td>\n",
              "      <td>3</td>\n",
              "    </tr>\n",
              "    <tr>\n",
              "      <th>201</th>\n",
              "      <td>2</td>\n",
              "      <td>0</td>\n",
              "      <td>26</td>\n",
              "      <td>17</td>\n",
              "      <td>3</td>\n",
              "      <td>0</td>\n",
              "      <td>0</td>\n",
              "      <td>1</td>\n",
              "      <td>1</td>\n",
              "      <td>3</td>\n",
              "    </tr>\n",
              "  </tbody>\n",
              "</table>\n",
              "<p>202 rows × 10 columns</p>\n",
              "</div>"
            ],
            "text/plain": [
              "     Age  Buy_Clothes  Type_Clothes  ...  compare_prices   worst_experience  Rating \n",
              "0      0            0             8  ...                1                 0        3\n",
              "1      0            0            13  ...                1                 1        2\n",
              "2      0            0            19  ...                1                 1        2\n",
              "3      0            0            25  ...                1                 1        3\n",
              "4      0            0            25  ...                1                 0        4\n",
              "..   ...          ...           ...  ...              ...               ...      ...\n",
              "197    0            0             0  ...                1                 0        3\n",
              "198    0            1            27  ...                1                 0        3\n",
              "199    0            1            16  ...                1                 0        3\n",
              "200    0            0            13  ...                0                 0        3\n",
              "201    2            0            26  ...                1                 1        3\n",
              "\n",
              "[202 rows x 10 columns]"
            ]
          },
          "metadata": {
            "tags": []
          },
          "execution_count": 26
        }
      ]
    },
    {
      "cell_type": "code",
      "metadata": {
        "colab": {
          "base_uri": "https://localhost:8080/"
        },
        "id": "oNc4Agq8ydq1",
        "outputId": "ae990fdc-12e9-46e4-ab71-dcefc90341d7"
      },
      "source": [
        "Dataset.dtypes"
      ],
      "execution_count": 27,
      "outputs": [
        {
          "output_type": "execute_result",
          "data": {
            "text/plain": [
              "Age                   int64\n",
              "Buy_Clothes           int64\n",
              "Type_Clothes          int64\n",
              "Brand_Clothes         int64\n",
              "Price                 int64\n",
              "time_prefer           int64\n",
              "prefer_purchasing     int64\n",
              "compare_prices        int64\n",
              "worst_experience      int64\n",
              "Rating                int64\n",
              "dtype: object"
            ]
          },
          "metadata": {
            "tags": []
          },
          "execution_count": 27
        }
      ]
    },
    {
      "cell_type": "markdown",
      "metadata": {
        "id": "txrCKtfX45cv"
      },
      "source": [
        "HeatMap"
      ]
    },
    {
      "cell_type": "code",
      "metadata": {
        "colab": {
          "base_uri": "https://localhost:8080/",
          "height": 627
        },
        "id": "pkkYaVBE49bJ",
        "outputId": "5d1aa723-b361-4d10-e58b-4ac5a78b5bce"
      },
      "source": [
        "SpearmanCorr = Dataset.corr(method=\"spearman\")\n",
        "plt.figure(figsize=(10,10))\n",
        "sns.heatmap(SpearmanCorr, vmax=.9, square=True);"
      ],
      "execution_count": 28,
      "outputs": [
        {
          "output_type": "display_data",
          "data": {
            "image/png": "[encoded data removed]",
            "text/plain": [
              "<Figure size 720x720 with 2 Axes>"
            ]
          },
          "metadata": {
            "tags": [],
            "needs_background": "light"
          }
        }
      ]
    },
    {
      "cell_type": "code",
      "metadata": {
        "colab": {
          "base_uri": "https://localhost:8080/",
          "height": 593
        },
        "id": "gPxVRcj3DMwP",
        "outputId": "7bb18b3c-c454-46d4-9c89-048ea46b598b"
      },
      "source": [
        "plt.subplots(figsize=(20,12))\n",
        "\n",
        "prod_df_corr = Dataset.corr()\n",
        "\n",
        "sns.heatmap(prod_df_corr, cmap=\"YlGnBu\", annot=True)\n",
        "plt.show()"
      ],
      "execution_count": 29,
      "outputs": [
        {
          "output_type": "display_data",
          "data": {
            "image/png": "[encoded data removed]",
            "text/plain": [
              "<Figure size 1440x864 with 2 Axes>"
            ]
          },
          "metadata": {
            "tags": [],
            "needs_background": "light"
          }
        }
      ]
    },
    {
      "cell_type": "code",
      "metadata": {
        "colab": {
          "base_uri": "https://localhost:8080/",
          "height": 497
        },
        "id": "qeanFOA5_Erj",
        "outputId": "562aac21-6a13-40b2-f139-54b2667ced64"
      },
      "source": [
        "Dataset.hist(grid=False, xlabelsize=12, ylabelsize=15,figsize=(20,10), color = \"purple\")\n",
        "plt.show()"
      ],
      "execution_count": 30,
      "outputs": [
        {
          "output_type": "display_data",
          "data": {
            "image/png": "[encoded data removed]",
            "text/plain": [
              "<Figure size 1440x720 with 12 Axes>"
            ]
          },
          "metadata": {
            "tags": [],
            "needs_background": "light"
          }
        }
      ]
    },
    {
      "cell_type": "code",
      "metadata": {
        "id": "FAjKLXTwCSCt"
      },
      "source": [
        "sns.set(style = 'darkgrid', rc = {'figure.figsize':(10, 6)}, font_scale = 1.5, palette='Pastel1')"
      ],
      "execution_count": 31,
      "outputs": []
    },
    {
      "cell_type": "code",
      "metadata": {
        "colab": {
          "base_uri": "https://localhost:8080/",
          "height": 352
        },
        "id": "ChA3fqqGCR3w",
        "outputId": "567ce9c1-8322-4dda-b85a-cef47592a7bd"
      },
      "source": [
        "sns.displot(data=Dataset, x='Age', col='compare_prices ',kde=True);"
      ],
      "execution_count": 32,
      "outputs": [
        {
          "output_type": "display_data",
          "data": {
            "image/png": "[encoded data removed]",
            "text/plain": [
              "<Figure size 720x360 with 2 Axes>"
            ]
          },
          "metadata": {
            "tags": []
          }
        }
      ]
    },
    {
      "cell_type": "code",
      "metadata": {
        "colab": {
          "base_uri": "https://localhost:8080/",
          "height": 240
        },
        "id": "1PA-1y1aCosm",
        "outputId": "7823939f-3e41-4471-b72e-2cd156a1fc38"
      },
      "source": [
        "sns.displot(data=Dataset, x='Age', col='Price',kde=False, kind='hist', palette='Pink');"
      ],
      "execution_count": 33,
      "outputs": [
        {
          "output_type": "display_data",
          "data": {
            "image/png": "[encoded data removed]",
            "text/plain": [
              "<Figure size 1440x360 with 4 Axes>"
            ]
          },
          "metadata": {
            "tags": []
          }
        }
      ]
    },
    {
      "cell_type": "code",
      "metadata": {
        "colab": {
          "base_uri": "https://localhost:8080/",
          "height": 610
        },
        "id": "Y4SbMjfYdRF0",
        "outputId": "0f1dea3e-0487-40fd-cc19-6c323ba64eba"
      },
      "source": [
        "fig = plt.gcf()\n",
        "fig.set_size_inches( 16, 10)\n",
        "sns.barplot(x=\"Age\", y=\"Buy_Clothes\", data=Dataset);"
      ],
      "execution_count": 34,
      "outputs": [
        {
          "output_type": "display_data",
          "data": {
            "image/png": "[encoded data removed]",
            "text/plain": [
              "<Figure size 1152x720 with 1 Axes>"
            ]
          },
          "metadata": {
            "tags": []
          }
        }
      ]
    }
  ]
}